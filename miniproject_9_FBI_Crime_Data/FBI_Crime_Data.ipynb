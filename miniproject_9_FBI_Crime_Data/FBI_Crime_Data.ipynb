{
  "nbformat": 4,
  "nbformat_minor": 0,
  "metadata": {
    "colab": {
      "provenance": [],
      "mount_file_id": "1V_UDmjet2geabV8t66dfbt5hAW4hJNIL",
      "authorship_tag": "ABX9TyM25H2d5GOBLTiAK73Z66sM",
      "include_colab_link": true
    },
    "kernelspec": {
      "name": "python3",
      "display_name": "Python 3"
    },
    "language_info": {
      "name": "python"
    }
  },
  "cells": [
    {
      "cell_type": "markdown",
      "metadata": {
        "id": "view-in-github",
        "colab_type": "text"
      },
      "source": [
        "<a href=\"https://colab.research.google.com/github/sivasamy1/data_analytics/blob/main/FBI_Crime_Data.ipynb\" target=\"_parent\"><img src=\"https://colab.research.google.com/assets/colab-badge.svg\" alt=\"Open In Colab\"/></a>"
      ]
    },
    {
      "cell_type": "markdown",
      "source": [
        "## **PART I**"
      ],
      "metadata": {
        "id": "aoxHaDYeZ1VQ"
      }
    },
    {
      "cell_type": "code",
      "execution_count": 34,
      "metadata": {
        "colab": {
          "base_uri": "https://localhost:8080/"
        },
        "id": "UMpOpmOycD_I",
        "outputId": "0eb3af4e-61eb-4861-ac39-508c49b4d974"
      },
      "outputs": [
        {
          "output_type": "stream",
          "name": "stdout",
          "text": [
            "+----+----------------------------------------------------------------------------------------------------------------------------------------------------------------------------------------------------------------------------------------------------------------------+------------+------------------+------------------+---------------+---------------+---------------------+--------------+--------------+--------------------+-----------------+-----------------+-----------------------+\n",
            "|    | Offense_charged                                                                                                                                                                                                                                                      | Men_2012   |         Men_2013 | Men_Percentage   | Men_18 2012   |   Men_18 2013 | Men_18_Percentage   | Women_2012   | Women_2013   | Women_Percentage   | Women_18 2012   |   Women_18 2013 | Women_18_Percentage   |\n",
            "|----+----------------------------------------------------------------------------------------------------------------------------------------------------------------------------------------------------------------------------------------------------------------------+------------+------------------+------------------+---------------+---------------+---------------------+--------------+--------------+--------------------+-----------------+-----------------+-----------------------|\n",
            "|  0 | Arrest Trends                                                                                                                                                                                                                                                        | nan        |    nan           | nan              | nan           |           nan | nan                 | nan          | nan          | nan                | nan             |             nan | nan                   |\n",
            "|  1 | Cities by Sex, 2012–2013                                                                                                                                                                                                                                             | nan        |    nan           | nan              | nan           |           nan | nan                 | nan          | nan          | nan                | nan             |             nan | nan                   |\n",
            "|  2 | [6,662 agencies; 2013 estimated population 139,725,629; 2012 estimated population 138,602,589]                                                                                                                                                                       | nan        |    nan           | nan              | nan           |           nan | nan                 | nan          |              | nan                | nan             |             nan | nan                   |\n",
            "|  3 | Offense charged                                                                                                                                                                                                                                                      | Male       |    nan           | nan              | nan           |           nan | nan                 | Female       | nan          | nan                | nan             |             nan | nan                   |\n",
            "|  4 | nan                                                                                                                                                                                                                                                                  | Total      |    nan           | nan              | Under 18      |           nan | nan                 | Total        | nan          | nan                | Under 18        |             nan | nan                   |\n",
            "|  5 | nan                                                                                                                                                                                                                                                                  | 2012       |   2013           | Percent          | 2012          |          2013 | Percent             | 2012         | 2013         | Percent            | 2012            |            2013 | Percent               |\n",
            "|    |                                                                                                                                                                                                                                                                      |            |                  | change           |               |               | change              |              |              | change             |                 |                 | change                |\n",
            "|  6 | TOTAL1                                                                                                                                                                                                                                                               | 4226004    |      3.98289e+06 | -5.8             | 464491        |        393802 | -15.2               | 1542185      | 1477114      | -4.2               | 199040          |          165669 | -16.8                 |\n",
            "|  7 | Murder and nonnegligent manslaughter                                                                                                                                                                                                                                 | 4216       |   4127           | -2.1             | 295           |           322 | 9.2                 | 526          | 537          | 2.1                | 33              |              49 | 48.5                  |\n",
            "|  8 | Rape2                                                                                                                                                                                                                                                                | 8253       |   7712           | -6.6             | 1160          |          1089 | -6.1                | 81           | 116          | 43.2               | 21              |              44 | 109.5                 |\n",
            "|  9 | Robbery                                                                                                                                                                                                                                                              | 46069      |  45171           | -1.9             | 9562          |          9364 | -2.1                | 7063         | 6954         | -1.5               | 1141            |             997 | -12.6                 |\n",
            "| 10 | Aggravated assault                                                                                                                                                                                                                                                   | 146996     | 139659           | -5               | 12885         |         11200 | -13.1               | 45034        | 43277        | -3.9               | 4351            |            3848 | -11.6                 |\n",
            "| 11 | Burglary                                                                                                                                                                                                                                                             | 112908     | 103205           | -8.6             | 24252         |         20516 | -15.4               | 23819        | 22871        | -4                 | 3720            |            2999 | -19.4                 |\n",
            "| 12 | Larceny-theft                                                                                                                                                                                                                                                        | 378457     | 376392           | -0.5             | 70846         |         62092 | -12.4               | 306805       | 300211       | -2.1               | 54387           |           45196 | -16.9                 |\n",
            "| 13 | Motor vehicle theft                                                                                                                                                                                                                                                  | 23903      |  23474           | -1.8             | 4801          |          4284 | -10.8               | 5708         | 5912         | 3.6                | 920             |             980 | 6.5                   |\n",
            "| 14 | Arson                                                                                                                                                                                                                                                                | 4190       |   4200           | 0.2              | 1922          |          1662 | -13.5               | 957          | 1003         | 4.8                | 348             |             233 | -33                   |\n",
            "| 15 | Violent crime3                                                                                                                                                                                                                                                       | 205534     | 196669           | -4.3             | 23902         |         21975 | -8.1                | 52704        | 50884        | -3.5               | 5546            |            4938 | -11                   |\n",
            "| 16 | Property crime3                                                                                                                                                                                                                                                      | 519458     | 507271           | -2.3             | 101821        |         88554 | -13                 | 337289       | 329997       | -2.2               | 59375           |           49408 | -16.8                 |\n",
            "| 17 | Other assaults                                                                                                                                                                                                                                                       | 416122     | 392821           | -5.6             | 51014         |         45408 | -11                 | 162054       | 153801       | -5.1               | 30226           |           26285 | -13                   |\n",
            "| 18 | Forgery and counterfeiting                                                                                                                                                                                                                                           | 19982      |  18572           | -7.1             | 484           |           357 | -26.2               | 12151        | 11310        | -6.9               | 203             |             158 | -22.2                 |\n",
            "| 19 | Fraud                                                                                                                                                                                                                                                                | 40964      |  39394           | -3.8             | 1703          |          1597 | -6.2                | 26377        | 24558        | -6.9               | 820             |             806 | -1.7                  |\n",
            "| 20 | Embezzlement                                                                                                                                                                                                                                                         | 4373       |   4416           | 1                | 138           |           153 | 10.9                | 4228         | 4220         | -0.2               | 99              |              74 | -25.3                 |\n",
            "| 21 | Stolen property; buying, receiving, possessing                                                                                                                                                                                                                       | 38759      |  37063           | -4.4             | 5930          |          4916 | -17.1               | 9861         | 10100        | 2.4                | 1091            |             888 | -18.6                 |\n",
            "| 22 | Vandalism                                                                                                                                                                                                                                                            | 88955      |  80272           | -9.8             | 25163         |         20179 | -19.8               | 22614        | 20563        | -9.1               | 4705            |            3745 | -20.4                 |\n",
            "| 23 | Weapons; carrying, possessing, etc.                                                                                                                                                                                                                                  | 67473      |  65030           | -3.6             | 11419         |          9691 | -15.1               | 5932         | 5874         | -1                 | 1085            |             978 | -9.9                  |\n",
            "| 24 | Prostitution and commercialized vice                                                                                                                                                                                                                                 | 10587      |   9943           | -6.1             | 103           |            88 | -14.6               | 22454        | 21562        | -4                 | 398             |             422 | 6                     |\n",
            "| 25 | Sex offenses (except rape and prostitution)                                                                                                                                                                                                                          | 28121      |  24774           | -11.9            | 4945          |          4293 | -13.2               | 2645         | 2234         | -15.5              | 644             |             587 | -8.9                  |\n",
            "| 26 | Drug abuse violations                                                                                                                                                                                                                                                | 560469     | 558356           | -0.4             | 54714         |         47670 | -12.9               | 143184       | 149481       | 4.4                | 11853           |           10995 | -7.2                  |\n",
            "| 27 | Gambling                                                                                                                                                                                                                                                             | 1627       |   1358           | -16.5            | 195           |           133 | -31.8               | 335          | 323          | -3.6               | 12              |               5 | -58.3                 |\n",
            "| 28 | Offenses against the family and children                                                                                                                                                                                                                             | 21649      |  20443           | -5.6             | 1051          |           799 | -24                 | 10941        | 10553        | -3.5               | 616             |             511 | -17                   |\n",
            "| 29 | Driving under the influence                                                                                                                                                                                                                                          | 363456     | 330789           | -9               | 2849          |          2359 | -17.2               | 121065       | 111765       | -7.7               | 965             |             761 | -21.1                 |\n",
            "| 30 | Liquor laws                                                                                                                                                                                                                                                          | 154566     | 128617           | -16.8            | 21859         |         16781 | -23.2               | 61374        | 49268        | -19.7              | 13907           |           10396 | -25.2                 |\n",
            "| 31 | Drunkenness                                                                                                                                                                                                                                                          | 254721     | 223950           | -12.1            | 4438          |          3474 | -21.7               | 56026        | 49975        | -10.8              | 1693            |            1258 | -25.7                 |\n",
            "| 32 | Disorderly conduct                                                                                                                                                                                                                                                   | 185574     | 163729           | -11.8            | 37507         |         29844 | -20.4               | 73814        | 64182        | -13                | 21082           |           16347 | -22.5                 |\n",
            "| 33 | Vagrancy                                                                                                                                                                                                                                                             | 13227      |  13425           | 1.5              | 579           |           363 | -37.3               | 3364         | 3492         | 3.8                | 152             |             114 | -25                   |\n",
            "| 34 | All other offenses (except traffic)                                                                                                                                                                                                                                  | 1209801    |      1.14949e+06 | -5               | 94091         |         78655 | -16.4               | 404198       | 395287       | -2.2               | 34993           |           29308 | -16.2                 |\n",
            "| 35 | Suspicion                                                                                                                                                                                                                                                            | 553        |    320           | -42.1            | 97            |            34 | -64.9               | 155          | 79           | -49                | 27              |               3 | -88.9                 |\n",
            "| 36 | Curfew and loitering law violations                                                                                                                                                                                                                                  | 20586      |  16513           | -19.8            | 20586         |         16513 | -19.8               | 9575         | 7685         | -19.7              | 9575            |            7685 | -19.7                 |\n",
            "| 37 | 1 Does not include suspicion.                                                                                                                                                                                                                                        | nan        |    nan           | nan              | nan           |           nan | nan                 | nan          | nan          | nan                | nan             |             nan | nan                   |\n",
            "| 38 | 2 The rape figures in this table are based on the legacy definition of rape only.  The rape figures shown include converted National Incident-Based Reporting System rape data and those states/agencies that reported the legacy definition of rape for both years. | nan        |    nan           | nan              | nan           |           nan | nan                 | nan          | nan          | nan                | nan             |             nan | nan                   |\n",
            "| 39 | 3 Violent crimes in this table are offenses of murder and nonnegligent manslaughter, rape (legacy definition), robbery, and aggravated assault.  Property crimes are offenses of burglary, larceny-theft, motor vehicle theft, and arson.                            | nan        |    nan           | nan              | nan           |           nan | nan                 | nan          | nan          | nan                | nan             |             nan | nan                   |\n",
            "+----+----------------------------------------------------------------------------------------------------------------------------------------------------------------------------------------------------------------------------------------------------------------------+------------+------------------+------------------+---------------+---------------+---------------------+--------------+--------------+--------------------+-----------------+-----------------+-----------------------+\n"
          ]
        }
      ],
      "source": [
        "import pandas as pd\n",
        "from tabulate import tabulate\n",
        "df_FBI = pd.read_excel('/content/drive/MyDrive/data_analytics/MINIPROJECT_9/Table_45_Arrest_Trends_Cities_by_Sex_2012-2013.xls', dtype=str)\n",
        "df_FBI.replace('nan', '')\n",
        "df_FBI.columns = ['Offense_charged', 'Men_2012', 'Men_2013', 'Men_Percentage', 'Men_18 2012', 'Men_18 2013', 'Men_18_Percentage', 'Women_2012', 'Women_2013', 'Women_Percentage', 'Women_18 2012', 'Women_18 2013', 'Women_18_Percentage']\n",
        "print(tabulate(df_FBI,headers='keys', tablefmt='psql'))"
      ]
    },
    {
      "cell_type": "code",
      "source": [
        "df_crim = df_FBI.copy()\n",
        "df_crim.iloc[:, 1:] = df_FBI.iloc[:, 1:].apply(pd.to_numeric, errors='coerce')\n",
        "df_crim = df_crim.dropna().reset_index(drop=True)\n",
        "print(tabulate(df_crim, headers='keys', tablefmt='github'))"
      ],
      "metadata": {
        "colab": {
          "base_uri": "https://localhost:8080/"
        },
        "id": "cl5ziy-E9Gbq",
        "outputId": "bb24ed84-84b7-4709-e395-b77909507d9b"
      },
      "execution_count": 35,
      "outputs": [
        {
          "output_type": "stream",
          "name": "stdout",
          "text": [
            "|    | Offense_charged                                |        Men_2012 |         Men_2013 |   Men_Percentage |   Men_18 2012 |   Men_18 2013 |   Men_18_Percentage |       Women_2012 |       Women_2013 |   Women_Percentage |   Women_18 2012 |   Women_18 2013 |   Women_18_Percentage |\n",
            "|----|------------------------------------------------|-----------------|------------------|------------------|---------------|---------------|---------------------|------------------|------------------|--------------------|-----------------|-----------------|-----------------------|\n",
            "|  0 | TOTAL1                                         |      4.226e+06  |      3.98289e+06 |             -5.8 |        464491 |        393802 |               -15.2 |      1.54218e+06 |      1.47711e+06 |               -4.2 |          199040 |          165669 |                 -16.8 |\n",
            "|  1 | Murder and nonnegligent manslaughter           |   4216          |   4127           |             -2.1 |           295 |           322 |                 9.2 |    526           |    537           |                2.1 |              33 |              49 |                  48.5 |\n",
            "|  2 | Rape2                                          |   8253          |   7712           |             -6.6 |          1160 |          1089 |                -6.1 |     81           |    116           |               43.2 |              21 |              44 |                 109.5 |\n",
            "|  3 | Robbery                                        |  46069          |  45171           |             -1.9 |          9562 |          9364 |                -2.1 |   7063           |   6954           |               -1.5 |            1141 |             997 |                 -12.6 |\n",
            "|  4 | Aggravated assault                             | 146996          | 139659           |             -5   |         12885 |         11200 |               -13.1 |  45034           |  43277           |               -3.9 |            4351 |            3848 |                 -11.6 |\n",
            "|  5 | Burglary                                       | 112908          | 103205           |             -8.6 |         24252 |         20516 |               -15.4 |  23819           |  22871           |               -4   |            3720 |            2999 |                 -19.4 |\n",
            "|  6 | Larceny-theft                                  | 378457          | 376392           |             -0.5 |         70846 |         62092 |               -12.4 | 306805           | 300211           |               -2.1 |           54387 |           45196 |                 -16.9 |\n",
            "|  7 | Motor vehicle theft                            |  23903          |  23474           |             -1.8 |          4801 |          4284 |               -10.8 |   5708           |   5912           |                3.6 |             920 |             980 |                   6.5 |\n",
            "|  8 | Arson                                          |   4190          |   4200           |              0.2 |          1922 |          1662 |               -13.5 |    957           |   1003           |                4.8 |             348 |             233 |                 -33   |\n",
            "|  9 | Violent crime3                                 | 205534          | 196669           |             -4.3 |         23902 |         21975 |                -8.1 |  52704           |  50884           |               -3.5 |            5546 |            4938 |                 -11   |\n",
            "| 10 | Property crime3                                | 519458          | 507271           |             -2.3 |        101821 |         88554 |               -13   | 337289           | 329997           |               -2.2 |           59375 |           49408 |                 -16.8 |\n",
            "| 11 | Other assaults                                 | 416122          | 392821           |             -5.6 |         51014 |         45408 |               -11   | 162054           | 153801           |               -5.1 |           30226 |           26285 |                 -13   |\n",
            "| 12 | Forgery and counterfeiting                     |  19982          |  18572           |             -7.1 |           484 |           357 |               -26.2 |  12151           |  11310           |               -6.9 |             203 |             158 |                 -22.2 |\n",
            "| 13 | Fraud                                          |  40964          |  39394           |             -3.8 |          1703 |          1597 |                -6.2 |  26377           |  24558           |               -6.9 |             820 |             806 |                  -1.7 |\n",
            "| 14 | Embezzlement                                   |   4373          |   4416           |              1   |           138 |           153 |                10.9 |   4228           |   4220           |               -0.2 |              99 |              74 |                 -25.3 |\n",
            "| 15 | Stolen property; buying, receiving, possessing |  38759          |  37063           |             -4.4 |          5930 |          4916 |               -17.1 |   9861           |  10100           |                2.4 |            1091 |             888 |                 -18.6 |\n",
            "| 16 | Vandalism                                      |  88955          |  80272           |             -9.8 |         25163 |         20179 |               -19.8 |  22614           |  20563           |               -9.1 |            4705 |            3745 |                 -20.4 |\n",
            "| 17 | Weapons; carrying, possessing, etc.            |  67473          |  65030           |             -3.6 |         11419 |          9691 |               -15.1 |   5932           |   5874           |               -1   |            1085 |             978 |                  -9.9 |\n",
            "| 18 | Prostitution and commercialized vice           |  10587          |   9943           |             -6.1 |           103 |            88 |               -14.6 |  22454           |  21562           |               -4   |             398 |             422 |                   6   |\n",
            "| 19 | Sex offenses (except rape and prostitution)    |  28121          |  24774           |            -11.9 |          4945 |          4293 |               -13.2 |   2645           |   2234           |              -15.5 |             644 |             587 |                  -8.9 |\n",
            "| 20 | Drug abuse violations                          | 560469          | 558356           |             -0.4 |         54714 |         47670 |               -12.9 | 143184           | 149481           |                4.4 |           11853 |           10995 |                  -7.2 |\n",
            "| 21 | Gambling                                       |   1627          |   1358           |            -16.5 |           195 |           133 |               -31.8 |    335           |    323           |               -3.6 |              12 |               5 |                 -58.3 |\n",
            "| 22 | Offenses against the family and children       |  21649          |  20443           |             -5.6 |          1051 |           799 |               -24   |  10941           |  10553           |               -3.5 |             616 |             511 |                 -17   |\n",
            "| 23 | Driving under the influence                    | 363456          | 330789           |             -9   |          2849 |          2359 |               -17.2 | 121065           | 111765           |               -7.7 |             965 |             761 |                 -21.1 |\n",
            "| 24 | Liquor laws                                    | 154566          | 128617           |            -16.8 |         21859 |         16781 |               -23.2 |  61374           |  49268           |              -19.7 |           13907 |           10396 |                 -25.2 |\n",
            "| 25 | Drunkenness                                    | 254721          | 223950           |            -12.1 |          4438 |          3474 |               -21.7 |  56026           |  49975           |              -10.8 |            1693 |            1258 |                 -25.7 |\n",
            "| 26 | Disorderly conduct                             | 185574          | 163729           |            -11.8 |         37507 |         29844 |               -20.4 |  73814           |  64182           |              -13   |           21082 |           16347 |                 -22.5 |\n",
            "| 27 | Vagrancy                                       |  13227          |  13425           |              1.5 |           579 |           363 |               -37.3 |   3364           |   3492           |                3.8 |             152 |             114 |                 -25   |\n",
            "| 28 | All other offenses (except traffic)            |      1.2098e+06 |      1.14949e+06 |             -5   |         94091 |         78655 |               -16.4 | 404198           | 395287           |               -2.2 |           34993 |           29308 |                 -16.2 |\n",
            "| 29 | Suspicion                                      |    553          |    320           |            -42.1 |            97 |            34 |               -64.9 |    155           |     79           |              -49   |              27 |               3 |                 -88.9 |\n",
            "| 30 | Curfew and loitering law violations            |  20586          |  16513           |            -19.8 |         20586 |         16513 |               -19.8 |   9575           |   7685           |              -19.7 |            9575 |            7685 |                 -19.7 |\n"
          ]
        }
      ]
    },
    {
      "cell_type": "markdown",
      "source": [
        "### **1.1 Between 2012 and 2013, which has the highest Robbery for Male in Total. Print Top 5.**"
      ],
      "metadata": {
        "id": "tVciNanKZzqY"
      }
    },
    {
      "cell_type": "code",
      "source": [
        "df_crim['Men_2012'] = pd.to_numeric(df_crim['Men_2012'])\n",
        "df_crim['Men_2013'] = pd.to_numeric(df_crim['Men_2013'])\n",
        "\n",
        "df_men_12_13 = df_crim.groupby('Offense_charged', group_keys=False).apply(lambda x: pd.concat([x.nlargest(5, 'Men_2012'), x.nlargest(5, 'Men_2013')]))\n",
        "df_men_12_13 = df_men_12_13.drop_duplicates().reset_index(drop=True)\n",
        "print(tabulate(df_men_12_13.head(5), headers='keys', tablefmt='github'))"
      ],
      "metadata": {
        "colab": {
          "base_uri": "https://localhost:8080/"
        },
        "id": "8rwU_Uiu3cqx",
        "outputId": "d58e7351-0432-4151-aa31-86369893c8a7"
      },
      "execution_count": 39,
      "outputs": [
        {
          "output_type": "stream",
          "name": "stdout",
          "text": [
            "|    | Offense_charged                     |        Men_2012 |         Men_2013 |   Men_Percentage |   Men_18 2012 |   Men_18 2013 |   Men_18_Percentage |   Women_2012 |   Women_2013 |   Women_Percentage |   Women_18 2012 |   Women_18 2013 |   Women_18_Percentage |\n",
            "|----|-------------------------------------|-----------------|------------------|------------------|---------------|---------------|---------------------|--------------|--------------|--------------------|-----------------|-----------------|-----------------------|\n",
            "|  0 | Aggravated assault                  | 146996          | 139659           |             -5   |         12885 |         11200 |               -13.1 |        45034 |        43277 |               -3.9 |            4351 |            3848 |                 -11.6 |\n",
            "|  1 | All other offenses (except traffic) |      1.2098e+06 |      1.14949e+06 |             -5   |         94091 |         78655 |               -16.4 |       404198 |       395287 |               -2.2 |           34993 |           29308 |                 -16.2 |\n",
            "|  2 | Arson                               |   4190          |   4200           |              0.2 |          1922 |          1662 |               -13.5 |          957 |         1003 |                4.8 |             348 |             233 |                 -33   |\n",
            "|  3 | Burglary                            | 112908          | 103205           |             -8.6 |         24252 |         20516 |               -15.4 |        23819 |        22871 |               -4   |            3720 |            2999 |                 -19.4 |\n",
            "|  4 | Curfew and loitering law violations |  20586          |  16513           |            -19.8 |         20586 |         16513 |               -19.8 |         9575 |         7685 |              -19.7 |            9575 |            7685 |                 -19.7 |\n"
          ]
        },
        {
          "output_type": "stream",
          "name": "stderr",
          "text": [
            "<ipython-input-39-786f8809250d>:4: DeprecationWarning: DataFrameGroupBy.apply operated on the grouping columns. This behavior is deprecated, and in a future version of pandas the grouping columns will be excluded from the operation. Either pass `include_groups=False` to exclude the groupings or explicitly select the grouping columns after groupby to silence this warning.\n",
            "  df_men_12_13 = df_crim.groupby('Offense_charged', group_keys=False).apply(lambda x: pd.concat([x.nlargest(5, 'Men_2012'), x.nlargest(5, 'Men_2013')]))\n"
          ]
        }
      ]
    },
    {
      "cell_type": "code",
      "source": [],
      "metadata": {
        "id": "MT6xSSTc5DOY"
      },
      "execution_count": 36,
      "outputs": []
    }
  ]
}
