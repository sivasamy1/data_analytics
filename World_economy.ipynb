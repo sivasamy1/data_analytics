{
  "nbformat": 4,
  "nbformat_minor": 0,
  "metadata": {
    "colab": {
      "provenance": [],
      "mount_file_id": "1b7jo3L3n_3JUeHhnfWW6fKfrPl1Ot5LA",
      "authorship_tag": "ABX9TyO/QsW/XYMVX8z99+MH7iA9",
      "include_colab_link": true
    },
    "kernelspec": {
      "name": "python3",
      "display_name": "Python 3"
    },
    "language_info": {
      "name": "python"
    }
  },
  "cells": [
    {
      "cell_type": "markdown",
      "metadata": {
        "id": "view-in-github",
        "colab_type": "text"
      },
      "source": [
        "<a href=\"https://colab.research.google.com/github/sivasamy1/data_analytics/blob/main/World_economy.ipynb\" target=\"_parent\"><img src=\"https://colab.research.google.com/assets/colab-badge.svg\" alt=\"Open In Colab\"/></a>"
      ]
    },
    {
      "cell_type": "code",
      "source": [
        "from google.colab import drive\n",
        "drive.mount('/content/drive')"
      ],
      "metadata": {
        "colab": {
          "base_uri": "https://localhost:8080/"
        },
        "id": "9d7LkQ1xD3i3",
        "outputId": "ee818d31-6826-4e59-ff21-0cfcfe87772a"
      },
      "execution_count": null,
      "outputs": [
        {
          "output_type": "stream",
          "name": "stdout",
          "text": [
            "Mounted at /content/drive\n"
          ]
        }
      ]
    },
    {
      "cell_type": "code",
      "execution_count": 6,
      "metadata": {
        "id": "X3n3lhC8VM5E"
      },
      "outputs": [],
      "source": [
        "import pandas as pd\n",
        "from tabulate import tabulate\n",
        "import numpy as np\n"
      ]
    },
    {
      "cell_type": "code",
      "source": [
        "def pty_print(df):\n",
        "  print(tabulate(df, headers='keys', tablefmt='github'))"
      ],
      "metadata": {
        "id": "f8_ztxnYEO-E"
      },
      "execution_count": 7,
      "outputs": []
    },
    {
      "cell_type": "markdown",
      "source": [
        "## **PART I**"
      ],
      "metadata": {
        "id": "rTjfick6GZh_"
      }
    },
    {
      "cell_type": "code",
      "source": [
        "df_world_eco = pd.read_csv('/content/drive/MyDrive/data_analytics/MINIPROJECT_10/API_NY.GDP.MKTP.CD_DS2_en_csv_v2_3731268.csv', skiprows=4).fillna(0)\n",
        "pty_print(df_world_eco.head())"
      ],
      "metadata": {
        "colab": {
          "base_uri": "https://localhost:8080/"
        },
        "id": "lmDvOIigD1mV",
        "outputId": "ba47e6ad-e82d-4d69-d516-47aeeb456efd"
      },
      "execution_count": 10,
      "outputs": [
        {
          "output_type": "stream",
          "name": "stdout",
          "text": [
            "|    | Country Name                | Country Code   | Indicator Name    | Indicator Code   |        1960 |        1961 |        1962 |        1963 |        1964 |        1965 |        1966 |        1967 |        1968 |        1969 |        1970 |        1971 |        1972 |        1973 |        1974 |        1975 |        1976 |        1977 |        1978 |        1979 |        1980 |        1981 |        1982 |        1983 |        1984 |        1985 |        1986 |        1987 |        1988 |        1989 |        1990 |        1991 |        1992 |        1993 |        1994 |        1995 |        1996 |        1997 |        1998 |        1999 |        2000 |        2001 |        2002 |        2003 |        2004 |        2005 |        2006 |        2007 |        2008 |        2009 |        2010 |        2011 |        2012 |        2013 |        2014 |        2015 |        2016 |        2017 |        2018 |        2019 |        2020 |   Unnamed: 65 |\n",
            "|----|-----------------------------|----------------|-------------------|------------------|-------------|-------------|-------------|-------------|-------------|-------------|-------------|-------------|-------------|-------------|-------------|-------------|-------------|-------------|-------------|-------------|-------------|-------------|-------------|-------------|-------------|-------------|-------------|-------------|-------------|-------------|-------------|-------------|-------------|-------------|-------------|-------------|-------------|-------------|-------------|-------------|-------------|-------------|-------------|-------------|-------------|-------------|-------------|-------------|-------------|-------------|-------------|-------------|-------------|-------------|-------------|-------------|-------------|-------------|-------------|-------------|-------------|-------------|-------------|-------------|-------------|---------------|\n",
            "|  0 | Aruba                       | ABW            | GDP (current US$) | NY.GDP.MKTP.CD   | 0           | 0           | 0           | 0           | 0           | 0           | 0           | 0           | 0           | 0           | 0           | 0           | 0           | 0           | 0           | 0           | 0           | 0           | 0           | 0           | 0           | 0           | 0           | 0           | 0           | 0           | 4.05463e+08 | 4.87602e+08 | 5.96424e+08 | 6.95304e+08 | 7.64887e+08 | 8.72139e+08 | 9.58463e+08 | 1.08298e+09 | 1.24569e+09 | 1.32047e+09 | 1.37996e+09 | 1.53194e+09 | 1.6651e+09  | 1.7228e+09  | 1.87345e+09 | 1.92011e+09 | 1.94134e+09 | 2.02123e+09 | 2.22849e+09 | 2.33073e+09 | 2.42458e+09 | 2.61508e+09 | 2.74525e+09 | 2.49888e+09 | 2.3905e+09  | 2.54972e+09 | 2.53464e+09 | 2.72785e+09 | 2.79085e+09 | 2.96291e+09 | 2.98364e+09 | 3.09243e+09 | 3.20219e+09 | 0           | 0           |             0 |\n",
            "|  1 | Africa Eastern and Southern | AFE            | GDP (current US$) | NY.GDP.MKTP.CD   | 1.93131e+10 | 1.97235e+10 | 2.14939e+10 | 2.57332e+10 | 2.35274e+10 | 2.68106e+10 | 2.91522e+10 | 3.01732e+10 | 3.28771e+10 | 3.77443e+10 | 4.03158e+10 | 4.44767e+10 | 4.83015e+10 | 6.29835e+10 | 7.82509e+10 | 8.34356e+10 | 8.32104e+10 | 9.49889e+10 | 1.06346e+11 | 1.24498e+11 | 1.56513e+11 | 1.60378e+11 | 1.54669e+11 | 1.59758e+11 | 1.46022e+11 | 1.3044e+11  | 1.47025e+11 | 1.79739e+11 | 1.89003e+11 | 1.94543e+11 | 2.12336e+11 | 2.20764e+11 | 2.20219e+11 | 2.34035e+11 | 2.39088e+11 | 2.69689e+11 | 2.6844e+11  | 2.82214e+11 | 2.65838e+11 | 2.62197e+11 | 2.83953e+11 | 2.58843e+11 | 2.64895e+11 | 3.52692e+11 | 4.38876e+11 | 5.1226e+11  | 5.75976e+11 | 6.61242e+11 | 7.08354e+11 | 7.12558e+11 | 8.47409e+11 | 9.43378e+11 | 9.50521e+11 | 9.64242e+11 | 9.84807e+11 | 9.1993e+11  | 8.73355e+11 | 9.85356e+11 | 1.01285e+12 | 1.00991e+12 | 9.20792e+11 |             0 |\n",
            "|  2 | Afghanistan                 | AFG            | GDP (current US$) | NY.GDP.MKTP.CD   | 5.37778e+08 | 5.48889e+08 | 5.46667e+08 | 7.51111e+08 | 8e+08       | 1.00667e+09 | 1.4e+09     | 1.67333e+09 | 1.37333e+09 | 1.40889e+09 | 1.74889e+09 | 1.83111e+09 | 1.59556e+09 | 1.73333e+09 | 2.15556e+09 | 2.36667e+09 | 2.55556e+09 | 2.95333e+09 | 3.3e+09     | 3.69794e+09 | 3.64172e+09 | 3.47879e+09 | 0           | 0           | 0           | 0           | 0           | 0           | 0           | 0           | 0           | 0           | 0           | 0           | 0           | 0           | 0           | 0           | 0           | 0           | 0           | 0           | 4.05518e+09 | 4.51556e+09 | 5.22678e+09 | 6.20914e+09 | 6.97129e+09 | 9.74788e+09 | 1.01093e+10 | 1.24162e+10 | 1.58567e+10 | 1.78051e+10 | 1.99073e+10 | 2.01464e+10 | 2.04971e+10 | 1.91342e+10 | 1.81166e+10 | 1.87535e+10 | 1.80532e+10 | 1.87995e+10 | 2.01161e+10 |             0 |\n",
            "|  3 | Africa Western and Central  | AFW            | GDP (current US$) | NY.GDP.MKTP.CD   | 1.04043e+10 | 1.11281e+10 | 1.19434e+10 | 1.26765e+10 | 1.38386e+10 | 1.48625e+10 | 1.58328e+10 | 1.44264e+10 | 1.48804e+10 | 1.68821e+10 | 2.35046e+10 | 2.08328e+10 | 2.5265e+10  | 3.12738e+10 | 4.42145e+10 | 5.14447e+10 | 6.21294e+10 | 6.5315e+10  | 7.11997e+10 | 8.86284e+10 | 1.12031e+11 | 2.11004e+11 | 1.87164e+11 | 1.38115e+11 | 1.14263e+11 | 1.16507e+11 | 1.07498e+11 | 1.10322e+11 | 1.08943e+11 | 1.01769e+11 | 1.21802e+11 | 1.17457e+11 | 1.18282e+11 | 9.88264e+10 | 8.62818e+10 | 1.08221e+11 | 1.25763e+11 | 1.27064e+11 | 1.30107e+11 | 1.3752e+11  | 1.40408e+11 | 1.48012e+11 | 1.76933e+11 | 2.04642e+11 | 2.5409e+11  | 3.10554e+11 | 3.93297e+11 | 4.61778e+11 | 5.66426e+11 | 5.06996e+11 | 5.91583e+11 | 6.70963e+11 | 7.27571e+11 | 8.20788e+11 | 8.64967e+11 | 7.6073e+11  | 6.90543e+11 | 6.83742e+11 | 7.41692e+11 | 7.94572e+11 | 7.84588e+11 |             0 |\n",
            "|  4 | Angola                      | AGO            | GDP (current US$) | NY.GDP.MKTP.CD   | 0           | 0           | 0           | 0           | 0           | 0           | 0           | 0           | 0           | 0           | 0           | 0           | 0           | 0           | 0           | 0           | 0           | 0           | 0           | 0           | 5.93407e+09 | 5.55382e+09 | 5.55382e+09 | 5.78782e+09 | 6.13517e+09 | 7.55861e+09 | 7.07679e+09 | 8.08928e+09 | 8.77512e+09 | 1.02079e+10 | 1.12363e+10 | 0           | 0           | 0           | 3.3905e+09  | 5.56122e+09 | 7.52696e+09 | 7.64972e+09 | 6.50662e+09 | 6.15294e+09 | 9.12963e+09 | 8.93606e+09 | 1.52856e+10 | 1.78127e+10 | 2.35521e+10 | 3.69709e+10 | 5.2381e+10  | 6.52665e+10 | 8.85386e+10 | 7.03072e+10 | 8.37995e+10 | 1.1179e+11  | 1.28053e+11 | 1.3671e+11  | 1.45712e+11 | 1.16194e+11 | 1.01124e+11 | 1.22124e+11 | 1.01353e+11 | 8.94172e+10 | 5.8376e+10  |             0 |\n"
          ]
        }
      ]
    },
    {
      "cell_type": "markdown",
      "source": [
        "### **1.1 For each country, print Top 10 highest average GDP values accounting only the odd years GDPs.**\n",
        "### **Expected Output:**\n",
        "### **country_name, avg_gdp_odd,rank_odd**\n"
      ],
      "metadata": {
        "id": "qD0EdrlkGdwf"
      }
    },
    {
      "cell_type": "code",
      "source": [
        "def has_odd_number(col):\n",
        "    try:\n",
        "        return int(col) % 2 == 1\n",
        "    except ValueError:\n",
        "        return False\n",
        "columns = df_world_eco.columns\n",
        "odd_cols = [col for col in columns if has_odd_number(col)]\n",
        "df_odd = df_odd = df_world_eco.loc[:, [\"Country Name\"] + odd_cols]\n",
        "df_odd['avg_gdp_odd'] = df_odd[odd_cols].mean(axis=1)\n",
        "df_odd['rank_odd'] = df_odd['avg_gdp_odd'].rank(ascending=False)\n",
        "df_odd = df_odd.sort_values(by='rank_odd', ascending=True)\n",
        "df_odd = df_odd[['Country Name', 'avg_gdp_odd', 'rank_odd']]\n",
        "pty_print(df_odd.head(10))"
      ],
      "metadata": {
        "id": "Emub7gvyEnzK",
        "colab": {
          "base_uri": "https://localhost:8080/"
        },
        "outputId": "a98411a4-ed4b-4ce9-cd1d-8ffc71ff7739"
      },
      "execution_count": 29,
      "outputs": [
        {
          "output_type": "stream",
          "name": "stdout",
          "text": [
            "|     | Country Name              |   avg_gdp_odd |   rank_odd |\n",
            "|-----|---------------------------|---------------|------------|\n",
            "| 259 | World                     |   2.98207e+13 |          1 |\n",
            "|  95 | High income               |   2.168e+13   |          2 |\n",
            "| 181 | OECD members              |   2.14945e+13 |          3 |\n",
            "| 198 | Post-demographic dividend |   2.04949e+13 |          4 |\n",
            "|  65 | Europe & Central Asia     |   9.4394e+12  |          5 |\n",
            "| 103 | IDA & IBRD total          |   8.44097e+12 |          6 |\n",
            "| 170 | North America             |   8.31561e+12 |          7 |\n",
            "| 140 | Low & middle income       |   8.05946e+12 |          8 |\n",
            "| 156 | Middle income             |   7.88806e+12 |          9 |\n",
            "| 102 | IBRD only                 |   7.79567e+12 |         10 |\n"
          ]
        }
      ]
    },
    {
      "cell_type": "markdown",
      "source": [
        "### **1.2 For each country, print Top 10 highest average GDP values accounting only the even years GDPs.**\n",
        "### **Expected Output:**\n",
        "### **country_name, avg_gdp_even,rank_even**\n"
      ],
      "metadata": {
        "id": "zpZURz7Q046F"
      }
    },
    {
      "cell_type": "code",
      "source": [
        "def has_even_number(col):\n",
        "    try:\n",
        "        return int(col) % 2 == 1\n",
        "    except ValueError:\n",
        "        return False\n",
        "columns = df_world_eco.columns\n",
        "even_cols = [col for col in columns if has_even_number(col)]\n",
        "df_even = df_even = df_world_eco.loc[:, [\"Country Name\"] + even_cols]\n",
        "df_even['avg_gdp_even'] = df_even[even_cols].mean(axis=1)\n",
        "df_even['rank_even'] = df_even['avg_gdp_even'].rank(ascending=False)\n",
        "df_even = df_even.sort_values(by='rank_even', ascending=True)\n",
        "df_even = df_even[['Country Name', 'avg_gdp_even', 'rank_even']]\n",
        "pty_print(df_even.head(10))"
      ],
      "metadata": {
        "colab": {
          "base_uri": "https://localhost:8080/"
        },
        "id": "SwxMB8KYR98O",
        "outputId": "4aa67c85-6db2-44c5-99dd-398f975e118b"
      },
      "execution_count": 30,
      "outputs": [
        {
          "output_type": "stream",
          "name": "stdout",
          "text": [
            "|     | Country Name              |   avg_gdp_even |   rank_even |\n",
            "|-----|---------------------------|----------------|-------------|\n",
            "| 259 | World                     |    2.98207e+13 |           1 |\n",
            "|  95 | High income               |    2.168e+13   |           2 |\n",
            "| 181 | OECD members              |    2.14945e+13 |           3 |\n",
            "| 198 | Post-demographic dividend |    2.04949e+13 |           4 |\n",
            "|  65 | Europe & Central Asia     |    9.4394e+12  |           5 |\n",
            "| 103 | IDA & IBRD total          |    8.44097e+12 |           6 |\n",
            "| 170 | North America             |    8.31561e+12 |           7 |\n",
            "| 140 | Low & middle income       |    8.05946e+12 |           8 |\n",
            "| 156 | Middle income             |    7.88806e+12 |           9 |\n",
            "| 102 | IBRD only                 |    7.79567e+12 |          10 |\n"
          ]
        }
      ]
    },
    {
      "cell_type": "markdown",
      "source": [
        "### **1.3 For each country, print Top 10 highest average GDP values accounting all the years.**\n",
        "### **Expected Output:**\n",
        "### **country_name, avg_gdp_all,rank_all**\n"
      ],
      "metadata": {
        "id": "EJFgUkJt1dU6"
      }
    },
    {
      "cell_type": "code",
      "source": [
        "df_all = df_world_eco.copy()\n",
        "df_all['avg_gdp_all'] = df_all.drop(columns=df_world_eco.iloc[:, 0:4]).mean(axis=1)\n",
        "df_all['rank_all'] = df_all['avg_gdp_all'].rank(ascending=False)\n",
        "df_all = df_all.sort_values(by='rank_all', ascending=True)\n",
        "df_all = df_all[['Country Name', 'avg_gdp_all', 'rank_all']]\n",
        "pty_print(df_all.head(10))"
      ],
      "metadata": {
        "colab": {
          "base_uri": "https://localhost:8080/"
        },
        "id": "Q-uFqW9_1VET",
        "outputId": "815d9e3a-6afa-4bed-d9ad-65ee9b140046"
      },
      "execution_count": 33,
      "outputs": [
        {
          "output_type": "stream",
          "name": "stdout",
          "text": [
            "|     | Country Name              |   avg_gdp_all |   rank_all |\n",
            "|-----|---------------------------|---------------|------------|\n",
            "| 259 | World                     |   2.96358e+13 |          1 |\n",
            "|  95 | High income               |   2.14832e+13 |          2 |\n",
            "| 181 | OECD members              |   2.12927e+13 |          3 |\n",
            "| 198 | Post-demographic dividend |   2.02984e+13 |          4 |\n",
            "|  65 | Europe & Central Asia     |   9.36516e+12 |          5 |\n",
            "| 103 | IDA & IBRD total          |   8.45095e+12 |          6 |\n",
            "| 170 | North America             |   8.2362e+12  |          7 |\n",
            "| 140 | Low & middle income       |   8.06636e+12 |          8 |\n",
            "| 156 | Middle income             |   7.8953e+12  |          9 |\n",
            "| 102 | IBRD only                 |   7.80559e+12 |         10 |\n"
          ]
        }
      ]
    },
    {
      "cell_type": "markdown",
      "source": [
        "### **1.4 Merge 1-3 above.**\n",
        "### **Expected Output:**\n",
        "### **country_name, avg_gdp_odd, rank_odd, avg_gdp_even, rank_even,avg_gdp_all,rank_all**\n"
      ],
      "metadata": {
        "id": "yFlq1_rH-lvs"
      }
    },
    {
      "cell_type": "code",
      "source": [
        "df_merge = df_odd.merge(df_even, on='Country Name')\n",
        "df_merge = df_merge.merge(df_all, on='Country Name')\n",
        "pty_print(df_merge.head(10))"
      ],
      "metadata": {
        "colab": {
          "base_uri": "https://localhost:8080/"
        },
        "id": "GZ6MEz-D9wO2",
        "outputId": "050db950-f78d-43c3-f0c1-f5210726d95b"
      },
      "execution_count": 37,
      "outputs": [
        {
          "output_type": "stream",
          "name": "stdout",
          "text": [
            "|    | Country Name              |   avg_gdp_odd |   rank_odd |   avg_gdp_even |   rank_even |   avg_gdp_all |   rank_all |\n",
            "|----|---------------------------|---------------|------------|----------------|-------------|---------------|------------|\n",
            "|  0 | World                     |   2.98207e+13 |          1 |    2.98207e+13 |           1 |   2.96358e+13 |          1 |\n",
            "|  1 | High income               |   2.168e+13   |          2 |    2.168e+13   |           2 |   2.14832e+13 |          2 |\n",
            "|  2 | OECD members              |   2.14945e+13 |          3 |    2.14945e+13 |           3 |   2.12927e+13 |          3 |\n",
            "|  3 | Post-demographic dividend |   2.04949e+13 |          4 |    2.04949e+13 |           4 |   2.02984e+13 |          4 |\n",
            "|  4 | Europe & Central Asia     |   9.4394e+12  |          5 |    9.4394e+12  |           5 |   9.36516e+12 |          5 |\n",
            "|  5 | IDA & IBRD total          |   8.44097e+12 |          6 |    8.44097e+12 |           6 |   8.45095e+12 |          6 |\n",
            "|  6 | North America             |   8.31561e+12 |          7 |    8.31561e+12 |           7 |   8.2362e+12  |          7 |\n",
            "|  7 | Low & middle income       |   8.05946e+12 |          8 |    8.05946e+12 |           8 |   8.06636e+12 |          8 |\n",
            "|  8 | Middle income             |   7.88806e+12 |          9 |    7.88806e+12 |           9 |   7.8953e+12  |          9 |\n",
            "|  9 | IBRD only                 |   7.79567e+12 |         10 |    7.79567e+12 |          10 |   7.80559e+12 |         10 |\n"
          ]
        }
      ]
    },
    {
      "cell_type": "markdown",
      "source": [
        "### **1.5 Group bar Plot from 4 above to top 5 countries by rank_all. Y-axis shows the average GDP figure for the country.**\n",
        "\n",
        "### **X-axis -> country_name**\n",
        "### **Bar 1 -> avg_gdp_odd**\n",
        "### **Bar 2 -> avg_gdp_even**\n",
        "### **Bar 3 -> avg_gdp_all**\n"
      ],
      "metadata": {
        "id": "voYTtaXx_7UY"
      }
    },
    {
      "cell_type": "code",
      "source": [],
      "metadata": {
        "id": "2-uz8ECX_FwU"
      },
      "execution_count": null,
      "outputs": []
    }
  ]
}