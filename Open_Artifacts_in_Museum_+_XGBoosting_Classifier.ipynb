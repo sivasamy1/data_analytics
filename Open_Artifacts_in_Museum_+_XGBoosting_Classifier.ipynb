{
  "nbformat": 4,
  "nbformat_minor": 0,
  "metadata": {
    "colab": {
      "provenance": [],
      "mount_file_id": "1JOCns8SKHyPhkdEUI-5PAuvtfDhJPUZ9",
      "authorship_tag": "ABX9TyO3k2+Dw7kTw0M5edU4stoc",
      "include_colab_link": true
    },
    "kernelspec": {
      "name": "python3",
      "display_name": "Python 3"
    },
    "language_info": {
      "name": "python"
    }
  },
  "cells": [
    {
      "cell_type": "markdown",
      "metadata": {
        "id": "view-in-github",
        "colab_type": "text"
      },
      "source": [
        "<a href=\"https://colab.research.google.com/github/sivasamy1/data_analytics/blob/main/Open_Artifacts_in_Museum_%2B_XGBoosting_Classifier.ipynb\" target=\"_parent\"><img src=\"https://colab.research.google.com/assets/colab-badge.svg\" alt=\"Open In Colab\"/></a>"
      ]
    },
    {
      "cell_type": "code",
      "execution_count": 5,
      "metadata": {
        "id": "I5Zc98TIGm-m",
        "colab": {
          "base_uri": "https://localhost:8080/"
        },
        "outputId": "7c42f02e-2a64-4873-f112-5a09b122b484"
      },
      "outputs": [
        {
          "output_type": "stream",
          "name": "stdout",
          "text": [
            "|    | artifactNumber|ObjectName|GeneralDescription|model|SerialNumber|Manufacturer|ManuCountry|ManuProvince|ManuCity|BeginDate|EndDate|date_qualifier|patent|NumberOfComponents|ArtifactFinish|ContextCanada|ContextFunction|ContextTechnical|group1|category1|subcategory1|group2|category2|subcategory2|group3|category3|subcategory3|material|Length|Width|Height|Thickness|Weight|Diameter|image|thumbnail                                                                                                                                                                                                          |\n",
            "|----|-------------------------------------------------------------------------------------------------------------------------------------------------------------------------------------------------------------------------------------------------------------------------------------------------------------------------------------------------------------------------------------------------------------------------------------------------------------------------------------------------------------------------------------------------------------------------------------------------------------------|\n",
            "|  0 | 1966.0001.001|Cover|PAPER|WESTERN CANADA AIRWAYS LTD.||Unknown|Unknown|||1927||||1||AT THE TIME IT WAS THE WORLD'S MOST NORTHERNLY AIR SERVICE|||Aviation|Commemorative|Stamps & coins|||||||paper|4.5 cm|2.6 cm|||||http://source.techno-science.ca/artifacts-artefacts/images/1966.0001.001.aa.cs.png|http://source.techno-science.ca/artifacts-artefacts/images/1966.0001.001.aa.cs.thumb.png                                                                                                                                                                                                                  |\n",
            "|  1 | 1966.0009.001|Propeller|Wooden propeller with metal sheathing attached to leading edges|JUPITER XI|12428B|Unknown|Unknown|||1929||||1|METAL LEADING EDGE/ PAINTED BLACK/ SCRATCHED & DIRTY/ HUB HAS HOLES||Aircraft propulsion||Aviation|Aircraft parts||||||||wood;metal|340.0 cm|30.0 cm|15.0 cm||18.5 kg||http://source.techno-science.ca/artifacts-artefacts/images/1966.0009.001.aa.cs.png|http://source.techno-science.ca/artifacts-artefacts/images/1966.0009.001.aa.cs.thumb.png                                                                                                                          |\n",
            "|  2 | 1966.0011.001|Propeller|WOOD; FIBRE|MERLIN II|H1454|Unknown|Unknown|||1939||||1|PAINTED YELLOW & SILVER|THE BCATP TRAINED COMMONWEALTH AND ALLIED AIR CREW AND WAS A SIGNIFICANT CANADIAN AND IN PARTICULAR RCAF CONTRIBUTION TO THE WAR EFFORT|LIST & COMMEMORATE AERO ENGINE MECHANICS TRAINED IN WINNIPEG AS PART OF BRITISH COMMONWEALTH AIR TRAINING PLAN (BCATP)||Aviation|Aircraft parts||||||||wood;fibre||31.0 cm|26.0 cm||||http://source.techno-science.ca/artifacts-artefacts/images/1966.0011.001.aa.cs.png|http://source.techno-science.ca/artifacts-artefacts/images/1966.0011.001.aa.cs.thumb.png |\n",
            "|  3 | 1966.0016.001|Propeller|WOOD/ METAL LEADING EDGE & TIPS/ METAL HUB ASSEMBLY||13767|Flottorp|United States of America|Michigan|Grand rapids|||||1|Semi-gloss finish||Aircraft propulsion||Aviation|Aircraft parts||||||||wood;metal|190.0 cm|15.0 cm|11.0 cm||6.7 kg||http://source.techno-science.ca/artifacts-artefacts/images/1966.0016.001.aa.cs.png|http://source.techno-science.ca/artifacts-artefacts/images/1966.0016.001.aa.cs.thumb.png                                                                                                                                                                  |\n",
            "|  4 | 1966.0017.001|Propeller|WOOD/ METAL PLATE OVER HUB||11993/3316|Unknown|Unknown|||||||1|Reddish varnish/ Hub has bolts & metal cover plate||Aircraft propulsion||Aviation|Aircraft parts||||||||wood;metal|244.0 cm|25.0 cm|9.5 cm||10.8 kg||http://source.techno-science.ca/artifacts-artefacts/images/1966.0017.001.aa.cs.png|http://source.techno-science.ca/artifacts-artefacts/images/1966.0017.001.aa.cs.thumb.png                                                                                                                                                                                           |\n",
            "|  5 | 1966.0020.001|Propeller|WOOD/ METAL||G1710|S & S Aircraft Co.|Canada|Manitoba|Winnipeg|1942||||1|HAS METAL LEADING EDGE & HUB BOLTS||Aircraft propulsion||Aviation|Aircraft parts||||||||wood;metal|230.0 cm|25.0 cm|20.0 cm||23.0 kg||http://source.techno-science.ca/artifacts-artefacts/images/1966.0020.001.aa.cs.png|http://source.techno-science.ca/artifacts-artefacts/images/1966.0020.001.aa.cs.thumb.png                                                                                                                                                                                                |\n",
            "|  6 | 1966.0022.001|Propeller|WOOD||1392|Jacuzzi Bros. Inc.|United States of America|California|Berkeley|||||1|Varnished||Aircraft propulsion||Aviation|Aircraft parts||||||||wood|242.0 cm|21.0 cm|9.8 cm||7.7 kg||http://source.techno-science.ca/artifacts-artefacts/images/1966.0022.001.aa.cs.png|http://source.techno-science.ca/artifacts-artefacts/images/1966.0022.001.aa.cs.thumb.png                                                                                                                                                                                                                         |\n",
            "|  7 | 1966.0024.001|Propeller|WOOD/ METAL HUB ASSEMBLY|PARAGON|1185 4616|American Propeller & Mfg. Co.|United States of America|Maryland|Baltimore||||TRADEMARK; PARAGON|1|SEVERAL LAYERS OF VARNISH||Aircraft propulsion||Aviation|Aircraft parts||||||||wood;metal|252.0 cm|22.5 cm|10.5 cm||||http://source.techno-science.ca/artifacts-artefacts/images/1966.0024.001.aa.cs.png|http://source.techno-science.ca/artifacts-artefacts/images/1966.0024.001.aa.cs.thumb.png                                                                                                                                            |\n",
            "|  8 | 1966.0028.001|Propeller|WOOD/ METAL/ FIBRE|WOLSELEY VIPER|C414N26/AB7673|Unknown|Unknown|||||||1|Reddish varnish with grey painted blades/ HAS METAL TIPS/ MINOR CHIPS||Aircraft propulsion||Aviation|Aircraft parts||||||||wood;metal;fibre|243.0 cm|20.0 cm|15.0 cm||9.25 kg||http://source.techno-science.ca/artifacts-artefacts/images/1966.0028.001.aa.cs.png|http://source.techno-science.ca/artifacts-artefacts/images/1966.0028.001.aa.cs.thumb.png                                                                                                                                                       |\n",
            "|  9 | 1966.0034.001|Clock works|METAL (TIN?) CLOCK FACE AND HANDS/ METAL WORKS|||SELF WINDING CLOCK CO.|United States of America|New york|New york|||||1|BLACK ROMAN NUMERALS AGAINST WHITE CLOCK FACE||||Horology|Clocks|Clock parts|||||||metal->tin|31.4 cm|13.2 cm|44.5 cm||||http://source.techno-science.ca/artifacts-artefacts/images/1966.0034.001.aa.cs.png|http://source.techno-science.ca/artifacts-artefacts/images/1966.0034.001.aa.cs.thumb.png                                                                                                                                                           |\n"
          ]
        }
      ],
      "source": [
        "import pandas as pd\n",
        "from tabulate import tabulate\n",
        "df_museun = pd.read_csv('/content/drive/MyDrive/data_analytics/MINIPROJECT_8/cstmc-CSV-en.csv', on_bad_lines='skip')\n",
        "print(tabulate(df_museun.head(10), headers='keys', tablefmt='github'))"
      ]
    },
    {
      "cell_type": "code",
      "source": [],
      "metadata": {
        "id": "s7mZll1yljj5"
      },
      "execution_count": null,
      "outputs": []
    }
  ]
}