{
  "nbformat": 4,
  "nbformat_minor": 0,
  "metadata": {
    "colab": {
      "provenance": [],
      "mount_file_id": "1oGj1ULDNypZL0IJ-clHO938OffAddQ8q",
      "authorship_tag": "ABX9TyPJaWSs957Kekq8ulT/ZODB",
      "include_colab_link": true
    },
    "kernelspec": {
      "name": "python3",
      "display_name": "Python 3"
    },
    "language_info": {
      "name": "python"
    }
  },
  "cells": [
    {
      "cell_type": "markdown",
      "metadata": {
        "id": "view-in-github",
        "colab_type": "text"
      },
      "source": [
        "<a href=\"https://colab.research.google.com/github/sivasamy1/data_analytics/blob/main/ebola_song.ipynb\" target=\"_parent\"><img src=\"https://colab.research.google.com/assets/colab-badge.svg\" alt=\"Open In Colab\"/></a>"
      ]
    },
    {
      "cell_type": "code",
      "execution_count": 20,
      "metadata": {
        "id": "vJ6UCelSuNNX"
      },
      "outputs": [],
      "source": [
        "import pandas as pd\n",
        "from tabulate import tabulate"
      ]
    },
    {
      "cell_type": "markdown",
      "source": [
        "## **PART I**"
      ],
      "metadata": {
        "id": "lmBZWqxpzIwG"
      }
    },
    {
      "cell_type": "code",
      "source": [
        "df = pd.read_csv('/content/drive/MyDrive/data_analytics/MINIPROJECT_6/ebola_data_db_format.csv')\n",
        "list(df)\n",
        "print(df.head(5))"
      ],
      "metadata": {
        "colab": {
          "base_uri": "https://localhost:8080/"
        },
        "id": "AeF6Pb5gwBBY",
        "outputId": "5c6f55c5-14fe-4258-d865-0aacaf01f459"
      },
      "execution_count": 33,
      "outputs": [
        {
          "output_type": "stream",
          "name": "stdout",
          "text": [
            "                                           Indicator Country        Date  \\\n",
            "0  Cumulative number of confirmed, probable and s...  Guinea  2015-03-10   \n",
            "1         Cumulative number of confirmed Ebola cases  Guinea  2015-03-10   \n",
            "2          Cumulative number of probable Ebola cases  Guinea  2015-03-10   \n",
            "3         Cumulative number of suspected Ebola cases  Guinea  2015-03-10   \n",
            "4  Cumulative number of confirmed, probable and s...  Guinea  2015-03-10   \n",
            "\n",
            "    value  \n",
            "0  3285.0  \n",
            "1  2871.0  \n",
            "2   392.0  \n",
            "3    22.0  \n",
            "4  2170.0  \n"
          ]
        }
      ]
    },
    {
      "cell_type": "markdown",
      "source": [
        "### **1.1 Distinct number of Indicators in the universe (complete dataset).**\n",
        "### **Expected Output:**\n",
        "### **Integer value**\n"
      ],
      "metadata": {
        "id": "HUh_LvzEwR3a"
      }
    },
    {
      "cell_type": "code",
      "source": [
        "indicators = df['Indicator'].nunique()\n",
        "print(\"Distinct # if indicators:\\n\", indicators)"
      ],
      "metadata": {
        "colab": {
          "base_uri": "https://localhost:8080/"
        },
        "id": "GWCqVPNIwkMN",
        "outputId": "7cf528de-51ff-49a6-896b-d20dbbdc53f5"
      },
      "execution_count": 22,
      "outputs": [
        {
          "output_type": "stream",
          "name": "stdout",
          "text": [
            "Distinct # if indicators:\n",
            " 36\n"
          ]
        }
      ]
    },
    {
      "cell_type": "markdown",
      "source": [
        "### **1.2 In the second half of the year 2015, how many countries have one or more “Cumulative number of confirmed Ebola cases”**\n",
        "### **Expected Output:**\n",
        "### **Integer value**\n"
      ],
      "metadata": {
        "id": "NyfCRRBey54G"
      }
    },
    {
      "cell_type": "code",
      "source": [
        "confirmed = df[(df['Date'] >= '01-07-2015') & (df['Date'] <= '30-12-2015')]\n",
        "confirmed = confirmed.where(df['Indicator'] == \"Cumulative number of confirmed Ebola cases\")\n",
        "confirmed = confirmed['Country'].nunique()\n",
        "print(confirmed)"
      ],
      "metadata": {
        "id": "PNpLx7JexW87",
        "colab": {
          "base_uri": "https://localhost:8080/"
        },
        "outputId": "57e22b22-016b-4b4a-fa07-cf5680dbc16a"
      },
      "execution_count": 51,
      "outputs": [
        {
          "output_type": "stream",
          "name": "stdout",
          "text": [
            "12\n"
          ]
        }
      ]
    },
    {
      "cell_type": "markdown",
      "source": [
        "### **1.3 Top 10 total Ebola cases confirmed. Note that Indicator = Cumulative number of confirmed Ebola cases. Include rank based on the total value (=cases confirmed).**\n",
        "### **Expected Output:**\n",
        "### **country, total_value, rank**\n"
      ],
      "metadata": {
        "id": "XNYkjhdU3vCh"
      }
    },
    {
      "cell_type": "code",
      "source": [
        "confirmed = df.where(df['Indicator'] == \"Cumulative number of confirmed Ebola cases\")\\\n",
        "            .groupby([\"Country\"]).size().nlargest(10).to_frame('total_value').reset_index()\n",
        "\n",
        "confirmed['rank'] = confirmed['total_value'].rank(ascending=False)\n",
        "print(tabulate(confirmed, headers='keys', tablefmt='github'))"
      ],
      "metadata": {
        "colab": {
          "base_uri": "https://localhost:8080/"
        },
        "id": "NsPE1mBP2Z0z",
        "outputId": "3aec1748-51cb-48ee-f01e-d77d602da80c"
      },
      "execution_count": 64,
      "outputs": [
        {
          "output_type": "stream",
          "name": "stdout",
          "text": [
            "|    | Country                  |   total_value |   rank |\n",
            "|----|--------------------------|---------------|--------|\n",
            "|  0 | Guinea                   |           259 |    1.5 |\n",
            "|  1 | Sierra Leone             |           259 |    1.5 |\n",
            "|  2 | Liberia                  |           258 |    3   |\n",
            "|  3 | Nigeria                  |           255 |    4   |\n",
            "|  4 | Senegal                  |           254 |    5   |\n",
            "|  5 | United States of America |           245 |    6   |\n",
            "|  6 | Mali                     |           243 |    7.5 |\n",
            "|  7 | Spain                    |           243 |    7.5 |\n",
            "|  8 | United Kingdom           |           221 |    9   |\n",
            "|  9 | Italy                    |           141 |   10   |\n"
          ]
        }
      ]
    },
    {
      "cell_type": "markdown",
      "source": [
        "### **1.4 Top 10 countries that have total cases with Indicator = “Cumulative number of confirmed, probable and suspected Ebola deaths” in 2015 Q2 (i.e., April-June 2015).**\n",
        "### **Expected Output:**\n",
        "### **country, total_cases, rank**\n"
      ],
      "metadata": {
        "id": "_R4PnVqgyzLQ"
      }
    },
    {
      "cell_type": "code",
      "source": [
        "confirmed = df[(df['Date'] >= '01-04-2015') & (df['Date'] <= '30-06-2015')]\n",
        "confirmed = confirmed.where(df['Indicator'] == \"Cumulative number of confirmed, probable and suspected Ebola deaths\")\\\n",
        "      .groupby(['Country']).size().nlargest(10).to_frame('total_cases').reset_index()\n",
        "confirmed['rank'] = confirmed['total_cases'].rank(ascending=False)\n",
        "print(tabulate(confirmed, headers='keys', tablefmt='github'))"
      ],
      "metadata": {
        "colab": {
          "base_uri": "https://localhost:8080/"
        },
        "id": "mnrddnK8B54X",
        "outputId": "2c76ba3d-52fd-4545-e5d0-8a28952803b5"
      },
      "execution_count": 75,
      "outputs": [
        {
          "output_type": "stream",
          "name": "stdout",
          "text": [
            "|    | Country                  |   total_cases |   rank |\n",
            "|----|--------------------------|---------------|--------|\n",
            "|  0 | Guinea                   |           259 |    2   |\n",
            "|  1 | Liberia                  |           259 |    2   |\n",
            "|  2 | Sierra Leone             |           259 |    2   |\n",
            "|  3 | Nigeria                  |           255 |    4   |\n",
            "|  4 | Senegal                  |           254 |    5   |\n",
            "|  5 | United States of America |           245 |    6   |\n",
            "|  6 | Mali                     |           243 |    7.5 |\n",
            "|  7 | Spain                    |           243 |    7.5 |\n",
            "|  8 | United Kingdom           |           221 |    9   |\n",
            "|  9 | Italy                    |           141 |   10   |\n"
          ]
        }
      ]
    },
    {
      "cell_type": "code",
      "source": [],
      "metadata": {
        "id": "_2MFgpCw0fCg"
      },
      "execution_count": null,
      "outputs": []
    }
  ]
}
