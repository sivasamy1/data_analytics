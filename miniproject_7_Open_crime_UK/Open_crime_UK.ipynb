{
  "nbformat": 4,
  "nbformat_minor": 0,
  "metadata": {
    "colab": {
      "provenance": [],
      "mount_file_id": "15VmQwpNy32Z8mRMtM83m3FSj0CVGJj9c",
      "authorship_tag": "ABX9TyP2H52o+lZk1Yy4MXk7Pc3d",
      "include_colab_link": true
    },
    "kernelspec": {
      "name": "python3",
      "display_name": "Python 3"
    },
    "language_info": {
      "name": "python"
    }
  },
  "cells": [
    {
      "cell_type": "markdown",
      "metadata": {
        "id": "view-in-github",
        "colab_type": "text"
      },
      "source": [
        "<a href=\"https://colab.research.google.com/github/sivasamy1/data_analytics/blob/main/Open_crime_UK.ipynb\" target=\"_parent\"><img src=\"https://colab.research.google.com/assets/colab-badge.svg\" alt=\"Open In Colab\"/></a>"
      ]
    },
    {
      "cell_type": "code",
      "source": [
        "\n",
        "from google.colab import drive\n",
        "drive.mount('/content/drive')"
      ],
      "metadata": {
        "colab": {
          "base_uri": "https://localhost:8080/"
        },
        "id": "vuAwlE0tIULe",
        "outputId": "51fa024c-60cc-493b-c6ac-c86ea98c0721"
      },
      "execution_count": 3,
      "outputs": [
        {
          "output_type": "stream",
          "name": "stdout",
          "text": [
            "Drive already mounted at /content/drive; to attempt to forcibly remount, call drive.mount(\"/content/drive\", force_remount=True).\n"
          ]
        }
      ]
    },
    {
      "cell_type": "code",
      "execution_count": 4,
      "metadata": {
        "id": "cGg8CUzvxvf3",
        "colab": {
          "base_uri": "https://localhost:8080/"
        },
        "outputId": "243cd098-ee39-4d20-8442-1eaad4351b0f"
      },
      "outputs": [
        {
          "output_type": "stream",
          "name": "stdout",
          "text": [
            "ls: /content/drive/MyDrive/DataSheets: No such file or directory\n",
            "ls: '/content/drive/MyDrive/Build Club docs': No such file or directory\n"
          ]
        }
      ],
      "source": [
        "!ls -ltr /content/drive/MyDrive | grep *.csv"
      ]
    },
    {
      "cell_type": "code",
      "source": [
        "!ls -ltr /content/drive/MyDrive/data_analytics/MINIPROJECT_7/2019-07/"
      ],
      "metadata": {
        "colab": {
          "base_uri": "https://localhost:8080/"
        },
        "id": "JsQHRO8xIVgN",
        "outputId": "4e55fac4-8fad-434a-e2f0-954acc190082"
      },
      "execution_count": 5,
      "outputs": [
        {
          "output_type": "stream",
          "name": "stdout",
          "text": [
            "total 15800\n",
            "-r-------- 1 root root  202233 Feb 23  2022 2019-07-city-of-london-street.csv\n",
            "-r-------- 1 root root  907269 Feb 23  2022 2019-07-cumbria-street.csv\n",
            "-r-------- 1 root root  820660 Feb 23  2022 2019-07-dyfed-powys-street.csv\n",
            "-r-------- 1 root root  834559 Feb 23  2022 2019-07-btp-street.csv\n",
            "-r-------- 1 root root 1041027 Feb 23  2022 2019-07-warwickshire-street.csv\n",
            "-r-------- 1 root root  724019 Feb 24  2022 2019-07-cumbria-outcomes.csv\n",
            "-r-------- 1 root root  140007 Feb 24  2022 2019-07-city-of-london-outcomes.csv\n",
            "-r-------- 1 root root  455315 Feb 24  2022 2019-07-lincolnshire-outcomes.csv\n",
            "-r-------- 1 root root  598219 Feb 24  2022 2019-07-gwent-outcomes.csv\n",
            "-r-------- 1 root root  697404 Feb 24  2022 2019-07-gloucestershire-outcomes.csv\n",
            "-r-------- 1 root root  565893 Feb 24  2022 2019-07-dyfed-powys-outcomes.csv\n",
            "-r-------- 1 root root  410810 Feb 24  2022 2019-07-north-yorkshire-outcomes.csv\n",
            "-r-------- 1 root root  780830 Feb 24  2022 2019-07-north-wales-outcomes.csv\n",
            "-r-------- 1 root root  861492 Feb 24  2022 2019-07-norfolk-outcomes.csv\n",
            "-r-------- 1 root root  743288 Feb 24  2022 2019-07-warwickshire-outcomes.csv\n",
            "-r-------- 1 root root  775686 Feb 24  2022 2019-07-suffolk-outcomes.csv\n",
            "-r-------- 1 root root  756047 Feb 24  2022 2019-07-wiltshire-outcomes.csv\n",
            "-r-------- 1 root root  129241 Feb 24  2022 2019-07-avon-and-somerset-stop-and-search.csv\n",
            "-r-------- 1 root root   47727 Feb 24  2022 2019-07-bedfordshire-stop-and-search.csv\n",
            "-r-------- 1 root root  153822 Feb 24  2022 2019-07-btp-stop-and-search.csv\n",
            "-r-------- 1 root root   39335 Feb 24  2022 2019-07-cambridgeshire-stop-and-search.csv\n",
            "-r-------- 1 root root   76009 Feb 24  2022 2019-07-cheshire-stop-and-search.csv\n",
            "-r-------- 1 root root   40107 Feb 24  2022 2019-07-city-of-london-stop-and-search.csv\n",
            "-r-------- 1 root root   12454 Feb 24  2022 2019-07-cleveland-stop-and-search.csv\n",
            "-r-------- 1 root root   40634 Feb 24  2022 2019-07-cumbria-stop-and-search.csv\n",
            "-r-------- 1 root root   33813 Feb 24  2022 2019-07-derbyshire-stop-and-search.csv\n",
            "-r-------- 1 root root   98434 Feb 24  2022 2019-07-devon-and-cornwall-stop-and-search.csv\n",
            "-r-------- 1 root root   19883 Feb 24  2022 2019-07-dorset-stop-and-search.csv\n",
            "-r-------- 1 root root   50991 Feb 24  2022 2019-07-durham-stop-and-search.csv\n",
            "-r-------- 1 root root   70830 Feb 24  2022 2019-07-dyfed-powys-stop-and-search.csv\n",
            "-r-------- 1 root root  316547 Feb 24  2022 2019-07-essex-stop-and-search.csv\n",
            "-r-------- 1 root root   22569 Feb 24  2022 2019-07-gloucestershire-stop-and-search.csv\n",
            "-r-------- 1 root root   32204 Feb 24  2022 2019-07-gwent-stop-and-search.csv\n",
            "-r-------- 1 root root  147051 Feb 24  2022 2019-07-hampshire-stop-and-search.csv\n",
            "-r-------- 1 root root  127971 Feb 24  2022 2019-07-hertfordshire-stop-and-search.csv\n",
            "-r-------- 1 root root   41937 Feb 24  2022 2019-07-humberside-stop-and-search.csv\n",
            "-r-------- 1 root root  176195 Feb 24  2022 2019-07-kent-stop-and-search.csv\n",
            "-r-------- 1 root root  148865 Feb 24  2022 2019-07-lancashire-stop-and-search.csv\n",
            "-r-------- 1 root root   52411 Feb 24  2022 2019-07-leicestershire-stop-and-search.csv\n",
            "-r-------- 1 root root   56827 Feb 24  2022 2019-07-lincolnshire-stop-and-search.csv\n",
            "-r-------- 1 root root  721440 Feb 24  2022 2019-07-merseyside-stop-and-search.csv\n",
            "-r-------- 1 root root   65236 Feb 24  2022 2019-07-norfolk-stop-and-search.csv\n",
            "-r-------- 1 root root   39030 Feb 24  2022 2019-07-northamptonshire-stop-and-search.csv\n",
            "-r-------- 1 root root   81708 Feb 24  2022 2019-07-northumbria-stop-and-search.csv\n",
            "-r-------- 1 root root  102239 Feb 24  2022 2019-07-north-wales-stop-and-search.csv\n",
            "-r-------- 1 root root   31687 Feb 24  2022 2019-07-north-yorkshire-stop-and-search.csv\n",
            "-r-------- 1 root root   88155 Feb 24  2022 2019-07-nottinghamshire-stop-and-search.csv\n",
            "-r-------- 1 root root  237721 Feb 24  2022 2019-07-south-wales-stop-and-search.csv\n",
            "-r-------- 1 root root  187950 Feb 24  2022 2019-07-south-yorkshire-stop-and-search.csv\n",
            "-r-------- 1 root root  118263 Feb 24  2022 2019-07-staffordshire-stop-and-search.csv\n",
            "-r-------- 1 root root   51975 Feb 24  2022 2019-07-suffolk-stop-and-search.csv\n",
            "-r-------- 1 root root   65241 Feb 24  2022 2019-07-surrey-stop-and-search.csv\n",
            "-r-------- 1 root root  149407 Feb 24  2022 2019-07-sussex-stop-and-search.csv\n",
            "-r-------- 1 root root  172468 Feb 24  2022 2019-07-thames-valley-stop-and-search.csv\n",
            "-r-------- 1 root root   28012 Feb 24  2022 2019-07-warwickshire-stop-and-search.csv\n",
            "-r-------- 1 root root   80463 Feb 24  2022 2019-07-west-mercia-stop-and-search.csv\n",
            "-r-------- 1 root root  415798 Feb 24  2022 2019-07-west-midlands-stop-and-search.csv\n",
            "-r-------- 1 root root  269063 Feb 24  2022 2019-07-west-yorkshire-stop-and-search.csv\n",
            "-r-------- 1 root root    5715 Feb 24  2022 2019-07-wiltshire-stop-and-search.csv\n"
          ]
        }
      ]
    },
    {
      "cell_type": "code",
      "source": [
        "import os\n",
        "import pandas as pd\n",
        "from tabulate import tabulate\n",
        "df = pd.read_csv('/content/drive/MyDrive/data_analytics/MINIPROJECT_7/Copy of 2019-07-city-of-london-street.csv')\n",
        "print(tabulate(df.head(10), headers='keys', tablefmt='github'))"
      ],
      "metadata": {
        "id": "gTevh-JDIy76",
        "colab": {
          "base_uri": "https://localhost:8080/"
        },
        "outputId": "c1f81c32-1ed9-4221-a0ed-751f25b86bd4"
      },
      "execution_count": 6,
      "outputs": [
        {
          "output_type": "stream",
          "name": "stdout",
          "text": [
            "|    | Crime ID                                                         | Month   | Reported by           | Falls within          |   Longitude |   Latitude | Location                       | LSOA code   | LSOA name           | Crime type                   | Last outcome category                         |   Context |\n",
            "|----|------------------------------------------------------------------|---------|-----------------------|-----------------------|-------------|------------|--------------------------------|-------------|---------------------|------------------------------|-----------------------------------------------|-----------|\n",
            "|  0 | e44e2b4d7cd89ba1f88415c28686a533214f8df9a13b61bc8638504f1c865eb5 | 2019-07 | City of London Police | City of London Police |   -0.106453 |    51.5182 | On or near Charterhouse Street | E01000916   | Camden 027B         | Violence and sexual offences | Unable to prosecute suspect                   |       nan |\n",
            "|  1 | e26bc0ded206fca8fb55c56e05af40a6c078e53590677372cea702f8c5919abb | 2019-07 | City of London Police | City of London Police |   -0.111497 |    51.5182 | On or near Pedestrian Subway   | E01000914   | Camden 028B         | Drugs                        | Court result unavailable                      |       nan |\n",
            "|  2 | 926f0a1eb4e362f7024497f5638a2c716dd0eb84183cc60d512bfeccc7e3c4f0 | 2019-07 | City of London Police | City of London Police |   -0.111962 |    51.5185 | On or near Nightclub           | E01000914   | Camden 028B         | Other theft                  | Investigation complete; no suspect identified |       nan |\n",
            "|  3 | 38e4d0e5f09fd9541fb9c6ebff68cd3eff44f0e93b97b34462a203bc4bc94049 | 2019-07 | City of London Police | City of London Police |   -0.111497 |    51.5182 | On or near Pedestrian Subway   | E01000914   | Camden 028B         | Violence and sexual offences | Status update unavailable                     |       nan |\n",
            "|  4 | nan                                                              | 2019-07 | City of London Police | City of London Police |   -0.09596  |    51.5175 | On or near London Wall         | E01000001   | City of London 001A | Anti-social behaviour        | nan                                           |       nan |\n",
            "|  5 | nan                                                              | 2019-07 | City of London Police | City of London Police |   -0.097334 |    51.5216 | On or near Fann Street         | E01000001   | City of London 001A | Anti-social behaviour        | nan                                           |       nan |\n",
            "|  6 | nan                                                              | 2019-07 | City of London Police | City of London Police |   -0.097562 |    51.5189 | On or near Parking Area        | E01000001   | City of London 001A | Anti-social behaviour        | nan                                           |       nan |\n",
            "|  7 | nan                                                              | 2019-07 | City of London Police | City of London Police |   -0.095914 |    51.5203 | On or near Beech Street        | E01000001   | City of London 001A | Anti-social behaviour        | nan                                           |       nan |\n",
            "|  8 | nan                                                              | 2019-07 | City of London Police | City of London Police |   -0.095914 |    51.5203 | On or near Beech Street        | E01000001   | City of London 001A | Anti-social behaviour        | nan                                           |       nan |\n",
            "|  9 | nan                                                              | 2019-07 | City of London Police | City of London Police |   -0.097562 |    51.5189 | On or near Parking Area        | E01000001   | City of London 001A | Anti-social behaviour        | nan                                           |       nan |\n"
          ]
        }
      ]
    },
    {
      "cell_type": "code",
      "source": [
        "# import pandas as pd\n",
        "# import os\n",
        "# import glob\n",
        "\n",
        "# path = os.getcwd()\n",
        "# csv_files = glob.glob(os.path.join(path, \"*.csv\"))\n",
        "\n",
        "# for f in csv_files:\n",
        "\n",
        "#   df = pd.read_csv(f)\n",
        "#   print('Location:', f)\n",
        "#   print('File Name', f.split(\"\\\\\")[-1])\n",
        "#   print('Content')\n",
        "#   display(df)\n",
        "#   print()"
      ],
      "metadata": {
        "id": "kjzrjlZkcagQ"
      },
      "execution_count": 12,
      "outputs": []
    },
    {
      "cell_type": "markdown",
      "source": [
        "## **PART I**"
      ],
      "metadata": {
        "id": "fUtOnN24bjHS"
      }
    },
    {
      "cell_type": "markdown",
      "source": [
        "### **1.1 Top 10 Type by number events. Type column is the event (see sample data in the end of this document ).**\n",
        "### **Output:**\n",
        "### **type, num_events, rank**\n"
      ],
      "metadata": {
        "id": "2OAXV_CYbVlY"
      }
    },
    {
      "cell_type": "code",
      "source": [
        "df_num = df.groupby('Crime type').size().to_frame('num_events').reset_index()\n",
        "df_num['rank'] = df_num['num_events'].rank(ascending=False)\n",
        "df_num = df_num.sort_values(by='rank', ascending=True)\n",
        "print(df_num)"
      ],
      "metadata": {
        "colab": {
          "base_uri": "https://localhost:8080/"
        },
        "id": "EPMhNhkDe96H",
        "outputId": "b7d72487-b75a-4ea4-b9d7-f16e4c402daa"
      },
      "execution_count": 26,
      "outputs": [
        {
          "output_type": "stream",
          "name": "stdout",
          "text": [
            "                      Crime type  num_events  rank\n",
            "6                    Other theft         231   1.0\n",
            "13  Violence and sexual offences         107   2.0\n",
            "0          Anti-social behaviour         102   3.0\n",
            "10                   Shoplifting          88   4.0\n",
            "11         Theft from the person          76   5.0\n",
            "4                          Drugs          73   6.0\n",
            "8                   Public order          54   7.0\n",
            "1                  Bicycle theft          41   8.0\n",
            "2                       Burglary          21   9.0\n",
            "12                 Vehicle crime          19  10.0\n",
            "3      Criminal damage and arson          18  11.0\n",
            "9                        Robbery          14  12.0\n",
            "5                    Other crime          12  13.0\n",
            "7          Possession of weapons          10  14.0\n"
          ]
        }
      ]
    },
    {
      "cell_type": "code",
      "source": [],
      "metadata": {
        "id": "oCrjpl0vnLio"
      },
      "execution_count": null,
      "outputs": []
    }
  ]
}
