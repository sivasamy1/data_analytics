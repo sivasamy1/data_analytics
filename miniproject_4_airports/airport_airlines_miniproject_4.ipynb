{
  "nbformat": 4,
  "nbformat_minor": 0,
  "metadata": {
    "colab": {
      "provenance": [],
      "mount_file_id": "1sEYXyL1sPb_Wk0N2-mcRm1hd78uqm3qk",
      "authorship_tag": "ABX9TyNyQ205v+IUijcBmFkB5brp",
      "include_colab_link": true
    },
    "kernelspec": {
      "name": "python3",
      "display_name": "Python 3"
    },
    "language_info": {
      "name": "python"
    }
  },
  "cells": [
    {
      "cell_type": "markdown",
      "metadata": {
        "id": "view-in-github",
        "colab_type": "text"
      },
      "source": [
        "<a href=\"https://colab.research.google.com/github/sivasamy1/data_analytics/blob/main/airport_airlines_miniproject_4.ipynb\" target=\"_parent\"><img src=\"https://colab.research.google.com/assets/colab-badge.svg\" alt=\"Open In Colab\"/></a>"
      ]
    },
    {
      "cell_type": "code",
      "execution_count": null,
      "metadata": {
        "id": "r-DA1MilgaQV"
      },
      "outputs": [],
      "source": []
    },
    {
      "cell_type": "code",
      "source": [
        "from google.colab import drive\n",
        "drive.mount('/content/drive')"
      ],
      "metadata": {
        "colab": {
          "base_uri": "https://localhost:8080/"
        },
        "id": "We-0_rX5goV-",
        "outputId": "014f39bb-86da-4747-9bc6-273b316e6ff4"
      },
      "execution_count": null,
      "outputs": [
        {
          "output_type": "stream",
          "name": "stdout",
          "text": [
            "Drive already mounted at /content/drive; to attempt to forcibly remount, call drive.mount(\"/content/drive\", force_remount=True).\n"
          ]
        }
      ]
    },
    {
      "cell_type": "code",
      "source": [
        "import pandas as pd\n",
        "from tabulate import tabulate"
      ],
      "metadata": {
        "id": "1KyeyKymgpJD"
      },
      "execution_count": null,
      "outputs": []
    },
    {
      "cell_type": "markdown",
      "source": [
        "## **PART I**"
      ],
      "metadata": {
        "id": "bztWcGduov_U"
      }
    },
    {
      "cell_type": "code",
      "source": [
        "df_airports = pd.read_csv(\"/content/drive/MyDrive/data_analytics/airport/airports.dat.txt\")\n",
        "df_airports.columns = [\"Airport_ID\",\"Name\",\"City\",\"Country\",\"IATA\",\"ICAO\",\"Latitude\",\"Longitude\",\"Altitude\",\"Timezone\",\"DST\",\"Tz database timezone\",\"Type\",\"Source\"]\n",
        "\n",
        "print(tabulate(df_airports.head(10), headers='keys', tablefmt='psql'))"
      ],
      "metadata": {
        "colab": {
          "base_uri": "https://localhost:8080/"
        },
        "id": "O1TNXUWshDYb",
        "outputId": "564ce88b-bffe-41c3-cc3f-2d89579d08d2"
      },
      "execution_count": 54,
      "outputs": [
        {
          "output_type": "stream",
          "name": "stdout",
          "text": [
            "+----+--------------+---------------------------------------------+--------------+------------------+--------+--------+------------+-------------+------------+------------+-------+------------------------+---------+-------------+\n",
            "|    |   Airport_ID | Name                                        | City         | Country          | IATA   | ICAO   |   Latitude |   Longitude |   Altitude |   Timezone | DST   | Tz database timezone   | Type    | Source      |\n",
            "|----+--------------+---------------------------------------------+--------------+------------------+--------+--------+------------+-------------+------------+------------+-------+------------------------+---------+-------------|\n",
            "|  0 |            2 | Madang Airport                              | Madang       | Papua New Guinea | MAG    | AYMD   |   -5.20708 |    145.789  |         20 |         10 | U     | Pacific/Port_Moresby   | airport | OurAirports |\n",
            "|  1 |            3 | Mount Hagen Kagamuga Airport                | Mount Hagen  | Papua New Guinea | HGU    | AYMH   |   -5.82679 |    144.296  |       5388 |         10 | U     | Pacific/Port_Moresby   | airport | OurAirports |\n",
            "|  2 |            4 | Nadzab Airport                              | Nadzab       | Papua New Guinea | LAE    | AYNZ   |   -6.5698  |    146.726  |        239 |         10 | U     | Pacific/Port_Moresby   | airport | OurAirports |\n",
            "|  3 |            5 | Port Moresby Jacksons International Airport | Port Moresby | Papua New Guinea | POM    | AYPY   |   -9.44338 |    147.22   |        146 |         10 | U     | Pacific/Port_Moresby   | airport | OurAirports |\n",
            "|  4 |            6 | Wewak International Airport                 | Wewak        | Papua New Guinea | WWK    | AYWK   |   -3.58383 |    143.669  |         19 |         10 | U     | Pacific/Port_Moresby   | airport | OurAirports |\n",
            "|  5 |            7 | Narsarsuaq Airport                          | Narssarssuaq | Greenland        | UAK    | BGBW   |   61.1605  |    -45.426  |        112 |         -3 | E     | America/Godthab        | airport | OurAirports |\n",
            "|  6 |            8 | Godthaab / Nuuk Airport                     | Godthaab     | Greenland        | GOH    | BGGH   |   64.1909  |    -51.6781 |        283 |         -3 | E     | America/Godthab        | airport | OurAirports |\n",
            "|  7 |            9 | Kangerlussuaq Airport                       | Sondrestrom  | Greenland        | SFJ    | BGSF   |   67.0122  |    -50.7116 |        165 |         -3 | E     | America/Godthab        | airport | OurAirports |\n",
            "|  8 |           10 | Thule Air Base                              | Thule        | Greenland        | THU    | BGTL   |   76.5312  |    -68.7032 |        251 |         -4 | E     | America/Thule          | airport | OurAirports |\n",
            "|  9 |           11 | Akureyri Airport                            | Akureyri     | Iceland          | AEY    | BIAR   |   65.66    |    -18.0727 |          6 |          0 | N     | Atlantic/Reykjavik     | airport | OurAirports |\n",
            "+----+--------------+---------------------------------------------+--------------+------------------+--------+--------+------------+-------------+------------+------------+-------+------------------------+---------+-------------+\n"
          ]
        }
      ]
    },
    {
      "cell_type": "markdown",
      "source": [
        "\n",
        "### **1.1. Top 20 highest altitude airports in the world. Choose only “type” with “airport”**###\n"
      ],
      "metadata": {
        "id": "afCE5iLukx2D"
      }
    },
    {
      "cell_type": "code",
      "source": [
        "df_airport = df_airports[df_airports[\"Type\"] == \"airport\"]\n",
        "df_top20 = df_airport.sort_values(by='Altitude', ascending=False).head(20)\n",
        "df_top20['Rank'] = df_top20['Altitude'].rank(ascending=False)\n",
        "\n",
        "df_top20_final = df_top20[['Airport_ID', 'Name', 'City', 'Country', 'Altitude', 'Rank']]\n",
        "\n",
        "print(tabulate(df_top20_final, headers='keys', tablefmt='psql'))"
      ],
      "metadata": {
        "colab": {
          "base_uri": "https://localhost:8080/"
        },
        "id": "jybcVo8UhN9q",
        "outputId": "64862fc3-c164-4ea3-bf88-78c3e0f5c1ea"
      },
      "execution_count": null,
      "outputs": [
        {
          "output_type": "stream",
          "name": "stdout",
          "text": [
            "+------+--------------+----------------------------------------+-------------+-----------+------------+--------+\n",
            "|      |   Airport_ID | Name                                   | City        | Country   |   Altitude |   Rank |\n",
            "|------+--------------+----------------------------------------+-------------+-----------+------------+--------|\n",
            "| 6541 |         9310 | Daocheng Yading Airport                | Daocheng    | China     |      14472 |      1 |\n",
            "| 5027 |         6396 | Qamdo Bangda Airport                   | Bangda      | China     |      14219 |      2 |\n",
            "| 6392 |         8921 | Kangding Airport                       | Kangding    | China     |      14042 |      3 |\n",
            "| 5871 |         7932 | Ngari Gunsa Airport                    | Shiquanhe   | China     |      14022 |      4 |\n",
            "| 2624 |         2762 | El Alto International Airport          | La Paz      | Bolivia   |      13355 |      5 |\n",
            "| 2626 |         2764 | Capitan Nicolas Rojas Airport          | Potosi      | Bolivia   |      12913 |      6 |\n",
            "| 5850 |         7894 | Yushu Batang Airport                   | Yushu       | China     |      12816 |      7 |\n",
            "| 6419 |         8969 | Copacabana Airport                     | Copacabana  | Bolivia   |      12591 |      8 |\n",
            "| 2653 |         2792 | Inca Manco Capac International Airport | Juliaca     | Peru      |      12552 |      9 |\n",
            "| 7537 |        13483 | Golog Maqin Airport                    | Golog       | China     |      12426 |     10 |\n",
            "| 5777 |         7766 | Syangboche Airport                     | Syangboche  | Nepal     |      12400 |     11 |\n",
            "| 2625 |         2763 | Juan Mendoza Airport                   | Oruro       | Bolivia   |      12152 |     12 |\n",
            "| 3873 |         4097 | Lhasa Gonggar Airport                  | Lhasa       | China     |      11713 |     13 |\n",
            "| 6802 |        10943 | Hongyuan Airport                       | Ngawa       | China     |      11600 |     14 |\n",
            "| 2341 |         2464 | La Quiaca Airport                      | Laboulaye   | Argentina |      11414 |     15 |\n",
            "| 4039 |         4301 | Jiuzhai Huanglong Airport              | Jiuzhaigou  | China     |      11327 |     16 |\n",
            "| 2648 |         2787 | Andahuaylas Airport                    | Andahuaylas | Peru      |      11300 |     17 |\n",
            "| 5498 |         7313 | Uyuni Airport                          | Uyuni       | Bolivia   |      11136 |     18 |\n",
            "| 2652 |         2791 | Francisco Carle Airport                | Jauja       | Peru      |      11034 |     19 |\n",
            "| 3941 |         4174 | Manang Airport                         | Manang      | Nepal     |      11001 |     20 |\n",
            "+------+--------------+----------------------------------------+-------------+-----------+------------+--------+\n"
          ]
        }
      ]
    },
    {
      "cell_type": "markdown",
      "source": [
        "### **1.2. Top 20 countries that have the highest total number of airports.** ###"
      ],
      "metadata": {
        "id": "Cl-oaVJOs0Bl"
      }
    },
    {
      "cell_type": "code",
      "source": [
        "\n",
        "df_top_20_countries = df_airports.groupby(['Country']).size().to_frame('total_airports').reset_index(drop=False)\n",
        "df_top_20_countries = df_top_20_countries.sort_values(by=['total_airports'],ascending=False)\n",
        "df_top_20_countries ['rank'] = df_top_20_countries['total_airports'].rank(ascending=False)\n",
        "df_top_20_countries = df_top_20_countries.head(20)\n",
        "\n",
        "print(tabulate(df_top_20_countries, headers='keys', tablefmt='psql'))"
      ],
      "metadata": {
        "id": "Ocy8M-RejyjM",
        "colab": {
          "base_uri": "https://localhost:8080/"
        },
        "outputId": "d4fe3fbf-1a99-4538-ca8e-7ddf674c2442"
      },
      "execution_count": null,
      "outputs": [
        {
          "output_type": "stream",
          "name": "stdout",
          "text": [
            "+-----+----------------+------------------+--------+\n",
            "|     | Country        |   total_airports |   rank |\n",
            "|-----+----------------+------------------+--------|\n",
            "| 223 | United States  |             1512 |    1   |\n",
            "|  37 | Canada         |              430 |    2   |\n",
            "|  11 | Australia      |              334 |    3   |\n",
            "| 176 | Russia         |              264 |    4.5 |\n",
            "|  27 | Brazil         |              264 |    4.5 |\n",
            "|  79 | Germany        |              249 |    6   |\n",
            "|  43 | China          |              241 |    7   |\n",
            "|  73 | France         |              217 |    8   |\n",
            "| 222 | United Kingdom |              167 |    9   |\n",
            "|  97 | India          |              148 |   10   |\n",
            "|  98 | Indonesia      |              145 |   11   |\n",
            "| 106 | Japan          |              123 |   12   |\n",
            "| 195 | South Africa   |               99 |   13   |\n",
            "|   8 | Argentina      |               96 |   14   |\n",
            "| 136 | Mexico         |               84 |   15   |\n",
            "| 104 | Italy          |               83 |   16   |\n",
            "|  99 | Iran           |               82 |   17   |\n",
            "| 204 | Sweden         |               77 |   18   |\n",
            "| 215 | Turkey         |               76 |   19   |\n",
            "|  46 | Colombia       |               75 |   20   |\n",
            "+-----+----------------+------------------+--------+\n"
          ]
        }
      ]
    },
    {
      "cell_type": "markdown",
      "source": [
        "### **1.3. Top 20 cities that have the highest total number of airports. (Two cities from different countries can have the same name, and you have to make sure the numbers are not messed up due to that!)** ###\n"
      ],
      "metadata": {
        "id": "GHetoyBxQDSC"
      }
    },
    {
      "cell_type": "code",
      "source": [
        "df_top20_cities = df_airports.groupby(['City']).size().reset_index(name='total_airports')\n",
        "df_top20_cities = df_top20_cities.sort_values(by='total_airports', ascending=False)\n",
        "df_top20_cities['rank'] = df_top20_cities['total_airports'].rank(ascending=False)\n",
        "df_top20_cities = df_top20_cities[['City', 'total_airports', 'rank']].head(20).reset_index(drop=True)\n",
        "\n",
        "print(tabulate(df_top20_cities, headers='keys', tablefmt='psql'))"
      ],
      "metadata": {
        "id": "X-r4k5LdtgVu",
        "colab": {
          "base_uri": "https://localhost:8080/"
        },
        "outputId": "127079d7-40eb-47e3-e033-4deb82dce28f"
      },
      "execution_count": null,
      "outputs": [
        {
          "output_type": "stream",
          "name": "stdout",
          "text": [
            "+----+--------------+------------------+--------+\n",
            "|    | City         |   total_airports |   rank |\n",
            "|----+--------------+------------------+--------|\n",
            "|  0 | London       |                9 |    1   |\n",
            "|  1 | Columbus     |                8 |    2   |\n",
            "|  2 | Georgetown   |                7 |    3.5 |\n",
            "|  3 | San Jose     |                7 |    3.5 |\n",
            "|  4 | Houston      |                6 |    8   |\n",
            "|  5 | New York     |                6 |    8   |\n",
            "|  6 | Moscow       |                6 |    8   |\n",
            "|  7 | Alexandria   |                6 |    8   |\n",
            "|  8 | Jacksonville |                6 |    8   |\n",
            "|  9 | Santiago     |                6 |    8   |\n",
            "| 10 | Greenville   |                6 |    8   |\n",
            "| 11 | Victoria     |                5 |   17   |\n",
            "| 12 | Burlington   |                5 |   17   |\n",
            "| 13 | Atlanta      |                5 |   17   |\n",
            "| 14 | Hamilton     |                5 |   17   |\n",
            "| 15 | Rome         |                5 |   17   |\n",
            "| 16 | Richmond     |                5 |   17   |\n",
            "| 17 | San Antonio  |                5 |   17   |\n",
            "| 18 | Athens       |                5 |   17   |\n",
            "| 19 | Izmir        |                5 |   17   |\n",
            "+----+--------------+------------------+--------+\n"
          ]
        }
      ]
    },
    {
      "cell_type": "markdown",
      "source": [
        "### **1.4. Pair of cities that have the same name, but from two different countries.** ###\n",
        "### (hint: Use self join with query in Python) ###"
      ],
      "metadata": {
        "id": "Xba2pRjdpDt6"
      }
    },
    {
      "cell_type": "code",
      "source": [
        "same_name_cities = []\n",
        "grouped = df_airports.groupby('City')\n",
        "\n",
        "for city, group in grouped:\n",
        "    if len(group) > 1:\n",
        "        countries = group['Country'].tolist()\n",
        "        for i in range(len(group)):\n",
        "            for j in range(i + 1, len(group)):\n",
        "                country_a = group.iloc[i]['Country']\n",
        "                country_b = group.iloc[j]['Country']\n",
        "                if country_a != country_b:\n",
        "                    pair = tuple(sorted([country_a, country_b]))\n",
        "                    same_name_cities.append((city, pair[0], city, pair[1]))\n",
        "\n",
        "same_name_cities_df = pd.DataFrame(same_name_cities, columns=['City_A', 'Country_A', 'City_B', 'Country_B']).drop_duplicates()\n",
        "\n",
        "print(same_name_cities_df)"
      ],
      "metadata": {
        "id": "YllpffKswdOE",
        "colab": {
          "base_uri": "https://localhost:8080/"
        },
        "outputId": "051ffc0f-f72a-4306-8a35-38f1da7c05ce"
      },
      "execution_count": null,
      "outputs": [
        {
          "output_type": "stream",
          "name": "stdout",
          "text": [
            "         City_A       Country_A      City_B      Country_B\n",
            "0      Aberdeen  United Kingdom    Aberdeen  United States\n",
            "2        Albany       Australia      Albany  United States\n",
            "4    Alexandria           Egypt  Alexandria         Greece\n",
            "5    Alexandria           Egypt  Alexandria  United States\n",
            "9    Alexandria          Greece  Alexandria  United States\n",
            "..          ...             ...         ...            ...\n",
            "285    Victoria           Chile    Victoria  United States\n",
            "288     Vitoria          Brazil     Vitoria          Spain\n",
            "289      Warsaw          Poland      Warsaw  United States\n",
            "292    Waterloo          Canada    Waterloo  United States\n",
            "293  Wellington     New Zealand  Wellington  United States\n",
            "\n",
            "[164 rows x 4 columns]\n"
          ]
        }
      ]
    },
    {
      "cell_type": "markdown",
      "source": [
        "## **PART II**"
      ],
      "metadata": {
        "id": "5OJoa_Pr3kMa"
      }
    },
    {
      "cell_type": "code",
      "source": [
        "df_airports2 = pd.read_csv(\"/content/drive/MyDrive/data_analytics/Airports2.csv\")\n",
        "\n",
        "print(tabulate(df_airports2.head(20), headers='keys', tablefmt='psql'))"
      ],
      "metadata": {
        "id": "xoMWnMmx4GSR",
        "colab": {
          "base_uri": "https://localhost:8080/"
        },
        "outputId": "9194c519-2da5-422f-e9e6-4f529b74ae10"
      },
      "execution_count": null,
      "outputs": [
        {
          "output_type": "stream",
          "name": "stdout",
          "text": [
            "+----+------------------+-----------------------+---------------+--------------------+--------------+---------+-----------+------------+------------+---------------------+--------------------------+-------------------+--------------------+--------------------+---------------------+\n",
            "|    | Origin_airport   | Destination_airport   | Origin_city   | Destination_city   |   Passengers |   Seats |   Flights |   Distance | Fly_date   |   Origin_population |   Destination_population |   Org_airport_lat |   Org_airport_long |   Dest_airport_lat |   Dest_airport_long |\n",
            "|----+------------------+-----------------------+---------------+--------------------+--------------+---------+-----------+------------+------------+---------------------+--------------------------+-------------------+--------------------+--------------------+---------------------|\n",
            "|  0 | MHK              | AMW                   | Manhattan, KS | Ames, IA           |           21 |      30 |         1 |        254 | 2008-10-01 |              122049 |                    86219 |           39.141  |           -96.6708 |           nan      |              nan    |\n",
            "|  1 | EUG              | RDM                   | Eugene, OR    | Bend, OR           |           41 |     396 |        22 |        103 | 1990-11-01 |              284093 |                    76034 |           44.1246 |          -123.212  |            44.2541 |             -121.15 |\n",
            "|  2 | EUG              | RDM                   | Eugene, OR    | Bend, OR           |           88 |     342 |        19 |        103 | 1990-12-01 |              284093 |                    76034 |           44.1246 |          -123.212  |            44.2541 |             -121.15 |\n",
            "|  3 | EUG              | RDM                   | Eugene, OR    | Bend, OR           |           11 |      72 |         4 |        103 | 1990-10-01 |              284093 |                    76034 |           44.1246 |          -123.212  |            44.2541 |             -121.15 |\n",
            "|  4 | MFR              | RDM                   | Medford, OR   | Bend, OR           |            0 |      18 |         1 |        156 | 1990-02-01 |              147300 |                    76034 |           42.3742 |          -122.873  |            44.2541 |             -121.15 |\n",
            "|  5 | MFR              | RDM                   | Medford, OR   | Bend, OR           |           11 |      18 |         1 |        156 | 1990-03-01 |              147300 |                    76034 |           42.3742 |          -122.873  |            44.2541 |             -121.15 |\n",
            "|  6 | MFR              | RDM                   | Medford, OR   | Bend, OR           |            2 |      72 |         4 |        156 | 1990-01-01 |              147300 |                    76034 |           42.3742 |          -122.873  |            44.2541 |             -121.15 |\n",
            "|  7 | MFR              | RDM                   | Medford, OR   | Bend, OR           |            7 |      18 |         1 |        156 | 1990-09-01 |              147300 |                    76034 |           42.3742 |          -122.873  |            44.2541 |             -121.15 |\n",
            "|  8 | MFR              | RDM                   | Medford, OR   | Bend, OR           |            7 |      36 |         2 |        156 | 1990-11-01 |              147300 |                    76034 |           42.3742 |          -122.873  |            44.2541 |             -121.15 |\n",
            "|  9 | SEA              | RDM                   | Seattle, WA   | Bend, OR           |            8 |      18 |         1 |        228 | 1990-02-01 |             5154164 |                    76034 |           47.449  |          -122.309  |            44.2541 |             -121.15 |\n",
            "| 10 | SEA              | RDM                   | Seattle, WA   | Bend, OR           |          453 |    3128 |        23 |        228 | 1990-01-01 |             5154164 |                    76034 |           47.449  |          -122.309  |            44.2541 |             -121.15 |\n",
            "| 11 | SEA              | RDM                   | Seattle, WA   | Bend, OR           |          784 |    2720 |        20 |        228 | 1990-02-01 |             5154164 |                    76034 |           47.449  |          -122.309  |            44.2541 |             -121.15 |\n",
            "| 12 | SEA              | RDM                   | Seattle, WA   | Bend, OR           |          749 |    2992 |        22 |        228 | 1990-03-01 |             5154164 |                    76034 |           47.449  |          -122.309  |            44.2541 |             -121.15 |\n",
            "| 13 | SEA              | RDM                   | Seattle, WA   | Bend, OR           |           11 |      18 |         1 |        228 | 1990-04-01 |             5154164 |                    76034 |           47.449  |          -122.309  |            44.2541 |             -121.15 |\n",
            "| 14 | PDX              | RDM                   | Portland, OR  | Bend, OR           |          349 |     851 |        23 |        116 | 1990-01-01 |             1534762 |                    76034 |           45.5887 |          -122.598  |            44.2541 |             -121.15 |\n",
            "| 15 | PDX              | RDM                   | Portland, OR  | Bend, OR           |         1376 |    2898 |       161 |        116 | 1990-01-01 |             1534762 |                    76034 |           45.5887 |          -122.598  |            44.2541 |             -121.15 |\n",
            "| 16 | PDX              | RDM                   | Portland, OR  | Bend, OR           |          444 |    1110 |        30 |        116 | 1990-10-01 |             1534762 |                    76034 |           45.5887 |          -122.598  |            44.2541 |             -121.15 |\n",
            "| 17 | PDX              | RDM                   | Portland, OR  | Bend, OR           |         1949 |    3261 |       187 |        116 | 1990-06-01 |             1534762 |                    76034 |           45.5887 |          -122.598  |            44.2541 |             -121.15 |\n",
            "| 18 | PDX              | RDM                   | Portland, OR  | Bend, OR           |          381 |     814 |        22 |        116 | 1990-02-01 |             1534762 |                    76034 |           45.5887 |          -122.598  |            44.2541 |             -121.15 |\n",
            "| 19 | PDX              | RDM                   | Portland, OR  | Bend, OR           |         1559 |    2772 |       154 |        116 | 1990-02-01 |             1534762 |                    76034 |           45.5887 |          -122.598  |            44.2541 |             -121.15 |\n",
            "+----+------------------+-----------------------+---------------+--------------------+--------------+---------+-----------+------------+------------+---------------------+--------------------------+-------------------+--------------------+--------------------+---------------------+\n"
          ]
        }
      ]
    },
    {
      "cell_type": "code",
      "source": [
        "print(tabulate(df_airports2, headers='keys', tablefmt='psql'))"
      ],
      "metadata": {
        "id": "Qz5LkzkuFPzm"
      },
      "execution_count": null,
      "outputs": []
    },
    {
      "cell_type": "markdown",
      "source": [
        "\n",
        "### **2.1.In the year 2009, print Top 10 cities in the USA that received maximum inbound flights.**\n",
        "### **Output:**\n",
        "### **city,total_inbound_flights,rank**"
      ],
      "metadata": {
        "id": "75NUbTJzl5Km"
      }
    },
    {
      "cell_type": "code",
      "source": [
        "top_10_cities_2009 = df_airports2[(df_airports2['Fly_date'] >= '2009-01-01') & (df_airports2['Fly_date'] <= '2009-12-31')].groupby('Destination_city')['Flights'].sum().nlargest(10).to_frame('total_inbound_flights')\n",
        "top_10_cities_2009['Rank'] = top_10_cities_2009['total_inbound_flights'].rank(ascending=False)\n",
        "top_10_cities_inbound_2009 = top_10_cities_2009.reset_index()\n",
        "top_10_cities_inbound_2009.columns = ['City', 'Total_inbound_flights', 'Rank']\n",
        "print(tabulate(top_10_cities_inbound_2009, headers='keys', tablefmt='psql'))"
      ],
      "metadata": {
        "id": "u0DYLEtVnr0j",
        "colab": {
          "base_uri": "https://localhost:8080/"
        },
        "outputId": "6b22c848-b60f-4292-cdb6-c1b777200128"
      },
      "execution_count": null,
      "outputs": [
        {
          "output_type": "stream",
          "name": "stdout",
          "text": [
            "+----+------------------+-------------------------+--------+\n",
            "|    | City             |   Total_inbound_flights |   Rank |\n",
            "|----+------------------+-------------------------+--------|\n",
            "|  0 | Chicago, IL      |                  417297 |      1 |\n",
            "|  1 | Atlanta, GA      |                  396603 |      2 |\n",
            "|  2 | Dallas, TX       |                  316265 |      3 |\n",
            "|  3 | New York, NY     |                  278206 |      4 |\n",
            "|  4 | Houston, TX      |                  250030 |      5 |\n",
            "|  5 | Washington, DC   |                  238744 |      6 |\n",
            "|  6 | Charlotte, NC    |                  199700 |      7 |\n",
            "|  7 | Los Angeles, CA  |                  192676 |      8 |\n",
            "|  8 | Detroit, MI      |                  183655 |      9 |\n",
            "|  9 | Philadelphia, PA |                  181645 |     10 |\n",
            "+----+------------------+-------------------------+--------+\n"
          ]
        }
      ]
    },
    {
      "cell_type": "markdown",
      "source": [
        "### **2.2. In the year 2009, print Top 10 cities in the USA that received maximum outbound flights.**\n",
        "### **Output:**\n",
        "### **city,total_inbound_flights,rank**"
      ],
      "metadata": {
        "id": "pPbfJedToQk2"
      }
    },
    {
      "cell_type": "code",
      "source": [
        "import datetime\n",
        "def get_year(row):\n",
        "  return datetime.datetime.strptime(row['Fly_date'], '%Y-%m-%d').year\n",
        "df_airports2['year'] = df_airports2.apply(get_year, axis=1)\n",
        "top_10_cities_2009 = df_airports2.where(df_airports2['year'] == 2009)\n",
        "top_10_cities_2009 = top_10_cities_2009.groupby('Origin_city')['Flights'].sum().nlargest(10).to_frame('total_inbound_flights')\n",
        "top_10_cities_2009['Rank'] = top_10_cities_2009['total_inbound_flights'].rank(ascending=False)\n",
        "top_10_cities_outbound_2009 = top_10_cities_2009.reset_index()\n",
        "top_10_cities_outbound_2009.columns = ['City', 'Total_outbound_cities', 'Rank']\n",
        "print(tabulate(top_10_cities_outbound_2009, headers='keys', tablefmt='psql'))"
      ],
      "metadata": {
        "colab": {
          "base_uri": "https://localhost:8080/"
        },
        "id": "oLDu_Zpb2i7n",
        "outputId": "12067386-61ac-4265-d7aa-740fe8698fcb"
      },
      "execution_count": null,
      "outputs": [
        {
          "output_type": "stream",
          "name": "stdout",
          "text": [
            "+----+------------------+-------------------------+--------+\n",
            "|    | City             |   Total_outbound_cities |   Rank |\n",
            "|----+------------------+-------------------------+--------|\n",
            "|  0 | Chicago, IL      |                  416742 |      1 |\n",
            "|  1 | Atlanta, GA      |                  397112 |      2 |\n",
            "|  2 | Dallas, TX       |                  316739 |      3 |\n",
            "|  3 | New York, NY     |                  278351 |      4 |\n",
            "|  4 | Houston, TX      |                  249285 |      5 |\n",
            "|  5 | Washington, DC   |                  238958 |      6 |\n",
            "|  6 | Charlotte, NC    |                  200403 |      7 |\n",
            "|  7 | Los Angeles, CA  |                  193248 |      8 |\n",
            "|  8 | Detroit, MI      |                  184087 |      9 |\n",
            "|  9 | Philadelphia, PA |                  181575 |     10 |\n",
            "+----+------------------+-------------------------+--------+\n"
          ]
        }
      ]
    },
    {
      "cell_type": "markdown",
      "source": [
        "### **2.3. In between 1999-2009, print Top 10 cities in the USA that received maximum  outbound flights.**\n",
        "### **Output:**\n",
        "### **city,total_outbound_flights, rank**"
      ],
      "metadata": {
        "id": "lmCUC6HRW39D"
      }
    },
    {
      "cell_type": "code",
      "source": [
        "top_10_cities_99to09 = df_airports2[(df_airports2['Fly_date'] >= '1999-01-01') & (df_airports2['Fly_date'] <= '2009-12-31')].groupby('Origin_city')['Flights'].sum().nlargest(10).to_frame('total_outbound_flights')\n",
        "top_10_cities_99to09['Rank'] = top_10_cities_99to09['total_outbound_flights'].rank(ascending=False)\n",
        "top_10_cities_99to09 = top_10_cities_99to09.reset_index()\n",
        "top_10_cities_99to09.columns = ['City', 'Total_outbound_cities', 'Rank']\n",
        "print(tabulate(top_10_cities_99to09, headers='keys', tablefmt='psql'))"
      ],
      "metadata": {
        "id": "BLYD0Sr1J6P8",
        "colab": {
          "base_uri": "https://localhost:8080/"
        },
        "outputId": "01930ea2-dbc6-4885-a332-695d13dbf2ea"
      },
      "execution_count": null,
      "outputs": [
        {
          "output_type": "stream",
          "name": "stdout",
          "text": [
            "+----+-----------------+-------------------------+--------+\n",
            "|    | City            |   Total_outbound_cities |   Rank |\n",
            "|----+-----------------+-------------------------+--------|\n",
            "|  0 | Chicago, IL     |                 4997322 |      1 |\n",
            "|  1 | Atlanta, GA     |                 4177480 |      2 |\n",
            "|  2 | Dallas, TX      |                 3938032 |      3 |\n",
            "|  3 | Houston, TX     |                 2750620 |      4 |\n",
            "|  4 | New York, NY    |                 2750398 |      5 |\n",
            "|  5 | Washington, DC  |                 2432099 |      6 |\n",
            "|  6 | Los Angeles, CA |                 2412159 |      7 |\n",
            "|  7 | Detroit, MI     |                 2215283 |      8 |\n",
            "|  8 | Minneapolis, MN |                 2080578 |      9 |\n",
            "|  9 | Phoenix, AZ     |                 1983949 |     10 |\n",
            "+----+-----------------+-------------------------+--------+\n"
          ]
        }
      ]
    },
    {
      "cell_type": "markdown",
      "source": [
        "### **2.4. In between 1999-2009, the Top 10 cities in the USA carry the maximum total number of passengers on outbound flights. The city column in the output will also have its state (For example San Francisco, CA).**\n",
        "### **Output:**\n",
        "### **city,total_num_passengers,rank**\n"
      ],
      "metadata": {
        "id": "E5dEIpjf5lXF"
      }
    },
    {
      "cell_type": "code",
      "source": [
        "top_10_cities_99to09 = df_airports2[(df_airports2['Fly_date'] >= '1999-01-01') & (df_airports2['Fly_date'] <= '2009-12-31')].groupby('Origin_city')['Passengers'].sum().nlargest(10).to_frame('Total_num_passengers')\n",
        "top_10_cities_99to09 = top_10_cities_99to09.nlargest(10, 'Total_num_passengers')\n",
        "top_10_cities_99to09['Rank'] = top_10_cities_99to09['Total_num_passengers'].rank(ascending=False)\n",
        "top_10_cities_99to09 = top_10_cities_99to09.reset_index()\n",
        "top_10_cities_99to09.columns = ['City', 'Total_num_passengers', 'Rank']\n",
        "print(tabulate(top_10_cities_99to09, headers='keys', tablefmt='psql'))"
      ],
      "metadata": {
        "id": "E3tZmbhKZRFw",
        "colab": {
          "base_uri": "https://localhost:8080/"
        },
        "outputId": "d974a7e5-495f-4c58-a845-45d995b80bf0"
      },
      "execution_count": null,
      "outputs": [
        {
          "output_type": "stream",
          "name": "stdout",
          "text": [
            "+----+-----------------+------------------------+--------+\n",
            "|    | City            |   Total_num_passengers |   Rank |\n",
            "|----+-----------------+------------------------+--------|\n",
            "|  0 | Chicago, IL     |              381908565 |      1 |\n",
            "|  1 | Atlanta, GA     |              368972910 |      2 |\n",
            "|  2 | Dallas, TX      |              294826498 |      3 |\n",
            "|  3 | Los Angeles, CA |              223950429 |      4 |\n",
            "|  4 | New York, NY    |              209454427 |      5 |\n",
            "|  5 | Houston, TX     |              199031920 |      6 |\n",
            "|  6 | Phoenix, AZ     |              186032113 |      7 |\n",
            "|  7 | Las Vegas, NV   |              184877669 |      8 |\n",
            "|  8 | Minneapolis, MN |              155881721 |      9 |\n",
            "|  9 | Washington, DC  |              155604229 |     10 |\n",
            "+----+-----------------+------------------------+--------+\n"
          ]
        }
      ]
    },
    {
      "cell_type": "markdown",
      "source": [
        "###**2.5. In the years 2007 and 2009 together, the Top 10 states in the USA carry the maximum total number of passengers on the outbound flights.**###\n",
        "###Output:###\n",
        "###state,total_num_passengers,rank###\n"
      ],
      "metadata": {
        "id": "9Rz-7-Cim7ED"
      }
    },
    {
      "cell_type": "code",
      "source": [
        "def get_state(row):\n",
        "  return (row['Origin_city']).split()[-1]\n",
        "df_airports2['year'] = df_airports2.apply(get_year, axis=1)\n",
        "df_airports2['State'] = df_airports2.apply(get_state, axis=1)\n",
        "top_10_cities_2007_and_2009 = df_airports2[df_airports2['year'].isin([2007, 2009])]\n",
        "top_10_cities_2007_and_2009 = top_10_cities_2007_and_2009.groupby('State')['Passengers'].sum().nlargest(10).to_frame('Total_num_passengers')\n",
        "top_10_cities_2007_and_2009['Rank'] = top_10_cities_2007_and_2009['Total_num_passengers'].rank(ascending=False)\n",
        "top_10_cities_2007_and_2009 = top_10_cities_2007_and_2009.reset_index()\n",
        "top_10_cities_2007_and_2009 = top_10_cities_2007_and_2009[['State', 'Total_num_passengers', 'Rank']]\n",
        "print(tabulate(top_10_cities_2007_and_2009, headers='keys', tablefmt='psql'))"
      ],
      "metadata": {
        "colab": {
          "base_uri": "https://localhost:8080/"
        },
        "id": "lh9JtvTE8UQu",
        "outputId": "c3162d44-42d2-4bad-fb42-577bd09ffb6c"
      },
      "execution_count": null,
      "outputs": [
        {
          "output_type": "stream",
          "name": "stdout",
          "text": [
            "+----+---------+------------------------+--------+\n",
            "|    | State   |   Total_num_passengers |   Rank |\n",
            "|----+---------+------------------------+--------|\n",
            "|  0 | TX      |              118576093 |      1 |\n",
            "|  1 | CA      |              118537406 |      2 |\n",
            "|  2 | FL      |               93448010 |      3 |\n",
            "|  3 | GA      |               71945184 |      4 |\n",
            "|  4 | IL      |               71179367 |      5 |\n",
            "|  5 | NY      |               56989265 |      6 |\n",
            "|  6 | NC      |               43021560 |      7 |\n",
            "|  7 | NV      |               40460714 |      8 |\n",
            "|  8 | AZ      |               38935740 |      9 |\n",
            "|  9 | PA      |               36806330 |     10 |\n",
            "+----+---------+------------------------+--------+\n"
          ]
        }
      ]
    },
    {
      "cell_type": "markdown",
      "source": [
        "### **2.6 Merge the columns outputs in questions 1 and 2 from Part II**\n",
        "### **Output:**\n",
        "### **city,total_inbound_flights,inbound_rank,total_outbound_flights,outbound_rank**"
      ],
      "metadata": {
        "id": "lzm7JVjU86W2"
      }
    },
    {
      "cell_type": "code",
      "source": [
        "df_merge_inbound_outbound_2009 = pd.merge(top_10_cities_inbound_2009, top_10_cities_outbound_2009, on='City', how='inner')\n",
        "df_merge_inbound_outbound_2009.columns = ['City', 'Total_inbound_flights', 'Inbound_rank', 'Total_outbound_flights', 'Outbound_rank']\n",
        "print(tabulate(df_merge_inbound_outbound_2009, headers='keys', tablefmt='psql'))"
      ],
      "metadata": {
        "colab": {
          "base_uri": "https://localhost:8080/"
        },
        "id": "yimCQOOC9KwG",
        "outputId": "1c91ed05-70ab-43eb-c321-5c4b94f4cdfc"
      },
      "execution_count": null,
      "outputs": [
        {
          "output_type": "stream",
          "name": "stdout",
          "text": [
            "+----+------------------+-------------------------+----------------+--------------------------+-----------------+\n",
            "|    | City             |   Total_inbound_flights |   Inbound_rank |   Total_outbound_flights |   Outbound_rank |\n",
            "|----+------------------+-------------------------+----------------+--------------------------+-----------------|\n",
            "|  0 | Chicago, IL      |                  417297 |              1 |                   416742 |               1 |\n",
            "|  1 | Atlanta, GA      |                  396603 |              2 |                   397112 |               2 |\n",
            "|  2 | Dallas, TX       |                  316265 |              3 |                   316739 |               3 |\n",
            "|  3 | New York, NY     |                  278206 |              4 |                   278351 |               4 |\n",
            "|  4 | Houston, TX      |                  250030 |              5 |                   249285 |               5 |\n",
            "|  5 | Washington, DC   |                  238744 |              6 |                   238958 |               6 |\n",
            "|  6 | Charlotte, NC    |                  199700 |              7 |                   200403 |               7 |\n",
            "|  7 | Los Angeles, CA  |                  192676 |              8 |                   193248 |               8 |\n",
            "|  8 | Detroit, MI      |                  183655 |              9 |                   184087 |               9 |\n",
            "|  9 | Philadelphia, PA |                  181645 |             10 |                   181575 |              10 |\n",
            "+----+------------------+-------------------------+----------------+--------------------------+-----------------+\n"
          ]
        }
      ]
    },
    {
      "cell_type": "markdown",
      "source": [
        "### **Plot group bar chart (see below image) with seaborn/matplotlib for the output in question 6 above, specifically city,total_inbound_flights,total_outbound_flights. One bar for total_inbound_flights and another for total_outbound_flights. Plot for only top 10 cities by total_inbound_flights.**\n",
        "\n",
        "  X-axis - city\n",
        "  \n",
        "  Y-axis - total_outbound_flights, total_inbound_flights"
      ],
      "metadata": {
        "id": "dFnhx8FDBJL1"
      }
    },
    {
      "cell_type": "code",
      "source": [
        "import seaborn as sns\n",
        "import matplotlib.pyplot as plt\n",
        "import numpy as np\n",
        "cities = df_merge_inbound_outbound_2009['City']\n",
        "inbound = df_merge_inbound_outbound_2009['Total_inbound_flights']\n",
        "outbound = df_merge_inbound_outbound_2009['Total_outbound_flights']\n",
        "width = 0.35\n",
        "x = np.arange(len(cities))  # the label locations\n",
        "\n",
        "plt.figure(figsize=(10, 6))\n",
        "\n",
        "# Plot the inbound and outbound flights side by side\n",
        "plt.bar(x - width/2, inbound, width, label='Total Inbound Flights')\n",
        "plt.bar(x + width/2, outbound, width, label='Total Outbound Flights')\n",
        "plt.xlabel('City')\n",
        "plt.ylabel('Total Flights')\n",
        "plt.title('Total Inbound and Outbound Flights by City')\n",
        "plt.xticks(x, cities, rotation=90)\n",
        "plt.legend()\n",
        "plt.show()\n"
      ],
      "metadata": {
        "colab": {
          "base_uri": "https://localhost:8080/",
          "height": 661
        },
        "id": "dxHIdfty9QAj",
        "outputId": "560e123d-31f0-40dd-d098-4d70f1ee82c8"
      },
      "execution_count": null,
      "outputs": [
        {
          "output_type": "display_data",
          "data": {
            "text/plain": [
              "<Figure size 1000x600 with 1 Axes>"
            ],
            "image/png": "[encoded data removed]"
          },
          "metadata": {}
        }
      ]
    },
    {
      "cell_type": "code",
      "source": [],
      "metadata": {
        "id": "80IhLtvaDQBR"
      },
      "execution_count": null,
      "outputs": []
    }
  ]
}
