{
  "nbformat": 4,
  "nbformat_minor": 0,
  "metadata": {
    "colab": {
      "provenance": [],
      "mount_file_id": "15VmQwpNy32Z8mRMtM83m3FSj0CVGJj9c",
      "authorship_tag": "ABX9TyNUZOj7i5pKmHyNANMsuv2N",
      "include_colab_link": true
    },
    "kernelspec": {
      "name": "python3",
      "display_name": "Python 3"
    },
    "language_info": {
      "name": "python"
    }
  },
  "cells": [
    {
      "cell_type": "markdown",
      "metadata": {
        "id": "view-in-github",
        "colab_type": "text"
      },
      "source": [
        "<a href=\"https://colab.research.google.com/github/sivasamy1/data_analytics/blob/main/Open_crime_UK.ipynb\" target=\"_parent\"><img src=\"https://colab.research.google.com/assets/colab-badge.svg\" alt=\"Open In Colab\"/></a>"
      ]
    },
    {
      "cell_type": "code",
      "source": [
        "\n",
        "from google.colab import drive\n",
        "drive.mount('/content/drive')"
      ],
      "metadata": {
        "colab": {
          "base_uri": "https://localhost:8080/"
        },
        "id": "vuAwlE0tIULe",
        "outputId": "51fa024c-60cc-493b-c6ac-c86ea98c0721"
      },
      "execution_count": null,
      "outputs": [
        {
          "output_type": "stream",
          "name": "stdout",
          "text": [
            "Drive already mounted at /content/drive; to attempt to forcibly remount, call drive.mount(\"/content/drive\", force_remount=True).\n"
          ]
        }
      ]
    },
    {
      "cell_type": "code",
      "execution_count": null,
      "metadata": {
        "id": "cGg8CUzvxvf3",
        "colab": {
          "base_uri": "https://localhost:8080/"
        },
        "outputId": "243cd098-ee39-4d20-8442-1eaad4351b0f"
      },
      "outputs": [
        {
          "output_type": "stream",
          "name": "stdout",
          "text": [
            "ls: /content/drive/MyDrive/DataSheets: No such file or directory\n",
            "ls: '/content/drive/MyDrive/Build Club docs': No such file or directory\n"
          ]
        }
      ],
      "source": [
        "!ls -ltr /content/drive/MyDrive | grep *.csv"
      ]
    },
    {
      "cell_type": "code",
      "source": [
        "!ls -ltr /content/drive/MyDrive/data_analytics/MINIPROJECT_7/2019-07/"
      ],
      "metadata": {
        "colab": {
          "base_uri": "https://localhost:8080/"
        },
        "id": "JsQHRO8xIVgN",
        "outputId": "4e55fac4-8fad-434a-e2f0-954acc190082"
      },
      "execution_count": null,
      "outputs": [
        {
          "output_type": "stream",
          "name": "stdout",
          "text": [
            "total 15800\n",
            "-r-------- 1 root root  202233 Feb 23  2022 2019-07-city-of-london-street.csv\n",
            "-r-------- 1 root root  907269 Feb 23  2022 2019-07-cumbria-street.csv\n",
            "-r-------- 1 root root  820660 Feb 23  2022 2019-07-dyfed-powys-street.csv\n",
            "-r-------- 1 root root  834559 Feb 23  2022 2019-07-btp-street.csv\n",
            "-r-------- 1 root root 1041027 Feb 23  2022 2019-07-warwickshire-street.csv\n",
            "-r-------- 1 root root  724019 Feb 24  2022 2019-07-cumbria-outcomes.csv\n",
            "-r-------- 1 root root  140007 Feb 24  2022 2019-07-city-of-london-outcomes.csv\n",
            "-r-------- 1 root root  455315 Feb 24  2022 2019-07-lincolnshire-outcomes.csv\n",
            "-r-------- 1 root root  598219 Feb 24  2022 2019-07-gwent-outcomes.csv\n",
            "-r-------- 1 root root  697404 Feb 24  2022 2019-07-gloucestershire-outcomes.csv\n",
            "-r-------- 1 root root  565893 Feb 24  2022 2019-07-dyfed-powys-outcomes.csv\n",
            "-r-------- 1 root root  410810 Feb 24  2022 2019-07-north-yorkshire-outcomes.csv\n",
            "-r-------- 1 root root  780830 Feb 24  2022 2019-07-north-wales-outcomes.csv\n",
            "-r-------- 1 root root  861492 Feb 24  2022 2019-07-norfolk-outcomes.csv\n",
            "-r-------- 1 root root  743288 Feb 24  2022 2019-07-warwickshire-outcomes.csv\n",
            "-r-------- 1 root root  775686 Feb 24  2022 2019-07-suffolk-outcomes.csv\n",
            "-r-------- 1 root root  756047 Feb 24  2022 2019-07-wiltshire-outcomes.csv\n",
            "-r-------- 1 root root  129241 Feb 24  2022 2019-07-avon-and-somerset-stop-and-search.csv\n",
            "-r-------- 1 root root   47727 Feb 24  2022 2019-07-bedfordshire-stop-and-search.csv\n",
            "-r-------- 1 root root  153822 Feb 24  2022 2019-07-btp-stop-and-search.csv\n",
            "-r-------- 1 root root   39335 Feb 24  2022 2019-07-cambridgeshire-stop-and-search.csv\n",
            "-r-------- 1 root root   76009 Feb 24  2022 2019-07-cheshire-stop-and-search.csv\n",
            "-r-------- 1 root root   40107 Feb 24  2022 2019-07-city-of-london-stop-and-search.csv\n",
            "-r-------- 1 root root   12454 Feb 24  2022 2019-07-cleveland-stop-and-search.csv\n",
            "-r-------- 1 root root   40634 Feb 24  2022 2019-07-cumbria-stop-and-search.csv\n",
            "-r-------- 1 root root   33813 Feb 24  2022 2019-07-derbyshire-stop-and-search.csv\n",
            "-r-------- 1 root root   98434 Feb 24  2022 2019-07-devon-and-cornwall-stop-and-search.csv\n",
            "-r-------- 1 root root   19883 Feb 24  2022 2019-07-dorset-stop-and-search.csv\n",
            "-r-------- 1 root root   50991 Feb 24  2022 2019-07-durham-stop-and-search.csv\n",
            "-r-------- 1 root root   70830 Feb 24  2022 2019-07-dyfed-powys-stop-and-search.csv\n",
            "-r-------- 1 root root  316547 Feb 24  2022 2019-07-essex-stop-and-search.csv\n",
            "-r-------- 1 root root   22569 Feb 24  2022 2019-07-gloucestershire-stop-and-search.csv\n",
            "-r-------- 1 root root   32204 Feb 24  2022 2019-07-gwent-stop-and-search.csv\n",
            "-r-------- 1 root root  147051 Feb 24  2022 2019-07-hampshire-stop-and-search.csv\n",
            "-r-------- 1 root root  127971 Feb 24  2022 2019-07-hertfordshire-stop-and-search.csv\n",
            "-r-------- 1 root root   41937 Feb 24  2022 2019-07-humberside-stop-and-search.csv\n",
            "-r-------- 1 root root  176195 Feb 24  2022 2019-07-kent-stop-and-search.csv\n",
            "-r-------- 1 root root  148865 Feb 24  2022 2019-07-lancashire-stop-and-search.csv\n",
            "-r-------- 1 root root   52411 Feb 24  2022 2019-07-leicestershire-stop-and-search.csv\n",
            "-r-------- 1 root root   56827 Feb 24  2022 2019-07-lincolnshire-stop-and-search.csv\n",
            "-r-------- 1 root root  721440 Feb 24  2022 2019-07-merseyside-stop-and-search.csv\n",
            "-r-------- 1 root root   65236 Feb 24  2022 2019-07-norfolk-stop-and-search.csv\n",
            "-r-------- 1 root root   39030 Feb 24  2022 2019-07-northamptonshire-stop-and-search.csv\n",
            "-r-------- 1 root root   81708 Feb 24  2022 2019-07-northumbria-stop-and-search.csv\n",
            "-r-------- 1 root root  102239 Feb 24  2022 2019-07-north-wales-stop-and-search.csv\n",
            "-r-------- 1 root root   31687 Feb 24  2022 2019-07-north-yorkshire-stop-and-search.csv\n",
            "-r-------- 1 root root   88155 Feb 24  2022 2019-07-nottinghamshire-stop-and-search.csv\n",
            "-r-------- 1 root root  237721 Feb 24  2022 2019-07-south-wales-stop-and-search.csv\n",
            "-r-------- 1 root root  187950 Feb 24  2022 2019-07-south-yorkshire-stop-and-search.csv\n",
            "-r-------- 1 root root  118263 Feb 24  2022 2019-07-staffordshire-stop-and-search.csv\n",
            "-r-------- 1 root root   51975 Feb 24  2022 2019-07-suffolk-stop-and-search.csv\n",
            "-r-------- 1 root root   65241 Feb 24  2022 2019-07-surrey-stop-and-search.csv\n",
            "-r-------- 1 root root  149407 Feb 24  2022 2019-07-sussex-stop-and-search.csv\n",
            "-r-------- 1 root root  172468 Feb 24  2022 2019-07-thames-valley-stop-and-search.csv\n",
            "-r-------- 1 root root   28012 Feb 24  2022 2019-07-warwickshire-stop-and-search.csv\n",
            "-r-------- 1 root root   80463 Feb 24  2022 2019-07-west-mercia-stop-and-search.csv\n",
            "-r-------- 1 root root  415798 Feb 24  2022 2019-07-west-midlands-stop-and-search.csv\n",
            "-r-------- 1 root root  269063 Feb 24  2022 2019-07-west-yorkshire-stop-and-search.csv\n",
            "-r-------- 1 root root    5715 Feb 24  2022 2019-07-wiltshire-stop-and-search.csv\n"
          ]
        }
      ]
    },
    {
      "cell_type": "code",
      "source": [
        "import os\n",
        "import pandas as pd\n",
        "from tabulate import tabulate\n",
        "df = pd.read_csv('/content/drive/MyDrive/data_analytics/MINIPROJECT_7/2019-07/2019-07-merseyside-stop-and-search.csv')\n",
        "# all_files = [f for f in os.listdir(directory_path) if f.endswith('.csv')]\n",
        "\n",
        "# dataframes = [pd.read_csv(os.path.join(directory_path, file)) for file in all_files]\n",
        "# df = pd.concat(dataframes, ignore_index=True)\n",
        "\n",
        "print(tabulate(df.head(10), headers='keys', tablefmt='github'))"
      ],
      "metadata": {
        "id": "gTevh-JDIy76",
        "colab": {
          "base_uri": "https://localhost:8080/"
        },
        "outputId": "c967b470-60dd-49a3-c377-d974d861cda3"
      },
      "execution_count": 3,
      "outputs": [
        {
          "output_type": "stream",
          "name": "stdout",
          "text": [
            "|    | Type                      | Date                      |   Part of a policing operation |   Policing operation |   Latitude |   Longitude | Gender   | Age range   | Self-defined ethnicity                                | Officer-defined ethnicity   | Legislation                                       | Object of search         | Outcome                      |   Outcome linked to object of search | Removal of more than just outer clothing   |\n",
            "|----|---------------------------|---------------------------|--------------------------------|----------------------|------------|-------------|----------|-------------|-------------------------------------------------------|-----------------------------|---------------------------------------------------|--------------------------|------------------------------|--------------------------------------|--------------------------------------------|\n",
            "|  0 | Person search             | 2019-06-30T23:51:09+00:00 |                            nan |                  nan |    53.4535 |    -2.70483 | Male     | 10-17       | White - English/Welsh/Scottish/Northern Irish/British | White                       | Police and Criminal Evidence Act 1984 (section 1) | Article for use in theft | A no further action disposal |                                  nan | False                                      |\n",
            "|  1 | Person search             | 2019-06-30T23:53:49+00:00 |                            nan |                  nan |    53.4929 |    -2.99958 | Male     | 10-17       | White - English/Welsh/Scottish/Northern Irish/British | White                       | Misuse of Drugs Act 1971 (section 23)             | Controlled drugs         | A no further action disposal |                                  nan | False                                      |\n",
            "|  2 | Person search             | 2019-06-30T23:59:02+00:00 |                            nan |                  nan |    53.4929 |    -2.99958 | Male     | 10-17       | White - English/Welsh/Scottish/Northern Irish/British | White                       | Misuse of Drugs Act 1971 (section 23)             | Controlled drugs         | A no further action disposal |                                  nan | False                                      |\n",
            "|  3 | Person search             | 2019-07-01T00:06:48+00:00 |                            nan |                  nan |    53.4961 |    -3.0031  | Male     | 18-24       | White - English/Welsh/Scottish/Northern Irish/British | White                       | Misuse of Drugs Act 1971 (section 23)             | Controlled drugs         | A no further action disposal |                                  nan | False                                      |\n",
            "|  4 | Person search             | 2019-07-01T00:09:45+00:00 |                            nan |                  nan |    53.4401 |    -2.96236 | Male     | 25-34       | White - English/Welsh/Scottish/Northern Irish/British | White                       | Misuse of Drugs Act 1971 (section 23)             | Controlled drugs         | Summons / charged by post    |                                    1 | False                                      |\n",
            "|  5 | Person search             | 2019-07-01T00:10:12+00:00 |                            nan |                  nan |    53.4376 |    -2.96463 | Male     | over 34     | White - English/Welsh/Scottish/Northern Irish/British | White                       | Misuse of Drugs Act 1971 (section 23)             | Controlled drugs         | A no further action disposal |                                  nan | False                                      |\n",
            "|  6 | Person search             | 2019-07-01T02:15:48+00:00 |                            nan |                  nan |    53.3989 |    -2.96785 | Male     | 25-34       | White - English/Welsh/Scottish/Northern Irish/British | White                       | Misuse of Drugs Act 1971 (section 23)             | Controlled drugs         | A no further action disposal |                                  nan | False                                      |\n",
            "|  7 | Person search             | 2019-07-01T02:52:46+00:00 |                            nan |                  nan |   nan      |   nan       | Male     | 25-34       | White - English/Welsh/Scottish/Northern Irish/British | White                       | Police and Criminal Evidence Act 1984 (section 1) | nan                      | A no further action disposal |                                  nan | False                                      |\n",
            "|  8 | Person and Vehicle search | 2019-07-01T03:30:00+00:00 |                            nan |                  nan |    53.6652 |    -2.96064 | Male     | 18-24       | White - English/Welsh/Scottish/Northern Irish/British | White                       | Misuse of Drugs Act 1971 (section 23)             | Controlled drugs         | Arrest                       |                                    1 | False                                      |\n",
            "|  9 | Person search             | 2019-07-01T07:04:42+00:00 |                            nan |                  nan |    53.4203 |    -2.98513 | Male     | 25-34       | White - English/Welsh/Scottish/Northern Irish/British | White                       | Misuse of Drugs Act 1971 (section 23)             | Controlled drugs         | A no further action disposal |                                  nan | False                                      |\n"
          ]
        }
      ]
    },
    {
      "cell_type": "code",
      "source": [
        "# import pandas as pd\n",
        "# import os\n",
        "# import glob\n",
        "\n",
        "# path = os.getcwd()\n",
        "# csv_files = glob.glob(os.path.join(path, \"*.csv\"))\n",
        "\n",
        "# for f in csv_files:\n",
        "\n",
        "#   df = pd.read_csv(f)\n",
        "#   print('Location:', f)\n",
        "#   print('File Name', f.split(\"\\\\\")[-1])\n",
        "#   print('Content')\n",
        "#   display(df)\n",
        "#   print()"
      ],
      "metadata": {
        "id": "kjzrjlZkcagQ"
      },
      "execution_count": null,
      "outputs": []
    },
    {
      "cell_type": "markdown",
      "source": [
        "## **PART I**"
      ],
      "metadata": {
        "id": "fUtOnN24bjHS"
      }
    },
    {
      "cell_type": "markdown",
      "source": [
        "### **1.1 Top 10 Type by number events. Type column is the event (see sample data in the end of this document ).**\n",
        "### **Output:**\n",
        "### **type, num_events, rank**\n"
      ],
      "metadata": {
        "id": "2OAXV_CYbVlY"
      }
    },
    {
      "cell_type": "code",
      "source": [
        "df_num = df.groupby('Type').size().to_frame('num_events').reset_index()\n",
        "df_num['rank'] = df_num['num_events'].rank(ascending=False)\n",
        "df_num = df_num.sort_values(by='rank', ascending=True)\n",
        "print(df_num)"
      ],
      "metadata": {
        "colab": {
          "base_uri": "https://localhost:8080/"
        },
        "id": "EPMhNhkDe96H",
        "outputId": "da423247-f1ef-4588-fbdc-73aeacee8895"
      },
      "execution_count": 5,
      "outputs": [
        {
          "output_type": "stream",
          "name": "stdout",
          "text": [
            "                        Type  num_events  rank\n",
            "1              Person search        2763   1.0\n",
            "0  Person and Vehicle search         474   2.0\n",
            "2             Vehicle search          49   3.0\n"
          ]
        }
      ]
    },
    {
      "cell_type": "code",
      "source": [],
      "metadata": {
        "id": "oCrjpl0vnLio"
      },
      "execution_count": null,
      "outputs": []
    }
  ]
}