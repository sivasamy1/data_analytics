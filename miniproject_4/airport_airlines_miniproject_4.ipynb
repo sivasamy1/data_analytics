{
  "nbformat": 4,
  "nbformat_minor": 0,
  "metadata": {
    "colab": {
      "provenance": [],
      "mount_file_id": "1sEYXyL1sPb_Wk0N2-mcRm1hd78uqm3qk",
      "authorship_tag": "ABX9TyNnL3AmISvh0TR2PT8WPwH5",
      "include_colab_link": true
    },
    "kernelspec": {
      "name": "python3",
      "display_name": "Python 3"
    },
    "language_info": {
      "name": "python"
    }
  },
  "cells": [
    {
      "cell_type": "markdown",
      "metadata": {
        "id": "view-in-github",
        "colab_type": "text"
      },
      "source": [
        "<a href=\"https://colab.research.google.com/github/sivasamy1/data_analytics/blob/main/airport_airlines_miniproject_4.ipynb\" target=\"_parent\"><img src=\"https://colab.research.google.com/assets/colab-badge.svg\" alt=\"Open In Colab\"/></a>"
      ]
    },
    {
      "cell_type": "code",
      "execution_count": null,
      "metadata": {
        "id": "r-DA1MilgaQV"
      },
      "outputs": [],
      "source": []
    },
    {
      "cell_type": "code",
      "source": [
        "from google.colab import drive\n",
        "drive.mount('/content/drive')"
      ],
      "metadata": {
        "colab": {
          "base_uri": "https://localhost:8080/"
        },
        "id": "We-0_rX5goV-",
        "outputId": "29ef74d2-c72e-4378-b867-12354ad7f4d5"
      },
      "execution_count": 2,
      "outputs": [
        {
          "output_type": "stream",
          "name": "stdout",
          "text": [
            "Drive already mounted at /content/drive; to attempt to forcibly remount, call drive.mount(\"/content/drive\", force_remount=True).\n"
          ]
        }
      ]
    },
    {
      "cell_type": "code",
      "source": [
        "import pandas as pd\n",
        "from tabulate import tabulate"
      ],
      "metadata": {
        "id": "1KyeyKymgpJD"
      },
      "execution_count": 3,
      "outputs": []
    },
    {
      "cell_type": "code",
      "source": [
        "df_airports = pd.read_csv(\"/content/drive/MyDrive/data_analytics/airport/airports.dat.txt\")\n",
        "df_airports.columns = [\"Airport_ID\",\"Name\",\"City\",\"Country\",\"IATA\",\"ICAO\",\"Latitude\",\"Longitude\",\"Altitude\",\"Timezone\",\"DST\",\"Tz database timezone\",\"Type\",\"Source\"]\n",
        "\n",
        "print(tabulate(df_airports.head(10), headers='keys', tablefmt='psql'))"
      ],
      "metadata": {
        "colab": {
          "base_uri": "https://localhost:8080/"
        },
        "id": "O1TNXUWshDYb",
        "outputId": "108b5b88-8700-45a4-8f6e-5a4c4700ba61"
      },
      "execution_count": 4,
      "outputs": [
        {
          "output_type": "stream",
          "name": "stdout",
          "text": [
            "+----+--------------+---------------------------------------------+--------------+------------------+--------+--------+------------+-------------+------------+------------+-------+------------------------+---------+-------------+\n",
            "|    |   Airport_ID | Name                                        | City         | Country          | IATA   | ICAO   |   Latitude |   Longitude |   Altitude |   Timezone | DST   | Tz database timezone   | Type    | Source      |\n",
            "|----+--------------+---------------------------------------------+--------------+------------------+--------+--------+------------+-------------+------------+------------+-------+------------------------+---------+-------------|\n",
            "|  0 |            2 | Madang Airport                              | Madang       | Papua New Guinea | MAG    | AYMD   |   -5.20708 |    145.789  |         20 |         10 | U     | Pacific/Port_Moresby   | airport | OurAirports |\n",
            "|  1 |            3 | Mount Hagen Kagamuga Airport                | Mount Hagen  | Papua New Guinea | HGU    | AYMH   |   -5.82679 |    144.296  |       5388 |         10 | U     | Pacific/Port_Moresby   | airport | OurAirports |\n",
            "|  2 |            4 | Nadzab Airport                              | Nadzab       | Papua New Guinea | LAE    | AYNZ   |   -6.5698  |    146.726  |        239 |         10 | U     | Pacific/Port_Moresby   | airport | OurAirports |\n",
            "|  3 |            5 | Port Moresby Jacksons International Airport | Port Moresby | Papua New Guinea | POM    | AYPY   |   -9.44338 |    147.22   |        146 |         10 | U     | Pacific/Port_Moresby   | airport | OurAirports |\n",
            "|  4 |            6 | Wewak International Airport                 | Wewak        | Papua New Guinea | WWK    | AYWK   |   -3.58383 |    143.669  |         19 |         10 | U     | Pacific/Port_Moresby   | airport | OurAirports |\n",
            "|  5 |            7 | Narsarsuaq Airport                          | Narssarssuaq | Greenland        | UAK    | BGBW   |   61.1605  |    -45.426  |        112 |         -3 | E     | America/Godthab        | airport | OurAirports |\n",
            "|  6 |            8 | Godthaab / Nuuk Airport                     | Godthaab     | Greenland        | GOH    | BGGH   |   64.1909  |    -51.6781 |        283 |         -3 | E     | America/Godthab        | airport | OurAirports |\n",
            "|  7 |            9 | Kangerlussuaq Airport                       | Sondrestrom  | Greenland        | SFJ    | BGSF   |   67.0122  |    -50.7116 |        165 |         -3 | E     | America/Godthab        | airport | OurAirports |\n",
            "|  8 |           10 | Thule Air Base                              | Thule        | Greenland        | THU    | BGTL   |   76.5312  |    -68.7032 |        251 |         -4 | E     | America/Thule          | airport | OurAirports |\n",
            "|  9 |           11 | Akureyri Airport                            | Akureyri     | Iceland          | AEY    | BIAR   |   65.66    |    -18.0727 |          6 |          0 | N     | Atlantic/Reykjavik     | airport | OurAirports |\n",
            "+----+--------------+---------------------------------------------+--------------+------------------+--------+--------+------------+-------------+------------+------------+-------+------------------------+---------+-------------+\n"
          ]
        }
      ]
    },
    {
      "cell_type": "markdown",
      "source": [
        "## **PART I**\n",
        "### **1. Top 20 highest altitude airports in the world. Choose only “type” with “airport”**\n"
      ],
      "metadata": {
        "id": "afCE5iLukx2D"
      }
    },
    {
      "cell_type": "code",
      "source": [
        "df_airport = df_airports[df_airports[\"Type\"] == \"airport\"]\n",
        "df_top20 = df_airport.sort_values(by='Altitude', ascending=False).head(20)\n",
        "df_top20['Rank'] = df_top20['Altitude'].rank(ascending=False)\n",
        "\n",
        "df_top20_final = df_top20[['Airport_ID', 'Name', 'City', 'Country', 'Altitude', 'Rank']]\n",
        "\n",
        "print(tabulate(df_top20_final, headers='keys', tablefmt='psql'))"
      ],
      "metadata": {
        "colab": {
          "base_uri": "https://localhost:8080/"
        },
        "id": "jybcVo8UhN9q",
        "outputId": "f3acbf75-bc53-481f-b677-b8f9af4a056a"
      },
      "execution_count": 5,
      "outputs": [
        {
          "output_type": "stream",
          "name": "stdout",
          "text": [
            "+------+--------------+----------------------------------------+-------------+-----------+------------+--------+\n",
            "|      |   Airport_ID | Name                                   | City        | Country   |   Altitude |   Rank |\n",
            "|------+--------------+----------------------------------------+-------------+-----------+------------+--------|\n",
            "| 6541 |         9310 | Daocheng Yading Airport                | Daocheng    | China     |      14472 |      1 |\n",
            "| 5027 |         6396 | Qamdo Bangda Airport                   | Bangda      | China     |      14219 |      2 |\n",
            "| 6392 |         8921 | Kangding Airport                       | Kangding    | China     |      14042 |      3 |\n",
            "| 5871 |         7932 | Ngari Gunsa Airport                    | Shiquanhe   | China     |      14022 |      4 |\n",
            "| 2624 |         2762 | El Alto International Airport          | La Paz      | Bolivia   |      13355 |      5 |\n",
            "| 2626 |         2764 | Capitan Nicolas Rojas Airport          | Potosi      | Bolivia   |      12913 |      6 |\n",
            "| 5850 |         7894 | Yushu Batang Airport                   | Yushu       | China     |      12816 |      7 |\n",
            "| 6419 |         8969 | Copacabana Airport                     | Copacabana  | Bolivia   |      12591 |      8 |\n",
            "| 2653 |         2792 | Inca Manco Capac International Airport | Juliaca     | Peru      |      12552 |      9 |\n",
            "| 7537 |        13483 | Golog Maqin Airport                    | Golog       | China     |      12426 |     10 |\n",
            "| 5777 |         7766 | Syangboche Airport                     | Syangboche  | Nepal     |      12400 |     11 |\n",
            "| 2625 |         2763 | Juan Mendoza Airport                   | Oruro       | Bolivia   |      12152 |     12 |\n",
            "| 3873 |         4097 | Lhasa Gonggar Airport                  | Lhasa       | China     |      11713 |     13 |\n",
            "| 6802 |        10943 | Hongyuan Airport                       | Ngawa       | China     |      11600 |     14 |\n",
            "| 2341 |         2464 | La Quiaca Airport                      | Laboulaye   | Argentina |      11414 |     15 |\n",
            "| 4039 |         4301 | Jiuzhai Huanglong Airport              | Jiuzhaigou  | China     |      11327 |     16 |\n",
            "| 2648 |         2787 | Andahuaylas Airport                    | Andahuaylas | Peru      |      11300 |     17 |\n",
            "| 5498 |         7313 | Uyuni Airport                          | Uyuni       | Bolivia   |      11136 |     18 |\n",
            "| 2652 |         2791 | Francisco Carle Airport                | Jauja       | Peru      |      11034 |     19 |\n",
            "| 3941 |         4174 | Manang Airport                         | Manang      | Nepal     |      11001 |     20 |\n",
            "+------+--------------+----------------------------------------+-------------+-----------+------------+--------+\n"
          ]
        }
      ]
    },
    {
      "cell_type": "markdown",
      "source": [
        "## **2. Top 20 countries that have the highest total number of airports.** ##"
      ],
      "metadata": {
        "id": "Cl-oaVJOs0Bl"
      }
    },
    {
      "cell_type": "code",
      "source": [
        "\n",
        "df_top_20_countries = df_airports.groupby(['Country']).size().to_frame('total_airports').reset_index()\n",
        "df_top_20_countries = df_top_20_countries.sort_values(by=['total_airports'],ascending=False)\n",
        "df_top_20_countries ['rank'] = df_top_20_countries['total_airports'].rank(ascending=False)\n",
        "df_top_20_countries = df_top_20_countries.head(20).reset_index(drop=True)\n",
        "\n",
        "print(tabulate(df_top_20_countries, headers='keys', tablefmt='psql'))"
      ],
      "metadata": {
        "id": "Ocy8M-RejyjM",
        "colab": {
          "base_uri": "https://localhost:8080/"
        },
        "outputId": "cd63c9a4-726b-4f8d-e666-94d2bf58e909"
      },
      "execution_count": 6,
      "outputs": [
        {
          "output_type": "stream",
          "name": "stdout",
          "text": [
            "+----+----------------+------------------+--------+\n",
            "|    | Country        |   total_airports |   rank |\n",
            "|----+----------------+------------------+--------|\n",
            "|  0 | United States  |             1512 |    1   |\n",
            "|  1 | Canada         |              430 |    2   |\n",
            "|  2 | Australia      |              334 |    3   |\n",
            "|  3 | Russia         |              264 |    4.5 |\n",
            "|  4 | Brazil         |              264 |    4.5 |\n",
            "|  5 | Germany        |              249 |    6   |\n",
            "|  6 | China          |              241 |    7   |\n",
            "|  7 | France         |              217 |    8   |\n",
            "|  8 | United Kingdom |              167 |    9   |\n",
            "|  9 | India          |              148 |   10   |\n",
            "| 10 | Indonesia      |              145 |   11   |\n",
            "| 11 | Japan          |              123 |   12   |\n",
            "| 12 | South Africa   |               99 |   13   |\n",
            "| 13 | Argentina      |               96 |   14   |\n",
            "| 14 | Mexico         |               84 |   15   |\n",
            "| 15 | Italy          |               83 |   16   |\n",
            "| 16 | Iran           |               82 |   17   |\n",
            "| 17 | Sweden         |               77 |   18   |\n",
            "| 18 | Turkey         |               76 |   19   |\n",
            "| 19 | Colombia       |               75 |   20   |\n",
            "+----+----------------+------------------+--------+\n"
          ]
        }
      ]
    },
    {
      "cell_type": "markdown",
      "source": [
        "### **3. Top 20 cities that have the highest total number of airports. (Two cities from different countries can have the same name, and you have to make sure the numbers are not messed up due to that!)** ###\n"
      ],
      "metadata": {
        "id": "GHetoyBxQDSC"
      }
    },
    {
      "cell_type": "code",
      "source": [
        "df_top20_cities = df_airports.groupby(['City']).size().reset_index(name='total_airports')\n",
        "df_top20_cities = df_top20_cities.sort_values(by='total_airports', ascending=False)\n",
        "df_top20_cities['rank'] = df_top20_cities['total_airports'].rank(ascending=False)\n",
        "df_top20_cities = df_top20_cities[['City', 'total_airports', 'rank']].head(20).reset_index(drop=True)\n",
        "\n",
        "print(tabulate(df_top20_cities, headers='keys', tablefmt='psql'))"
      ],
      "metadata": {
        "id": "X-r4k5LdtgVu",
        "colab": {
          "base_uri": "https://localhost:8080/"
        },
        "outputId": "77a2f0b2-ca9e-4bdf-e2f2-9751a838a783"
      },
      "execution_count": 7,
      "outputs": [
        {
          "output_type": "stream",
          "name": "stdout",
          "text": [
            "+----+--------------+------------------+--------+\n",
            "|    | City         |   total_airports |   rank |\n",
            "|----+--------------+------------------+--------|\n",
            "|  0 | London       |                9 |    1   |\n",
            "|  1 | Columbus     |                8 |    2   |\n",
            "|  2 | Georgetown   |                7 |    3.5 |\n",
            "|  3 | San Jose     |                7 |    3.5 |\n",
            "|  4 | Houston      |                6 |    8   |\n",
            "|  5 | New York     |                6 |    8   |\n",
            "|  6 | Moscow       |                6 |    8   |\n",
            "|  7 | Alexandria   |                6 |    8   |\n",
            "|  8 | Jacksonville |                6 |    8   |\n",
            "|  9 | Santiago     |                6 |    8   |\n",
            "| 10 | Greenville   |                6 |    8   |\n",
            "| 11 | Victoria     |                5 |   17   |\n",
            "| 12 | Burlington   |                5 |   17   |\n",
            "| 13 | Atlanta      |                5 |   17   |\n",
            "| 14 | Hamilton     |                5 |   17   |\n",
            "| 15 | Rome         |                5 |   17   |\n",
            "| 16 | Richmond     |                5 |   17   |\n",
            "| 17 | San Antonio  |                5 |   17   |\n",
            "| 18 | Athens       |                5 |   17   |\n",
            "| 19 | Izmir        |                5 |   17   |\n",
            "+----+--------------+------------------+--------+\n"
          ]
        }
      ]
    },
    {
      "cell_type": "markdown",
      "source": [
        "### **4. Pair of cities that have the same name, but from two different countries.** ###\n",
        "### (hint: Use self join with query in Python) ###"
      ],
      "metadata": {
        "id": "Xba2pRjdpDt6"
      }
    },
    {
      "cell_type": "code",
      "source": [
        "same_name_cities = []\n",
        "grouped = df_airports.groupby('City')\n",
        "\n",
        "for city, group in grouped:\n",
        "    if len(group) > 1:\n",
        "        countries = group['Country'].tolist()\n",
        "        for i in range(len(group)):\n",
        "            for j in range(i + 1, len(group)):\n",
        "                country_a = group.iloc[i]['Country']\n",
        "                country_b = group.iloc[j]['Country']\n",
        "                if country_a != country_b:\n",
        "                    pair = tuple(sorted([country_a, country_b]))\n",
        "                    same_name_cities.append((city, pair[0], city, pair[1]))\n",
        "\n",
        "same_name_cities_df = pd.DataFrame(same_name_cities, columns=['City_A', 'Country_A', 'City_B', 'Country_B']).drop_duplicates()\n",
        "\n",
        "print(same_name_cities_df)"
      ],
      "metadata": {
        "id": "YllpffKswdOE",
        "colab": {
          "base_uri": "https://localhost:8080/"
        },
        "outputId": "9875f743-7ba1-4c18-878c-66260f29269f"
      },
      "execution_count": 15,
      "outputs": [
        {
          "output_type": "stream",
          "name": "stdout",
          "text": [
            "         City_A       Country_A      City_B      Country_B\n",
            "0      Aberdeen  United Kingdom    Aberdeen  United States\n",
            "2        Albany       Australia      Albany  United States\n",
            "4    Alexandria           Egypt  Alexandria         Greece\n",
            "5    Alexandria           Egypt  Alexandria  United States\n",
            "9    Alexandria          Greece  Alexandria  United States\n",
            "..          ...             ...         ...            ...\n",
            "285    Victoria           Chile    Victoria  United States\n",
            "288     Vitoria          Brazil     Vitoria          Spain\n",
            "289      Warsaw          Poland      Warsaw  United States\n",
            "292    Waterloo          Canada    Waterloo  United States\n",
            "293  Wellington     New Zealand  Wellington  United States\n",
            "\n",
            "[164 rows x 4 columns]\n"
          ]
        }
      ]
    },
    {
      "cell_type": "markdown",
      "source": [
        "## **PART II**\n",
        "### **1.In the year 2009, print Top 10 cities in the USA that received maximum inbound flights.**\n",
        "### **Output:**\n",
        "### **city,total_inbound_flights,rank**"
      ],
      "metadata": {
        "id": "75NUbTJzl5Km"
      }
    },
    {
      "cell_type": "code",
      "source": [
        "df_airports2 = pd.read_csv(\"/content/drive/MyDrive/data_analytics/Airports2.csv\")\n",
        "\n",
        "print(tabulate(df_airports2), headers='keys', tablefmt='psql')"
      ],
      "metadata": {
        "id": "xoMWnMmx4GSR",
        "colab": {
          "base_uri": "https://localhost:8080/",
          "height": 356
        },
        "outputId": "88cea025-160c-4008-fde5-52ca99bcc9de"
      },
      "execution_count": 20,
      "outputs": [
        {
          "output_type": "error",
          "ename": "KeyboardInterrupt",
          "evalue": "",
          "traceback": [
            "\u001b[0;31m---------------------------------------------------------------------------\u001b[0m",
            "\u001b[0;31mKeyboardInterrupt\u001b[0m                         Traceback (most recent call last)",
            "\u001b[0;32m<ipython-input-20-6f5dd4aded07>\u001b[0m in \u001b[0;36m<cell line: 3>\u001b[0;34m()\u001b[0m\n\u001b[1;32m      1\u001b[0m \u001b[0mdf_airports2\u001b[0m \u001b[0;34m=\u001b[0m \u001b[0mpd\u001b[0m\u001b[0;34m.\u001b[0m\u001b[0mread_csv\u001b[0m\u001b[0;34m(\u001b[0m\u001b[0;34m\"/content/drive/MyDrive/data_analytics/Airports2.csv\"\u001b[0m\u001b[0;34m)\u001b[0m\u001b[0;34m\u001b[0m\u001b[0;34m\u001b[0m\u001b[0m\n\u001b[1;32m      2\u001b[0m \u001b[0;34m\u001b[0m\u001b[0m\n\u001b[0;32m----> 3\u001b[0;31m \u001b[0mprint\u001b[0m\u001b[0;34m(\u001b[0m\u001b[0mtabulate\u001b[0m\u001b[0;34m(\u001b[0m\u001b[0mdf_airports2\u001b[0m\u001b[0;34m)\u001b[0m\u001b[0;34m,\u001b[0m \u001b[0mheaders\u001b[0m\u001b[0;34m=\u001b[0m\u001b[0;34m'keys'\u001b[0m\u001b[0;34m,\u001b[0m \u001b[0mtablefmt\u001b[0m\u001b[0;34m=\u001b[0m\u001b[0;34m'psql'\u001b[0m\u001b[0;34m)\u001b[0m\u001b[0;34m\u001b[0m\u001b[0;34m\u001b[0m\u001b[0m\n\u001b[0m",
            "\u001b[0;32m/usr/local/lib/python3.10/dist-packages/tabulate/__init__.py\u001b[0m in \u001b[0;36mtabulate\u001b[0;34m(tabular_data, headers, tablefmt, floatfmt, intfmt, numalign, stralign, missingval, showindex, disable_numparse, colalign, maxcolwidths, rowalign, maxheadercolwidths)\u001b[0m\n\u001b[1;32m   2128\u001b[0m     \u001b[0mcols\u001b[0m \u001b[0;34m=\u001b[0m \u001b[0mlist\u001b[0m\u001b[0;34m(\u001b[0m\u001b[0mizip_longest\u001b[0m\u001b[0;34m(\u001b[0m\u001b[0;34m*\u001b[0m\u001b[0mlist_of_lists\u001b[0m\u001b[0;34m)\u001b[0m\u001b[0;34m)\u001b[0m\u001b[0;34m\u001b[0m\u001b[0;34m\u001b[0m\u001b[0m\n\u001b[1;32m   2129\u001b[0m     \u001b[0mnumparses\u001b[0m \u001b[0;34m=\u001b[0m \u001b[0m_expand_numparse\u001b[0m\u001b[0;34m(\u001b[0m\u001b[0mdisable_numparse\u001b[0m\u001b[0;34m,\u001b[0m \u001b[0mlen\u001b[0m\u001b[0;34m(\u001b[0m\u001b[0mcols\u001b[0m\u001b[0;34m)\u001b[0m\u001b[0;34m)\u001b[0m\u001b[0;34m\u001b[0m\u001b[0;34m\u001b[0m\u001b[0m\n\u001b[0;32m-> 2130\u001b[0;31m     \u001b[0mcoltypes\u001b[0m \u001b[0;34m=\u001b[0m \u001b[0;34m[\u001b[0m\u001b[0m_column_type\u001b[0m\u001b[0;34m(\u001b[0m\u001b[0mcol\u001b[0m\u001b[0;34m,\u001b[0m \u001b[0mnumparse\u001b[0m\u001b[0;34m=\u001b[0m\u001b[0mnp\u001b[0m\u001b[0;34m)\u001b[0m \u001b[0;32mfor\u001b[0m \u001b[0mcol\u001b[0m\u001b[0;34m,\u001b[0m \u001b[0mnp\u001b[0m \u001b[0;32min\u001b[0m \u001b[0mzip\u001b[0m\u001b[0;34m(\u001b[0m\u001b[0mcols\u001b[0m\u001b[0;34m,\u001b[0m \u001b[0mnumparses\u001b[0m\u001b[0;34m)\u001b[0m\u001b[0;34m]\u001b[0m\u001b[0;34m\u001b[0m\u001b[0;34m\u001b[0m\u001b[0m\n\u001b[0m\u001b[1;32m   2131\u001b[0m     \u001b[0;32mif\u001b[0m \u001b[0misinstance\u001b[0m\u001b[0;34m(\u001b[0m\u001b[0mfloatfmt\u001b[0m\u001b[0;34m,\u001b[0m \u001b[0mstr\u001b[0m\u001b[0;34m)\u001b[0m\u001b[0;34m:\u001b[0m  \u001b[0;31m# old version\u001b[0m\u001b[0;34m\u001b[0m\u001b[0;34m\u001b[0m\u001b[0m\n\u001b[1;32m   2132\u001b[0m         float_formats = len(cols) * [\n",
            "\u001b[0;32m/usr/local/lib/python3.10/dist-packages/tabulate/__init__.py\u001b[0m in \u001b[0;36m<listcomp>\u001b[0;34m(.0)\u001b[0m\n\u001b[1;32m   2128\u001b[0m     \u001b[0mcols\u001b[0m \u001b[0;34m=\u001b[0m \u001b[0mlist\u001b[0m\u001b[0;34m(\u001b[0m\u001b[0mizip_longest\u001b[0m\u001b[0;34m(\u001b[0m\u001b[0;34m*\u001b[0m\u001b[0mlist_of_lists\u001b[0m\u001b[0;34m)\u001b[0m\u001b[0;34m)\u001b[0m\u001b[0;34m\u001b[0m\u001b[0;34m\u001b[0m\u001b[0m\n\u001b[1;32m   2129\u001b[0m     \u001b[0mnumparses\u001b[0m \u001b[0;34m=\u001b[0m \u001b[0m_expand_numparse\u001b[0m\u001b[0;34m(\u001b[0m\u001b[0mdisable_numparse\u001b[0m\u001b[0;34m,\u001b[0m \u001b[0mlen\u001b[0m\u001b[0;34m(\u001b[0m\u001b[0mcols\u001b[0m\u001b[0;34m)\u001b[0m\u001b[0;34m)\u001b[0m\u001b[0;34m\u001b[0m\u001b[0;34m\u001b[0m\u001b[0m\n\u001b[0;32m-> 2130\u001b[0;31m     \u001b[0mcoltypes\u001b[0m \u001b[0;34m=\u001b[0m \u001b[0;34m[\u001b[0m\u001b[0m_column_type\u001b[0m\u001b[0;34m(\u001b[0m\u001b[0mcol\u001b[0m\u001b[0;34m,\u001b[0m \u001b[0mnumparse\u001b[0m\u001b[0;34m=\u001b[0m\u001b[0mnp\u001b[0m\u001b[0;34m)\u001b[0m \u001b[0;32mfor\u001b[0m \u001b[0mcol\u001b[0m\u001b[0;34m,\u001b[0m \u001b[0mnp\u001b[0m \u001b[0;32min\u001b[0m \u001b[0mzip\u001b[0m\u001b[0;34m(\u001b[0m\u001b[0mcols\u001b[0m\u001b[0;34m,\u001b[0m \u001b[0mnumparses\u001b[0m\u001b[0;34m)\u001b[0m\u001b[0;34m]\u001b[0m\u001b[0;34m\u001b[0m\u001b[0;34m\u001b[0m\u001b[0m\n\u001b[0m\u001b[1;32m   2131\u001b[0m     \u001b[0;32mif\u001b[0m \u001b[0misinstance\u001b[0m\u001b[0;34m(\u001b[0m\u001b[0mfloatfmt\u001b[0m\u001b[0;34m,\u001b[0m \u001b[0mstr\u001b[0m\u001b[0;34m)\u001b[0m\u001b[0;34m:\u001b[0m  \u001b[0;31m# old version\u001b[0m\u001b[0;34m\u001b[0m\u001b[0;34m\u001b[0m\u001b[0m\n\u001b[1;32m   2132\u001b[0m         float_formats = len(cols) * [\n",
            "\u001b[0;32m/usr/local/lib/python3.10/dist-packages/tabulate/__init__.py\u001b[0m in \u001b[0;36m_column_type\u001b[0;34m(strings, has_invisible, numparse)\u001b[0m\n\u001b[1;32m   1196\u001b[0m     \"\"\"\n\u001b[1;32m   1197\u001b[0m     \u001b[0mtypes\u001b[0m \u001b[0;34m=\u001b[0m \u001b[0;34m[\u001b[0m\u001b[0m_type\u001b[0m\u001b[0;34m(\u001b[0m\u001b[0ms\u001b[0m\u001b[0;34m,\u001b[0m \u001b[0mhas_invisible\u001b[0m\u001b[0;34m,\u001b[0m \u001b[0mnumparse\u001b[0m\u001b[0;34m)\u001b[0m \u001b[0;32mfor\u001b[0m \u001b[0ms\u001b[0m \u001b[0;32min\u001b[0m \u001b[0mstrings\u001b[0m\u001b[0;34m]\u001b[0m\u001b[0;34m\u001b[0m\u001b[0;34m\u001b[0m\u001b[0m\n\u001b[0;32m-> 1198\u001b[0;31m     \u001b[0;32mreturn\u001b[0m \u001b[0mreduce\u001b[0m\u001b[0;34m(\u001b[0m\u001b[0m_more_generic\u001b[0m\u001b[0;34m,\u001b[0m \u001b[0mtypes\u001b[0m\u001b[0;34m,\u001b[0m \u001b[0mbool\u001b[0m\u001b[0;34m)\u001b[0m\u001b[0;34m\u001b[0m\u001b[0;34m\u001b[0m\u001b[0m\n\u001b[0m\u001b[1;32m   1199\u001b[0m \u001b[0;34m\u001b[0m\u001b[0m\n\u001b[1;32m   1200\u001b[0m \u001b[0;34m\u001b[0m\u001b[0m\n",
            "\u001b[0;32m/usr/local/lib/python3.10/dist-packages/tabulate/__init__.py\u001b[0m in \u001b[0;36m_more_generic\u001b[0;34m(type1, type2)\u001b[0m\n\u001b[1;32m   1152\u001b[0m \u001b[0;34m\u001b[0m\u001b[0m\n\u001b[1;32m   1153\u001b[0m \u001b[0;34m\u001b[0m\u001b[0m\n\u001b[0;32m-> 1154\u001b[0;31m \u001b[0;32mdef\u001b[0m \u001b[0m_more_generic\u001b[0m\u001b[0;34m(\u001b[0m\u001b[0mtype1\u001b[0m\u001b[0;34m,\u001b[0m \u001b[0mtype2\u001b[0m\u001b[0;34m)\u001b[0m\u001b[0;34m:\u001b[0m\u001b[0;34m\u001b[0m\u001b[0;34m\u001b[0m\u001b[0m\n\u001b[0m\u001b[1;32m   1155\u001b[0m     types = {\n\u001b[1;32m   1156\u001b[0m         \u001b[0mtype\u001b[0m\u001b[0;34m(\u001b[0m\u001b[0;32mNone\u001b[0m\u001b[0;34m)\u001b[0m\u001b[0;34m:\u001b[0m \u001b[0;36m0\u001b[0m\u001b[0;34m,\u001b[0m\u001b[0;34m\u001b[0m\u001b[0;34m\u001b[0m\u001b[0m\n",
            "\u001b[0;31mKeyboardInterrupt\u001b[0m: "
          ]
        }
      ]
    },
    {
      "cell_type": "markdown",
      "source": [
        "### **2. In the year 2009, print Top 10 cities in the USA that received maximum inbound flights.**\n",
        "### **Output:**\n",
        "### **city,total_inbound_flights,rank**"
      ],
      "metadata": {
        "id": "pPbfJedToQk2"
      }
    },
    {
      "cell_type": "code",
      "source": [],
      "metadata": {
        "id": "u0DYLEtVnr0j"
      },
      "execution_count": null,
      "outputs": []
    }
  ]
}
