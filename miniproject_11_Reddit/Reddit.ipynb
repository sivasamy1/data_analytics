{
  "nbformat": 4,
  "nbformat_minor": 0,
  "metadata": {
    "colab": {
      "provenance": [],
      "mount_file_id": "https://github.com/sivasamy1/data_analytics/blob/main/miniproject_11_Reddit/Reddit.ipynb",
      "authorship_tag": "ABX9TyMVEn2qI/zRoM4uBXKbyxes",
      "include_colab_link": true
    },
    "kernelspec": {
      "name": "python3",
      "display_name": "Python 3"
    },
    "language_info": {
      "name": "python"
    }
  },
  "cells": [
    {
      "cell_type": "markdown",
      "metadata": {
        "id": "view-in-github",
        "colab_type": "text"
      },
      "source": [
        "<a href=\"https://colab.research.google.com/github/sivasamy1/data_analytics/blob/main/miniproject_11_Reddit/Reddit.ipynb\" target=\"_parent\"><img src=\"https://colab.research.google.com/assets/colab-badge.svg\" alt=\"Open In Colab\"/></a>"
      ]
    },
    {
      "cell_type": "markdown",
      "source": [
        "## PART I"
      ],
      "metadata": {
        "id": "P_xrCfCv1vX-"
      }
    },
    {
      "cell_type": "code",
      "source": [
        "import pandas as pd\n",
        "from tabulate import tabulate"
      ],
      "metadata": {
        "id": "n2dwCVpQgAEX"
      },
      "execution_count": 1,
      "outputs": []
    },
    {
      "cell_type": "code",
      "source": [
        "def pty_print(df):\n",
        "  print(tabulate(df, headers='keys', tablefmt='github'))"
      ],
      "metadata": {
        "id": "jVCV_dvkvAeF"
      },
      "execution_count": 2,
      "outputs": []
    },
    {
      "cell_type": "code",
      "source": [
        "df = pd.read_csv('/content/drive/MyDrive/data_analytics/MINIPROJECT_11/Reddit (1).csv')\n",
        "pty_print(df)"
      ],
      "metadata": {
        "colab": {
          "base_uri": "https://localhost:8080/"
        },
        "id": "I0Xjis4xaOKX",
        "outputId": "98bb0fb1-3588-4e74-aadd-53fffa3ad930"
      },
      "execution_count": 10,
      "outputs": [
        {
          "output_type": "stream",
          "name": "stdout",
          "text": [
            "|    |   index | author_fullname   | selftext                                                                                                                                                                                                                                                                                                                                                                                                                                                                                                                                                                                                                  |   category | title                                                                                                                                                                                                                                                                                                     |   upvote_ratio | is_original_content   | media_embed                                                                                                                                                                                                                                                                                                                                                                                                                                                                                                                                                                                                                                                                                                                                                                                                                                                                    |   total_awards_received |   score |   num_comments |   num_crossposts |\n",
            "|----|---------|-------------------|---------------------------------------------------------------------------------------------------------------------------------------------------------------------------------------------------------------------------------------------------------------------------------------------------------------------------------------------------------------------------------------------------------------------------------------------------------------------------------------------------------------------------------------------------------------------------------------------------------------------------|------------|-----------------------------------------------------------------------------------------------------------------------------------------------------------------------------------------------------------------------------------------------------------------------------------------------------------|----------------|-----------------------|--------------------------------------------------------------------------------------------------------------------------------------------------------------------------------------------------------------------------------------------------------------------------------------------------------------------------------------------------------------------------------------------------------------------------------------------------------------------------------------------------------------------------------------------------------------------------------------------------------------------------------------------------------------------------------------------------------------------------------------------------------------------------------------------------------------------------------------------------------------------------------|-------------------------|---------|----------------|------------------|\n",
            "|  0 |       1 | t2_kgsa3my        | nan                                                                                                                                                                                                                                                                                                                                                                                                                                                                                                                                                                                                                       |        nan | RFK Jr. states that measles outbreaks are “common” after first death since 2015.                                                                                                                                                                                                                          |           0.93 | False                 | {}                                                                                                                                                                                                                                                                                                                                                                                                                                                                                                                                                                                                                                                                                                                                                                                                                                                                             |                       0 |   35431 |           2693 |                0 |\n",
            "|  1 |       2 | t2_g2fh9fd        | nan                                                                                                                                                                                                                                                                                                                                                                                                                                                                                                                                                                                                                       |        nan | Jasmine Crockett - ''We may be heading towards the next World War because we have a President that wants to pal around with Putin, and lying about who invaded who.''                                                                                                                                     |           0.85 | False                 | {}                                                                                                                                                                                                                                                                                                                                                                                                                                                                                                                                                                                                                                                                                                                                                                                                                                                                             |                       0 |   92893 |           3037 |               44 |\n",
            "|  2 |       3 | t2_70mqq          | nan                                                                                                                                                                                                                                                                                                                                                                                                                                                                                                                                                                                                                       |        nan | Just a man and his rescued pelican being pals.                                                                                                                                                                                                                                                            |           0.98 | False                 | {}                                                                                                                                                                                                                                                                                                                                                                                                                                                                                                                                                                                                                                                                                                                                                                                                                                                                             |                       0 |   23110 |            275 |                5 |\n",
            "|  3 |       4 | t2_5krl4          | nan                                                                                                                                                                                                                                                                                                                                                                                                                                                                                                                                                                                                                       |        nan | TIL a man who fell overboard while fishing alone was rescued because a father and son found his empty boat and used the GPS to trace where he had fallen overboard                                                                                                                                        |           0.97 | False                 | {}                                                                                                                                                                                                                                                                                                                                                                                                                                                                                                                                                                                                                                                                                                                                                                                                                                                                             |                       0 |   17853 |            281 |                0 |\n",
            "|  4 |       5 | t2_ppry7atz       | nan                                                                                                                                                                                                                                                                                                                                                                                                                                                                                                                                                                                                                       |        nan | Uhhhh..?                                                                                                                                                                                                                                                                                                  |           0.95 | False                 | {}                                                                                                                                                                                                                                                                                                                                                                                                                                                                                                                                                                                                                                                                                                                                                                                                                                                                             |                       0 |    6875 |            284 |                0 |\n",
            "|  5 |       6 | t2_x7ycr2b70      | Everybody, meet Bubbles. A 6 month old stray from the shelter, named after the Trailer Park Boys character. He’s still getting used to his new home, but things are going smooth so far. Any first-time cat parenting tips?                                                                                                                                                                                                                                                                                                                                                                                               |        nan | Adopted my first ever cat today!                                                                                                                                                                                                                                                                          |           0.99 | False                 | {}                                                                                                                                                                                                                                                                                                                                                                                                                                                                                                                                                                                                                                                                                                                                                                                                                                                                             |                       0 |    7168 |            292 |                2 |\n",
            "|  6 |       7 | t2_p9tkh          | nan                                                                                                                                                                                                                                                                                                                                                                                                                                                                                                                                                                                                                       |        nan | Tulsi Gabbard fires more than 100 intelligence officers over messages in a chat tool                                                                                                                                                                                                                      |           0.95 | False                 | {}                                                                                                                                                                                                                                                                                                                                                                                                                                                                                                                                                                                                                                                                                                                                                                                                                                                                             |                       0 |   17951 |           1812 |                2 |\n",
            "|  7 |       8 | t2_7ootbo06       | nan                                                                                                                                                                                                                                                                                                                                                                                                                                                                                                                                                                                                                       |        nan | Jasmine Crockett All But Dares House Colleagues to Say Russia Invaded Ukraine. Met with silence.                                                                                                                                                                                                          |           0.96 | False                 | {}                                                                                                                                                                                                                                                                                                                                                                                                                                                                                                                                                                                                                                                                                                                                                                                                                                                                             |                       0 |   13563 |            384 |                5 |\n",
            "|  8 |       9 | t2_mtt6uyeju      | nan                                                                                                                                                                                                                                                                                                                                                                                                                                                                                                                                                                                                                       |        nan | The rule of law matters!!!                                                                                                                                                                                                                                                                                |           0.96 | False                 | {}                                                                                                                                                                                                                                                                                                                                                                                                                                                                                                                                                                                                                                                                                                                                                                                                                                                                             |                       0 |   32938 |            398 |                5 |\n",
            "|  9 |      10 | t2_80kmkxzb       | nan                                                                                                                                                                                                                                                                                                                                                                                                                                                                                                                                                                                                                       |        nan | Trump Calls Zelensky a ‘Dictator’ by Christo Komarnitski                                                                                                                                                                                                                                                  |           0.9  | False                 | {}                                                                                                                                                                                                                                                                                                                                                                                                                                                                                                                                                                                                                                                                                                                                                                                                                                                                             |                       0 |   33162 |            734 |               10 |\n",
            "| 10 |      11 | t2_tjlff4qx9      | “It's a cruel world full of hate out there. You can never please everyone nor should you have to. In my experience it doesn't make the words sting less, it just refocuses you onto what matters. And it sure isn't the shape, color or appearance of your body. Daily reminder to all of us to not forget how beautiful you are inside and out… and to be a little nicer.”                                                                                                                                                                                                                                               |        nan | Taylor Lautner defends Selena Gomez from body-shaming comments in new Instagram story                                                                                                                                                                                                                     |           0.96 | False                 | {}                                                                                                                                                                                                                                                                                                                                                                                                                                                                                                                                                                                                                                                                                                                                                                                                                                                                             |                       0 |    6708 |            231 |                0 |\n",
            "| 11 |      12 | t2_6hji           | nan                                                                                                                                                                                                                                                                                                                                                                                                                                                                                                                                                                                                                       |        nan | Teachers are increasingly worried about the effect of misogynistic influencers, such as Andrew Tate or the incel movement, on their students. 90% of secondary and 68% of primary school teachers reported feeling their schools would benefit from teaching materials to address this kind of behaviour. |           0.89 | False                 | {}                                                                                                                                                                                                                                                                                                                                                                                                                                                                                                                                                                                                                                                                                                                                                                                                                                                                             |                       0 |   25885 |           2471 |                2 |\n",
            "| 12 |      13 | t2_1x532oln       | nan                                                                                                                                                                                                                                                                                                                                                                                                                                                                                                                                                                                                                       |        nan | We had parents too you know . Parents who inspired us to change the pattern                                                                                                                                                                                                                               |           0.92 | False                 | {}                                                                                                                                                                                                                                                                                                                                                                                                                                                                                                                                                                                                                                                                                                                                                                                                                                                                             |                       0 |   17457 |            972 |                1 |\n",
            "| 13 |      14 | t2_2fa3b72k       | nan                                                                                                                                                                                                                                                                                                                                                                                                                                                                                                                                                                                                                       |        nan | i think the drinks made it more fun all in all?                                                                                                                                                                                                                                                           |           0.96 | False                 | {}                                                                                                                                                                                                                                                                                                                                                                                                                                                                                                                                                                                                                                                                                                                                                                                                                                                                             |                       0 |   19997 |            231 |                3 |\n",
            "| 14 |      15 | t2_58bt4          | nan                                                                                                                                                                                                                                                                                                                                                                                                                                                                                                                                                                                                                       |        nan | Maybe Maybe Maybe                                                                                                                                                                                                                                                                                         |           0.97 | False                 | {}                                                                                                                                                                                                                                                                                                                                                                                                                                                                                                                                                                                                                                                                                                                                                                                                                                                                             |                       0 |   26785 |            116 |                7 |\n",
            "| 15 |      16 | t2_r6bxmrfbe      | nan                                                                                                                                                                                                                                                                                                                                                                                                                                                                                                                                                                                                                       |        nan | Dwyane Wade says that his first indication that LeBron James would not return to the Miami Heat was when Pat Riley took away his chocolate chip cookies, sparking concerns about Riley's micromanagement                                                                                                  |           0.97 | False                 | <iframe class=\"embedly-embed\" src=\"https://cdn.embedly.com/widgets/media.html?src=https%3A%2F%2Fstreamable.com%2Fo%2Fcgw3oq&display_name=Streamable&url=https%3A%2F%2Fstreamable.com%2Fcgw3oq&image=https%3A%2F%2Fcdn-cf-east.streamable.com%2Fimage%2Fcgw3oq.jpg%3FExpires%3D1740869225581%26Key-Pair-Id%3DAPKAIEYUVEN4EVB2OKEQ%26Signature%3Dl%7EwNMrP%7E8s6Igz94rHIR9bMtudn8Jm1eUfEbBxk59mTSfuYb2sg%7EZa7yjMZsH-v4TysAyogVpw27Cw24u1fOvTIGtKRP49IR742NWQQxRB7u9GQMjFbLrvqREI8JbzZY%7E%7EGN5RdFyDJNlcwweok7f5f%7EY8v60dM25Zq2H2qOHpDaLjmv2uqqylMM5iFt9FwAbbuy4MWtnG5YvPHW32Ug0zVRcD56E46kXONisB7kdWwPe4fruf-ac6qyVFjZb0vI%7ELheo4zdtnNPteQiodBb7g__&type=text%2Fhtml&schema=streamable\" width=\"600\" height=\"328\" scrolling=\"no\" title=\"Streamable embed\" frameborder=\"0\" allow=\"autoplay; fullscreen; encrypted-media; picture-in-picture;\" allowfullscreen=\"true\"></iframe> |                       0 |   11592 |           1052 |                4 |\n",
            "| 16 |      17 | t2_9m25vumk       | nan                                                                                                                                                                                                                                                                                                                                                                                                                                                                                                                                                                                                                       |        nan | Anti-Trump sentiment drives dramatic upturn in fortunes for Canada’s Liberals                                                                                                                                                                                                                             |           0.96 | False                 | {}                                                                                                                                                                                                                                                                                                                                                                                                                                                                                                                                                                                                                                                                                                                                                                                                                                                                             |                       0 |   19354 |            701 |                1 |\n",
            "| 17 |      18 | t2_quwxfh3qi      | My message for all of you arguing “yeah but Bill is worth 20 million!!” In a way, I understand…it’s truly difficult to fathom billions of dollars. But also check your numbers and think again.                                                                                                                                                                                                                                                                                                                                                                                                                           |        nan | Make billionaires millionaires                                                                                                                                                                                                                                                                            |           0.85 | False                 | {}                                                                                                                                                                                                                                                                                                                                                                                                                                                                                                                                                                                                                                                                                                                                                                                                                                                                             |                       0 |   60864 |           1827 |                8 |\n",
            "| 18 |      19 | t2_4eaxokx5       | nan                                                                                                                                                                                                                                                                                                                                                                                                                                                                                                                                                                                                                       |        nan | Musk brings fingers together in meeting for the millionth time to create a sense of intelligence                                                                                                                                                                                                          |           0.92 | False                 | {}                                                                                                                                                                                                                                                                                                                                                                                                                                                                                                                                                                                                                                                                                                                                                                                                                                                                             |                       0 |   21100 |           1918 |                0 |\n",
            "| 19 |      20 | t2_dv4zh5b2k      | So tomorrow we will be escorted like criminals into USAID to get our personal effects. 15 minutes per terminated employee. That's us folks. That's the reward of public service in this country. See in comment below the circular that went out telling us what we *cannot* bring into the building - firearms, axes, martial arts weapons like nunchucks and throwing stars, spearguns, and even dynamite. No my friends you did not read that wrong. Maybe the folks at 🐕E has us confused with Jan 6 rioters. I will hold my head up high. If I cry, it is for my Agency. For the billions we will have let down. 💔 |        nan | Please learn from USAID - they will use our playbook on you next                                                                                                                                                                                                                                          |           0.96 | False                 | {}                                                                                                                                                                                                                                                                                                                                                                                                                                                                                                                                                                                                                                                                                                                                                                                                                                                                             |                       0 |    7325 |            455 |                0 |\n",
            "| 20 |      21 | t2_7wkh687u       | nan                                                                                                                                                                                                                                                                                                                                                                                                                                                                                                                                                                                                                       |        nan | We want the list regardless of party!                                                                                                                                                                                                                                                                     |           0.99 | False                 | {}                                                                                                                                                                                                                                                                                                                                                                                                                                                                                                                                                                                                                                                                                                                                                                                                                                                                             |                       0 |    5954 |            243 |                0 |\n",
            "| 21 |      22 | t2_ixuef          | nan                                                                                                                                                                                                                                                                                                                                                                                                                                                                                                                                                                                                                       |        nan | RFK Dismisses Measles Outbreak That Killed Kid as No Biggie                                                                                                                                                                                                                                               |           0.97 | False                 | {}                                                                                                                                                                                                                                                                                                                                                                                                                                                                                                                                                                                                                                                                                                                                                                                                                                                                             |                       0 |   16407 |            685 |                6 |\n",
            "| 22 |      23 | t2_pjpaul         | nan                                                                                                                                                                                                                                                                                                                                                                                                                                                                                                                                                                                                                       |        nan | Our gay cruise just rescued a sinking refugee ship in the Gulf of Mexico                                                                                                                                                                                                                                  |           0.81 | False                 | {}                                                                                                                                                                                                                                                                                                                                                                                                                                                                                                                                                                                                                                                                                                                                                                                                                                                                             |                       0 |   35247 |           3792 |                8 |\n",
            "| 23 |      24 | t2_19w7by1q22     | nan                                                                                                                                                                                                                                                                                                                                                                                                                                                                                                                                                                                                                       |        nan | Cringe 🤣                                                                                                                                                                                                                                                                                                 |           0.97 | False                 | {}                                                                                                                                                                                                                                                                                                                                                                                                                                                                                                                                                                                                                                                                                                                                                                                                                                                                             |                       0 |   12093 |            515 |                3 |\n",
            "| 24 |      25 | t2_7gq8650w       | nan                                                                                                                                                                                                                                                                                                                                                                                                                                                                                                                                                                                                                       |        nan | Turns Out, Trump and DOGE Haven’t Actually Saved Any Money                                                                                                                                                                                                                                                |           0.93 | False                 | {}                                                                                                                                                                                                                                                                                                                                                                                                                                                                                                                                                                                                                                                                                                                                                                                                                                                                             |                       0 |    4543 |            422 |                1 |\n"
          ]
        }
      ]
    },
    {
      "cell_type": "markdown",
      "source": [
        "### **1.1 # distinct author full name**"
      ],
      "metadata": {
        "id": "cMLs6O2gv6K1"
      }
    },
    {
      "cell_type": "code",
      "source": [
        "print(df['author_fullname'].unique())\n",
        "author_fullname = df['author_fullname'].nunique()\n",
        "print(\"Distinct # author full name:\\n\", author_fullname)"
      ],
      "metadata": {
        "id": "ozT9sdCSi8VR",
        "outputId": "72524c81-e5ba-4c1f-d7bf-9808f7a63916",
        "colab": {
          "base_uri": "https://localhost:8080/"
        }
      },
      "execution_count": 5,
      "outputs": [
        {
          "output_type": "stream",
          "name": "stdout",
          "text": [
            "['t2_kgsa3my' 't2_g2fh9fd' 't2_70mqq' 't2_5krl4' 't2_ppry7atz'\n",
            " 't2_x7ycr2b70' 't2_p9tkh' 't2_7ootbo06' 't2_mtt6uyeju' 't2_80kmkxzb'\n",
            " 't2_tjlff4qx9' 't2_6hji' 't2_1x532oln' 't2_2fa3b72k' 't2_58bt4'\n",
            " 't2_r6bxmrfbe' 't2_9m25vumk' 't2_quwxfh3qi' 't2_4eaxokx5' 't2_dv4zh5b2k'\n",
            " 't2_7wkh687u' 't2_ixuef' 't2_pjpaul' 't2_19w7by1q22' 't2_7gq8650w']\n",
            "Distinct # author full name:\n",
            " 25\n"
          ]
        }
      ]
    },
    {
      "cell_type": "markdown",
      "source": [
        "### **1.2 Get Top 20 authors with highest average # category**\n",
        "### **Expected Output:**\n",
        "### **author_fullname, avg_category**\n"
      ],
      "metadata": {
        "id": "NPD1qISaxcnB"
      }
    },
    {
      "cell_type": "code",
      "source": [],
      "metadata": {
        "id": "8Gui74pVwwcT"
      },
      "execution_count": 11,
      "outputs": []
    },
    {
      "cell_type": "markdown",
      "source": [
        "### **1.3 Get Top 20 author names having highest total_awards_received**\n",
        "### **Expected Output:**\n",
        "### **author_fullname, total_awards_received**"
      ],
      "metadata": {
        "id": "miQBHyKhyfFh"
      }
    },
    {
      "cell_type": "code",
      "source": [
        "df_awards = df.sort_values(by='total_awards_received', ascending=False)\n",
        "df_awards = df_awards[['author_fullname', 'total_awards_received']]\n",
        "pty_print(df_awards.head(20))"
      ],
      "metadata": {
        "id": "A7DM9G6Lx2Fl",
        "outputId": "26e47bbe-3c52-4e26-aac7-2184043b6a34",
        "colab": {
          "base_uri": "https://localhost:8080/"
        }
      },
      "execution_count": 16,
      "outputs": [
        {
          "output_type": "stream",
          "name": "stdout",
          "text": [
            "|    | author_fullname   |   total_awards_received |\n",
            "|----|-------------------|-------------------------|\n",
            "|  0 | t2_kgsa3my        |                       0 |\n",
            "| 13 | t2_2fa3b72k       |                       0 |\n",
            "| 23 | t2_19w7by1q22     |                       0 |\n",
            "| 22 | t2_pjpaul         |                       0 |\n",
            "| 21 | t2_ixuef          |                       0 |\n",
            "| 20 | t2_7wkh687u       |                       0 |\n",
            "| 19 | t2_dv4zh5b2k      |                       0 |\n",
            "| 18 | t2_4eaxokx5       |                       0 |\n",
            "| 17 | t2_quwxfh3qi      |                       0 |\n",
            "| 16 | t2_9m25vumk       |                       0 |\n",
            "| 15 | t2_r6bxmrfbe      |                       0 |\n",
            "| 14 | t2_58bt4          |                       0 |\n",
            "| 12 | t2_1x532oln       |                       0 |\n",
            "|  1 | t2_g2fh9fd        |                       0 |\n",
            "| 11 | t2_6hji           |                       0 |\n",
            "| 10 | t2_tjlff4qx9      |                       0 |\n",
            "|  9 | t2_80kmkxzb       |                       0 |\n",
            "|  8 | t2_mtt6uyeju      |                       0 |\n",
            "|  7 | t2_7ootbo06       |                       0 |\n",
            "|  6 | t2_p9tkh          |                       0 |\n"
          ]
        }
      ]
    },
    {
      "cell_type": "markdown",
      "source": [
        "### **1.4 Get Top 20 having maximum  # num_comments**\n",
        "### **Expected Output:**\n",
        "### **author_fullname, num_comments**\n"
      ],
      "metadata": {
        "id": "TUc3XzwEyobm"
      }
    },
    {
      "cell_type": "code",
      "source": [
        "df_comments = df.sort_values(by='num_comments', ascending=False)\n",
        "df_comments = df_comments[['author_fullname', 'num_comments']]\n",
        "pty_print(df_comments.head(20))"
      ],
      "metadata": {
        "id": "dGsAnfXcypDm",
        "outputId": "147f92de-271d-4db4-9e12-f716b540adeb",
        "colab": {
          "base_uri": "https://localhost:8080/"
        }
      },
      "execution_count": 18,
      "outputs": [
        {
          "output_type": "stream",
          "name": "stdout",
          "text": [
            "|    | author_fullname   |   num_comments |\n",
            "|----|-------------------|----------------|\n",
            "| 22 | t2_pjpaul         |           3792 |\n",
            "|  1 | t2_g2fh9fd        |           3037 |\n",
            "|  0 | t2_kgsa3my        |           2693 |\n",
            "| 11 | t2_6hji           |           2471 |\n",
            "| 18 | t2_4eaxokx5       |           1918 |\n",
            "| 17 | t2_quwxfh3qi      |           1827 |\n",
            "|  6 | t2_p9tkh          |           1812 |\n",
            "| 15 | t2_r6bxmrfbe      |           1052 |\n",
            "| 12 | t2_1x532oln       |            972 |\n",
            "|  9 | t2_80kmkxzb       |            734 |\n",
            "| 16 | t2_9m25vumk       |            701 |\n",
            "| 21 | t2_ixuef          |            685 |\n",
            "| 23 | t2_19w7by1q22     |            515 |\n",
            "| 19 | t2_dv4zh5b2k      |            455 |\n",
            "| 24 | t2_7gq8650w       |            422 |\n",
            "|  8 | t2_mtt6uyeju      |            398 |\n",
            "|  7 | t2_7ootbo06       |            384 |\n",
            "|  5 | t2_x7ycr2b70      |            292 |\n",
            "|  4 | t2_ppry7atz       |            284 |\n",
            "|  3 | t2_5krl4          |            281 |\n"
          ]
        }
      ]
    },
    {
      "cell_type": "markdown",
      "source": [
        "### **1.5 Get Top 20 author names having  highest average score**\n",
        "### **Expected Output:**\n",
        "### **author_fullname, avg_score**\n"
      ],
      "metadata": {
        "id": "VE67Gj0az7hM"
      }
    },
    {
      "cell_type": "code",
      "source": [
        "df_score = df.sort_values(by='score', ascending=False)\n",
        "df_score = df_score[['author_fullname', 'score']]\n",
        "df_score.columns = ['author_fullname', 'avg_score']\n",
        "pty_print(df_score.head(20))"
      ],
      "metadata": {
        "id": "SafXsY2azwxE",
        "outputId": "aa9a9893-ef9c-44af-a6c8-28fe337f2377",
        "colab": {
          "base_uri": "https://localhost:8080/"
        }
      },
      "execution_count": 19,
      "outputs": [
        {
          "output_type": "stream",
          "name": "stdout",
          "text": [
            "|    | author_fullname   |   avg_score |\n",
            "|----|-------------------|-------------|\n",
            "|  1 | t2_g2fh9fd        |       92893 |\n",
            "| 17 | t2_quwxfh3qi      |       60864 |\n",
            "|  0 | t2_kgsa3my        |       35431 |\n",
            "| 22 | t2_pjpaul         |       35247 |\n",
            "|  9 | t2_80kmkxzb       |       33162 |\n",
            "|  8 | t2_mtt6uyeju      |       32938 |\n",
            "| 14 | t2_58bt4          |       26785 |\n",
            "| 11 | t2_6hji           |       25885 |\n",
            "|  2 | t2_70mqq          |       23110 |\n",
            "| 18 | t2_4eaxokx5       |       21100 |\n",
            "| 13 | t2_2fa3b72k       |       19997 |\n",
            "| 16 | t2_9m25vumk       |       19354 |\n",
            "|  6 | t2_p9tkh          |       17951 |\n",
            "|  3 | t2_5krl4          |       17853 |\n",
            "| 12 | t2_1x532oln       |       17457 |\n",
            "| 21 | t2_ixuef          |       16407 |\n",
            "|  7 | t2_7ootbo06       |       13563 |\n",
            "| 23 | t2_19w7by1q22     |       12093 |\n",
            "| 15 | t2_r6bxmrfbe      |       11592 |\n",
            "| 19 | t2_dv4zh5b2k      |        7325 |\n"
          ]
        }
      ]
    },
    {
      "cell_type": "markdown",
      "source": [
        "### **1.6 Get Top 20 titles having highest score**\n",
        "### **Expected Output:**\n",
        "### **title, score**"
      ],
      "metadata": {
        "id": "7Fx22kbw0ivF"
      }
    },
    {
      "cell_type": "code",
      "source": [
        "df_hscore = df.sort_values(by='score', ascending=False)\n",
        "df_hscore = df_hscore[['title', 'score']]\n",
        "pty_print(df_hscore.head(20))"
      ],
      "metadata": {
        "id": "c4CiD6vf0bd8",
        "outputId": "85c096d5-2ef7-4eef-f87d-56d12485b578",
        "colab": {
          "base_uri": "https://localhost:8080/"
        }
      },
      "execution_count": 22,
      "outputs": [
        {
          "output_type": "stream",
          "name": "stdout",
          "text": [
            "|    | title                                                                                                                                                                                                                                                                                                     |   score |\n",
            "|----|-----------------------------------------------------------------------------------------------------------------------------------------------------------------------------------------------------------------------------------------------------------------------------------------------------------|---------|\n",
            "|  1 | Jasmine Crockett - ''We may be heading towards the next World War because we have a President that wants to pal around with Putin, and lying about who invaded who.''                                                                                                                                     |   92893 |\n",
            "| 17 | Make billionaires millionaires                                                                                                                                                                                                                                                                            |   60864 |\n",
            "|  0 | RFK Jr. states that measles outbreaks are “common” after first death since 2015.                                                                                                                                                                                                                          |   35431 |\n",
            "| 22 | Our gay cruise just rescued a sinking refugee ship in the Gulf of Mexico                                                                                                                                                                                                                                  |   35247 |\n",
            "|  9 | Trump Calls Zelensky a ‘Dictator’ by Christo Komarnitski                                                                                                                                                                                                                                                  |   33162 |\n",
            "|  8 | The rule of law matters!!!                                                                                                                                                                                                                                                                                |   32938 |\n",
            "| 14 | Maybe Maybe Maybe                                                                                                                                                                                                                                                                                         |   26785 |\n",
            "| 11 | Teachers are increasingly worried about the effect of misogynistic influencers, such as Andrew Tate or the incel movement, on their students. 90% of secondary and 68% of primary school teachers reported feeling their schools would benefit from teaching materials to address this kind of behaviour. |   25885 |\n",
            "|  2 | Just a man and his rescued pelican being pals.                                                                                                                                                                                                                                                            |   23110 |\n",
            "| 18 | Musk brings fingers together in meeting for the millionth time to create a sense of intelligence                                                                                                                                                                                                          |   21100 |\n",
            "| 13 | i think the drinks made it more fun all in all?                                                                                                                                                                                                                                                           |   19997 |\n",
            "| 16 | Anti-Trump sentiment drives dramatic upturn in fortunes for Canada’s Liberals                                                                                                                                                                                                                             |   19354 |\n",
            "|  6 | Tulsi Gabbard fires more than 100 intelligence officers over messages in a chat tool                                                                                                                                                                                                                      |   17951 |\n",
            "|  3 | TIL a man who fell overboard while fishing alone was rescued because a father and son found his empty boat and used the GPS to trace where he had fallen overboard                                                                                                                                        |   17853 |\n",
            "| 12 | We had parents too you know . Parents who inspired us to change the pattern                                                                                                                                                                                                                               |   17457 |\n",
            "| 21 | RFK Dismisses Measles Outbreak That Killed Kid as No Biggie                                                                                                                                                                                                                                               |   16407 |\n",
            "|  7 | Jasmine Crockett All But Dares House Colleagues to Say Russia Invaded Ukraine. Met with silence.                                                                                                                                                                                                          |   13563 |\n",
            "| 23 | Cringe 🤣                                                                                                                                                                                                                                                                                                 |   12093 |\n",
            "| 15 | Dwyane Wade says that his first indication that LeBron James would not return to the Miami Heat was when Pat Riley took away his chocolate chip cookies, sparking concerns about Riley's micromanagement                                                                                                  |   11592 |\n",
            "| 19 | Please learn from USAID - they will use our playbook on you next                                                                                                                                                                                                                                          |    7325 |\n"
          ]
        }
      ]
    },
    {
      "cell_type": "markdown",
      "source": [
        "### **1.7 Get Top 20 titles having highest num_crossposts**\n",
        "### **Expected Output:**\n",
        "### **title, num_crossposts**\n"
      ],
      "metadata": {
        "id": "CO4i1ALq1Azp"
      }
    },
    {
      "cell_type": "code",
      "source": [
        "df_hscore = df.sort_values(by='num_crossposts', ascending=False)\n",
        "df_hscore = df_hscore[['title', 'num_crossposts']]\n",
        "pty_print(df_hscore.head(20))"
      ],
      "metadata": {
        "id": "kufgH-RK07vq",
        "outputId": "3897fe26-ad08-49d1-a769-62efba2cad4e",
        "colab": {
          "base_uri": "https://localhost:8080/"
        }
      },
      "execution_count": 23,
      "outputs": [
        {
          "output_type": "stream",
          "name": "stdout",
          "text": [
            "|    | title                                                                                                                                                                                                                                                                                                     |   num_crossposts |\n",
            "|----|-----------------------------------------------------------------------------------------------------------------------------------------------------------------------------------------------------------------------------------------------------------------------------------------------------------|------------------|\n",
            "|  1 | Jasmine Crockett - ''We may be heading towards the next World War because we have a President that wants to pal around with Putin, and lying about who invaded who.''                                                                                                                                     |               44 |\n",
            "|  9 | Trump Calls Zelensky a ‘Dictator’ by Christo Komarnitski                                                                                                                                                                                                                                                  |               10 |\n",
            "| 17 | Make billionaires millionaires                                                                                                                                                                                                                                                                            |                8 |\n",
            "| 22 | Our gay cruise just rescued a sinking refugee ship in the Gulf of Mexico                                                                                                                                                                                                                                  |                8 |\n",
            "| 14 | Maybe Maybe Maybe                                                                                                                                                                                                                                                                                         |                7 |\n",
            "| 21 | RFK Dismisses Measles Outbreak That Killed Kid as No Biggie                                                                                                                                                                                                                                               |                6 |\n",
            "|  2 | Just a man and his rescued pelican being pals.                                                                                                                                                                                                                                                            |                5 |\n",
            "|  7 | Jasmine Crockett All But Dares House Colleagues to Say Russia Invaded Ukraine. Met with silence.                                                                                                                                                                                                          |                5 |\n",
            "|  8 | The rule of law matters!!!                                                                                                                                                                                                                                                                                |                5 |\n",
            "| 15 | Dwyane Wade says that his first indication that LeBron James would not return to the Miami Heat was when Pat Riley took away his chocolate chip cookies, sparking concerns about Riley's micromanagement                                                                                                  |                4 |\n",
            "| 23 | Cringe 🤣                                                                                                                                                                                                                                                                                                 |                3 |\n",
            "| 13 | i think the drinks made it more fun all in all?                                                                                                                                                                                                                                                           |                3 |\n",
            "|  5 | Adopted my first ever cat today!                                                                                                                                                                                                                                                                          |                2 |\n",
            "|  6 | Tulsi Gabbard fires more than 100 intelligence officers over messages in a chat tool                                                                                                                                                                                                                      |                2 |\n",
            "| 11 | Teachers are increasingly worried about the effect of misogynistic influencers, such as Andrew Tate or the incel movement, on their students. 90% of secondary and 68% of primary school teachers reported feeling their schools would benefit from teaching materials to address this kind of behaviour. |                2 |\n",
            "| 12 | We had parents too you know . Parents who inspired us to change the pattern                                                                                                                                                                                                                               |                1 |\n",
            "| 24 | Turns Out, Trump and DOGE Haven’t Actually Saved Any Money                                                                                                                                                                                                                                                |                1 |\n",
            "| 16 | Anti-Trump sentiment drives dramatic upturn in fortunes for Canada’s Liberals                                                                                                                                                                                                                             |                1 |\n",
            "| 18 | Musk brings fingers together in meeting for the millionth time to create a sense of intelligence                                                                                                                                                                                                          |                0 |\n",
            "| 19 | Please learn from USAID - they will use our playbook on you next                                                                                                                                                                                                                                          |                0 |\n"
          ]
        }
      ]
    },
    {
      "cell_type": "code",
      "source": [],
      "metadata": {
        "id": "ka2Q-pmR5PEa"
      },
      "execution_count": null,
      "outputs": []
    }
  ]
}