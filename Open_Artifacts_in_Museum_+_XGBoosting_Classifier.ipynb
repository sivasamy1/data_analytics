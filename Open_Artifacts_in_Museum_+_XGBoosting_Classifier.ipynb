{
  "nbformat": 4,
  "nbformat_minor": 0,
  "metadata": {
    "colab": {
      "provenance": [],
      "mount_file_id": "1JOCns8SKHyPhkdEUI-5PAuvtfDhJPUZ9",
      "authorship_tag": "ABX9TyMEoeqyiJGL4XJ0snxwO52X",
      "include_colab_link": true
    },
    "kernelspec": {
      "name": "python3",
      "display_name": "Python 3"
    },
    "language_info": {
      "name": "python"
    }
  },
  "cells": [
    {
      "cell_type": "markdown",
      "metadata": {
        "id": "view-in-github",
        "colab_type": "text"
      },
      "source": [
        "<a href=\"https://colab.research.google.com/github/sivasamy1/data_analytics/blob/main/Open_Artifacts_in_Museum_%2B_XGBoosting_Classifier.ipynb\" target=\"_parent\"><img src=\"https://colab.research.google.com/assets/colab-badge.svg\" alt=\"Open In Colab\"/></a>"
      ]
    },
    {
      "cell_type": "markdown",
      "source": [
        "## **PART I**"
      ],
      "metadata": {
        "id": "tK6BYo0QZBRE"
      }
    },
    {
      "cell_type": "code",
      "source": [
        "!cat /content/drive/MyDrive/data_analytics/MINIPROJECT_8/cstmc-CSV-en.csv | head -10"
      ],
      "metadata": {
        "colab": {
          "base_uri": "https://localhost:8080/"
        },
        "id": "0CFtI6JpVWh9",
        "outputId": "053d0385-e13c-42a4-ad0d-4f5df3c7eeb7"
      },
      "execution_count": null,
      "outputs": [
        {
          "output_type": "stream",
          "name": "stdout",
          "text": [
            "artifactNumber|ObjectName|GeneralDescription|model|SerialNumber|Manufacturer|ManuCountry|ManuProvince|ManuCity|BeginDate|EndDate|date_qualifier|patent|NumberOfComponents|ArtifactFinish|ContextCanada|ContextFunction|ContextTechnical|group1|category1|subcategory1|group2|category2|subcategory2|group3|category3|subcategory3|material|Length|Width|Height|Thickness|Weight|Diameter|image|thumbnail\n",
            "1966.0001.001|Cover|PAPER|WESTERN CANADA AIRWAYS LTD.||Unknown|Unknown|||1927||||1||AT THE TIME IT WAS THE WORLD'S MOST NORTHERNLY AIR SERVICE|||Aviation|Commemorative|Stamps & coins|||||||paper|4.5 cm|2.6 cm|||||http://source.techno-science.ca/artifacts-artefacts/images/1966.0001.001.aa.cs.png|http://source.techno-science.ca/artifacts-artefacts/images/1966.0001.001.aa.cs.thumb.png\n",
            "1966.0002.001|Stamp, postage|PAPER|WESTERN CANADA AIRWAYS LTD.||Unknown|Unknown|||1927||||1|PINK & BLACK ON WHITE||||Aviation|Commemorative|Stamps & coins|||||||paper|3.8 cm|2.7 cm|||||http://source.techno-science.ca/artifacts-artefacts/images/1966.0002.001.aa.cs.png|http://source.techno-science.ca/artifacts-artefacts/images/1966.0002.001.aa.cs.thumb.png\n",
            "1966.0003.001|Stamp, postage|PAPER|||Unknown|Unknown|||1932||||1|DARK & PALE BLUE ON WHITE||||Aviation|Commemorative|Stamps & coins|||||||paper|12.8 cm|8.4 cm|||||http://source.techno-science.ca/artifacts-artefacts/images/1966.0003.001.aa.cs.png|http://source.techno-science.ca/artifacts-artefacts/images/1966.0003.001.aa.cs.thumb.png\n",
            "1966.0004.001|Stamp, postage|PAPER|ELLIOT, JACK V. AIR SERVICE||Unknown|Unknown|||1926||||1|RED ON YELLOW WITH SHADED ZIG-ZAG LINE BACKGROUND||||Aviation|Commemorative|Stamps & coins|||||||paper|22.4 cm|9.0 cm|||||http://source.techno-science.ca/artifacts-artefacts/images/1966.0004.001.aa.cs.png|http://source.techno-science.ca/artifacts-artefacts/images/1966.0004.001.aa.cs.thumb.png\n",
            "1966.0005.001|Stamp, postage|PAPER|ELLIOT-FAIRCHILD AIR SERVICE||Unknown|Unknown|||1926||||1|RED ON YELLOW WITH SWASTIKA BACKGROUND||||Aviation|Commemorative|Stamps & coins|||||||paper|22.7 cm|9.5 cm|||||http://source.techno-science.ca/artifacts-artefacts/images/1966.0005.001.aa.cs.png|http://source.techno-science.ca/artifacts-artefacts/images/1966.0005.001.aa.cs.thumb.png\n",
            "1966.0006.001|Clock|WOOD (PINE) CASE & PENDULUM/ BRASS MECHANISM||35|REGULA||||1945||after||1|CASE PAINTED MEDIUM BROWN/ DARK BROWN DIAL/ DARK BROWN WEIGHTS CAST IN ACORN SHAPE/ RED, YELLOW, GREEN, & BROWN PAINTED MOULDINGS & PENDULUM/ WHITE HAND & NUMERALS ON DIAL||||Horology|Clocks|Domestic|||||||wood->pine;metal->brass|||||||http://source.techno-science.ca/artifacts-artefacts/images/1966.0006.001.aa.cs.png|http://source.techno-science.ca/artifacts-artefacts/images/1966.0006.001.aa.cs.thumb.png\n",
            "1966.0007.001|Thermometer|METAL CASING/ PAPER? FACE/ GLASS OR SYNTHETIC FRONT.|||Unknown|Unknown|||1930||circa||1|COPPER COLOURED CASING/ BLACK INDICATOR NEEDLE||AN INSTRUMENT THAT MEASURES ATMOSPHERIC TEMPERATURE THROUGH THE DEFORMATION OF A BIMETALLIC SENSOR, DISPLAYING THE READINGS ON A DIAL INDICATOR.||Meteorology|Atmospheric temperature measurement|Indicators|||||||metal;paper;glass;synthetic||23.2 cm|3.0 cm||||http://source.techno-science.ca/artifacts-artefacts/images/1966.0007.001.aa.cs.png|http://source.techno-science.ca/artifacts-artefacts/images/1966.0007.001.aa.cs.thumb.png\n",
            "1966.0008.001|Relay|GLASS, METAL, SYNTHETIC/ CARDBOARD BOX|501||Edison, Thomas A. Industries|United States of America|New jersey|West orange|1950|1960|circa||1|||USED IN AN ELECTRIC CIRCUIT TO MAKE OR BREAK ONE OR MORE CONNECTIONS IN THE SAME OR ANOTHER CIRCUIT||Energy-electric|Electricity & electronics|Electronics-vacuum|||||||glass;metal;synthetic;paper|9.4 cm|3.2 cm|||||http://source.techno-science.ca/artifacts-artefacts/images/1966.0008.001.aa.cs.png|http://source.techno-science.ca/artifacts-artefacts/images/1966.0008.001.aa.cs.thumb.png\n",
            "1966.0009.001|Propeller|Wooden propeller with metal sheathing attached to leading edges|JUPITER XI|12428B|Unknown|Unknown|||1929||||1|METAL LEADING EDGE/ PAINTED BLACK/ SCRATCHED & DIRTY/ HUB HAS HOLES||Aircraft propulsion||Aviation|Aircraft parts||||||||wood;metal|340.0 cm|30.0 cm|15.0 cm||18.5 kg||http://source.techno-science.ca/artifacts-artefacts/images/1966.0009.001.aa.cs.png|http://source.techno-science.ca/artifacts-artefacts/images/1966.0009.001.aa.cs.thumb.png\n"
          ]
        }
      ]
    },
    {
      "cell_type": "code",
      "execution_count": 5,
      "metadata": {
        "id": "I5Zc98TIGm-m",
        "colab": {
          "base_uri": "https://localhost:8080/"
        },
        "outputId": "3e4d9ac0-a546-4e5f-8de5-194b36c9c6ef"
      },
      "outputs": [
        {
          "output_type": "stream",
          "name": "stdout",
          "text": [
            "|    | artifactNumber   | ObjectName     | GeneralDescription   | model                        |   SerialNumber | Manufacturer   | ManuCountry   |   ManuProvince |   ManuCity |   BeginDate |   EndDate |   date_qualifier |   patent |   NumberOfComponents | ArtifactFinish                                    | ContextCanada                                              |   ContextFunction |   ContextTechnical | group1   | category1     | subcategory1   |   group2 |   category2 |   subcategory2 |   group3 |   category3 |   subcategory3 | material   | Length   | Width   |   Height |   Thickness |   Weight |   Diameter | image                                                                              | thumbnail                                                                                |\n",
            "|----|------------------|----------------|----------------------|------------------------------|----------------|----------------|---------------|----------------|------------|-------------|-----------|------------------|----------|----------------------|---------------------------------------------------|------------------------------------------------------------|-------------------|--------------------|----------|---------------|----------------|----------|-------------|----------------|----------|-------------|----------------|------------|----------|---------|----------|-------------|----------|------------|------------------------------------------------------------------------------------|------------------------------------------------------------------------------------------|\n",
            "|  0 | 1966.0001.001    | Cover          | PAPER                | WESTERN CANADA AIRWAYS LTD.  |            nan | Unknown        | Unknown       |            nan |        nan |        1927 |       nan |              nan |      nan |                    1 | nan                                               | AT THE TIME IT WAS THE WORLD'S MOST NORTHERNLY AIR SERVICE |               nan |                nan | Aviation | Commemorative | Stamps & coins |      nan |         nan |            nan |      nan |         nan |            nan | paper      | 4.5 cm   | 2.6 cm  |      nan |         nan |      nan |        nan | http://source.techno-science.ca/artifacts-artefacts/images/1966.0001.001.aa.cs.png | http://source.techno-science.ca/artifacts-artefacts/images/1966.0001.001.aa.cs.thumb.png |\n",
            "|  1 | 1966.0002.001    | Stamp, postage | PAPER                | WESTERN CANADA AIRWAYS LTD.  |            nan | Unknown        | Unknown       |            nan |        nan |        1927 |       nan |              nan |      nan |                    1 | PINK & BLACK ON WHITE                             | nan                                                        |               nan |                nan | Aviation | Commemorative | Stamps & coins |      nan |         nan |            nan |      nan |         nan |            nan | paper      | 3.8 cm   | 2.7 cm  |      nan |         nan |      nan |        nan | http://source.techno-science.ca/artifacts-artefacts/images/1966.0002.001.aa.cs.png | http://source.techno-science.ca/artifacts-artefacts/images/1966.0002.001.aa.cs.thumb.png |\n",
            "|  2 | 1966.0003.001    | Stamp, postage | PAPER                | nan                          |            nan | Unknown        | Unknown       |            nan |        nan |        1932 |       nan |              nan |      nan |                    1 | DARK & PALE BLUE ON WHITE                         | nan                                                        |               nan |                nan | Aviation | Commemorative | Stamps & coins |      nan |         nan |            nan |      nan |         nan |            nan | paper      | 12.8 cm  | 8.4 cm  |      nan |         nan |      nan |        nan | http://source.techno-science.ca/artifacts-artefacts/images/1966.0003.001.aa.cs.png | http://source.techno-science.ca/artifacts-artefacts/images/1966.0003.001.aa.cs.thumb.png |\n",
            "|  3 | 1966.0004.001    | Stamp, postage | PAPER                | ELLIOT, JACK V. AIR SERVICE  |            nan | Unknown        | Unknown       |            nan |        nan |        1926 |       nan |              nan |      nan |                    1 | RED ON YELLOW WITH SHADED ZIG-ZAG LINE BACKGROUND | nan                                                        |               nan |                nan | Aviation | Commemorative | Stamps & coins |      nan |         nan |            nan |      nan |         nan |            nan | paper      | 22.4 cm  | 9.0 cm  |      nan |         nan |      nan |        nan | http://source.techno-science.ca/artifacts-artefacts/images/1966.0004.001.aa.cs.png | http://source.techno-science.ca/artifacts-artefacts/images/1966.0004.001.aa.cs.thumb.png |\n",
            "|  4 | 1966.0005.001    | Stamp, postage | PAPER                | ELLIOT-FAIRCHILD AIR SERVICE |            nan | Unknown        | Unknown       |            nan |        nan |        1926 |       nan |              nan |      nan |                    1 | RED ON YELLOW WITH SWASTIKA BACKGROUND            | nan                                                        |               nan |                nan | Aviation | Commemorative | Stamps & coins |      nan |         nan |            nan |      nan |         nan |            nan | paper      | 22.7 cm  | 9.5 cm  |      nan |         nan |      nan |        nan | http://source.techno-science.ca/artifacts-artefacts/images/1966.0005.001.aa.cs.png | http://source.techno-science.ca/artifacts-artefacts/images/1966.0005.001.aa.cs.thumb.png |\n"
          ]
        },
        {
          "output_type": "stream",
          "name": "stderr",
          "text": [
            "<ipython-input-5-d20957d9060f>:5: DtypeWarning: Columns (9,10) have mixed types. Specify dtype option on import or set low_memory=False.\n",
            "  df_museun = pd.read_csv('/content/drive/MyDrive/data_analytics/MINIPROJECT_8/cstmc-CSV-en.csv', on_bad_lines='skip', delimiter='|')\n"
          ]
        }
      ],
      "source": [
        "import pandas as pd\n",
        "from tabulate import tabulate\n",
        "\n",
        "df_museun = pd.read_csv('/content/drive/MyDrive/data_analytics/MINIPROJECT_8/cstmc-CSV-en.csv', on_bad_lines='skip', delimiter='|')\n",
        "\n",
        "print(tabulate(df_museun.head(), headers='keys', tablefmt='github'))"
      ]
    },
    {
      "cell_type": "markdown",
      "source": [
        "### **1.1 Total # distinct artifactNumber.**\n",
        "### **Expected Output: Integer Number**\n"
      ],
      "metadata": {
        "id": "ARvgw8bqX5S1"
      }
    },
    {
      "cell_type": "code",
      "source": [
        "print('Total # distinct artifactNumber\\n', df_museun['artifactNumber'].nunique())"
      ],
      "metadata": {
        "id": "s7mZll1yljj5",
        "colab": {
          "base_uri": "https://localhost:8080/"
        },
        "outputId": "bb85033a-7d20-49e8-ae85-23889f21dcbd"
      },
      "execution_count": null,
      "outputs": [
        {
          "output_type": "stream",
          "name": "stdout",
          "text": [
            "Total # distinct artifactNumber\n",
            " 107768\n"
          ]
        }
      ]
    },
    {
      "cell_type": "markdown",
      "source": [
        "### **1.2 Total # distinct ObjectName.**\n",
        "### **Expected Output: Integer Number**"
      ],
      "metadata": {
        "id": "mKB_3x7CgNHt"
      }
    },
    {
      "cell_type": "code",
      "source": [
        "print('Total # distinct ObjectName\\n', df_museun['ObjectName'].nunique(dropna=False))"
      ],
      "metadata": {
        "colab": {
          "base_uri": "https://localhost:8080/"
        },
        "id": "hm-x7-O8dl3a",
        "outputId": "fdb5a7a6-5110-4b19-a264-a2c014a907e5"
      },
      "execution_count": null,
      "outputs": [
        {
          "output_type": "stream",
          "name": "stdout",
          "text": [
            "Total # distinct ObjectName\n",
            " 8191\n"
          ]
        }
      ]
    },
    {
      "cell_type": "markdown",
      "source": [
        "### **1.3 Top 10 artifacts by weight.**\n",
        "### **Expected Output:**\n",
        "### **artifactnumber,weight,generaldescripton,rank_weight**\n",
        "\n"
      ],
      "metadata": {
        "id": "f_0fXOtHgtNR"
      }
    },
    {
      "cell_type": "code",
      "source": [
        "df_weigth = df_museun[['artifactNumber', 'Weight', 'GeneralDescription']]\n",
        "df_weigth['rank_weight'] = df_weigth['Weight'].rank(ascending=False)\n",
        "df_weigth = df_weigth.sort_values(by='rank_weight', ascending=True)\n",
        "print(tabulate(df_weigth.head(10), headers='keys', tablefmt='github'))"
      ],
      "metadata": {
        "id": "3VWn9e6VgcOk",
        "colab": {
          "base_uri": "https://localhost:8080/"
        },
        "outputId": "e0abee80-3d0f-4d29-e914-9a60ab04bd35"
      },
      "execution_count": 16,
      "outputs": [
        {
          "output_type": "stream",
          "name": "stdout",
          "text": [
            "|       | artifactNumber   | Weight   | GeneralDescription                                                                                                                                                                                                                                                                                      |   rank_weight |\n",
            "|-------|------------------|----------|---------------------------------------------------------------------------------------------------------------------------------------------------------------------------------------------------------------------------------------------------------------------------------------------------------|---------------|\n",
            "| 96491 | 2005.0060.001    | 990 kg   | metal, synthetic and glass components.                                                                                                                                                                                                                                                                  |           1   |\n",
            "| 30136 | 1981.0613.001    | 952.5 kg | METAL & WOOD                                                                                                                                                                                                                                                                                            |           2   |\n",
            "|  4276 | 1968.0102.001    | 950 kg   | nan                                                                                                                                                                                                                                                                                                     |           4.5 |\n",
            "|  2142 | 1967.0027.001    | 950 kg   | nan                                                                                                                                                                                                                                                                                                     |           4.5 |\n",
            "| 20208 | 1977.0274.001    | 950 kg   | SHEET METAL (TIN)/ WOOD/ PLYWOOD/ BRASS/ RUBBER                                                                                                                                                                                                                                                         |           4.5 |\n",
            "| 16954 | 1975.0210.001    | 950 kg   | METAL/ RUBBER/ SYNTHETIC/ GLASS                                                                                                                                                                                                                                                                         |           4.5 |\n",
            "| 28819 | 1980.0932.001    | 93.31 gm | Round brown glass bottle has black moulded synthetic lid; off-white adhesive- backed paper label bears blue printed text.                                                                                                                                                                               |           7   |\n",
            "| 28808 | 1980.0922.001    | 91.50 gm | Round clear glass jar with off-white synthetic lid [supplied by CSTMC Conservation] contains round clear glass jar with brown cork stopper; [loose] red rubber bulb; clear glass [?] tube sealed within opaque synthetic sleeve; brown rubber [?] band. Original bottle contains amber coloured liquid. |           8   |\n",
            "|  2157 | 1967.0042.001    | 908 kg   | nan                                                                                                                                                                                                                                                                                                     |           9   |\n",
            "| 71817 | 1995.1329.001    | 9072 kg  | STEEL, CAST IRON, NICKEL, BRONZE/ WOOD REAR PLATFORM & PARTS/ GLASS WINDOWS, LAMPS, MIRRORS, GAUGE WINDOWS/ RUBBER TIRES, HOSES/ CANVAS HOSES/ SYNTHETIC STEERING WHEEL, CONTROLS, PARTS                                                                                                                |          10   |\n"
          ]
        },
        {
          "output_type": "stream",
          "name": "stderr",
          "text": [
            "<ipython-input-16-7d75e644538e>:2: SettingWithCopyWarning: \n",
            "A value is trying to be set on a copy of a slice from a DataFrame.\n",
            "Try using .loc[row_indexer,col_indexer] = value instead\n",
            "\n",
            "See the caveats in the documentation: https://pandas.pydata.org/pandas-docs/stable/user_guide/indexing.html#returning-a-view-versus-a-copy\n",
            "  df_weigth['rank_weight'] = df_weigth['Weight'].rank(ascending=False)\n"
          ]
        }
      ]
    },
    {
      "cell_type": "markdown",
      "source": [],
      "metadata": {
        "id": "iZctzfoxrBJl"
      }
    },
    {
      "cell_type": "code",
      "source": [],
      "metadata": {
        "id": "pfkOqCR5k6G1"
      },
      "execution_count": null,
      "outputs": []
    }
  ]
}