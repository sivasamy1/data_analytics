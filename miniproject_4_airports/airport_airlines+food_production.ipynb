{
  "nbformat": 4,
  "nbformat_minor": 0,
  "metadata": {
    "colab": {
      "provenance": [],
      "mount_file_id": "https://github.com/sivasamy1/data_analytics/blob/main/miniproject_4_airports/airport_airlines_miniproject_4.ipynb",
      "authorship_tag": "ABX9TyP60sF/rav0ZyqgB8IPL0RI",
      "include_colab_link": true
    },
    "kernelspec": {
      "name": "python3",
      "display_name": "Python 3"
    },
    "language_info": {
      "name": "python"
    }
  },
  "cells": [
    {
      "cell_type": "markdown",
      "metadata": {
        "id": "view-in-github",
        "colab_type": "text"
      },
      "source": [
        "<a href=\"https://colab.research.google.com/github/sivasamy1/data_analytics/blob/main/miniproject_4_airports/airport_airlines_miniproject_4.ipynb\" target=\"_parent\"><img src=\"https://colab.research.google.com/assets/colab-badge.svg\" alt=\"Open In Colab\"/></a>"
      ]
    },
    {
      "cell_type": "code",
      "source": [
        "from google.colab import drive\n",
        "drive.mount('/content/drive')"
      ],
      "metadata": {
        "colab": {
          "base_uri": "https://localhost:8080/"
        },
        "id": "We-0_rX5goV-",
        "outputId": "130b1bab-db61-457b-f0ae-bc1eceebcd2b"
      },
      "execution_count": 1,
      "outputs": [
        {
          "output_type": "stream",
          "name": "stdout",
          "text": [
            "Drive already mounted at /content/drive; to attempt to forcibly remount, call drive.mount(\"/content/drive\", force_remount=True).\n"
          ]
        }
      ]
    },
    {
      "cell_type": "code",
      "source": [
        "\n",
        "import pandas as pd\n",
        "from tabulate import tabulate"
      ],
      "metadata": {
        "id": "1KyeyKymgpJD"
      },
      "execution_count": 2,
      "outputs": []
    },
    {
      "cell_type": "markdown",
      "source": [
        "## **PART I**"
      ],
      "metadata": {
        "id": "bztWcGduov_U"
      }
    },
    {
      "cell_type": "code",
      "source": [
        "df_airports = pd.read_csv(\"/content/drive/MyDrive/data_analytics/MINIPROJECT_4/airports.dat.txt\")\n",
        "df_airports.columns = [\"Airport_ID\",\"Name\",\"City\",\"Country\",\"IATA\",\"ICAO\",\"Latitude\",\"Longitude\",\"Altitude\",\"Timezone\",\"DST\",\"Tz database timezone\",\"Type\",\"Source\"]\n",
        "\n",
        "print(tabulate(df_airports.head(10), headers='keys', tablefmt='psql'))"
      ],
      "metadata": {
        "colab": {
          "base_uri": "https://localhost:8080/"
        },
        "id": "O1TNXUWshDYb",
        "outputId": "6d798525-284a-4b85-e274-9bfc5748da92"
      },
      "execution_count": 17,
      "outputs": [
        {
          "output_type": "stream",
          "name": "stdout",
          "text": [
            "+----+--------------+---------------------------------------------+--------------+------------------+--------+--------+------------+-------------+------------+------------+-------+------------------------+---------+-------------+\n",
            "|    |   Airport_ID | Name                                        | City         | Country          | IATA   | ICAO   |   Latitude |   Longitude |   Altitude |   Timezone | DST   | Tz database timezone   | Type    | Source      |\n",
            "|----+--------------+---------------------------------------------+--------------+------------------+--------+--------+------------+-------------+------------+------------+-------+------------------------+---------+-------------|\n",
            "|  0 |            2 | Madang Airport                              | Madang       | Papua New Guinea | MAG    | AYMD   |   -5.20708 |    145.789  |         20 |         10 | U     | Pacific/Port_Moresby   | airport | OurAirports |\n",
            "|  1 |            3 | Mount Hagen Kagamuga Airport                | Mount Hagen  | Papua New Guinea | HGU    | AYMH   |   -5.82679 |    144.296  |       5388 |         10 | U     | Pacific/Port_Moresby   | airport | OurAirports |\n",
            "|  2 |            4 | Nadzab Airport                              | Nadzab       | Papua New Guinea | LAE    | AYNZ   |   -6.5698  |    146.726  |        239 |         10 | U     | Pacific/Port_Moresby   | airport | OurAirports |\n",
            "|  3 |            5 | Port Moresby Jacksons International Airport | Port Moresby | Papua New Guinea | POM    | AYPY   |   -9.44338 |    147.22   |        146 |         10 | U     | Pacific/Port_Moresby   | airport | OurAirports |\n",
            "|  4 |            6 | Wewak International Airport                 | Wewak        | Papua New Guinea | WWK    | AYWK   |   -3.58383 |    143.669  |         19 |         10 | U     | Pacific/Port_Moresby   | airport | OurAirports |\n",
            "|  5 |            7 | Narsarsuaq Airport                          | Narssarssuaq | Greenland        | UAK    | BGBW   |   61.1605  |    -45.426  |        112 |         -3 | E     | America/Godthab        | airport | OurAirports |\n",
            "|  6 |            8 | Godthaab / Nuuk Airport                     | Godthaab     | Greenland        | GOH    | BGGH   |   64.1909  |    -51.6781 |        283 |         -3 | E     | America/Godthab        | airport | OurAirports |\n",
            "|  7 |            9 | Kangerlussuaq Airport                       | Sondrestrom  | Greenland        | SFJ    | BGSF   |   67.0122  |    -50.7116 |        165 |         -3 | E     | America/Godthab        | airport | OurAirports |\n",
            "|  8 |           10 | Thule Air Base                              | Thule        | Greenland        | THU    | BGTL   |   76.5312  |    -68.7032 |        251 |         -4 | E     | America/Thule          | airport | OurAirports |\n",
            "|  9 |           11 | Akureyri Airport                            | Akureyri     | Iceland          | AEY    | BIAR   |   65.66    |    -18.0727 |          6 |          0 | N     | Atlantic/Reykjavik     | airport | OurAirports |\n",
            "+----+--------------+---------------------------------------------+--------------+------------------+--------+--------+------------+-------------+------------+------------+-------+------------------------+---------+-------------+\n"
          ]
        }
      ]
    },
    {
      "cell_type": "markdown",
      "source": [
        "\n",
        "### **1.1. Top 20 highest altitude airports in the world. Choose only “type” with “airport”**###\n"
      ],
      "metadata": {
        "id": "afCE5iLukx2D"
      }
    },
    {
      "cell_type": "code",
      "source": [
        "df_airport = df_airports[df_airports[\"Type\"] == \"airport\"]\n",
        "df_top20 = df_airport.sort_values(by='Altitude', ascending=False).head(20)\n",
        "df_top20['Rank'] = df_top20['Altitude'].rank(ascending=False)\n",
        "\n",
        "df_top20_final = df_top20[['Airport_ID', 'Name', 'City', 'Country', 'Altitude', 'Rank']]\n",
        "\n",
        "print(tabulate(df_top20_final, headers='keys', tablefmt='psql'))"
      ],
      "metadata": {
        "colab": {
          "base_uri": "https://localhost:8080/"
        },
        "id": "jybcVo8UhN9q",
        "outputId": "ec4721ff-89f8-49b5-bed9-fd6b509be75c"
      },
      "execution_count": 18,
      "outputs": [
        {
          "output_type": "stream",
          "name": "stdout",
          "text": [
            "+------+--------------+----------------------------------------+-------------+-----------+------------+--------+\n",
            "|      |   Airport_ID | Name                                   | City        | Country   |   Altitude |   Rank |\n",
            "|------+--------------+----------------------------------------+-------------+-----------+------------+--------|\n",
            "| 6541 |         9310 | Daocheng Yading Airport                | Daocheng    | China     |      14472 |      1 |\n",
            "| 5027 |         6396 | Qamdo Bangda Airport                   | Bangda      | China     |      14219 |      2 |\n",
            "| 6392 |         8921 | Kangding Airport                       | Kangding    | China     |      14042 |      3 |\n",
            "| 5871 |         7932 | Ngari Gunsa Airport                    | Shiquanhe   | China     |      14022 |      4 |\n",
            "| 2624 |         2762 | El Alto International Airport          | La Paz      | Bolivia   |      13355 |      5 |\n",
            "| 2626 |         2764 | Capitan Nicolas Rojas Airport          | Potosi      | Bolivia   |      12913 |      6 |\n",
            "| 5850 |         7894 | Yushu Batang Airport                   | Yushu       | China     |      12816 |      7 |\n",
            "| 6419 |         8969 | Copacabana Airport                     | Copacabana  | Bolivia   |      12591 |      8 |\n",
            "| 2653 |         2792 | Inca Manco Capac International Airport | Juliaca     | Peru      |      12552 |      9 |\n",
            "| 7537 |        13483 | Golog Maqin Airport                    | Golog       | China     |      12426 |     10 |\n",
            "| 5777 |         7766 | Syangboche Airport                     | Syangboche  | Nepal     |      12400 |     11 |\n",
            "| 2625 |         2763 | Juan Mendoza Airport                   | Oruro       | Bolivia   |      12152 |     12 |\n",
            "| 3873 |         4097 | Lhasa Gonggar Airport                  | Lhasa       | China     |      11713 |     13 |\n",
            "| 6802 |        10943 | Hongyuan Airport                       | Ngawa       | China     |      11600 |     14 |\n",
            "| 2341 |         2464 | La Quiaca Airport                      | Laboulaye   | Argentina |      11414 |     15 |\n",
            "| 4039 |         4301 | Jiuzhai Huanglong Airport              | Jiuzhaigou  | China     |      11327 |     16 |\n",
            "| 2648 |         2787 | Andahuaylas Airport                    | Andahuaylas | Peru      |      11300 |     17 |\n",
            "| 5498 |         7313 | Uyuni Airport                          | Uyuni       | Bolivia   |      11136 |     18 |\n",
            "| 2652 |         2791 | Francisco Carle Airport                | Jauja       | Peru      |      11034 |     19 |\n",
            "| 3941 |         4174 | Manang Airport                         | Manang      | Nepal     |      11001 |     20 |\n",
            "+------+--------------+----------------------------------------+-------------+-----------+------------+--------+\n"
          ]
        }
      ]
    },
    {
      "cell_type": "markdown",
      "source": [
        "### **1.2. Top 20 countries that have the highest total number of airports.** ###"
      ],
      "metadata": {
        "id": "Cl-oaVJOs0Bl"
      }
    },
    {
      "cell_type": "code",
      "source": [
        "\n",
        "df_top_20_countries = df_airports.groupby(['Country']).size().to_frame('total_airports').reset_index(drop=False)\n",
        "df_top_20_countries = df_top_20_countries.sort_values(by=['total_airports'],ascending=False)\n",
        "df_top_20_countries ['rank'] = df_top_20_countries['total_airports'].rank(ascending=False)\n",
        "df_top_20_countries = df_top_20_countries.head(20)\n",
        "\n",
        "print(tabulate(df_top_20_countries, headers='keys', tablefmt='psql'))"
      ],
      "metadata": {
        "id": "Ocy8M-RejyjM",
        "colab": {
          "base_uri": "https://localhost:8080/"
        },
        "outputId": "4c8a9781-94f0-44f7-878c-b3891b0c02bb"
      },
      "execution_count": 19,
      "outputs": [
        {
          "output_type": "stream",
          "name": "stdout",
          "text": [
            "+-----+----------------+------------------+--------+\n",
            "|     | Country        |   total_airports |   rank |\n",
            "|-----+----------------+------------------+--------|\n",
            "| 223 | United States  |             1512 |    1   |\n",
            "|  37 | Canada         |              430 |    2   |\n",
            "|  11 | Australia      |              334 |    3   |\n",
            "| 176 | Russia         |              264 |    4.5 |\n",
            "|  27 | Brazil         |              264 |    4.5 |\n",
            "|  79 | Germany        |              249 |    6   |\n",
            "|  43 | China          |              241 |    7   |\n",
            "|  73 | France         |              217 |    8   |\n",
            "| 222 | United Kingdom |              167 |    9   |\n",
            "|  97 | India          |              148 |   10   |\n",
            "|  98 | Indonesia      |              145 |   11   |\n",
            "| 106 | Japan          |              123 |   12   |\n",
            "| 195 | South Africa   |               99 |   13   |\n",
            "|   8 | Argentina      |               96 |   14   |\n",
            "| 136 | Mexico         |               84 |   15   |\n",
            "| 104 | Italy          |               83 |   16   |\n",
            "|  99 | Iran           |               82 |   17   |\n",
            "| 204 | Sweden         |               77 |   18   |\n",
            "| 215 | Turkey         |               76 |   19   |\n",
            "|  46 | Colombia       |               75 |   20   |\n",
            "+-----+----------------+------------------+--------+\n"
          ]
        }
      ]
    },
    {
      "cell_type": "markdown",
      "source": [
        "### **1.3. Top 20 cities that have the highest total number of airports. (Two cities from different countries can have the same name, and you have to make sure the numbers are not messed up due to that!)** ###\n"
      ],
      "metadata": {
        "id": "GHetoyBxQDSC"
      }
    },
    {
      "cell_type": "code",
      "source": [
        "df_top20_cities = df_airports.groupby(['City']).size().reset_index(name='total_airports')\n",
        "df_top20_cities = df_top20_cities.sort_values(by='total_airports', ascending=False)\n",
        "df_top20_cities['rank'] = df_top20_cities['total_airports'].rank(ascending=False)\n",
        "df_top20_cities = df_top20_cities[['City', 'total_airports', 'rank']].head(20).reset_index(drop=True)\n",
        "\n",
        "print(tabulate(df_top20_cities, headers='keys', tablefmt='psql'))"
      ],
      "metadata": {
        "id": "X-r4k5LdtgVu",
        "colab": {
          "base_uri": "https://localhost:8080/"
        },
        "outputId": "872bf23c-9c0e-4ff0-8b9d-4d6919455f01"
      },
      "execution_count": 20,
      "outputs": [
        {
          "output_type": "stream",
          "name": "stdout",
          "text": [
            "+----+--------------+------------------+--------+\n",
            "|    | City         |   total_airports |   rank |\n",
            "|----+--------------+------------------+--------|\n",
            "|  0 | London       |                9 |    1   |\n",
            "|  1 | Columbus     |                8 |    2   |\n",
            "|  2 | Georgetown   |                7 |    3.5 |\n",
            "|  3 | San Jose     |                7 |    3.5 |\n",
            "|  4 | Houston      |                6 |    8   |\n",
            "|  5 | New York     |                6 |    8   |\n",
            "|  6 | Moscow       |                6 |    8   |\n",
            "|  7 | Alexandria   |                6 |    8   |\n",
            "|  8 | Jacksonville |                6 |    8   |\n",
            "|  9 | Santiago     |                6 |    8   |\n",
            "| 10 | Greenville   |                6 |    8   |\n",
            "| 11 | Victoria     |                5 |   17   |\n",
            "| 12 | Burlington   |                5 |   17   |\n",
            "| 13 | Atlanta      |                5 |   17   |\n",
            "| 14 | Hamilton     |                5 |   17   |\n",
            "| 15 | Rome         |                5 |   17   |\n",
            "| 16 | Richmond     |                5 |   17   |\n",
            "| 17 | San Antonio  |                5 |   17   |\n",
            "| 18 | Athens       |                5 |   17   |\n",
            "| 19 | Izmir        |                5 |   17   |\n",
            "+----+--------------+------------------+--------+\n"
          ]
        }
      ]
    },
    {
      "cell_type": "markdown",
      "source": [
        "### **1.4. Pair of cities that have the same name, but from two different countries.** ###\n",
        "### (hint: Use self join with query in Python) ###"
      ],
      "metadata": {
        "id": "Xba2pRjdpDt6"
      }
    },
    {
      "cell_type": "code",
      "source": [
        "same_name_cities = []\n",
        "grouped = df_airports.groupby('City')\n",
        "\n",
        "for city, group in grouped:\n",
        "    if len(group) > 1:\n",
        "        countries = group['Country'].tolist()\n",
        "        for i in range(len(group)):\n",
        "            for j in range(i + 1, len(group)):\n",
        "                country_a = group.iloc[i]['Country']\n",
        "                country_b = group.iloc[j]['Country']\n",
        "                if country_a != country_b:\n",
        "                    pair = tuple(sorted([country_a, country_b]))\n",
        "                    same_name_cities.append((city, pair[0], city, pair[1]))\n",
        "\n",
        "same_name_cities_df = pd.DataFrame(same_name_cities, columns=['City_A', 'Country_A', 'City_B', 'Country_B']).drop_duplicates()\n",
        "\n",
        "print(same_name_cities_df)"
      ],
      "metadata": {
        "id": "YllpffKswdOE",
        "colab": {
          "base_uri": "https://localhost:8080/"
        },
        "outputId": "374bf53c-f1e2-4c59-c4d2-b961e9ebe377"
      },
      "execution_count": 21,
      "outputs": [
        {
          "output_type": "stream",
          "name": "stdout",
          "text": [
            "         City_A       Country_A      City_B      Country_B\n",
            "0      Aberdeen  United Kingdom    Aberdeen  United States\n",
            "2        Albany       Australia      Albany  United States\n",
            "4    Alexandria           Egypt  Alexandria         Greece\n",
            "5    Alexandria           Egypt  Alexandria  United States\n",
            "9    Alexandria          Greece  Alexandria  United States\n",
            "..          ...             ...         ...            ...\n",
            "285    Victoria           Chile    Victoria  United States\n",
            "288     Vitoria          Brazil     Vitoria          Spain\n",
            "289      Warsaw          Poland      Warsaw  United States\n",
            "292    Waterloo          Canada    Waterloo  United States\n",
            "293  Wellington     New Zealand  Wellington  United States\n",
            "\n",
            "[164 rows x 4 columns]\n"
          ]
        }
      ]
    },
    {
      "cell_type": "markdown",
      "source": [
        "## **PART II**"
      ],
      "metadata": {
        "id": "5OJoa_Pr3kMa"
      }
    },
    {
      "cell_type": "code",
      "source": [
        "df_airports2 = pd.read_csv(\"/content/drive/MyDrive/data_analytics/MINIPROJECT_4/Airports2.csv\")\n",
        "\n",
        "print(tabulate(df_airports2.head(20), headers='keys', tablefmt='psql'))"
      ],
      "metadata": {
        "id": "xoMWnMmx4GSR",
        "colab": {
          "base_uri": "https://localhost:8080/"
        },
        "outputId": "bcb89534-ec1b-4afc-d5c0-2f200b5b142e"
      },
      "execution_count": 22,
      "outputs": [
        {
          "output_type": "stream",
          "name": "stdout",
          "text": [
            "+----+------------------+-----------------------+---------------+--------------------+--------------+---------+-----------+------------+------------+---------------------+--------------------------+-------------------+--------------------+--------------------+---------------------+\n",
            "|    | Origin_airport   | Destination_airport   | Origin_city   | Destination_city   |   Passengers |   Seats |   Flights |   Distance | Fly_date   |   Origin_population |   Destination_population |   Org_airport_lat |   Org_airport_long |   Dest_airport_lat |   Dest_airport_long |\n",
            "|----+------------------+-----------------------+---------------+--------------------+--------------+---------+-----------+------------+------------+---------------------+--------------------------+-------------------+--------------------+--------------------+---------------------|\n",
            "|  0 | MHK              | AMW                   | Manhattan, KS | Ames, IA           |           21 |      30 |         1 |        254 | 2008-10-01 |              122049 |                    86219 |           39.141  |           -96.6708 |           nan      |              nan    |\n",
            "|  1 | EUG              | RDM                   | Eugene, OR    | Bend, OR           |           41 |     396 |        22 |        103 | 1990-11-01 |              284093 |                    76034 |           44.1246 |          -123.212  |            44.2541 |             -121.15 |\n",
            "|  2 | EUG              | RDM                   | Eugene, OR    | Bend, OR           |           88 |     342 |        19 |        103 | 1990-12-01 |              284093 |                    76034 |           44.1246 |          -123.212  |            44.2541 |             -121.15 |\n",
            "|  3 | EUG              | RDM                   | Eugene, OR    | Bend, OR           |           11 |      72 |         4 |        103 | 1990-10-01 |              284093 |                    76034 |           44.1246 |          -123.212  |            44.2541 |             -121.15 |\n",
            "|  4 | MFR              | RDM                   | Medford, OR   | Bend, OR           |            0 |      18 |         1 |        156 | 1990-02-01 |              147300 |                    76034 |           42.3742 |          -122.873  |            44.2541 |             -121.15 |\n",
            "|  5 | MFR              | RDM                   | Medford, OR   | Bend, OR           |           11 |      18 |         1 |        156 | 1990-03-01 |              147300 |                    76034 |           42.3742 |          -122.873  |            44.2541 |             -121.15 |\n",
            "|  6 | MFR              | RDM                   | Medford, OR   | Bend, OR           |            2 |      72 |         4 |        156 | 1990-01-01 |              147300 |                    76034 |           42.3742 |          -122.873  |            44.2541 |             -121.15 |\n",
            "|  7 | MFR              | RDM                   | Medford, OR   | Bend, OR           |            7 |      18 |         1 |        156 | 1990-09-01 |              147300 |                    76034 |           42.3742 |          -122.873  |            44.2541 |             -121.15 |\n",
            "|  8 | MFR              | RDM                   | Medford, OR   | Bend, OR           |            7 |      36 |         2 |        156 | 1990-11-01 |              147300 |                    76034 |           42.3742 |          -122.873  |            44.2541 |             -121.15 |\n",
            "|  9 | SEA              | RDM                   | Seattle, WA   | Bend, OR           |            8 |      18 |         1 |        228 | 1990-02-01 |             5154164 |                    76034 |           47.449  |          -122.309  |            44.2541 |             -121.15 |\n",
            "| 10 | SEA              | RDM                   | Seattle, WA   | Bend, OR           |          453 |    3128 |        23 |        228 | 1990-01-01 |             5154164 |                    76034 |           47.449  |          -122.309  |            44.2541 |             -121.15 |\n",
            "| 11 | SEA              | RDM                   | Seattle, WA   | Bend, OR           |          784 |    2720 |        20 |        228 | 1990-02-01 |             5154164 |                    76034 |           47.449  |          -122.309  |            44.2541 |             -121.15 |\n",
            "| 12 | SEA              | RDM                   | Seattle, WA   | Bend, OR           |          749 |    2992 |        22 |        228 | 1990-03-01 |             5154164 |                    76034 |           47.449  |          -122.309  |            44.2541 |             -121.15 |\n",
            "| 13 | SEA              | RDM                   | Seattle, WA   | Bend, OR           |           11 |      18 |         1 |        228 | 1990-04-01 |             5154164 |                    76034 |           47.449  |          -122.309  |            44.2541 |             -121.15 |\n",
            "| 14 | PDX              | RDM                   | Portland, OR  | Bend, OR           |          349 |     851 |        23 |        116 | 1990-01-01 |             1534762 |                    76034 |           45.5887 |          -122.598  |            44.2541 |             -121.15 |\n",
            "| 15 | PDX              | RDM                   | Portland, OR  | Bend, OR           |         1376 |    2898 |       161 |        116 | 1990-01-01 |             1534762 |                    76034 |           45.5887 |          -122.598  |            44.2541 |             -121.15 |\n",
            "| 16 | PDX              | RDM                   | Portland, OR  | Bend, OR           |          444 |    1110 |        30 |        116 | 1990-10-01 |             1534762 |                    76034 |           45.5887 |          -122.598  |            44.2541 |             -121.15 |\n",
            "| 17 | PDX              | RDM                   | Portland, OR  | Bend, OR           |         1949 |    3261 |       187 |        116 | 1990-06-01 |             1534762 |                    76034 |           45.5887 |          -122.598  |            44.2541 |             -121.15 |\n",
            "| 18 | PDX              | RDM                   | Portland, OR  | Bend, OR           |          381 |     814 |        22 |        116 | 1990-02-01 |             1534762 |                    76034 |           45.5887 |          -122.598  |            44.2541 |             -121.15 |\n",
            "| 19 | PDX              | RDM                   | Portland, OR  | Bend, OR           |         1559 |    2772 |       154 |        116 | 1990-02-01 |             1534762 |                    76034 |           45.5887 |          -122.598  |            44.2541 |             -121.15 |\n",
            "+----+------------------+-----------------------+---------------+--------------------+--------------+---------+-----------+------------+------------+---------------------+--------------------------+-------------------+--------------------+--------------------+---------------------+\n"
          ]
        }
      ]
    },
    {
      "cell_type": "markdown",
      "source": [
        "\n",
        "### **2.1.In the year 2009, print Top 10 cities in the USA that received maximum inbound flights.**\n",
        "### **Output:**\n",
        "### **city,total_inbound_flights,rank**"
      ],
      "metadata": {
        "id": "75NUbTJzl5Km"
      }
    },
    {
      "cell_type": "code",
      "source": [
        "top_10_cities_2009 = df_airports2[(df_airports2['Fly_date'] >= '2009-01-01') & (df_airports2['Fly_date'] <= '2009-12-31')].groupby('Destination_city')['Flights'].sum().nlargest(10).to_frame('total_inbound_flights')\n",
        "top_10_cities_2009['Rank'] = top_10_cities_2009['total_inbound_flights'].rank(ascending=False)\n",
        "top_10_cities_inbound_2009 = top_10_cities_2009.reset_index()\n",
        "top_10_cities_inbound_2009.columns = ['City', 'Total_inbound_flights', 'Rank']\n",
        "print(tabulate(top_10_cities_inbound_2009, headers='keys', tablefmt='psql'))"
      ],
      "metadata": {
        "id": "u0DYLEtVnr0j",
        "colab": {
          "base_uri": "https://localhost:8080/"
        },
        "outputId": "45129e96-289d-4377-e875-d57d0c6cdddd"
      },
      "execution_count": 24,
      "outputs": [
        {
          "output_type": "stream",
          "name": "stdout",
          "text": [
            "+----+------------------+-------------------------+--------+\n",
            "|    | City             |   Total_inbound_flights |   Rank |\n",
            "|----+------------------+-------------------------+--------|\n",
            "|  0 | Chicago, IL      |                  417297 |      1 |\n",
            "|  1 | Atlanta, GA      |                  396603 |      2 |\n",
            "|  2 | Dallas, TX       |                  316265 |      3 |\n",
            "|  3 | New York, NY     |                  278206 |      4 |\n",
            "|  4 | Houston, TX      |                  250030 |      5 |\n",
            "|  5 | Washington, DC   |                  238744 |      6 |\n",
            "|  6 | Charlotte, NC    |                  199700 |      7 |\n",
            "|  7 | Los Angeles, CA  |                  192676 |      8 |\n",
            "|  8 | Detroit, MI      |                  183655 |      9 |\n",
            "|  9 | Philadelphia, PA |                  181645 |     10 |\n",
            "+----+------------------+-------------------------+--------+\n"
          ]
        }
      ]
    },
    {
      "cell_type": "markdown",
      "source": [
        "### **2.2. In the year 2009, print Top 10 cities in the USA that received maximum outbound flights.**\n",
        "### **Output:**\n",
        "### **city,total_inbound_flights,rank**"
      ],
      "metadata": {
        "id": "pPbfJedToQk2"
      }
    },
    {
      "cell_type": "code",
      "source": [
        "import datetime\n",
        "def get_year(row):\n",
        "  return datetime.datetime.strptime(row['Fly_date'], '%Y-%m-%d').year\n",
        "df_airports2['year'] = df_airports2.apply(get_year, axis=1)\n",
        "top_10_cities_2009 = df_airports2.where(df_airports2['year'] == 2009)\n",
        "top_10_cities_2009 = top_10_cities_2009.groupby('Origin_city')['Flights'].sum().nlargest(10).to_frame('total_inbound_flights')\n",
        "top_10_cities_2009['Rank'] = top_10_cities_2009['total_inbound_flights'].rank(ascending=False)\n",
        "top_10_cities_outbound_2009 = top_10_cities_2009.reset_index()\n",
        "top_10_cities_outbound_2009.columns = ['City', 'Total_outbound_cities', 'Rank']\n",
        "print(tabulate(top_10_cities_outbound_2009, headers='keys', tablefmt='psql'))"
      ],
      "metadata": {
        "colab": {
          "base_uri": "https://localhost:8080/"
        },
        "id": "oLDu_Zpb2i7n",
        "outputId": "adfab10d-becf-486b-884c-4a3446236807"
      },
      "execution_count": 25,
      "outputs": [
        {
          "output_type": "stream",
          "name": "stdout",
          "text": [
            "+----+------------------+-------------------------+--------+\n",
            "|    | City             |   Total_outbound_cities |   Rank |\n",
            "|----+------------------+-------------------------+--------|\n",
            "|  0 | Chicago, IL      |                  416742 |      1 |\n",
            "|  1 | Atlanta, GA      |                  397112 |      2 |\n",
            "|  2 | Dallas, TX       |                  316739 |      3 |\n",
            "|  3 | New York, NY     |                  278351 |      4 |\n",
            "|  4 | Houston, TX      |                  249285 |      5 |\n",
            "|  5 | Washington, DC   |                  238958 |      6 |\n",
            "|  6 | Charlotte, NC    |                  200403 |      7 |\n",
            "|  7 | Los Angeles, CA  |                  193248 |      8 |\n",
            "|  8 | Detroit, MI      |                  184087 |      9 |\n",
            "|  9 | Philadelphia, PA |                  181575 |     10 |\n",
            "+----+------------------+-------------------------+--------+\n"
          ]
        }
      ]
    },
    {
      "cell_type": "markdown",
      "source": [
        "### **2.3. In between 1999-2009, print Top 10 cities in the USA that received maximum  outbound flights.**\n",
        "### **Output:**\n",
        "### **city,total_outbound_flights, rank**"
      ],
      "metadata": {
        "id": "lmCUC6HRW39D"
      }
    },
    {
      "cell_type": "code",
      "source": [
        "top_10_cities_99to09 = df_airports2[(df_airports2['Fly_date'] >= '1999-01-01') & (df_airports2['Fly_date'] <= '2009-12-31')].groupby('Origin_city')['Flights'].sum().nlargest(10).to_frame('total_outbound_flights')\n",
        "top_10_cities_99to09['Rank'] = top_10_cities_99to09['total_outbound_flights'].rank(ascending=False)\n",
        "top_10_cities_99to09 = top_10_cities_99to09.reset_index()\n",
        "top_10_cities_99to09.columns = ['City', 'Total_outbound_cities', 'Rank']\n",
        "print(tabulate(top_10_cities_99to09, headers='keys', tablefmt='psql'))"
      ],
      "metadata": {
        "id": "BLYD0Sr1J6P8",
        "colab": {
          "base_uri": "https://localhost:8080/"
        },
        "outputId": "d7b9303c-5f02-40b8-cd54-7a720b801392"
      },
      "execution_count": 26,
      "outputs": [
        {
          "output_type": "stream",
          "name": "stdout",
          "text": [
            "+----+-----------------+-------------------------+--------+\n",
            "|    | City            |   Total_outbound_cities |   Rank |\n",
            "|----+-----------------+-------------------------+--------|\n",
            "|  0 | Chicago, IL     |                 4997322 |      1 |\n",
            "|  1 | Atlanta, GA     |                 4177480 |      2 |\n",
            "|  2 | Dallas, TX      |                 3938032 |      3 |\n",
            "|  3 | Houston, TX     |                 2750620 |      4 |\n",
            "|  4 | New York, NY    |                 2750398 |      5 |\n",
            "|  5 | Washington, DC  |                 2432099 |      6 |\n",
            "|  6 | Los Angeles, CA |                 2412159 |      7 |\n",
            "|  7 | Detroit, MI     |                 2215283 |      8 |\n",
            "|  8 | Minneapolis, MN |                 2080578 |      9 |\n",
            "|  9 | Phoenix, AZ     |                 1983949 |     10 |\n",
            "+----+-----------------+-------------------------+--------+\n"
          ]
        }
      ]
    },
    {
      "cell_type": "markdown",
      "source": [
        "### **2.4. In between 1999-2009, the Top 10 cities in the USA carry the maximum total number of passengers on outbound flights. The city column in the output will also have its state (For example San Francisco, CA).**\n",
        "### **Output:**\n",
        "### **city,total_num_passengers,rank**\n"
      ],
      "metadata": {
        "id": "E5dEIpjf5lXF"
      }
    },
    {
      "cell_type": "code",
      "source": [
        "top_10_cities_99to09 = df_airports2[(df_airports2['Fly_date'] >= '1999-01-01') & (df_airports2['Fly_date'] <= '2009-12-31')].groupby('Origin_city')['Passengers'].sum().nlargest(10).to_frame('Total_num_passengers')\n",
        "top_10_cities_99to09 = top_10_cities_99to09.nlargest(10, 'Total_num_passengers')\n",
        "top_10_cities_99to09['Rank'] = top_10_cities_99to09['Total_num_passengers'].rank(ascending=False)\n",
        "top_10_cities_99to09 = top_10_cities_99to09.reset_index()\n",
        "top_10_cities_99to09.columns = ['City', 'Total_num_passengers', 'Rank']\n",
        "print(tabulate(top_10_cities_99to09, headers='keys', tablefmt='psql'))"
      ],
      "metadata": {
        "id": "E3tZmbhKZRFw",
        "colab": {
          "base_uri": "https://localhost:8080/"
        },
        "outputId": "2b450e12-ab26-445c-d518-4da4915b94d1"
      },
      "execution_count": 27,
      "outputs": [
        {
          "output_type": "stream",
          "name": "stdout",
          "text": [
            "+----+-----------------+------------------------+--------+\n",
            "|    | City            |   Total_num_passengers |   Rank |\n",
            "|----+-----------------+------------------------+--------|\n",
            "|  0 | Chicago, IL     |              381908565 |      1 |\n",
            "|  1 | Atlanta, GA     |              368972910 |      2 |\n",
            "|  2 | Dallas, TX      |              294826498 |      3 |\n",
            "|  3 | Los Angeles, CA |              223950429 |      4 |\n",
            "|  4 | New York, NY    |              209454427 |      5 |\n",
            "|  5 | Houston, TX     |              199031920 |      6 |\n",
            "|  6 | Phoenix, AZ     |              186032113 |      7 |\n",
            "|  7 | Las Vegas, NV   |              184877669 |      8 |\n",
            "|  8 | Minneapolis, MN |              155881721 |      9 |\n",
            "|  9 | Washington, DC  |              155604229 |     10 |\n",
            "+----+-----------------+------------------------+--------+\n"
          ]
        }
      ]
    },
    {
      "cell_type": "markdown",
      "source": [
        "###**2.5. In the years 2007 and 2009 together, the Top 10 states in the USA carry the maximum total number of passengers on the outbound flights.**###\n",
        "###Output:###\n",
        "###state,total_num_passengers,rank###\n"
      ],
      "metadata": {
        "id": "9Rz-7-Cim7ED"
      }
    },
    {
      "cell_type": "code",
      "source": [
        "def get_state(row):\n",
        "  return (row['Origin_city']).split()[-1]\n",
        "df_airports2['year'] = df_airports2.apply(get_year, axis=1)\n",
        "df_airports2['State'] = df_airports2.apply(get_state, axis=1)\n",
        "top_10_cities_2007_and_2009 = df_airports2[df_airports2['year'].isin([2007, 2009])]\n",
        "top_10_cities_2007_and_2009 = top_10_cities_2007_and_2009.groupby('State')['Passengers'].sum().nlargest(10).to_frame('Total_num_passengers')\n",
        "top_10_cities_2007_and_2009['Rank'] = top_10_cities_2007_and_2009['Total_num_passengers'].rank(ascending=False)\n",
        "top_10_cities_2007_and_2009 = top_10_cities_2007_and_2009.reset_index()\n",
        "top_10_cities_2007_and_2009 = top_10_cities_2007_and_2009[['State', 'Total_num_passengers', 'Rank']]\n",
        "print(tabulate(top_10_cities_2007_and_2009, headers='keys', tablefmt='psql'))"
      ],
      "metadata": {
        "colab": {
          "base_uri": "https://localhost:8080/"
        },
        "id": "lh9JtvTE8UQu",
        "outputId": "c2ff538c-19ba-49b9-e503-20211c3f2b04"
      },
      "execution_count": 28,
      "outputs": [
        {
          "output_type": "stream",
          "name": "stdout",
          "text": [
            "+----+---------+------------------------+--------+\n",
            "|    | State   |   Total_num_passengers |   Rank |\n",
            "|----+---------+------------------------+--------|\n",
            "|  0 | TX      |              118576093 |      1 |\n",
            "|  1 | CA      |              118537406 |      2 |\n",
            "|  2 | FL      |               93448010 |      3 |\n",
            "|  3 | GA      |               71945184 |      4 |\n",
            "|  4 | IL      |               71179367 |      5 |\n",
            "|  5 | NY      |               56989265 |      6 |\n",
            "|  6 | NC      |               43021560 |      7 |\n",
            "|  7 | NV      |               40460714 |      8 |\n",
            "|  8 | AZ      |               38935740 |      9 |\n",
            "|  9 | PA      |               36806330 |     10 |\n",
            "+----+---------+------------------------+--------+\n"
          ]
        }
      ]
    },
    {
      "cell_type": "markdown",
      "source": [
        "### **2.6 Merge the columns outputs in questions 1 and 2 from Part II**\n",
        "### **Output:**\n",
        "### **city,total_inbound_flights,inbound_rank,total_outbound_flights,outbound_rank**"
      ],
      "metadata": {
        "id": "lzm7JVjU86W2"
      }
    },
    {
      "cell_type": "code",
      "source": [
        "df_merge_inbound_outbound_2009 = pd.merge(top_10_cities_inbound_2009, top_10_cities_outbound_2009, on='City', how='inner')\n",
        "df_merge_inbound_outbound_2009.columns = ['City', 'Total_inbound_flights', 'Inbound_rank', 'Total_outbound_flights', 'Outbound_rank']\n",
        "print(tabulate(df_merge_inbound_outbound_2009, headers='keys', tablefmt='psql'))"
      ],
      "metadata": {
        "colab": {
          "base_uri": "https://localhost:8080/"
        },
        "id": "yimCQOOC9KwG",
        "outputId": "dd536537-a039-4df3-ca08-c5ebe89a0597"
      },
      "execution_count": 29,
      "outputs": [
        {
          "output_type": "stream",
          "name": "stdout",
          "text": [
            "+----+------------------+-------------------------+----------------+--------------------------+-----------------+\n",
            "|    | City             |   Total_inbound_flights |   Inbound_rank |   Total_outbound_flights |   Outbound_rank |\n",
            "|----+------------------+-------------------------+----------------+--------------------------+-----------------|\n",
            "|  0 | Chicago, IL      |                  417297 |              1 |                   416742 |               1 |\n",
            "|  1 | Atlanta, GA      |                  396603 |              2 |                   397112 |               2 |\n",
            "|  2 | Dallas, TX       |                  316265 |              3 |                   316739 |               3 |\n",
            "|  3 | New York, NY     |                  278206 |              4 |                   278351 |               4 |\n",
            "|  4 | Houston, TX      |                  250030 |              5 |                   249285 |               5 |\n",
            "|  5 | Washington, DC   |                  238744 |              6 |                   238958 |               6 |\n",
            "|  6 | Charlotte, NC    |                  199700 |              7 |                   200403 |               7 |\n",
            "|  7 | Los Angeles, CA  |                  192676 |              8 |                   193248 |               8 |\n",
            "|  8 | Detroit, MI      |                  183655 |              9 |                   184087 |               9 |\n",
            "|  9 | Philadelphia, PA |                  181645 |             10 |                   181575 |              10 |\n",
            "+----+------------------+-------------------------+----------------+--------------------------+-----------------+\n"
          ]
        }
      ]
    },
    {
      "cell_type": "markdown",
      "source": [
        "### **Plot group bar chart (see below image) with seaborn/matplotlib for the output in question 6 above, specifically city,total_inbound_flights,total_outbound_flights. One bar for total_inbound_flights and another for total_outbound_flights. Plot for only top 10 cities by total_inbound_flights.**\n",
        "\n",
        "  X-axis - city\n",
        "  \n",
        "  Y-axis - total_outbound_flights, total_inbound_flights"
      ],
      "metadata": {
        "id": "dFnhx8FDBJL1"
      }
    },
    {
      "cell_type": "code",
      "source": [
        "import seaborn as sns\n",
        "import matplotlib.pyplot as plt\n",
        "import numpy as np\n",
        "cities = df_merge_inbound_outbound_2009['City']\n",
        "inbound = df_merge_inbound_outbound_2009['Total_inbound_flights']\n",
        "outbound = df_merge_inbound_outbound_2009['Total_outbound_flights']\n",
        "width = 0.35\n",
        "x = np.arange(len(cities))  # the label locations\n",
        "\n",
        "plt.figure(figsize=(10, 6))\n",
        "\n",
        "# Plot the inbound and outbound flights side by side\n",
        "plt.bar(x - width/2, inbound, width, label='Total Inbound Flights')\n",
        "plt.bar(x + width/2, outbound, width, label='Total Outbound Flights')\n",
        "plt.xlabel('City')\n",
        "plt.ylabel('Total Flights')\n",
        "plt.title('Total Inbound and Outbound Flights by City')\n",
        "plt.xticks(x, cities, rotation=90)\n",
        "plt.legend()\n",
        "plt.show()\n"
      ],
      "metadata": {
        "colab": {
          "base_uri": "https://localhost:8080/",
          "height": 661
        },
        "id": "dxHIdfty9QAj",
        "outputId": "90ce4a96-b5bd-485f-bfbf-0925f10ee76b"
      },
      "execution_count": 30,
      "outputs": [
        {
          "output_type": "display_data",
          "data": {
            "text/plain": [
              "<Figure size 1000x600 with 1 Axes>"
            ],
            "image/png": "[encoded data removed]"
          },
          "metadata": {}
        }
      ]
    },
    {
      "cell_type": "markdown",
      "source": [
        "## **PART III**"
      ],
      "metadata": {
        "id": "Kxhk0II6pCAu"
      }
    },
    {
      "cell_type": "code",
      "source": [
        "import pandas as pd\n",
        "from tabulate import tabulate"
      ],
      "metadata": {
        "id": "5mWMbkegpI6q"
      },
      "execution_count": 31,
      "outputs": []
    },
    {
      "cell_type": "code",
      "source": [
        "df_food = pd.read_csv('/content/drive/MyDrive/data_analytics/MINIPROJECT_4/world_food_production.csv')\n",
        "print(tabulate(df_food.head(20), headers='keys', tablefmt='psql'))"
      ],
      "metadata": {
        "id": "80IhLtvaDQBR",
        "outputId": "33a37b1e-db07-471b-c129-aab0379d85d5",
        "colab": {
          "base_uri": "https://localhost:8080/"
        }
      },
      "execution_count": 32,
      "outputs": [
        {
          "output_type": "stream",
          "name": "stdout",
          "text": [
            "+----+-------------+--------+-----------------------------+------------------------------+-----------------------------+-----------------------------+--------------------------------+------------------------------+---------------------------------------+---------------------------------------+----------------------------------+---------------------------------+----------------------------+---------------------------------+--------------------------------+----------------------------------+---------------------------------+-------------------------------+--------------------------------------+-----------------------------------+--------------------------------------+---------------------------------+--------------------------------+------------------------------+\n",
            "|    | Entity      |   Year |   Maize Production (tonnes) |   Rice  Production ( tonnes) |   Yams  Production (tonnes) |   Wheat Production (tonnes) |   Tomatoes Production (tonnes) |   Tea  Production ( tonnes ) |   Sweet potatoes  Production (tonnes) |   Sunflower seed  Production (tonnes) |   Sugar cane Production (tonnes) |   Soybeans  Production (tonnes) |   Rye  Production (tonnes) |   Potatoes  Production (tonnes) |   Oranges  Production (tonnes) |   Peas, dry Production ( tonnes) |   Palm oil  Production (tonnes) |   Grapes  Production (tonnes) |   Coffee, green Production ( tonnes) |   Cocoa beans Production (tonnes) |   Meat, chicken  Production (tonnes) |   Bananas  Production ( tonnes) |   Avocados Production (tonnes) |   Apples Production (tonnes) |\n",
            "|----+-------------+--------+-----------------------------+------------------------------+-----------------------------+-----------------------------+--------------------------------+------------------------------+---------------------------------------+---------------------------------------+----------------------------------+---------------------------------+----------------------------+---------------------------------+--------------------------------+----------------------------------+---------------------------------+-------------------------------+--------------------------------------+-----------------------------------+--------------------------------------+---------------------------------+--------------------------------+------------------------------|\n",
            "|  0 | Afghanistan |   1961 |                      700000 |                       319000 |                 7.4677e+06  |                   2.279e+06 |                    1.87381e+06 |                        56315 |                           3.27087e+06 |                                 12000 |                            45000 |                           71813 |                      10290 |                          130000 |                          10100 |                           232910 |                     1.13188e+06 |                        225000 |                     870970           |                  835368           |                                 5600 |                     3.13908e+06 |                          63439 |                        15100 |\n",
            "|  1 | Afghanistan |   1962 |                      700000 |                       319000 |                 7.42052e+06 |                   2.279e+06 |                    2.0448e+06  |                        61519 |                           3.56252e+06 |                                 12800 |                            45000 |                           84594 |                       9100 |                          115000 |                          10100 |                           259412 |                     1.11101e+06 |                        225000 |                     883512           |                  867170           |                                 6000 |                     3.18158e+06 |                          65118 |                        15100 |\n",
            "|  2 | Afghanistan |   1963 |                      713000 |                       319000 |                 8.47907e+06 |                   1.947e+06 |                    2.09608e+06 |                        63596 |                           3.40992e+06 |                                 12800 |                            45000 |                           87260 |                      13800 |                          122000 |                          10100 |                           251529 |                     1.145e+06   |                        225000 |                     996674           |                  922621           |                                 6160 |                     3.30426e+06 |                          61760 |                        15100 |\n",
            "|  3 | Afghanistan |   1964 |                      720000 |                       380000 |                 9.11378e+06 |                   2.23e+06  |                    2.38826e+06 |                        66604 |                           3.22934e+06 |                                 12800 |                            45000 |                           76781 |                      16100 |                          129000 |                          12400 |                           247556 |                     1.16083e+06 |                        265000 |                          1.16205e+06 |                       1.19006e+06 |                                 6400 |                     3.39253e+06 |                          62759 |                        18400 |\n",
            "|  4 | Afghanistan |   1965 |                      720000 |                       380000 |                 1.00679e+07 |                   2.282e+06 |                    2.55961e+06 |                        72418 |                           3.1691e+06  |                                 13200 |                            51000 |                           73067 |                      13900 |                          132000 |                          13700 |                           266947 |                     1.13886e+06 |                        287000 |                          1.07508e+06 |                  874245           |                                 6800 |                     3.45085e+06 |                          66269 |                        20400 |\n",
            "|  5 | Afghanistan |   1966 |                      720000 |                       337000 |                 1.08636e+07 |                   2.033e+06 |                    2.69098e+06 |                        90272 |                           3.21481e+06 |                                 14000 |                            51000 |                           77180 |                       8411 |                          136000 |                          15300 |                           280862 |                     1.15165e+06 |                        315000 |                          1.19953e+06 |                  969648           |                                 7200 |                     3.56346e+06 |                          68331 |                        22800 |\n",
            "|  6 | Afghanistan |   1967 |                      768000 |                       396000 |                 1.21231e+07 |                   2.28e+06  |                    2.58019e+06 |                        86111 |                           3.55657e+06 |                                 14000 |                            57000 |                           80884 |                      14301 |                          147000 |                          18500 |                           275066 |                     1.10001e+06 |                        372000 |                          1.08556e+06 |                  982906           |                                 7600 |                     3.60354e+06 |                          71416 |                        27600 |\n",
            "|  7 | Afghanistan |   1968 |                      773000 |                       402000 |                 1.284e+07   |                   2.354e+06 |                    2.79924e+06 |                       100736 |                           3.60121e+06 |                                 14400 |                            57000 |                           90459 |                       9100 |                          150000 |                          18700 |                           293310 |                     1.15402e+06 |                        375000 |                          1.18387e+06 |                  855617           |                                 8000 |                     3.7329e+06  |                          73906 |                        27900 |\n",
            "|  8 | Afghanistan |   1969 |                      785000 |                       407000 |                 1.44964e+07 |                   2.454e+06 |                    3.00156e+06 |                       114363 |                           3.76091e+06 |                                 14800 |                            60000 |                           89000 |                       8100 |                          154000 |                          18900 |                           274316 |                     1.1951e+06  |                        379000 |                          1.2535e+06  |                       1.00466e+06 |                                 9600 |                     3.91473e+06 |                          76704 |                        28200 |\n",
            "|  9 | Afghanistan |   1970 |                      667000 |                       366000 |                 1.64133e+07 |                   2.081e+06 |                    3.11148e+06 |                       121398 |                           4.55889e+06 |                                 14000 |                            55000 |                           97211 |                      15160 |                          144000 |                          18300 |                           284651 |                     1.07708e+06 |                        364000 |                          1.295e+06   |                       1.12084e+06 |                                 9600 |                     4.07616e+06 |                          78464 |                        27300 |\n",
            "| 10 | Afghanistan |   1971 |                      670000 |                       350000 |                 1.42321e+07 |                   1.915e+06 |                    3.18016e+06 |                       119437 |                           4.34926e+06 |                                 11200 |                            50000 |                           97545 |                       7120 |                          167000 |                          14400 |                           318768 |                     1.07666e+06 |                        293000 |                          1.26629e+06 |                       1.17824e+06 |                                 9600 |                     4.12249e+06 |                          80181 |                        21500 |\n",
            "| 11 | Afghanistan |   1972 |                      720000 |                       400000 |                 1.12748e+07 |                   2.45e+06  |                    3.33595e+06 |                       151578 |                           4.13066e+06 |                                 13600 |                            35000 |                          103891 |                      12000 |                          158000 |                          17800 |                           317368 |                     1.03859e+06 |                        360000 |                          1.29627e+06 |                       1.03663e+06 |                                 9600 |                     4.01372e+06 |                          86052 |                        26600 |\n",
            "| 12 | Afghanistan |   1973 |                      760000 |                       420000 |                 1.16003e+07 |                   2.7e+06   |                    3.35968e+06 |                       157667 |                           4.27472e+06 |                                 15200 |                            58000 |                          106221 |                      15320 |                          165000 |                          18500 |                           234753 |                     1.01111e+06 |                        385000 |                          1.37942e+06 |                  966647           |                                10000 |                     4.31932e+06 |                          87090 |                        27600 |\n",
            "| 13 | Afghanistan |   1974 |                      770000 |                       420000 |                 1.20992e+07 |                   2.75e+06  |                    3.6934e+06  |                       153865 |                           4.98118e+06 |                                 16000 |                            51600 |                          135960 |                       8850 |                          182000 |                          18700 |                           319015 |                     1.12252e+06 |                        407000 |                          1.26673e+06 |                       1.025e+06   |                                10000 |                     4.58421e+06 |                          97017 |                        27800 |\n",
            "| 14 | Afghanistan |   1975 |                      780000 |                       435000 |                 1.34877e+07 |                   2.85e+06  |                    4.44169e+06 |                       154792 |                           5.40627e+06 |                                 16000 |                            60000 |                          151128 |                       7980 |                          194500 |                          18800 |                           278294 |                     1.17666e+06 |                        420000 |                          1.31258e+06 |                       1.00433e+06 |                                10400 |                     4.33459e+06 |                         117384 |                        27900 |\n",
            "| 15 | Afghanistan |   1976 |                      800000 |                       448000 |                 1.14249e+07 |                   2.936e+06 |                    4.32927e+06 |                       160838 |                           5.72558e+06 |                                 16000 |                            68100 |                          177483 |                       9330 |                          354000 |                          17600 |                           299490 |                     1.16886e+06 |                        471000 |                          1.16551e+06 |                  876150           |                                10400 |                     4.37942e+06 |                         112374 |                        26200 |\n",
            "| 16 | Afghanistan |   1977 |                      760000 |                       400000 |                 1.10062e+07 |                   2.652e+06 |                    4.35347e+06 |                       198731 |                           5.33178e+06 |                                 14400 |                            64000 |                          214047 |                       5900 |                          200000 |                          10400 |                           271464 |                     1.14102e+06 |                        430000 |                          1.23535e+06 |                  935141           |                                10800 |                     4.43001e+06 |                         116720 |                        15500 |\n",
            "| 17 | Afghanistan |   1978 |                      780000 |                       428000 |                 1.06711e+07 |                   2.813e+06 |                    4.43305e+06 |                       205356 |                           5.73878e+06 |                                 14000 |                            64000 |                          308253 |                      10870 |                          250000 |                          15200 |                           254479 |                     1.1745e+06  |                        440000 |                          1.06366e+06 |                  909069           |                                11200 |                     4.31431e+06 |                         120298 |                        22700 |\n",
            "| 18 | Afghanistan |   1979 |                      760000 |                       439000 |                 1.036e+07   |                   2.663e+06 |                    4.63912e+06 |                       206032 |                           5.33897e+06 |                                 16800 |                            64000 |                          327037 |                      11800 |                          257000 |                          14500 |                           275337 |                     1.27875e+06 |                        442000 |                          1.11074e+06 |                       1.01454e+06 |                                12000 |                     5.01674e+06 |                         131592 |                        21600 |\n",
            "| 19 | Afghanistan |   1980 |                      752000 |                       415000 |                 1.07739e+07 |                   2.55e+06  |                    4.82135e+06 |                       200307 |                           5.23497e+06 |                                 17200 |                            70000 |                          339734 |                       9900 |                          266000 |                          15000 |                           368450 |                     1.35748e+06 |                        459000 |                          1.16365e+06 |                       1.0258e+06  |                                12000 |                     5.02456e+06 |                         137343 |                        22300 |\n",
            "+----+-------------+--------+-----------------------------+------------------------------+-----------------------------+-----------------------------+--------------------------------+------------------------------+---------------------------------------+---------------------------------------+----------------------------------+---------------------------------+----------------------------+---------------------------------+--------------------------------+----------------------------------+---------------------------------+-------------------------------+--------------------------------------+-----------------------------------+--------------------------------------+---------------------------------+--------------------------------+------------------------------+\n"
          ]
        }
      ]
    },
    {
      "cell_type": "markdown",
      "source": [
        "### **3.1Read the input csv file from the dataframe and convert columns to rows**\n",
        "### **The \"Value\" column values should come from the crop column names such as Maize Production (tonnes), Rice Production (tonnes) from the input csv file.**(hint: UnPivot melt)."
      ],
      "metadata": {
        "id": "dJR-QiXrpMtC"
      }
    },
    {
      "cell_type": "code",
      "source": [
        "df_melted = pd.melt(df_food, id_vars=['Entity', 'Year'], var_name='Productions', value_name='Value')\n",
        "production_columns = df_food.columns[2:]\n",
        "df_melted['Productions'] = pd.Categorical(df_melted['Productions'], categories=production_columns, ordered=True)\n",
        "df_melted = df_melted.sort_values(by=['Entity', 'Year', 'Productions']).reset_index(drop=True)\n",
        "\n",
        "print(tabulate(df_melted.head(20), headers='keys', tablefmt='psql'))"
      ],
      "metadata": {
        "id": "x-59INhxpFPy",
        "outputId": "ee1e99a7-a4e4-45c0-c6f1-f0d524ad71b6",
        "colab": {
          "base_uri": "https://localhost:8080/"
        }
      },
      "execution_count": 33,
      "outputs": [
        {
          "output_type": "stream",
          "name": "stdout",
          "text": [
            "+----+-------------+--------+-------------------------------------+------------------+\n",
            "|    | Entity      |   Year | Productions                         |            Value |\n",
            "|----+-------------+--------+-------------------------------------+------------------|\n",
            "|  0 | Afghanistan |   1961 | Maize Production (tonnes)           | 700000           |\n",
            "|  1 | Afghanistan |   1961 | Rice  Production ( tonnes)          | 319000           |\n",
            "|  2 | Afghanistan |   1961 | Yams  Production (tonnes)           |      7.4677e+06  |\n",
            "|  3 | Afghanistan |   1961 | Wheat Production (tonnes)           |      2.279e+06   |\n",
            "|  4 | Afghanistan |   1961 | Tomatoes Production (tonnes)        |      1.87381e+06 |\n",
            "|  5 | Afghanistan |   1961 | Tea  Production ( tonnes )          |  56315           |\n",
            "|  6 | Afghanistan |   1961 | Sweet potatoes  Production (tonnes) |      3.27087e+06 |\n",
            "|  7 | Afghanistan |   1961 | Sunflower seed  Production (tonnes) |  12000           |\n",
            "|  8 | Afghanistan |   1961 | Sugar cane Production (tonnes)      |  45000           |\n",
            "|  9 | Afghanistan |   1961 | Soybeans  Production (tonnes)       |  71813           |\n",
            "| 10 | Afghanistan |   1961 | Rye  Production (tonnes)            |  10290           |\n",
            "| 11 | Afghanistan |   1961 | Potatoes  Production (tonnes)       | 130000           |\n",
            "| 12 | Afghanistan |   1961 | Oranges  Production (tonnes)        |  10100           |\n",
            "| 13 | Afghanistan |   1961 | Peas, dry Production ( tonnes)      | 232910           |\n",
            "| 14 | Afghanistan |   1961 | Palm oil  Production (tonnes)       |      1.13188e+06 |\n",
            "| 15 | Afghanistan |   1961 | Grapes  Production (tonnes)         | 225000           |\n",
            "| 16 | Afghanistan |   1961 | Coffee, green Production ( tonnes)  | 870970           |\n",
            "| 17 | Afghanistan |   1961 | Cocoa beans Production (tonnes)     | 835368           |\n",
            "| 18 | Afghanistan |   1961 | Meat, chicken  Production (tonnes)  |   5600           |\n",
            "| 19 | Afghanistan |   1961 | Bananas  Production ( tonnes)       |      3.13908e+06 |\n",
            "+----+-------------+--------+-------------------------------------+------------------+\n"
          ]
        }
      ]
    },
    {
      "cell_type": "markdown",
      "source": [
        "### **3.2 For each unique value in column \"Productions\", you have to assign a unique integer/float value. The following is an example output with unique float value. You are not supposed to use custom function. You are not supposed to provide explicit mapping between values in \"Produtions\" and integer/float values (hint: use ordinal encoding).**"
      ],
      "metadata": {
        "id": "TqBFlaQ1pSv7"
      }
    },
    {
      "cell_type": "code",
      "source": [
        "from sklearn.preprocessing import OrdinalEncoder\n",
        "df = df_melted.Productions.unique()\n",
        "prod_categories = df\n",
        "enc = OrdinalEncoder(categories=[prod_categories], dtype=float)\n",
        "df_melted[['Productions']] = enc.fit_transform(df_melted[['Productions']])\n",
        "df_melted = df_melted.reset_index(drop=True)\n",
        "print(tabulate(df_melted.head(20), headers='keys', tablefmt='psql'))"
      ],
      "metadata": {
        "id": "zFQajrHQpV9V",
        "outputId": "513697e4-7699-4b03-f407-cd5bebe2275f",
        "colab": {
          "base_uri": "https://localhost:8080/"
        }
      },
      "execution_count": 34,
      "outputs": [
        {
          "output_type": "stream",
          "name": "stdout",
          "text": [
            "+----+-------------+--------+---------------+------------------+\n",
            "|    | Entity      |   Year |   Productions |            Value |\n",
            "|----+-------------+--------+---------------+------------------|\n",
            "|  0 | Afghanistan |   1961 |             0 | 700000           |\n",
            "|  1 | Afghanistan |   1961 |             1 | 319000           |\n",
            "|  2 | Afghanistan |   1961 |             2 |      7.4677e+06  |\n",
            "|  3 | Afghanistan |   1961 |             3 |      2.279e+06   |\n",
            "|  4 | Afghanistan |   1961 |             4 |      1.87381e+06 |\n",
            "|  5 | Afghanistan |   1961 |             5 |  56315           |\n",
            "|  6 | Afghanistan |   1961 |             6 |      3.27087e+06 |\n",
            "|  7 | Afghanistan |   1961 |             7 |  12000           |\n",
            "|  8 | Afghanistan |   1961 |             8 |  45000           |\n",
            "|  9 | Afghanistan |   1961 |             9 |  71813           |\n",
            "| 10 | Afghanistan |   1961 |            10 |  10290           |\n",
            "| 11 | Afghanistan |   1961 |            11 | 130000           |\n",
            "| 12 | Afghanistan |   1961 |            12 |  10100           |\n",
            "| 13 | Afghanistan |   1961 |            13 | 232910           |\n",
            "| 14 | Afghanistan |   1961 |            14 |      1.13188e+06 |\n",
            "| 15 | Afghanistan |   1961 |            15 | 225000           |\n",
            "| 16 | Afghanistan |   1961 |            16 | 870970           |\n",
            "| 17 | Afghanistan |   1961 |            17 | 835368           |\n",
            "| 18 | Afghanistan |   1961 |            18 |   5600           |\n",
            "| 19 | Afghanistan |   1961 |            19 |      3.13908e+06 |\n",
            "+----+-------------+--------+---------------+------------------+\n"
          ]
        }
      ]
    },
    {
      "cell_type": "markdown",
      "source": [
        "### **3.3 Read \"medical_data_synthetic.csv\" and convert yes/no to 1/0 for non-numeric column (\"obesity\") without using custom function (lambda) for the medical dataset here. Column \"gender\" need to be converted to numeric too without custom function.**\n",
        "### **(hint: use label encoding in sklearn library for \"obesity\" and use ordinal encoding for \"gender\")**"
      ],
      "metadata": {
        "id": "t6Ok-LNqpcHH"
      }
    },
    {
      "cell_type": "code",
      "source": [
        "df_medical = pd.read_csv('/content/drive/MyDrive/data_analytics/MINIPROJECT_4/medical_data_synthetic.csv')\n",
        "print(tabulate(df_medical, headers='keys', tablefmt='psql'))"
      ],
      "metadata": {
        "id": "mMgMiZGVpetg",
        "outputId": "0ea23e99-2c34-4984-e7e4-e8a824d681be",
        "colab": {
          "base_uri": "https://localhost:8080/"
        }
      },
      "execution_count": 35,
      "outputs": [
        {
          "output_type": "stream",
          "name": "stdout",
          "text": [
            "+----+----------------+------+---------+-----------+----------+\n",
            "|    | patient_name   |   bp |   sugar | obesity   | gender   |\n",
            "|----+----------------+------+---------+-----------+----------|\n",
            "|  0 | ram            |  111 |     110 | yes       | male     |\n",
            "|  1 | radha          |  100 |     120 | no        | female   |\n",
            "|  2 | kumar          |  120 |     120 | yes       | male     |\n",
            "|  3 | john           |  130 |      90 | no        | male     |\n",
            "|  4 | lily           |   92 |      91 | yes       | female   |\n",
            "+----+----------------+------+---------+-----------+----------+\n"
          ]
        }
      ]
    },
    {
      "cell_type": "code",
      "source": [
        "from sklearn.preprocessing import LabelEncoder, OrdinalEncoder\n",
        "le = LabelEncoder()\n",
        "ord = OrdinalEncoder()\n",
        "df_medical['obesity'] = le.fit_transform(df_medical['obesity'])\n",
        "df_medical['gender'] = ord.fit_transform(df_medical[['gender']])\n",
        "print(tabulate(df_medical, headers='keys', tablefmt='psql'))"
      ],
      "metadata": {
        "id": "z41WA4NBphpQ",
        "outputId": "b72103df-5a84-4a0e-a23f-3ccb69634502",
        "colab": {
          "base_uri": "https://localhost:8080/"
        }
      },
      "execution_count": 36,
      "outputs": [
        {
          "output_type": "stream",
          "name": "stdout",
          "text": [
            "+----+----------------+------+---------+-----------+----------+\n",
            "|    | patient_name   |   bp |   sugar |   obesity |   gender |\n",
            "|----+----------------+------+---------+-----------+----------|\n",
            "|  0 | ram            |  111 |     110 |         1 |        1 |\n",
            "|  1 | radha          |  100 |     120 |         0 |        0 |\n",
            "|  2 | kumar          |  120 |     120 |         1 |        1 |\n",
            "|  3 | john           |  130 |      90 |         0 |        1 |\n",
            "|  4 | lily           |   92 |      91 |         1 |        0 |\n",
            "+----+----------------+------+---------+-----------+----------+\n"
          ]
        }
      ]
    }
  ]
}
