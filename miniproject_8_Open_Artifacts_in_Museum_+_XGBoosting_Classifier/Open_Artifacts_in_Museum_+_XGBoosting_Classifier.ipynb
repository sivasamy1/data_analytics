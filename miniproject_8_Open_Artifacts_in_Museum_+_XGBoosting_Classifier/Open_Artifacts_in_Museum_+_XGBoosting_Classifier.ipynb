{
  "nbformat": 4,
  "nbformat_minor": 0,
  "metadata": {
    "colab": {
      "provenance": [],
      "mount_file_id": "1JOCns8SKHyPhkdEUI-5PAuvtfDhJPUZ9",
      "authorship_tag": "ABX9TyOztBZa/o5j4upPJVCUYOCj",
      "include_colab_link": true
    },
    "kernelspec": {
      "name": "python3",
      "display_name": "Python 3"
    },
    "language_info": {
      "name": "python"
    }
  },
  "cells": [
    {
      "cell_type": "markdown",
      "metadata": {
        "id": "view-in-github",
        "colab_type": "text"
      },
      "source": [
        "<a href=\"https://colab.research.google.com/github/sivasamy1/data_analytics/blob/main/Open_Artifacts_in_Museum_%2B_XGBoosting_Classifier.ipynb\" target=\"_parent\"><img src=\"https://colab.research.google.com/assets/colab-badge.svg\" alt=\"Open In Colab\"/></a>"
      ]
    },
    {
      "cell_type": "markdown",
      "source": [
        "## **PART I**"
      ],
      "metadata": {
        "id": "tK6BYo0QZBRE"
      }
    },
    {
      "cell_type": "code",
      "source": [
        "from google.colab import drive\n",
        "drive.mount('/content/drive')"
      ],
      "metadata": {
        "id": "MJri0qX2AMmy"
      },
      "execution_count": null,
      "outputs": []
    },
    {
      "cell_type": "code",
      "source": [
        "!cat /content/drive/MyDrive/data_analytics/MINIPROJECT_8/cstmc-CSV-en.csv | head -10"
      ],
      "metadata": {
        "colab": {
          "base_uri": "https://localhost:8080/"
        },
        "id": "0CFtI6JpVWh9",
        "outputId": "5c353686-a052-41f5-9732-4f501d714f65"
      },
      "execution_count": null,
      "outputs": [
        {
          "output_type": "stream",
          "name": "stdout",
          "text": [
            "artifactNumber|ObjectName|GeneralDescription|model|SerialNumber|Manufacturer|ManuCountry|ManuProvince|ManuCity|BeginDate|EndDate|date_qualifier|patent|NumberOfComponents|ArtifactFinish|ContextCanada|ContextFunction|ContextTechnical|group1|category1|subcategory1|group2|category2|subcategory2|group3|category3|subcategory3|material|Length|Width|Height|Thickness|Weight|Diameter|image|thumbnail\n",
            "1966.0001.001|Cover|PAPER|WESTERN CANADA AIRWAYS LTD.||Unknown|Unknown|||1927||||1||AT THE TIME IT WAS THE WORLD'S MOST NORTHERNLY AIR SERVICE|||Aviation|Commemorative|Stamps & coins|||||||paper|4.5 cm|2.6 cm|||||http://source.techno-science.ca/artifacts-artefacts/images/1966.0001.001.aa.cs.png|http://source.techno-science.ca/artifacts-artefacts/images/1966.0001.001.aa.cs.thumb.png\n",
            "1966.0002.001|Stamp, postage|PAPER|WESTERN CANADA AIRWAYS LTD.||Unknown|Unknown|||1927||||1|PINK & BLACK ON WHITE||||Aviation|Commemorative|Stamps & coins|||||||paper|3.8 cm|2.7 cm|||||http://source.techno-science.ca/artifacts-artefacts/images/1966.0002.001.aa.cs.png|http://source.techno-science.ca/artifacts-artefacts/images/1966.0002.001.aa.cs.thumb.png\n",
            "1966.0003.001|Stamp, postage|PAPER|||Unknown|Unknown|||1932||||1|DARK & PALE BLUE ON WHITE||||Aviation|Commemorative|Stamps & coins|||||||paper|12.8 cm|8.4 cm|||||http://source.techno-science.ca/artifacts-artefacts/images/1966.0003.001.aa.cs.png|http://source.techno-science.ca/artifacts-artefacts/images/1966.0003.001.aa.cs.thumb.png\n",
            "1966.0004.001|Stamp, postage|PAPER|ELLIOT, JACK V. AIR SERVICE||Unknown|Unknown|||1926||||1|RED ON YELLOW WITH SHADED ZIG-ZAG LINE BACKGROUND||||Aviation|Commemorative|Stamps & coins|||||||paper|22.4 cm|9.0 cm|||||http://source.techno-science.ca/artifacts-artefacts/images/1966.0004.001.aa.cs.png|http://source.techno-science.ca/artifacts-artefacts/images/1966.0004.001.aa.cs.thumb.png\n",
            "1966.0005.001|Stamp, postage|PAPER|ELLIOT-FAIRCHILD AIR SERVICE||Unknown|Unknown|||1926||||1|RED ON YELLOW WITH SWASTIKA BACKGROUND||||Aviation|Commemorative|Stamps & coins|||||||paper|22.7 cm|9.5 cm|||||http://source.techno-science.ca/artifacts-artefacts/images/1966.0005.001.aa.cs.png|http://source.techno-science.ca/artifacts-artefacts/images/1966.0005.001.aa.cs.thumb.png\n",
            "1966.0006.001|Clock|WOOD (PINE) CASE & PENDULUM/ BRASS MECHANISM||35|REGULA||||1945||after||1|CASE PAINTED MEDIUM BROWN/ DARK BROWN DIAL/ DARK BROWN WEIGHTS CAST IN ACORN SHAPE/ RED, YELLOW, GREEN, & BROWN PAINTED MOULDINGS & PENDULUM/ WHITE HAND & NUMERALS ON DIAL||||Horology|Clocks|Domestic|||||||wood->pine;metal->brass|||||||http://source.techno-science.ca/artifacts-artefacts/images/1966.0006.001.aa.cs.png|http://source.techno-science.ca/artifacts-artefacts/images/1966.0006.001.aa.cs.thumb.png\n",
            "1966.0007.001|Thermometer|METAL CASING/ PAPER? FACE/ GLASS OR SYNTHETIC FRONT.|||Unknown|Unknown|||1930||circa||1|COPPER COLOURED CASING/ BLACK INDICATOR NEEDLE||AN INSTRUMENT THAT MEASURES ATMOSPHERIC TEMPERATURE THROUGH THE DEFORMATION OF A BIMETALLIC SENSOR, DISPLAYING THE READINGS ON A DIAL INDICATOR.||Meteorology|Atmospheric temperature measurement|Indicators|||||||metal;paper;glass;synthetic||23.2 cm|3.0 cm||||http://source.techno-science.ca/artifacts-artefacts/images/1966.0007.001.aa.cs.png|http://source.techno-science.ca/artifacts-artefacts/images/1966.0007.001.aa.cs.thumb.png\n",
            "1966.0008.001|Relay|GLASS, METAL, SYNTHETIC/ CARDBOARD BOX|501||Edison, Thomas A. Industries|United States of America|New jersey|West orange|1950|1960|circa||1|||USED IN AN ELECTRIC CIRCUIT TO MAKE OR BREAK ONE OR MORE CONNECTIONS IN THE SAME OR ANOTHER CIRCUIT||Energy-electric|Electricity & electronics|Electronics-vacuum|||||||glass;metal;synthetic;paper|9.4 cm|3.2 cm|||||http://source.techno-science.ca/artifacts-artefacts/images/1966.0008.001.aa.cs.png|http://source.techno-science.ca/artifacts-artefacts/images/1966.0008.001.aa.cs.thumb.png\n",
            "1966.0009.001|Propeller|Wooden propeller with metal sheathing attached to leading edges|JUPITER XI|12428B|Unknown|Unknown|||1929||||1|METAL LEADING EDGE/ PAINTED BLACK/ SCRATCHED & DIRTY/ HUB HAS HOLES||Aircraft propulsion||Aviation|Aircraft parts||||||||wood;metal|340.0 cm|30.0 cm|15.0 cm||18.5 kg||http://source.techno-science.ca/artifacts-artefacts/images/1966.0009.001.aa.cs.png|http://source.techno-science.ca/artifacts-artefacts/images/1966.0009.001.aa.cs.thumb.png\n"
          ]
        }
      ]
    },
    {
      "cell_type": "code",
      "execution_count": null,
      "metadata": {
        "id": "I5Zc98TIGm-m",
        "colab": {
          "base_uri": "https://localhost:8080/"
        },
        "outputId": "ec66148b-7a3c-477c-ca8c-40a03a9f8ad3"
      },
      "outputs": [
        {
          "output_type": "stream",
          "name": "stdout",
          "text": [
            "|    | artifactNumber   | ObjectName     | GeneralDescription   | model                        |   SerialNumber | Manufacturer   | ManuCountry   |   ManuProvince |   ManuCity |   BeginDate |   EndDate |   date_qualifier |   patent |   NumberOfComponents | ArtifactFinish                                    | ContextCanada                                              |   ContextFunction |   ContextTechnical | group1   | category1     | subcategory1   |   group2 |   category2 |   subcategory2 |   group3 |   category3 |   subcategory3 | material   | Length   | Width   |   Height |   Thickness |   Weight |   Diameter | image                                                                              | thumbnail                                                                                |\n",
            "|----|------------------|----------------|----------------------|------------------------------|----------------|----------------|---------------|----------------|------------|-------------|-----------|------------------|----------|----------------------|---------------------------------------------------|------------------------------------------------------------|-------------------|--------------------|----------|---------------|----------------|----------|-------------|----------------|----------|-------------|----------------|------------|----------|---------|----------|-------------|----------|------------|------------------------------------------------------------------------------------|------------------------------------------------------------------------------------------|\n",
            "|  0 | 1966.0001.001    | Cover          | PAPER                | WESTERN CANADA AIRWAYS LTD.  |            nan | Unknown        | Unknown       |            nan |        nan |        1927 |       nan |              nan |      nan |                    1 | nan                                               | AT THE TIME IT WAS THE WORLD'S MOST NORTHERNLY AIR SERVICE |               nan |                nan | Aviation | Commemorative | Stamps & coins |      nan |         nan |            nan |      nan |         nan |            nan | paper      | 4.5 cm   | 2.6 cm  |      nan |         nan |      nan |        nan | http://source.techno-science.ca/artifacts-artefacts/images/1966.0001.001.aa.cs.png | http://source.techno-science.ca/artifacts-artefacts/images/1966.0001.001.aa.cs.thumb.png |\n",
            "|  1 | 1966.0002.001    | Stamp, postage | PAPER                | WESTERN CANADA AIRWAYS LTD.  |            nan | Unknown        | Unknown       |            nan |        nan |        1927 |       nan |              nan |      nan |                    1 | PINK & BLACK ON WHITE                             | nan                                                        |               nan |                nan | Aviation | Commemorative | Stamps & coins |      nan |         nan |            nan |      nan |         nan |            nan | paper      | 3.8 cm   | 2.7 cm  |      nan |         nan |      nan |        nan | http://source.techno-science.ca/artifacts-artefacts/images/1966.0002.001.aa.cs.png | http://source.techno-science.ca/artifacts-artefacts/images/1966.0002.001.aa.cs.thumb.png |\n",
            "|  2 | 1966.0003.001    | Stamp, postage | PAPER                | nan                          |            nan | Unknown        | Unknown       |            nan |        nan |        1932 |       nan |              nan |      nan |                    1 | DARK & PALE BLUE ON WHITE                         | nan                                                        |               nan |                nan | Aviation | Commemorative | Stamps & coins |      nan |         nan |            nan |      nan |         nan |            nan | paper      | 12.8 cm  | 8.4 cm  |      nan |         nan |      nan |        nan | http://source.techno-science.ca/artifacts-artefacts/images/1966.0003.001.aa.cs.png | http://source.techno-science.ca/artifacts-artefacts/images/1966.0003.001.aa.cs.thumb.png |\n",
            "|  3 | 1966.0004.001    | Stamp, postage | PAPER                | ELLIOT, JACK V. AIR SERVICE  |            nan | Unknown        | Unknown       |            nan |        nan |        1926 |       nan |              nan |      nan |                    1 | RED ON YELLOW WITH SHADED ZIG-ZAG LINE BACKGROUND | nan                                                        |               nan |                nan | Aviation | Commemorative | Stamps & coins |      nan |         nan |            nan |      nan |         nan |            nan | paper      | 22.4 cm  | 9.0 cm  |      nan |         nan |      nan |        nan | http://source.techno-science.ca/artifacts-artefacts/images/1966.0004.001.aa.cs.png | http://source.techno-science.ca/artifacts-artefacts/images/1966.0004.001.aa.cs.thumb.png |\n",
            "|  4 | 1966.0005.001    | Stamp, postage | PAPER                | ELLIOT-FAIRCHILD AIR SERVICE |            nan | Unknown        | Unknown       |            nan |        nan |        1926 |       nan |              nan |      nan |                    1 | RED ON YELLOW WITH SWASTIKA BACKGROUND            | nan                                                        |               nan |                nan | Aviation | Commemorative | Stamps & coins |      nan |         nan |            nan |      nan |         nan |            nan | paper      | 22.7 cm  | 9.5 cm  |      nan |         nan |      nan |        nan | http://source.techno-science.ca/artifacts-artefacts/images/1966.0005.001.aa.cs.png | http://source.techno-science.ca/artifacts-artefacts/images/1966.0005.001.aa.cs.thumb.png |\n"
          ]
        },
        {
          "output_type": "stream",
          "name": "stderr",
          "text": [
            "<ipython-input-3-cb91483d5022>:4: DtypeWarning: Columns (9,10) have mixed types. Specify dtype option on import or set low_memory=False.\n",
            "  df_museun = pd.read_csv('/content/drive/MyDrive/data_analytics/MINIPROJECT_8/cstmc-CSV-en.csv', on_bad_lines='skip', delimiter='|')\n"
          ]
        }
      ],
      "source": [
        "import pandas as pd\n",
        "from tabulate import tabulate\n",
        "\n",
        "df_museun = pd.read_csv('/content/drive/MyDrive/data_analytics/MINIPROJECT_8/cstmc-CSV-en.csv', on_bad_lines='skip', delimiter='|')\n",
        "\n",
        "print(tabulate(df_museun.head(), headers='keys', tablefmt='github'))"
      ]
    },
    {
      "cell_type": "markdown",
      "source": [
        "### **1.1 Total # distinct artifactNumber.**\n",
        "### **Expected Output: Integer Number**\n"
      ],
      "metadata": {
        "id": "ARvgw8bqX5S1"
      }
    },
    {
      "cell_type": "code",
      "source": [
        "print('Total # distinct artifactNumber\\n', df_museun['artifactNumber'].nunique())"
      ],
      "metadata": {
        "id": "s7mZll1yljj5",
        "colab": {
          "base_uri": "https://localhost:8080/"
        },
        "outputId": "e8220747-0f8f-49ca-834d-3287b819690f"
      },
      "execution_count": null,
      "outputs": [
        {
          "output_type": "stream",
          "name": "stdout",
          "text": [
            "Total # distinct artifactNumber\n",
            " 107768\n"
          ]
        }
      ]
    },
    {
      "cell_type": "markdown",
      "source": [
        "### **1.2 Total # distinct ObjectName.**\n",
        "### **Expected Output: Integer Number**"
      ],
      "metadata": {
        "id": "mKB_3x7CgNHt"
      }
    },
    {
      "cell_type": "code",
      "source": [
        "print('Total # distinct ObjectName\\n', df_museun['ObjectName'].nunique(dropna=False))"
      ],
      "metadata": {
        "colab": {
          "base_uri": "https://localhost:8080/"
        },
        "id": "hm-x7-O8dl3a",
        "outputId": "729f2e1f-90b9-46c7-bcc2-43c4a887fe02"
      },
      "execution_count": null,
      "outputs": [
        {
          "output_type": "stream",
          "name": "stdout",
          "text": [
            "Total # distinct ObjectName\n",
            " 8191\n"
          ]
        }
      ]
    },
    {
      "cell_type": "markdown",
      "source": [
        "### **1.3 Top 10 artifacts by weight.**\n",
        "### **Expected Output:**\n",
        "### **artifactnumber,weight,generaldescripton,rank_weight**\n",
        "\n"
      ],
      "metadata": {
        "id": "f_0fXOtHgtNR"
      }
    },
    {
      "cell_type": "code",
      "source": [
        "df_weigth = df_museun[['artifactNumber', 'Weight', 'GeneralDescription']]\n",
        "df_weigth['rank_weight'] = df_weigth['Weight'].rank(ascending=False)\n",
        "df_weigth = df_weigth.sort_values(by='rank_weight', ascending=True)\n",
        "print(tabulate(df_weigth.head(10), headers='keys', tablefmt='github'))"
      ],
      "metadata": {
        "id": "3VWn9e6VgcOk",
        "colab": {
          "base_uri": "https://localhost:8080/"
        },
        "outputId": "0dc45373-caf9-4327-8e1f-72d2a9aa8b76"
      },
      "execution_count": null,
      "outputs": [
        {
          "output_type": "stream",
          "name": "stdout",
          "text": [
            "|       | artifactNumber   | Weight   | GeneralDescription                                                                                                                                                                                                                                                                                      |   rank_weight |\n",
            "|-------|------------------|----------|---------------------------------------------------------------------------------------------------------------------------------------------------------------------------------------------------------------------------------------------------------------------------------------------------------|---------------|\n",
            "| 96491 | 2005.0060.001    | 990 kg   | metal, synthetic and glass components.                                                                                                                                                                                                                                                                  |           1   |\n",
            "| 30136 | 1981.0613.001    | 952.5 kg | METAL & WOOD                                                                                                                                                                                                                                                                                            |           2   |\n",
            "|  4276 | 1968.0102.001    | 950 kg   | nan                                                                                                                                                                                                                                                                                                     |           4.5 |\n",
            "|  2142 | 1967.0027.001    | 950 kg   | nan                                                                                                                                                                                                                                                                                                     |           4.5 |\n",
            "| 20208 | 1977.0274.001    | 950 kg   | SHEET METAL (TIN)/ WOOD/ PLYWOOD/ BRASS/ RUBBER                                                                                                                                                                                                                                                         |           4.5 |\n",
            "| 16954 | 1975.0210.001    | 950 kg   | METAL/ RUBBER/ SYNTHETIC/ GLASS                                                                                                                                                                                                                                                                         |           4.5 |\n",
            "| 28819 | 1980.0932.001    | 93.31 gm | Round brown glass bottle has black moulded synthetic lid; off-white adhesive- backed paper label bears blue printed text.                                                                                                                                                                               |           7   |\n",
            "| 28808 | 1980.0922.001    | 91.50 gm | Round clear glass jar with off-white synthetic lid [supplied by CSTMC Conservation] contains round clear glass jar with brown cork stopper; [loose] red rubber bulb; clear glass [?] tube sealed within opaque synthetic sleeve; brown rubber [?] band. Original bottle contains amber coloured liquid. |           8   |\n",
            "|  2157 | 1967.0042.001    | 908 kg   | nan                                                                                                                                                                                                                                                                                                     |           9   |\n",
            "| 71817 | 1995.1329.001    | 9072 kg  | STEEL, CAST IRON, NICKEL, BRONZE/ WOOD REAR PLATFORM & PARTS/ GLASS WINDOWS, LAMPS, MIRRORS, GAUGE WINDOWS/ RUBBER TIRES, HOSES/ CANVAS HOSES/ SYNTHETIC STEERING WHEEL, CONTROLS, PARTS                                                                                                                |          10   |\n"
          ]
        },
        {
          "output_type": "stream",
          "name": "stderr",
          "text": [
            "<ipython-input-6-7d75e644538e>:2: SettingWithCopyWarning: \n",
            "A value is trying to be set on a copy of a slice from a DataFrame.\n",
            "Try using .loc[row_indexer,col_indexer] = value instead\n",
            "\n",
            "See the caveats in the documentation: https://pandas.pydata.org/pandas-docs/stable/user_guide/indexing.html#returning-a-view-versus-a-copy\n",
            "  df_weigth['rank_weight'] = df_weigth['Weight'].rank(ascending=False)\n"
          ]
        }
      ]
    },
    {
      "cell_type": "markdown",
      "source": [
        "### **1.4 Top 10 artifacts by height.**\n",
        "### **Expected Output:**\n",
        "### **artifactnumber,height,generaldescripton,rank_height**\n"
      ],
      "metadata": {
        "id": "iZctzfoxrBJl"
      }
    },
    {
      "cell_type": "code",
      "source": [
        "df_heigth = df_museun[['artifactNumber', 'Height', 'GeneralDescription']]\n",
        "df_heigth['rank_height'] = df_heigth['Height'].rank(ascending=False)\n",
        "df_heigth = df_heigth.sort_values(by='rank_height', ascending=True)\n",
        "print(tabulate(df_heigth.head(10), headers='keys', tablefmt='github'))"
      ],
      "metadata": {
        "id": "pfkOqCR5k6G1",
        "colab": {
          "base_uri": "https://localhost:8080/"
        },
        "outputId": "03533a84-41a8-4d84-dcec-d45b6499eb78"
      },
      "execution_count": null,
      "outputs": [
        {
          "output_type": "stream",
          "name": "stderr",
          "text": [
            "<ipython-input-7-35465d1c0718>:2: SettingWithCopyWarning: \n",
            "A value is trying to be set on a copy of a slice from a DataFrame.\n",
            "Try using .loc[row_indexer,col_indexer] = value instead\n",
            "\n",
            "See the caveats in the documentation: https://pandas.pydata.org/pandas-docs/stable/user_guide/indexing.html#returning-a-view-versus-a-copy\n",
            "  df_heigth['rank_height'] = df_heigth['Height'].rank(ascending=False)\n"
          ]
        },
        {
          "output_type": "stream",
          "name": "stdout",
          "text": [
            "|       | artifactNumber   | Height   | GeneralDescription                                                                                                                                                                                                                                                                                      |   rank_height |\n",
            "|-------|------------------|----------|---------------------------------------------------------------------------------------------------------------------------------------------------------------------------------------------------------------------------------------------------------------------------------------------------------|---------------|\n",
            "|   988 | 1966.0601.001    | 99.8 cm  | WOODEN CABINET; FABRIC SPEAKER COVER; SYNTHETIC TUNING DIALS, BUTTONS, TUNINGINDICATOR PANEL & MOUNTING. GLASS, METAL & SYNTHETIC COMPONENT PARTS; SHEET STEEL CHASSIS                                                                                                                                  |           2   |\n",
            "| 34792 | 1983.0412.001    | 99.8 cm  | METAL BODY & STAND; OPTICAL GLASS LENS; BAKELITE KNOBS; CLOTH/LEATHERETTE BELLOWS; ELECTRICAL; COTTON/NYLON CORD                                                                                                                                                                                        |           2   |\n",
            "| 44375 | 1987.0554.001    | 99.8 cm  | METAL CASING AND TUBE/ BRASS SCALE AND VERNIER, PARTS/ WOOD CISTERN/ GLASS TUBE AND CYLINDER/ IVORY POINT/ CORD WRAPPING.                                                                                                                                                                               |           2   |\n",
            "| 64873 | 1994.0105.001    | 99.7 cm  | WOOD FRAME & CABINET (COMMERCIALLY MADE) / IVORY? KEYS ON KEYBOARD (COMMERCIALLY MADE)/ METAL & SYNTHETIC WORKING PARTS/ SYNTHETIC CONTROL PANEL                                                                                                                                                        |           5.5 |\n",
            "| 31917 | 1981.1831.001    | 99.7 cm  | WOOD CABINET/ STEEL BASE INSIDE/ RADIO TUBES/ FABRIC COVERED SPEAKER (DK GOLD COLOUR)                                                                                                                                                                                                                   |           5.5 |\n",
            "| 59550 | 1992.0878.001    | 99.7 cm  | PRESSED METAL HOUSING/ CAST METAL REAR LEGS, OVEN FRONT & COOKTOP/ NICKEL PLATED CAST METAL FRONT LEGS, OVEN DOOR FRAME COOKTOP & BACKSPLASH TRIMS/ ENAMELLED METAL OVEN DOOR & BACKSPLASH PANELS/ METAL WIRE RACKS/ CERAMIC OVEN ELEMENT MOUNTS/ PORCELAIN TEMP. CONTROL KNOBS/ GLASS THERMOMETER LENS |           5.5 |\n",
            "| 16454 | 1974.0707.001    | 99.7 cm  | WOOD CABINET/ METAL CHASSIS                                                                                                                                                                                                                                                                             |           5.5 |\n",
            "| 41209 | 1986.0014.002    | 99.6 cm  | FERROUS METALLOWER CASING & TABLE LEGS/ NON-FERROUS METAL UPPER CASING & PARTS/ SYNTHETIC KEYBOARD CASING, KEYBOARD, KEYS, PARTS/ FORMICA TABLE COVERING                                                                                                                                                |           8.5 |\n",
            "| 41208 | 1986.0014.001    | 99.6 cm  | FERROUS METALLOWER CASING & TABLE LEGS/ NON-FERROUS METAL UPPER CASING & PARTS/ SYNTHETIC KEYBOARD CASING, KEYBOARD, KEYS, PARTS/ FORMICA TABLE COVERING                                                                                                                                                |           8.5 |\n",
            "| 16871 | 1975.0130.001    | 99.5 cm  | TUBULAR METAL FRAME/ IRON ENGINE/ LEATHER SEAT/ GLASS HEADLIGHT/ RUBBER HANDLE GRIPS & FOOT REST COVERS/ PLASTIC REAR LIGHT/ ALLOY CYLINDER HEADS                                                                                                                                                       |          12.5 |\n"
          ]
        }
      ]
    },
    {
      "cell_type": "markdown",
      "source": [
        "### **1.5 Top 10 category1 by total # artifacts.**\n",
        "### **Expected Output:**\n",
        "### **category1,num_artifactNumber, rank_category1**\n"
      ],
      "metadata": {
        "id": "0HayrgR2Pyh0"
      }
    },
    {
      "cell_type": "code",
      "source": [
        "df_catgory1 = df_museun.groupby(['category1']).size().to_frame('num_artifactNumber')\n",
        "df_catgory1['rank_category1'] = df_catgory1['num_artifactNumber'].rank(ascending=False)\n",
        "df_catgory1 = df_catgory1.sort_values(by='rank_category1', ascending=True).reset_index()\n",
        "print(tabulate(df_catgory1.head(10), headers='keys', tablefmt='github'))"
      ],
      "metadata": {
        "colab": {
          "base_uri": "https://localhost:8080/"
        },
        "id": "bfS0zdnHN_gn",
        "outputId": "40a5d0e6-e53e-4095-f73b-f11931df2c58"
      },
      "execution_count": null,
      "outputs": [
        {
          "output_type": "stream",
          "name": "stdout",
          "text": [
            "|    | category1                |   num_artifactNumber |   rank_category1 |\n",
            "|----|--------------------------|----------------------|------------------|\n",
            "|  0 | Printed specimens        |                 4270 |                1 |\n",
            "|  1 | Commemorative            |                 4167 |                2 |\n",
            "|  2 | Archives                 |                 3026 |                3 |\n",
            "|  3 | Tools & equipment-trades |                 2730 |                4 |\n",
            "|  4 | Miscellaneous            |                 2589 |                5 |\n",
            "|  5 | Clothing                 |                 2008 |                6 |\n",
            "|  6 | Radio                    |                 1791 |                7 |\n",
            "|  7 | Cycles & cycling         |                 1440 |                8 |\n",
            "|  8 | Instruments              |                 1370 |                9 |\n",
            "|  9 | Food processing          |                 1327 |               10 |\n"
          ]
        }
      ]
    },
    {
      "cell_type": "markdown",
      "source": [
        "### **1.6 Top 10 BeingDate by # artifactNumber**\n",
        "### **Expected Output:**\n",
        "### **begindate,num_artifactnumber,rank_begindate**\n"
      ],
      "metadata": {
        "id": "SsweYwrBTPZU"
      }
    },
    {
      "cell_type": "code",
      "source": [
        "df_begin = df_museun.groupby(['BeginDate']).size().to_frame('num_artifactNumber')\n",
        "df_begin['rank_BeginDate'] = df_begin['num_artifactNumber'].rank(ascending=False)\n",
        "df_begin = df_begin.sort_values(by='rank_BeginDate', ascending=True).reset_index()\n",
        "print(tabulate(df_begin.head(10), headers='keys', tablefmt='github'))"
      ],
      "metadata": {
        "colab": {
          "base_uri": "https://localhost:8080/"
        },
        "id": "WalEwEEeQrxh",
        "outputId": "74df4dde-9139-4a6d-b0c4-c716b64f731a"
      },
      "execution_count": null,
      "outputs": [
        {
          "output_type": "stream",
          "name": "stdout",
          "text": [
            "|    |   BeginDate |   num_artifactNumber |   rank_BeginDate |\n",
            "|----|-------------|----------------------|------------------|\n",
            "|  0 |        1900 |                 2609 |                1 |\n",
            "|  1 |        1950 |                 1477 |                2 |\n",
            "|  2 |        1920 |                 1214 |                3 |\n",
            "|  3 |        1930 |                 1176 |                4 |\n",
            "|  4 |        1940 |                 1026 |                5 |\n",
            "|  5 |        1960 |                  904 |                6 |\n",
            "|  6 |        1970 |                  883 |                7 |\n",
            "|  7 |        1910 |                  600 |                8 |\n",
            "|  8 |        1980 |                  549 |                9 |\n",
            "|  9 |        1944 |                  548 |               10 |\n"
          ]
        }
      ]
    },
    {
      "cell_type": "markdown",
      "source": [
        "### **1.7 Top 10 material by # artifactNumber**\n",
        "### **Expected Output:**\n",
        "### **material,num_artifactnumber_mat,rank_material**\n"
      ],
      "metadata": {
        "id": "5zbIFdQqUZZt"
      }
    },
    {
      "cell_type": "code",
      "source": [
        "df_material = df_museun.groupby(['material']).size().to_frame('num_artifactNumber')\n",
        "df_material['rank_material'] = df_material['num_artifactNumber'].rank(ascending=False)\n",
        "df_material = df_material.sort_values(by='rank_material', ascending=True).reset_index()\n",
        "print(tabulate(df_material.head(10), headers='keys', tablefmt='github'))"
      ],
      "metadata": {
        "colab": {
          "base_uri": "https://localhost:8080/"
        },
        "id": "hqP99FImURQC",
        "outputId": "51bff7dd-6dc6-44c6-864b-90814265b290"
      },
      "execution_count": null,
      "outputs": [
        {
          "output_type": "stream",
          "name": "stdout",
          "text": [
            "|    | material          |   num_artifactNumber |   rank_material |\n",
            "|----|-------------------|----------------------|-----------------|\n",
            "|  0 | paper             |                 9394 |               1 |\n",
            "|  1 | metal             |                 7421 |               2 |\n",
            "|  2 | glass             |                 2044 |               3 |\n",
            "|  3 | metal;synthetic   |                 2027 |               4 |\n",
            "|  4 | synthetic         |                 1663 |               5 |\n",
            "|  5 | metal->steel      |                 1523 |               6 |\n",
            "|  6 | synthetic;metal   |                 1386 |               7 |\n",
            "|  7 | paper->card stock |                 1353 |               8 |\n",
            "|  8 | metal->brass      |                 1212 |               9 |\n",
            "|  9 | wood;metal        |                 1175 |              10 |\n"
          ]
        }
      ]
    },
    {
      "cell_type": "markdown",
      "source": [
        "### **1.8 Merge 3 and 4 on their corresponding rank columns**\n",
        "### **Expected Output:**\n",
        "### **rank, w_artifactnumber,h_artifactnumber, weight, height**\n"
      ],
      "metadata": {
        "id": "TcNkndMJVSwA"
      }
    },
    {
      "cell_type": "code",
      "source": [
        "df_merge = df_weigth.merge(df_heigth, on='artifactNumber')\n",
        "df_merge = df_merge.sort_values(by='rank_weight', ascending=True)\n",
        "print(tabulate(df_merge.head(), headers='keys', tablefmt='github'))"
      ],
      "metadata": {
        "colab": {
          "base_uri": "https://localhost:8080/"
        },
        "id": "GYADXO4WVNAm",
        "outputId": "aeb5429a-1b33-4ed0-e007-903104337d7d"
      },
      "execution_count": null,
      "outputs": [
        {
          "output_type": "stream",
          "name": "stdout",
          "text": [
            "|    | artifactNumber   | Weight   | GeneralDescription_x                            |   rank_weight | Height   | GeneralDescription_y                            |   rank_height |\n",
            "|----|------------------|----------|-------------------------------------------------|---------------|----------|-------------------------------------------------|---------------|\n",
            "|  0 | 2005.0060.001    | 990 kg   | metal, synthetic and glass components.          |           1   | 136.0 cm | metal, synthetic and glass components.          |       30761   |\n",
            "|  1 | 1981.0613.001    | 952.5 kg | METAL & WOOD                                    |           2   | 197.0 cm | METAL & WOOD                                    |       25941   |\n",
            "|  2 | 1968.0102.001    | 950 kg   | nan                                             |           4.5 | 161.0 cm | nan                                             |       28108.5 |\n",
            "|  3 | 1967.0027.001    | 950 kg   | nan                                             |           4.5 | 161.0 cm | nan                                             |       28108.5 |\n",
            "|  4 | 1977.0274.001    | 950 kg   | SHEET METAL (TIN)/ WOOD/ PLYWOOD/ BRASS/ RUBBER |           4.5 | 183.0 cm | SHEET METAL (TIN)/ WOOD/ PLYWOOD/ BRASS/ RUBBER |       26557.5 |\n"
          ]
        }
      ]
    },
    {
      "cell_type": "markdown",
      "source": [
        "### **1.9 Top 10 group by # artifactNumber**\n",
        "### **Expected Output:**\n",
        "### **group,num_artifactnumber_group,rank_group**\n"
      ],
      "metadata": {
        "id": "stYysHBb_xu8"
      }
    },
    {
      "cell_type": "code",
      "source": [
        "df_museun['group'] = df_museun['group1'].fillna(df_museun['group2'])\n",
        "df_museun['group'] = df_museun['group'].fillna(df_museun['group3'])\n",
        "df_group = df_museun.groupby(['group']).size().to_frame('num_artifactnumber_group')\n",
        "df_group['rank_group'] = df_group['num_artifactnumber_group'].rank(ascending=False)\n",
        "df_group = df_group.sort_values(by='rank_group', ascending=True).reset_index()\n",
        "print(tabulate(df_group.head(10), headers='keys', tablefmt='github'))"
      ],
      "metadata": {
        "id": "8fU2nEXnWvBD",
        "colab": {
          "base_uri": "https://localhost:8080/"
        },
        "outputId": "4af995fe-8c92-42bc-a722-b46368f8284c"
      },
      "execution_count": null,
      "outputs": [
        {
          "output_type": "stream",
          "name": "stdout",
          "text": [
            "|    | group                 |   num_artifactnumber_group |   rank_group |\n",
            "|----|-----------------------|----------------------------|--------------|\n",
            "|  0 | Aviation              |                      12366 |            1 |\n",
            "|  1 | Communications        |                       6579 |            2 |\n",
            "|  2 | Printing              |                       6290 |            3 |\n",
            "|  3 | Industrial Technology |                       5616 |            4 |\n",
            "|  4 | Photography           |                       5067 |            5 |\n",
            "|  5 | Medical Technology    |                       4445 |            6 |\n",
            "|  6 | Agriculture           |                       3595 |            7 |\n",
            "|  7 | Domestic Technology   |                       2817 |            8 |\n",
            "|  8 | Physics               |                       2636 |            9 |\n",
            "|  9 | Vacuum Tubes          |                       2084 |           10 |\n"
          ]
        }
      ]
    },
    {
      "cell_type": "markdown",
      "source": [
        "### **1.10 Top 10 subcategory1 by total # artifacts.**\n",
        "### **Expected Output:**\n",
        "### **subcategory1,num_artifactNumber, rank_subcategory1**\n"
      ],
      "metadata": {
        "id": "6dAIfKExZrVO"
      }
    },
    {
      "cell_type": "code",
      "source": [
        "df_sub1 = df_museun.groupby(['subcategory1']).size().to_frame('num_artifactNumber')\n",
        "df_sub1['rank_subcategory1'] = df_sub1['num_artifactNumber'].rank(ascending=False)\n",
        "df_sub1 = df_sub1.sort_values(by='rank_subcategory1', ascending=True).reset_index()\n",
        "print(tabulate(df_sub1.head(10), headers='keys', tablefmt='github'))"
      ],
      "metadata": {
        "id": "YyupmUI-UUaL",
        "colab": {
          "base_uri": "https://localhost:8080/"
        },
        "outputId": "6c4418fd-d8ad-47dd-f8da-e153231b1f86"
      },
      "execution_count": null,
      "outputs": [
        {
          "output_type": "stream",
          "name": "stdout",
          "text": [
            "|    | subcategory1             |   num_artifactNumber |   rank_subcategory1 |\n",
            "|----|--------------------------|----------------------|---------------------|\n",
            "|  0 | Memorabilia              |                 2470 |                   1 |\n",
            "|  1 | Miscellaneous            |                 1876 |                   2 |\n",
            "|  2 | Art                      |                 1324 |                   3 |\n",
            "|  3 | Receivers & transmitters |                 1248 |                   4 |\n",
            "|  4 | Tools                    |                 1169 |                   5 |\n",
            "|  5 | Harness & saddle maker   |                 1091 |                   6 |\n",
            "|  6 | Accessories              |                 1081 |                   7 |\n",
            "|  7 | Passenger                |                 1015 |                   8 |\n",
            "|  8 | Food preparation         |                 1003 |                   9 |\n",
            "|  9 | Surgical                 |                  962 |                  10 |\n"
          ]
        }
      ]
    },
    {
      "cell_type": "markdown",
      "source": [
        "### **1.11 Merge 7 and 9 on their corresponding rank columns**\n",
        "### **Expected Output:**\n",
        "### **material, num_artifactnumber_mat, rank, group, num_artifactnumber_group**\n"
      ],
      "metadata": {
        "id": "MnuXCZiniEud"
      }
    },
    {
      "cell_type": "code",
      "source": [
        "df_merge1 = pd.merge(df_material, df_group, left_on='rank_material', right_on='rank_group')\n",
        "df_merge2 = df_merge1.drop('rank_group', axis=1, inplace=True)\n",
        "df_merge2 = df_merge1.rename(columns={'num_artifactNumber': 'num_artifactnumber_mat', 'rank_material': 'rank'}, inplace=True)\n",
        "print(tabulate(df_merge1.head(10), headers='keys', tablefmt='github'))"
      ],
      "metadata": {
        "colab": {
          "base_uri": "https://localhost:8080/"
        },
        "id": "KyAwbu2oh9ox",
        "outputId": "263b821e-696f-4935-ee43-2a6c69d27516"
      },
      "execution_count": null,
      "outputs": [
        {
          "output_type": "stream",
          "name": "stdout",
          "text": [
            "|    | material          |   num_artifactnumber_mat |   rank | group                 |   num_artifactnumber_group |\n",
            "|----|-------------------|--------------------------|--------|-----------------------|----------------------------|\n",
            "|  0 | paper             |                     9394 |      1 | Aviation              |                      12366 |\n",
            "|  1 | metal             |                     7421 |      2 | Communications        |                       6579 |\n",
            "|  2 | glass             |                     2044 |      3 | Printing              |                       6290 |\n",
            "|  3 | metal;synthetic   |                     2027 |      4 | Industrial Technology |                       5616 |\n",
            "|  4 | synthetic         |                     1663 |      5 | Photography           |                       5067 |\n",
            "|  5 | metal->steel      |                     1523 |      6 | Medical Technology    |                       4445 |\n",
            "|  6 | synthetic;metal   |                     1386 |      7 | Agriculture           |                       3595 |\n",
            "|  7 | paper->card stock |                     1353 |      8 | Domestic Technology   |                       2817 |\n",
            "|  8 | metal->brass      |                     1212 |      9 | Physics               |                       2636 |\n",
            "|  9 | wood;metal        |                     1175 |     10 | Vacuum Tubes          |                       2084 |\n"
          ]
        }
      ]
    },
    {
      "cell_type": "markdown",
      "source": [
        "## **PART II**"
      ],
      "metadata": {
        "id": "6VJdoU-OmDQ3"
      }
    },
    {
      "cell_type": "markdown",
      "source": [
        "### **2.1 Credit Card Fraud Detection: Credit Card Fraud classification using XGBOOST Column value to be classified is in column \"Is_fraud\" and all other columns are the features. Use two-fold cross validation and evaluation metrics: Precision, Recall, F1-score, Accuracy [wiki]. Also print confusion matrix [wiki]. Refer basic notebook template for some code and also internet. Feature importance is a concept used in machine learning to understand the relative importance or contribution of different features (also known as input variables or predictors) towards predicting the target variable. It helps in understanding which features have the most influence on the model's predictions. For Random Forest or Gradient Boosting, feature importance scores can be calculated based on how often a feature is used to make decisions that result in a reduction in impurity (e.g., Gini impurity or entropy) across all the trees in the ensemble.**"
      ],
      "metadata": {
        "id": "Eo4HXZwdmGPf"
      }
    },
    {
      "cell_type": "code",
      "source": [
        "import pandas as pd\n",
        "import numpy as np\n",
        "from tabulate import tabulate\n",
        "from xgboost import XGBClassifier\n",
        "from sklearn.model_selection import KFold\n",
        "from sklearn.metrics import precision_score, recall_score, f1_score, accuracy_score, confusion_matrix"
      ],
      "metadata": {
        "id": "uDu7L_wNjCf2"
      },
      "execution_count": 18,
      "outputs": []
    },
    {
      "cell_type": "code",
      "source": [
        "chunk_size = 10000\n",
        "data_chunks = pd.read_csv(\"/content/drive/MyDrive/data_analytics/MINIPROJECT_7/fraud test.csv\", chunksize=chunk_size)\n",
        "\n",
        "metrics = {\"precision\": [], \"recall\": [], \"f1_score\": [], \"accuracy\": [], \"conf_matrix\": []}\n",
        "model = XGBClassifier(n_estimators=2, max_depth=2, learning_rate=1, objective='binary:logistic')\n",
        "kf = KFold(n_splits=2, shuffle=True, random_state=42)\n",
        "\n",
        "for chunk in data_chunks:\n",
        "    chunk = pd.get_dummies(chunk, dtype='int')\n",
        "    X = chunk.drop(columns=[\"is_fraud\"])\n",
        "    y = chunk[\"is_fraud\"]\n",
        "\n",
        "    for train_index, test_index in kf.split(X):\n",
        "        X_train, X_test = X.iloc[train_index], X.iloc[test_index]\n",
        "        y_train, y_test = y.iloc[train_index], y.iloc[test_index]\n",
        "\n",
        "        model.fit(X_train, y_train)\n",
        "        y_pred = model.predict(X_test)\n",
        "\n",
        "        metrics[\"precision\"].append(precision_score(y_test, y_pred))\n",
        "        metrics[\"recall\"].append(recall_score(y_test, y_pred))\n",
        "        metrics[\"f1_score\"].append(f1_score(y_test, y_pred))\n",
        "        metrics[\"accuracy\"].append(accuracy_score(y_test, y_pred))\n",
        "        metrics[\"conf_matrix\"].append(confusion_matrix(y_test, y_pred))\n"
      ],
      "metadata": {
        "colab": {
          "base_uri": "https://localhost:8080/"
        },
        "id": "d5Ni8bQJLoh9",
        "outputId": "57cb8c87-a0b9-4fc0-e4de-00f955379f01"
      },
      "execution_count": 19,
      "outputs": [
        {
          "output_type": "stream",
          "name": "stderr",
          "text": [
            "/usr/local/lib/python3.11/dist-packages/sklearn/metrics/_classification.py:1565: UndefinedMetricWarning: Precision is ill-defined and being set to 0.0 due to no predicted samples. Use `zero_division` parameter to control this behavior.\n",
            "  _warn_prf(average, modifier, f\"{metric.capitalize()} is\", len(result))\n",
            "/usr/local/lib/python3.11/dist-packages/sklearn/metrics/_classification.py:1565: UndefinedMetricWarning: Precision is ill-defined and being set to 0.0 due to no predicted samples. Use `zero_division` parameter to control this behavior.\n",
            "  _warn_prf(average, modifier, f\"{metric.capitalize()} is\", len(result))\n",
            "/usr/local/lib/python3.11/dist-packages/sklearn/metrics/_classification.py:1565: UndefinedMetricWarning: Precision is ill-defined and being set to 0.0 due to no predicted samples. Use `zero_division` parameter to control this behavior.\n",
            "  _warn_prf(average, modifier, f\"{metric.capitalize()} is\", len(result))\n",
            "/usr/local/lib/python3.11/dist-packages/sklearn/metrics/_classification.py:1565: UndefinedMetricWarning: Precision is ill-defined and being set to 0.0 due to no predicted samples. Use `zero_division` parameter to control this behavior.\n",
            "  _warn_prf(average, modifier, f\"{metric.capitalize()} is\", len(result))\n",
            "/usr/local/lib/python3.11/dist-packages/sklearn/metrics/_classification.py:1565: UndefinedMetricWarning: Precision is ill-defined and being set to 0.0 due to no predicted samples. Use `zero_division` parameter to control this behavior.\n",
            "  _warn_prf(average, modifier, f\"{metric.capitalize()} is\", len(result))\n",
            "/usr/local/lib/python3.11/dist-packages/sklearn/metrics/_classification.py:1565: UndefinedMetricWarning: Precision is ill-defined and being set to 0.0 due to no predicted samples. Use `zero_division` parameter to control this behavior.\n",
            "  _warn_prf(average, modifier, f\"{metric.capitalize()} is\", len(result))\n",
            "/usr/local/lib/python3.11/dist-packages/sklearn/metrics/_classification.py:1565: UndefinedMetricWarning: Precision is ill-defined and being set to 0.0 due to no predicted samples. Use `zero_division` parameter to control this behavior.\n",
            "  _warn_prf(average, modifier, f\"{metric.capitalize()} is\", len(result))\n",
            "/usr/local/lib/python3.11/dist-packages/sklearn/metrics/_classification.py:1565: UndefinedMetricWarning: Precision is ill-defined and being set to 0.0 due to no predicted samples. Use `zero_division` parameter to control this behavior.\n",
            "  _warn_prf(average, modifier, f\"{metric.capitalize()} is\", len(result))\n",
            "/usr/local/lib/python3.11/dist-packages/sklearn/metrics/_classification.py:1565: UndefinedMetricWarning: Precision is ill-defined and being set to 0.0 due to no predicted samples. Use `zero_division` parameter to control this behavior.\n",
            "  _warn_prf(average, modifier, f\"{metric.capitalize()} is\", len(result))\n",
            "/usr/local/lib/python3.11/dist-packages/sklearn/metrics/_classification.py:1565: UndefinedMetricWarning: Recall is ill-defined and being set to 0.0 due to no true samples. Use `zero_division` parameter to control this behavior.\n",
            "  _warn_prf(average, modifier, f\"{metric.capitalize()} is\", len(result))\n",
            "/usr/local/lib/python3.11/dist-packages/sklearn/metrics/_classification.py:1565: UndefinedMetricWarning: F-score is ill-defined and being set to 0.0 due to no true nor predicted samples. Use `zero_division` parameter to control this behavior.\n",
            "  _warn_prf(average, modifier, f\"{metric.capitalize()} is\", len(result))\n",
            "/usr/local/lib/python3.11/dist-packages/sklearn/metrics/_classification.py:407: UserWarning: A single label was found in 'y_true' and 'y_pred'. For the confusion matrix to have the correct shape, use the 'labels' parameter to pass all known labels.\n",
            "  warnings.warn(\n",
            "/usr/local/lib/python3.11/dist-packages/sklearn/metrics/_classification.py:1565: UndefinedMetricWarning: Precision is ill-defined and being set to 0.0 due to no predicted samples. Use `zero_division` parameter to control this behavior.\n",
            "  _warn_prf(average, modifier, f\"{metric.capitalize()} is\", len(result))\n",
            "/usr/local/lib/python3.11/dist-packages/sklearn/metrics/_classification.py:1565: UndefinedMetricWarning: Recall is ill-defined and being set to 0.0 due to no true samples. Use `zero_division` parameter to control this behavior.\n",
            "  _warn_prf(average, modifier, f\"{metric.capitalize()} is\", len(result))\n",
            "/usr/local/lib/python3.11/dist-packages/sklearn/metrics/_classification.py:1565: UndefinedMetricWarning: F-score is ill-defined and being set to 0.0 due to no true nor predicted samples. Use `zero_division` parameter to control this behavior.\n",
            "  _warn_prf(average, modifier, f\"{metric.capitalize()} is\", len(result))\n",
            "/usr/local/lib/python3.11/dist-packages/sklearn/metrics/_classification.py:407: UserWarning: A single label was found in 'y_true' and 'y_pred'. For the confusion matrix to have the correct shape, use the 'labels' parameter to pass all known labels.\n",
            "  warnings.warn(\n",
            "/usr/local/lib/python3.11/dist-packages/sklearn/metrics/_classification.py:1565: UndefinedMetricWarning: Precision is ill-defined and being set to 0.0 due to no predicted samples. Use `zero_division` parameter to control this behavior.\n",
            "  _warn_prf(average, modifier, f\"{metric.capitalize()} is\", len(result))\n",
            "/usr/local/lib/python3.11/dist-packages/sklearn/metrics/_classification.py:1565: UndefinedMetricWarning: Recall is ill-defined and being set to 0.0 due to no true samples. Use `zero_division` parameter to control this behavior.\n",
            "  _warn_prf(average, modifier, f\"{metric.capitalize()} is\", len(result))\n",
            "/usr/local/lib/python3.11/dist-packages/sklearn/metrics/_classification.py:1565: UndefinedMetricWarning: F-score is ill-defined and being set to 0.0 due to no true nor predicted samples. Use `zero_division` parameter to control this behavior.\n",
            "  _warn_prf(average, modifier, f\"{metric.capitalize()} is\", len(result))\n",
            "/usr/local/lib/python3.11/dist-packages/sklearn/metrics/_classification.py:407: UserWarning: A single label was found in 'y_true' and 'y_pred'. For the confusion matrix to have the correct shape, use the 'labels' parameter to pass all known labels.\n",
            "  warnings.warn(\n",
            "/usr/local/lib/python3.11/dist-packages/sklearn/metrics/_classification.py:1565: UndefinedMetricWarning: Precision is ill-defined and being set to 0.0 due to no predicted samples. Use `zero_division` parameter to control this behavior.\n",
            "  _warn_prf(average, modifier, f\"{metric.capitalize()} is\", len(result))\n",
            "/usr/local/lib/python3.11/dist-packages/sklearn/metrics/_classification.py:1565: UndefinedMetricWarning: Recall is ill-defined and being set to 0.0 due to no true samples. Use `zero_division` parameter to control this behavior.\n",
            "  _warn_prf(average, modifier, f\"{metric.capitalize()} is\", len(result))\n",
            "/usr/local/lib/python3.11/dist-packages/sklearn/metrics/_classification.py:1565: UndefinedMetricWarning: F-score is ill-defined and being set to 0.0 due to no true nor predicted samples. Use `zero_division` parameter to control this behavior.\n",
            "  _warn_prf(average, modifier, f\"{metric.capitalize()} is\", len(result))\n",
            "/usr/local/lib/python3.11/dist-packages/sklearn/metrics/_classification.py:407: UserWarning: A single label was found in 'y_true' and 'y_pred'. For the confusion matrix to have the correct shape, use the 'labels' parameter to pass all known labels.\n",
            "  warnings.warn(\n",
            "/usr/local/lib/python3.11/dist-packages/sklearn/metrics/_classification.py:1565: UndefinedMetricWarning: Precision is ill-defined and being set to 0.0 due to no predicted samples. Use `zero_division` parameter to control this behavior.\n",
            "  _warn_prf(average, modifier, f\"{metric.capitalize()} is\", len(result))\n",
            "/usr/local/lib/python3.11/dist-packages/sklearn/metrics/_classification.py:1565: UndefinedMetricWarning: Recall is ill-defined and being set to 0.0 due to no true samples. Use `zero_division` parameter to control this behavior.\n",
            "  _warn_prf(average, modifier, f\"{metric.capitalize()} is\", len(result))\n",
            "/usr/local/lib/python3.11/dist-packages/sklearn/metrics/_classification.py:1565: UndefinedMetricWarning: F-score is ill-defined and being set to 0.0 due to no true nor predicted samples. Use `zero_division` parameter to control this behavior.\n",
            "  _warn_prf(average, modifier, f\"{metric.capitalize()} is\", len(result))\n",
            "/usr/local/lib/python3.11/dist-packages/sklearn/metrics/_classification.py:407: UserWarning: A single label was found in 'y_true' and 'y_pred'. For the confusion matrix to have the correct shape, use the 'labels' parameter to pass all known labels.\n",
            "  warnings.warn(\n",
            "/usr/local/lib/python3.11/dist-packages/sklearn/metrics/_classification.py:1565: UndefinedMetricWarning: Precision is ill-defined and being set to 0.0 due to no predicted samples. Use `zero_division` parameter to control this behavior.\n",
            "  _warn_prf(average, modifier, f\"{metric.capitalize()} is\", len(result))\n",
            "/usr/local/lib/python3.11/dist-packages/sklearn/metrics/_classification.py:1565: UndefinedMetricWarning: Recall is ill-defined and being set to 0.0 due to no true samples. Use `zero_division` parameter to control this behavior.\n",
            "  _warn_prf(average, modifier, f\"{metric.capitalize()} is\", len(result))\n",
            "/usr/local/lib/python3.11/dist-packages/sklearn/metrics/_classification.py:1565: UndefinedMetricWarning: F-score is ill-defined and being set to 0.0 due to no true nor predicted samples. Use `zero_division` parameter to control this behavior.\n",
            "  _warn_prf(average, modifier, f\"{metric.capitalize()} is\", len(result))\n",
            "/usr/local/lib/python3.11/dist-packages/sklearn/metrics/_classification.py:407: UserWarning: A single label was found in 'y_true' and 'y_pred'. For the confusion matrix to have the correct shape, use the 'labels' parameter to pass all known labels.\n",
            "  warnings.warn(\n",
            "/usr/local/lib/python3.11/dist-packages/sklearn/metrics/_classification.py:1565: UndefinedMetricWarning: Precision is ill-defined and being set to 0.0 due to no predicted samples. Use `zero_division` parameter to control this behavior.\n",
            "  _warn_prf(average, modifier, f\"{metric.capitalize()} is\", len(result))\n",
            "/usr/local/lib/python3.11/dist-packages/sklearn/metrics/_classification.py:1565: UndefinedMetricWarning: Recall is ill-defined and being set to 0.0 due to no true samples. Use `zero_division` parameter to control this behavior.\n",
            "  _warn_prf(average, modifier, f\"{metric.capitalize()} is\", len(result))\n",
            "/usr/local/lib/python3.11/dist-packages/sklearn/metrics/_classification.py:1565: UndefinedMetricWarning: F-score is ill-defined and being set to 0.0 due to no true nor predicted samples. Use `zero_division` parameter to control this behavior.\n",
            "  _warn_prf(average, modifier, f\"{metric.capitalize()} is\", len(result))\n",
            "/usr/local/lib/python3.11/dist-packages/sklearn/metrics/_classification.py:407: UserWarning: A single label was found in 'y_true' and 'y_pred'. For the confusion matrix to have the correct shape, use the 'labels' parameter to pass all known labels.\n",
            "  warnings.warn(\n",
            "/usr/local/lib/python3.11/dist-packages/sklearn/metrics/_classification.py:1565: UndefinedMetricWarning: Precision is ill-defined and being set to 0.0 due to no predicted samples. Use `zero_division` parameter to control this behavior.\n",
            "  _warn_prf(average, modifier, f\"{metric.capitalize()} is\", len(result))\n",
            "/usr/local/lib/python3.11/dist-packages/sklearn/metrics/_classification.py:1565: UndefinedMetricWarning: Recall is ill-defined and being set to 0.0 due to no true samples. Use `zero_division` parameter to control this behavior.\n",
            "  _warn_prf(average, modifier, f\"{metric.capitalize()} is\", len(result))\n",
            "/usr/local/lib/python3.11/dist-packages/sklearn/metrics/_classification.py:1565: UndefinedMetricWarning: F-score is ill-defined and being set to 0.0 due to no true nor predicted samples. Use `zero_division` parameter to control this behavior.\n",
            "  _warn_prf(average, modifier, f\"{metric.capitalize()} is\", len(result))\n",
            "/usr/local/lib/python3.11/dist-packages/sklearn/metrics/_classification.py:407: UserWarning: A single label was found in 'y_true' and 'y_pred'. For the confusion matrix to have the correct shape, use the 'labels' parameter to pass all known labels.\n",
            "  warnings.warn(\n"
          ]
        }
      ]
    },
    {
      "cell_type": "code",
      "source": [
        "print(\"Average Precision:\", np.mean(metrics[\"precision\"]))\n",
        "print(\"Average Recall:\", np.mean(metrics[\"recall\"]))\n",
        "print(\"Average F1-score:\", np.mean(metrics[\"f1_score\"]))\n",
        "print(\"Average Accuracy:\", np.mean(metrics[\"accuracy\"]))\n"
      ],
      "metadata": {
        "colab": {
          "base_uri": "https://localhost:8080/"
        },
        "id": "aUs_PC99e9Ub",
        "outputId": "4aa50f87-8955-4087-a962-335a4df09a49"
      },
      "execution_count": 20,
      "outputs": [
        {
          "output_type": "stream",
          "name": "stdout",
          "text": [
            "Average Precision: 0.7061842353581939\n",
            "Average Recall: 0.27188912220015415\n",
            "Average F1-score: 0.3519315898478864\n",
            "Average Accuracy: 0.9967446428571429\n"
          ]
        }
      ]
    },
    {
      "cell_type": "code",
      "source": [
        "\n",
        "for i, cm in enumerate(metrics[\"conf_matrix\"], 1):\n",
        "    print(f\"Confusion Matrix - Fold {i}:\\n\", cm)"
      ],
      "metadata": {
        "colab": {
          "base_uri": "https://localhost:8080/"
        },
        "id": "JVmnetm5jJ9e",
        "outputId": "b5f2b3c9-ea9c-4ddc-c6df-e4ecaa05bb7d"
      },
      "execution_count": 21,
      "outputs": [
        {
          "output_type": "stream",
          "name": "stdout",
          "text": [
            "Confusion Matrix - Fold 1:\n",
            " [[4991    0]\n",
            " [   6    3]]\n",
            "Confusion Matrix - Fold 2:\n",
            " [[4985    2]\n",
            " [   9    4]]\n",
            "Confusion Matrix - Fold 3:\n",
            " [[4972    0]\n",
            " [  20    8]]\n",
            "Confusion Matrix - Fold 4:\n",
            " [[4982    0]\n",
            " [  15    3]]\n",
            "Confusion Matrix - Fold 5:\n",
            " [[4963    9]\n",
            " [  18   10]]\n",
            "Confusion Matrix - Fold 6:\n",
            " [[4966    0]\n",
            " [  29    5]]\n",
            "Confusion Matrix - Fold 7:\n",
            " [[4978    0]\n",
            " [  18    4]]\n",
            "Confusion Matrix - Fold 8:\n",
            " [[4983    1]\n",
            " [   9    7]]\n",
            "Confusion Matrix - Fold 9:\n",
            " [[4982    3]\n",
            " [  10    5]]\n",
            "Confusion Matrix - Fold 10:\n",
            " [[4984    0]\n",
            " [  15    1]]\n",
            "Confusion Matrix - Fold 11:\n",
            " [[4976    0]\n",
            " [  19    5]]\n",
            "Confusion Matrix - Fold 12:\n",
            " [[4972    0]\n",
            " [  21    7]]\n",
            "Confusion Matrix - Fold 13:\n",
            " [[4985    0]\n",
            " [  14    1]]\n",
            "Confusion Matrix - Fold 14:\n",
            " [[4988    0]\n",
            " [   8    4]]\n",
            "Confusion Matrix - Fold 15:\n",
            " [[4987    0]\n",
            " [  11    2]]\n",
            "Confusion Matrix - Fold 16:\n",
            " [[4988    0]\n",
            " [   9    3]]\n",
            "Confusion Matrix - Fold 17:\n",
            " [[4951   18]\n",
            " [  15   16]]\n",
            "Confusion Matrix - Fold 18:\n",
            " [[4955   11]\n",
            " [  20   14]]\n",
            "Confusion Matrix - Fold 19:\n",
            " [[4983    1]\n",
            " [  14    2]]\n",
            "Confusion Matrix - Fold 20:\n",
            " [[4978    4]\n",
            " [  14    4]]\n",
            "Confusion Matrix - Fold 21:\n",
            " [[4987    0]\n",
            " [  11    2]]\n",
            "Confusion Matrix - Fold 22:\n",
            " [[4985    0]\n",
            " [  14    1]]\n",
            "Confusion Matrix - Fold 23:\n",
            " [[4981    0]\n",
            " [  15    4]]\n",
            "Confusion Matrix - Fold 24:\n",
            " [[4983    0]\n",
            " [  13    4]]\n",
            "Confusion Matrix - Fold 25:\n",
            " [[4968    2]\n",
            " [  15   15]]\n",
            "Confusion Matrix - Fold 26:\n",
            " [[4966    5]\n",
            " [  22    7]]\n",
            "Confusion Matrix - Fold 27:\n",
            " [[4959    0]\n",
            " [  39    2]]\n",
            "Confusion Matrix - Fold 28:\n",
            " [[4948    0]\n",
            " [  47    5]]\n",
            "Confusion Matrix - Fold 29:\n",
            " [[4962   17]\n",
            " [  14    7]]\n",
            "Confusion Matrix - Fold 30:\n",
            " [[4977    0]\n",
            " [  14    9]]\n",
            "Confusion Matrix - Fold 31:\n",
            " [[4982    0]\n",
            " [  16    2]]\n",
            "Confusion Matrix - Fold 32:\n",
            " [[4979    0]\n",
            " [  18    3]]\n",
            "Confusion Matrix - Fold 33:\n",
            " [[4992    2]\n",
            " [   0    6]]\n",
            "Confusion Matrix - Fold 34:\n",
            " [[4989    1]\n",
            " [   0   10]]\n",
            "Confusion Matrix - Fold 35:\n",
            " [[4974    5]\n",
            " [  13    8]]\n",
            "Confusion Matrix - Fold 36:\n",
            " [[4974    4]\n",
            " [  14    8]]\n",
            "Confusion Matrix - Fold 37:\n",
            " [[4963    0]\n",
            " [  32    5]]\n",
            "Confusion Matrix - Fold 38:\n",
            " [[4967    7]\n",
            " [  16   10]]\n",
            "Confusion Matrix - Fold 39:\n",
            " [[4987    0]\n",
            " [  10    3]]\n",
            "Confusion Matrix - Fold 40:\n",
            " [[4974    0]\n",
            " [  25    1]]\n",
            "Confusion Matrix - Fold 41:\n",
            " [[4973   12]\n",
            " [   9    6]]\n",
            "Confusion Matrix - Fold 42:\n",
            " [[4986    0]\n",
            " [   8    6]]\n",
            "Confusion Matrix - Fold 43:\n",
            " [[4958    0]\n",
            " [  32   10]]\n",
            "Confusion Matrix - Fold 44:\n",
            " [[4969    7]\n",
            " [  19    5]]\n",
            "Confusion Matrix - Fold 45:\n",
            " [[4974    0]\n",
            " [  22    4]]\n",
            "Confusion Matrix - Fold 46:\n",
            " [[4972    3]\n",
            " [  19    6]]\n",
            "Confusion Matrix - Fold 47:\n",
            " [[4987    2]\n",
            " [   1   10]]\n",
            "Confusion Matrix - Fold 48:\n",
            " [[4983    1]\n",
            " [   3   13]]\n",
            "Confusion Matrix - Fold 49:\n",
            " [[4974    0]\n",
            " [  22    4]]\n",
            "Confusion Matrix - Fold 50:\n",
            " [[4969   17]\n",
            " [   9    5]]\n",
            "Confusion Matrix - Fold 51:\n",
            " [[4962   14]\n",
            " [  12   12]]\n",
            "Confusion Matrix - Fold 52:\n",
            " [[4960    0]\n",
            " [  31    9]]\n",
            "Confusion Matrix - Fold 53:\n",
            " [[4977    6]\n",
            " [  13    4]]\n",
            "Confusion Matrix - Fold 54:\n",
            " [[4962    0]\n",
            " [  29    9]]\n",
            "Confusion Matrix - Fold 55:\n",
            " [[4965   15]\n",
            " [  13    7]]\n",
            "Confusion Matrix - Fold 56:\n",
            " [[4962   11]\n",
            " [  15   12]]\n",
            "Confusion Matrix - Fold 57:\n",
            " [[4953    2]\n",
            " [  28   17]]\n",
            "Confusion Matrix - Fold 58:\n",
            " [[4942   15]\n",
            " [  26   17]]\n",
            "Confusion Matrix - Fold 59:\n",
            " [[4974    0]\n",
            " [  25    1]]\n",
            "Confusion Matrix - Fold 60:\n",
            " [[4976    2]\n",
            " [  19    3]]\n",
            "Confusion Matrix - Fold 61:\n",
            " [[4961    6]\n",
            " [  22   11]]\n",
            "Confusion Matrix - Fold 62:\n",
            " [[4951    1]\n",
            " [  33   15]]\n",
            "Confusion Matrix - Fold 63:\n",
            " [[4979    0]\n",
            " [  13    8]]\n",
            "Confusion Matrix - Fold 64:\n",
            " [[4983    2]\n",
            " [  10    5]]\n",
            "Confusion Matrix - Fold 65:\n",
            " [[4973    6]\n",
            " [  16    5]]\n",
            "Confusion Matrix - Fold 66:\n",
            " [[4979    0]\n",
            " [  16    5]]\n",
            "Confusion Matrix - Fold 67:\n",
            " [[4975    0]\n",
            " [  23    2]]\n",
            "Confusion Matrix - Fold 68:\n",
            " [[4980    1]\n",
            " [  14    5]]\n",
            "Confusion Matrix - Fold 69:\n",
            " [[4981    0]\n",
            " [  13    6]]\n",
            "Confusion Matrix - Fold 70:\n",
            " [[4983    1]\n",
            " [   7    9]]\n",
            "Confusion Matrix - Fold 71:\n",
            " [[4965    5]\n",
            " [  25    5]]\n",
            "Confusion Matrix - Fold 72:\n",
            " [[4971    0]\n",
            " [  29    0]]\n",
            "Confusion Matrix - Fold 73:\n",
            " [[4988    0]\n",
            " [  11    1]]\n",
            "Confusion Matrix - Fold 74:\n",
            " [[4984    1]\n",
            " [  10    5]]\n",
            "Confusion Matrix - Fold 75:\n",
            " [[4978    0]\n",
            " [  16    6]]\n",
            "Confusion Matrix - Fold 76:\n",
            " [[4981    0]\n",
            " [  12    7]]\n",
            "Confusion Matrix - Fold 77:\n",
            " [[4968   11]\n",
            " [  11   10]]\n",
            "Confusion Matrix - Fold 78:\n",
            " [[4971    3]\n",
            " [  17    9]]\n",
            "Confusion Matrix - Fold 79:\n",
            " [[4988    0]\n",
            " [  12    0]]\n",
            "Confusion Matrix - Fold 80:\n",
            " [[4993    0]\n",
            " [   7    0]]\n",
            "Confusion Matrix - Fold 81:\n",
            " [[4952   15]\n",
            " [  17   16]]\n",
            "Confusion Matrix - Fold 82:\n",
            " [[4947    7]\n",
            " [  28   18]]\n",
            "Confusion Matrix - Fold 83:\n",
            " [[4999    0]\n",
            " [   1    0]]\n",
            "Confusion Matrix - Fold 84:\n",
            " [[4993    0]\n",
            " [   7    0]]\n",
            "Confusion Matrix - Fold 85:\n",
            " [[4986    0]\n",
            " [   9    5]]\n",
            "Confusion Matrix - Fold 86:\n",
            " [[4989    0]\n",
            " [   4    7]]\n",
            "Confusion Matrix - Fold 87:\n",
            " [[4983    0]\n",
            " [  15    2]]\n",
            "Confusion Matrix - Fold 88:\n",
            " [[4991    0]\n",
            " [   9    0]]\n",
            "Confusion Matrix - Fold 89:\n",
            " [[4981    0]\n",
            " [  16    3]]\n",
            "Confusion Matrix - Fold 90:\n",
            " [[4973    9]\n",
            " [  15    3]]\n",
            "Confusion Matrix - Fold 91:\n",
            " [[4981    0]\n",
            " [  17    2]]\n",
            "Confusion Matrix - Fold 92:\n",
            " [[4987    0]\n",
            " [  11    2]]\n",
            "Confusion Matrix - Fold 93:\n",
            " [[4981    0]\n",
            " [  13    6]]\n",
            "Confusion Matrix - Fold 94:\n",
            " [[4976    0]\n",
            " [  18    6]]\n",
            "Confusion Matrix - Fold 95:\n",
            " [[4989    0]\n",
            " [  11    0]]\n",
            "Confusion Matrix - Fold 96:\n",
            " [[4992    0]\n",
            " [   5    3]]\n",
            "Confusion Matrix - Fold 97:\n",
            " [[4986    0]\n",
            " [  12    2]]\n",
            "Confusion Matrix - Fold 98:\n",
            " [[4987    0]\n",
            " [   7    6]]\n",
            "Confusion Matrix - Fold 99:\n",
            " [[4992    3]\n",
            " [   2    3]]\n",
            "Confusion Matrix - Fold 100:\n",
            " [[4984    1]\n",
            " [  12    3]]\n",
            "Confusion Matrix - Fold 101:\n",
            " [[4996    0]\n",
            " [   1    3]]\n",
            "Confusion Matrix - Fold 102:\n",
            " [[4995    0]\n",
            " [   5    0]]\n",
            "Confusion Matrix - Fold 103:\n",
            " [[4992    0]\n",
            " [   3    5]]\n",
            "Confusion Matrix - Fold 104:\n",
            " [[4996    0]\n",
            " [   0    4]]\n",
            "Confusion Matrix - Fold 105:\n",
            " [[5000]]\n",
            "Confusion Matrix - Fold 106:\n",
            " [[5000]]\n",
            "Confusion Matrix - Fold 107:\n",
            " [[5000]]\n",
            "Confusion Matrix - Fold 108:\n",
            " [[5000]]\n",
            "Confusion Matrix - Fold 109:\n",
            " [[5000]]\n",
            "Confusion Matrix - Fold 110:\n",
            " [[5000]]\n",
            "Confusion Matrix - Fold 111:\n",
            " [[2860]]\n",
            "Confusion Matrix - Fold 112:\n",
            " [[2859]]\n"
          ]
        }
      ]
    },
    {
      "cell_type": "code",
      "source": [],
      "metadata": {
        "id": "sxBrpXW5_Vt9"
      },
      "execution_count": 21,
      "outputs": []
    }
  ]
}
