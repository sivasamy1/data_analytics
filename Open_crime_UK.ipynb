{
  "nbformat": 4,
  "nbformat_minor": 0,
  "metadata": {
    "colab": {
      "provenance": [],
      "mount_file_id": "15VmQwpNy32Z8mRMtM83m3FSj0CVGJj9c",
      "authorship_tag": "ABX9TyMXnP+/o+ShBWAyojWp4xKW",
      "include_colab_link": true
    },
    "kernelspec": {
      "name": "python3",
      "display_name": "Python 3"
    },
    "language_info": {
      "name": "python"
    }
  },
  "cells": [
    {
      "cell_type": "markdown",
      "metadata": {
        "id": "view-in-github",
        "colab_type": "text"
      },
      "source": [
        "<a href=\"https://colab.research.google.com/github/sivasamy1/data_analytics/blob/main/Open_crime_UK.ipynb\" target=\"_parent\"><img src=\"https://colab.research.google.com/assets/colab-badge.svg\" alt=\"Open In Colab\"/></a>"
      ]
    },
    {
      "cell_type": "code",
      "source": [
        "\n",
        "from google.colab import drive\n",
        "drive.mount('/content/drive')"
      ],
      "metadata": {
        "colab": {
          "base_uri": "https://localhost:8080/"
        },
        "id": "vuAwlE0tIULe",
        "outputId": "f9aa9d40-0fad-4806-fc96-004bcb86ba78"
      },
      "execution_count": null,
      "outputs": [
        {
          "output_type": "stream",
          "name": "stdout",
          "text": [
            "Drive already mounted at /content/drive; to attempt to forcibly remount, call drive.mount(\"/content/drive\", force_remount=True).\n"
          ]
        }
      ]
    },
    {
      "cell_type": "code",
      "execution_count": null,
      "metadata": {
        "id": "cGg8CUzvxvf3",
        "colab": {
          "base_uri": "https://localhost:8080/"
        },
        "outputId": "1e7c7790-7e02-4a2a-aca7-a902c4923ea1"
      },
      "outputs": [
        {
          "output_type": "stream",
          "name": "stdout",
          "text": [
            "ls: /content/drive/MyDrive/DataSheets: No such file or directory\n",
            "ls: '/content/drive/MyDrive/Build Club docs': No such file or directory\n"
          ]
        }
      ],
      "source": [
        "!ls -ltr /content/drive/MyDrive | grep *.csv"
      ]
    },
    {
      "cell_type": "code",
      "source": [
        "!ls -ltr /content/drive/MyDrive/data_analytics/MINIPROJECT_7/2019-07/"
      ],
      "metadata": {
        "colab": {
          "base_uri": "https://localhost:8080/"
        },
        "id": "JsQHRO8xIVgN",
        "outputId": "6aa18cc5-3392-41ef-e001-f2561faa992c"
      },
      "execution_count": null,
      "outputs": [
        {
          "output_type": "stream",
          "name": "stdout",
          "text": [
            "total 15800\n",
            "-r-------- 1 root root  202233 Feb 23  2022 2019-07-city-of-london-street.csv\n",
            "-r-------- 1 root root  907269 Feb 23  2022 2019-07-cumbria-street.csv\n",
            "-r-------- 1 root root  820660 Feb 23  2022 2019-07-dyfed-powys-street.csv\n",
            "-r-------- 1 root root  834559 Feb 23  2022 2019-07-btp-street.csv\n",
            "-r-------- 1 root root 1041027 Feb 23  2022 2019-07-warwickshire-street.csv\n",
            "-r-------- 1 root root  724019 Feb 24  2022 2019-07-cumbria-outcomes.csv\n",
            "-r-------- 1 root root  140007 Feb 24  2022 2019-07-city-of-london-outcomes.csv\n",
            "-r-------- 1 root root  455315 Feb 24  2022 2019-07-lincolnshire-outcomes.csv\n",
            "-r-------- 1 root root  598219 Feb 24  2022 2019-07-gwent-outcomes.csv\n",
            "-r-------- 1 root root  697404 Feb 24  2022 2019-07-gloucestershire-outcomes.csv\n",
            "-r-------- 1 root root  565893 Feb 24  2022 2019-07-dyfed-powys-outcomes.csv\n",
            "-r-------- 1 root root  410810 Feb 24  2022 2019-07-north-yorkshire-outcomes.csv\n",
            "-r-------- 1 root root  780830 Feb 24  2022 2019-07-north-wales-outcomes.csv\n",
            "-r-------- 1 root root  861492 Feb 24  2022 2019-07-norfolk-outcomes.csv\n",
            "-r-------- 1 root root  743288 Feb 24  2022 2019-07-warwickshire-outcomes.csv\n",
            "-r-------- 1 root root  775686 Feb 24  2022 2019-07-suffolk-outcomes.csv\n",
            "-r-------- 1 root root  756047 Feb 24  2022 2019-07-wiltshire-outcomes.csv\n",
            "-r-------- 1 root root  129241 Feb 24  2022 2019-07-avon-and-somerset-stop-and-search.csv\n",
            "-r-------- 1 root root   47727 Feb 24  2022 2019-07-bedfordshire-stop-and-search.csv\n",
            "-r-------- 1 root root  153822 Feb 24  2022 2019-07-btp-stop-and-search.csv\n",
            "-r-------- 1 root root   39335 Feb 24  2022 2019-07-cambridgeshire-stop-and-search.csv\n",
            "-r-------- 1 root root   76009 Feb 24  2022 2019-07-cheshire-stop-and-search.csv\n",
            "-r-------- 1 root root   40107 Feb 24  2022 2019-07-city-of-london-stop-and-search.csv\n",
            "-r-------- 1 root root   12454 Feb 24  2022 2019-07-cleveland-stop-and-search.csv\n",
            "-r-------- 1 root root   40634 Feb 24  2022 2019-07-cumbria-stop-and-search.csv\n",
            "-r-------- 1 root root   33813 Feb 24  2022 2019-07-derbyshire-stop-and-search.csv\n",
            "-r-------- 1 root root   98434 Feb 24  2022 2019-07-devon-and-cornwall-stop-and-search.csv\n",
            "-r-------- 1 root root   19883 Feb 24  2022 2019-07-dorset-stop-and-search.csv\n",
            "-r-------- 1 root root   50991 Feb 24  2022 2019-07-durham-stop-and-search.csv\n",
            "-r-------- 1 root root   70830 Feb 24  2022 2019-07-dyfed-powys-stop-and-search.csv\n",
            "-r-------- 1 root root  316547 Feb 24  2022 2019-07-essex-stop-and-search.csv\n",
            "-r-------- 1 root root   22569 Feb 24  2022 2019-07-gloucestershire-stop-and-search.csv\n",
            "-r-------- 1 root root   32204 Feb 24  2022 2019-07-gwent-stop-and-search.csv\n",
            "-r-------- 1 root root  147051 Feb 24  2022 2019-07-hampshire-stop-and-search.csv\n",
            "-r-------- 1 root root  127971 Feb 24  2022 2019-07-hertfordshire-stop-and-search.csv\n",
            "-r-------- 1 root root   41937 Feb 24  2022 2019-07-humberside-stop-and-search.csv\n",
            "-r-------- 1 root root  176195 Feb 24  2022 2019-07-kent-stop-and-search.csv\n",
            "-r-------- 1 root root  148865 Feb 24  2022 2019-07-lancashire-stop-and-search.csv\n",
            "-r-------- 1 root root   52411 Feb 24  2022 2019-07-leicestershire-stop-and-search.csv\n",
            "-r-------- 1 root root   56827 Feb 24  2022 2019-07-lincolnshire-stop-and-search.csv\n",
            "-r-------- 1 root root  721440 Feb 24  2022 2019-07-merseyside-stop-and-search.csv\n",
            "-r-------- 1 root root   65236 Feb 24  2022 2019-07-norfolk-stop-and-search.csv\n",
            "-r-------- 1 root root   39030 Feb 24  2022 2019-07-northamptonshire-stop-and-search.csv\n",
            "-r-------- 1 root root   81708 Feb 24  2022 2019-07-northumbria-stop-and-search.csv\n",
            "-r-------- 1 root root  102239 Feb 24  2022 2019-07-north-wales-stop-and-search.csv\n",
            "-r-------- 1 root root   31687 Feb 24  2022 2019-07-north-yorkshire-stop-and-search.csv\n",
            "-r-------- 1 root root   88155 Feb 24  2022 2019-07-nottinghamshire-stop-and-search.csv\n",
            "-r-------- 1 root root  237721 Feb 24  2022 2019-07-south-wales-stop-and-search.csv\n",
            "-r-------- 1 root root  187950 Feb 24  2022 2019-07-south-yorkshire-stop-and-search.csv\n",
            "-r-------- 1 root root  118263 Feb 24  2022 2019-07-staffordshire-stop-and-search.csv\n",
            "-r-------- 1 root root   51975 Feb 24  2022 2019-07-suffolk-stop-and-search.csv\n",
            "-r-------- 1 root root   65241 Feb 24  2022 2019-07-surrey-stop-and-search.csv\n",
            "-r-------- 1 root root  149407 Feb 24  2022 2019-07-sussex-stop-and-search.csv\n",
            "-r-------- 1 root root  172468 Feb 24  2022 2019-07-thames-valley-stop-and-search.csv\n",
            "-r-------- 1 root root   28012 Feb 24  2022 2019-07-warwickshire-stop-and-search.csv\n",
            "-r-------- 1 root root   80463 Feb 24  2022 2019-07-west-mercia-stop-and-search.csv\n",
            "-r-------- 1 root root  415798 Feb 24  2022 2019-07-west-midlands-stop-and-search.csv\n",
            "-r-------- 1 root root  269063 Feb 24  2022 2019-07-west-yorkshire-stop-and-search.csv\n",
            "-r-------- 1 root root    5715 Feb 24  2022 2019-07-wiltshire-stop-and-search.csv\n"
          ]
        }
      ]
    },
    {
      "cell_type": "markdown",
      "source": [
        "## **PART I**"
      ],
      "metadata": {
        "id": "fUtOnN24bjHS"
      }
    },
    {
      "cell_type": "code",
      "source": [
        "import os\n",
        "import pandas as pd\n",
        "from tabulate import tabulate\n",
        "df = pd.read_csv('/content/drive/MyDrive/data_analytics/MINIPROJECT_7/2019-07/2019-07-merseyside-stop-and-search.csv')\n",
        "\n",
        "print(tabulate(df.head(10), headers='keys', tablefmt='github'))"
      ],
      "metadata": {
        "id": "gTevh-JDIy76",
        "colab": {
          "base_uri": "https://localhost:8080/"
        },
        "outputId": "2be200a3-992e-4193-a611-412b9f51d329"
      },
      "execution_count": null,
      "outputs": [
        {
          "output_type": "stream",
          "name": "stdout",
          "text": [
            "|    | Type                      | Date                      |   Part of a policing operation |   Policing operation |   Latitude |   Longitude | Gender   | Age range   | Self-defined ethnicity                                | Officer-defined ethnicity   | Legislation                                       | Object of search         | Outcome                      |   Outcome linked to object of search | Removal of more than just outer clothing   |\n",
            "|----|---------------------------|---------------------------|--------------------------------|----------------------|------------|-------------|----------|-------------|-------------------------------------------------------|-----------------------------|---------------------------------------------------|--------------------------|------------------------------|--------------------------------------|--------------------------------------------|\n",
            "|  0 | Person search             | 2019-06-30T23:51:09+00:00 |                            nan |                  nan |    53.4535 |    -2.70483 | Male     | 10-17       | White - English/Welsh/Scottish/Northern Irish/British | White                       | Police and Criminal Evidence Act 1984 (section 1) | Article for use in theft | A no further action disposal |                                  nan | False                                      |\n",
            "|  1 | Person search             | 2019-06-30T23:53:49+00:00 |                            nan |                  nan |    53.4929 |    -2.99958 | Male     | 10-17       | White - English/Welsh/Scottish/Northern Irish/British | White                       | Misuse of Drugs Act 1971 (section 23)             | Controlled drugs         | A no further action disposal |                                  nan | False                                      |\n",
            "|  2 | Person search             | 2019-06-30T23:59:02+00:00 |                            nan |                  nan |    53.4929 |    -2.99958 | Male     | 10-17       | White - English/Welsh/Scottish/Northern Irish/British | White                       | Misuse of Drugs Act 1971 (section 23)             | Controlled drugs         | A no further action disposal |                                  nan | False                                      |\n",
            "|  3 | Person search             | 2019-07-01T00:06:48+00:00 |                            nan |                  nan |    53.4961 |    -3.0031  | Male     | 18-24       | White - English/Welsh/Scottish/Northern Irish/British | White                       | Misuse of Drugs Act 1971 (section 23)             | Controlled drugs         | A no further action disposal |                                  nan | False                                      |\n",
            "|  4 | Person search             | 2019-07-01T00:09:45+00:00 |                            nan |                  nan |    53.4401 |    -2.96236 | Male     | 25-34       | White - English/Welsh/Scottish/Northern Irish/British | White                       | Misuse of Drugs Act 1971 (section 23)             | Controlled drugs         | Summons / charged by post    |                                    1 | False                                      |\n",
            "|  5 | Person search             | 2019-07-01T00:10:12+00:00 |                            nan |                  nan |    53.4376 |    -2.96463 | Male     | over 34     | White - English/Welsh/Scottish/Northern Irish/British | White                       | Misuse of Drugs Act 1971 (section 23)             | Controlled drugs         | A no further action disposal |                                  nan | False                                      |\n",
            "|  6 | Person search             | 2019-07-01T02:15:48+00:00 |                            nan |                  nan |    53.3989 |    -2.96785 | Male     | 25-34       | White - English/Welsh/Scottish/Northern Irish/British | White                       | Misuse of Drugs Act 1971 (section 23)             | Controlled drugs         | A no further action disposal |                                  nan | False                                      |\n",
            "|  7 | Person search             | 2019-07-01T02:52:46+00:00 |                            nan |                  nan |   nan      |   nan       | Male     | 25-34       | White - English/Welsh/Scottish/Northern Irish/British | White                       | Police and Criminal Evidence Act 1984 (section 1) | nan                      | A no further action disposal |                                  nan | False                                      |\n",
            "|  8 | Person and Vehicle search | 2019-07-01T03:30:00+00:00 |                            nan |                  nan |    53.6652 |    -2.96064 | Male     | 18-24       | White - English/Welsh/Scottish/Northern Irish/British | White                       | Misuse of Drugs Act 1971 (section 23)             | Controlled drugs         | Arrest                       |                                    1 | False                                      |\n",
            "|  9 | Person search             | 2019-07-01T07:04:42+00:00 |                            nan |                  nan |    53.4203 |    -2.98513 | Male     | 25-34       | White - English/Welsh/Scottish/Northern Irish/British | White                       | Misuse of Drugs Act 1971 (section 23)             | Controlled drugs         | A no further action disposal |                                  nan | False                                      |\n"
          ]
        }
      ]
    },
    {
      "cell_type": "markdown",
      "source": [
        "### **1.1 Top 10 Type by number events. Type column is the event (see sample data in the end of this document ).**\n",
        "### **Expected Output:**\n",
        "### **type, num_events, rank**\n"
      ],
      "metadata": {
        "id": "2OAXV_CYbVlY"
      }
    },
    {
      "cell_type": "code",
      "source": [
        "df_num = df.groupby('Type').size().to_frame('num_events').reset_index()\n",
        "df_num['rank'] = df_num['num_events'].rank(ascending=False)\n",
        "df_num = df_num.sort_values(by='rank', ascending=True)\n",
        "print(tabulate(df_num, headers='keys', tablefmt='github'))"
      ],
      "metadata": {
        "colab": {
          "base_uri": "https://localhost:8080/"
        },
        "id": "EPMhNhkDe96H",
        "outputId": "c042bbf5-7e7d-494b-ee50-26b39e355009"
      },
      "execution_count": null,
      "outputs": [
        {
          "output_type": "stream",
          "name": "stdout",
          "text": [
            "|    | Type                      |   num_events |   rank |\n",
            "|----|---------------------------|--------------|--------|\n",
            "|  1 | Person search             |         2763 |      1 |\n",
            "|  0 | Person and Vehicle search |          474 |      2 |\n",
            "|  2 | Vehicle search            |           49 |      3 |\n"
          ]
        }
      ]
    },
    {
      "cell_type": "markdown",
      "source": [
        "### **1.2 Top 10 Ethnics by number events. Use column “Officer-defined ethnicity”**\n",
        "### **Expected Output:**\n",
        "### **type, ethnicity, office_num_events, office_ethnic_rank**\n"
      ],
      "metadata": {
        "id": "5QtU40UhdTAW"
      }
    },
    {
      "cell_type": "code",
      "source": [
        "df_eth1 = df.groupby(['Type', 'Officer-defined ethnicity']).size().to_frame('office_num_events').reset_index()\n",
        "df_eth1['office_ethnic_rank'] = df_eth1['office_num_events'].rank(ascending=False)\n",
        "print(tabulate(df_eth1, headers='keys', tablefmt='github'))"
      ],
      "metadata": {
        "id": "oCrjpl0vnLio",
        "colab": {
          "base_uri": "https://localhost:8080/"
        },
        "outputId": "63d2806c-a8a4-4527-85ce-0e2bfa03eb06"
      },
      "execution_count": null,
      "outputs": [
        {
          "output_type": "stream",
          "name": "stdout",
          "text": [
            "|    | Type                      | Officer-defined ethnicity   |   office_num_events |   office_ethnic_rank |\n",
            "|----|---------------------------|-----------------------------|---------------------|----------------------|\n",
            "|  0 | Person and Vehicle search | Asian                       |                   7 |                    7 |\n",
            "|  1 | Person and Vehicle search | Black                       |                  23 |                    5 |\n",
            "|  2 | Person and Vehicle search | Other                       |                   5 |                    8 |\n",
            "|  3 | Person and Vehicle search | White                       |                 427 |                    2 |\n",
            "|  4 | Person search             | Asian                       |                  22 |                    6 |\n",
            "|  5 | Person search             | Black                       |                 113 |                    3 |\n",
            "|  6 | Person search             | Other                       |                  24 |                    4 |\n",
            "|  7 | Person search             | White                       |                2477 |                    1 |\n"
          ]
        }
      ]
    },
    {
      "cell_type": "markdown",
      "source": [
        "### **1.3 Top 10 Ethnics by number events. Use column “Self-defined ethnicity”**\n",
        "### **Expected Output:**\n",
        "### **type, self_num_events, self_ethnic_rank**\n"
      ],
      "metadata": {
        "id": "Gfq2Qw_FRiQe"
      }
    },
    {
      "cell_type": "code",
      "source": [
        "df_eth2 = df.groupby(['Type', 'Self-defined ethnicity']).size().to_frame('self_num_events').reset_index()\n",
        "df_eth2['self_ethnic_rank'] = df_eth2['self_num_events'].rank(ascending=False)\n",
        "df_eth2 = df_eth2.sort_values(by='self_ethnic_rank').head(10).reset_index(drop=True)\n",
        "print(tabulate(df_eth2, headers='keys', tablefmt='github'))"
      ],
      "metadata": {
        "colab": {
          "base_uri": "https://localhost:8080/"
        },
        "id": "NMh7C0IYRh-k",
        "outputId": "204c93f6-9ab9-4a9d-c57b-b9d10feef412"
      },
      "execution_count": null,
      "outputs": [
        {
          "output_type": "stream",
          "name": "stdout",
          "text": [
            "|    | Type                      | Self-defined ethnicity                                                               |   self_num_events |   self_ethnic_rank |\n",
            "|----|---------------------------|--------------------------------------------------------------------------------------|-------------------|--------------------|\n",
            "|  0 | Person search             | White - English/Welsh/Scottish/Northern Irish/British                                |              2212 |                  1 |\n",
            "|  1 | Person and Vehicle search | White - English/Welsh/Scottish/Northern Irish/British                                |               387 |                  2 |\n",
            "|  2 | Person search             | Other ethnic group - Not stated                                                      |               321 |                  3 |\n",
            "|  3 | Person search             | White - Any other White background                                                   |                60 |                  4 |\n",
            "|  4 | Person and Vehicle search | Other ethnic group - Not stated                                                      |                42 |                  5 |\n",
            "|  5 | Person search             | Black/African/Caribbean/Black British - Any other Black/African/Caribbean background |                41 |                  6 |\n",
            "|  6 | Person search             | Black/African/Caribbean/Black British - African                                      |                29 |                  7 |\n",
            "|  7 | Person search             | White - Irish                                                                        |                21 |                  8 |\n",
            "|  8 | Person search             | Mixed/Multiple ethnic groups - Any other Mixed/Multiple ethnic background            |                18 |                  9 |\n",
            "|  9 | Person search             | Black/African/Caribbean/Black British - Caribbean                                    |                17 |                 10 |\n"
          ]
        }
      ]
    },
    {
      "cell_type": "markdown",
      "source": [
        "### **1.4 Merge 2 and 3 above on type.**\n",
        "### **Expected Output:**\n",
        "### **type, office_num_events, office_ethnic_rank, self_num_events, self_ethnic_rank**\n"
      ],
      "metadata": {
        "id": "-a9CzzCcVbvi"
      }
    },
    {
      "cell_type": "code",
      "source": [
        "df_merge = df_eth1.merge(df_eth2, on=['Type'])\n",
        "#df_merge = df_merge[['Type', 'office_num_events', 'office_ethnic_rank', 'self_num_events', 'self_ethnic_rank']]\n",
        "print(tabulate(df_merge, headers='keys', tablefmt='github'))"
      ],
      "metadata": {
        "colab": {
          "base_uri": "https://localhost:8080/"
        },
        "id": "TPnnZ50-KUv3",
        "outputId": "8d316d9a-8a1a-4900-f91a-4741c54cf469"
      },
      "execution_count": null,
      "outputs": [
        {
          "output_type": "stream",
          "name": "stdout",
          "text": [
            "|    | Type                      | Officer-defined ethnicity   |   office_num_events |   office_ethnic_rank | Self-defined ethnicity                                                               |   self_num_events |   self_ethnic_rank |\n",
            "|----|---------------------------|-----------------------------|---------------------|----------------------|--------------------------------------------------------------------------------------|-------------------|--------------------|\n",
            "|  0 | Person and Vehicle search | Asian                       |                   7 |                    7 | White - English/Welsh/Scottish/Northern Irish/British                                |               387 |                  2 |\n",
            "|  1 | Person and Vehicle search | Asian                       |                   7 |                    7 | Other ethnic group - Not stated                                                      |                42 |                  5 |\n",
            "|  2 | Person and Vehicle search | Black                       |                  23 |                    5 | White - English/Welsh/Scottish/Northern Irish/British                                |               387 |                  2 |\n",
            "|  3 | Person and Vehicle search | Black                       |                  23 |                    5 | Other ethnic group - Not stated                                                      |                42 |                  5 |\n",
            "|  4 | Person and Vehicle search | Other                       |                   5 |                    8 | White - English/Welsh/Scottish/Northern Irish/British                                |               387 |                  2 |\n",
            "|  5 | Person and Vehicle search | Other                       |                   5 |                    8 | Other ethnic group - Not stated                                                      |                42 |                  5 |\n",
            "|  6 | Person and Vehicle search | White                       |                 427 |                    2 | White - English/Welsh/Scottish/Northern Irish/British                                |               387 |                  2 |\n",
            "|  7 | Person and Vehicle search | White                       |                 427 |                    2 | Other ethnic group - Not stated                                                      |                42 |                  5 |\n",
            "|  8 | Person search             | Asian                       |                  22 |                    6 | White - English/Welsh/Scottish/Northern Irish/British                                |              2212 |                  1 |\n",
            "|  9 | Person search             | Asian                       |                  22 |                    6 | Other ethnic group - Not stated                                                      |               321 |                  3 |\n",
            "| 10 | Person search             | Asian                       |                  22 |                    6 | White - Any other White background                                                   |                60 |                  4 |\n",
            "| 11 | Person search             | Asian                       |                  22 |                    6 | Black/African/Caribbean/Black British - Any other Black/African/Caribbean background |                41 |                  6 |\n",
            "| 12 | Person search             | Asian                       |                  22 |                    6 | Black/African/Caribbean/Black British - African                                      |                29 |                  7 |\n",
            "| 13 | Person search             | Asian                       |                  22 |                    6 | White - Irish                                                                        |                21 |                  8 |\n",
            "| 14 | Person search             | Asian                       |                  22 |                    6 | Mixed/Multiple ethnic groups - Any other Mixed/Multiple ethnic background            |                18 |                  9 |\n",
            "| 15 | Person search             | Asian                       |                  22 |                    6 | Black/African/Caribbean/Black British - Caribbean                                    |                17 |                 10 |\n",
            "| 16 | Person search             | Black                       |                 113 |                    3 | White - English/Welsh/Scottish/Northern Irish/British                                |              2212 |                  1 |\n",
            "| 17 | Person search             | Black                       |                 113 |                    3 | Other ethnic group - Not stated                                                      |               321 |                  3 |\n",
            "| 18 | Person search             | Black                       |                 113 |                    3 | White - Any other White background                                                   |                60 |                  4 |\n",
            "| 19 | Person search             | Black                       |                 113 |                    3 | Black/African/Caribbean/Black British - Any other Black/African/Caribbean background |                41 |                  6 |\n",
            "| 20 | Person search             | Black                       |                 113 |                    3 | Black/African/Caribbean/Black British - African                                      |                29 |                  7 |\n",
            "| 21 | Person search             | Black                       |                 113 |                    3 | White - Irish                                                                        |                21 |                  8 |\n",
            "| 22 | Person search             | Black                       |                 113 |                    3 | Mixed/Multiple ethnic groups - Any other Mixed/Multiple ethnic background            |                18 |                  9 |\n",
            "| 23 | Person search             | Black                       |                 113 |                    3 | Black/African/Caribbean/Black British - Caribbean                                    |                17 |                 10 |\n",
            "| 24 | Person search             | Other                       |                  24 |                    4 | White - English/Welsh/Scottish/Northern Irish/British                                |              2212 |                  1 |\n",
            "| 25 | Person search             | Other                       |                  24 |                    4 | Other ethnic group - Not stated                                                      |               321 |                  3 |\n",
            "| 26 | Person search             | Other                       |                  24 |                    4 | White - Any other White background                                                   |                60 |                  4 |\n",
            "| 27 | Person search             | Other                       |                  24 |                    4 | Black/African/Caribbean/Black British - Any other Black/African/Caribbean background |                41 |                  6 |\n",
            "| 28 | Person search             | Other                       |                  24 |                    4 | Black/African/Caribbean/Black British - African                                      |                29 |                  7 |\n",
            "| 29 | Person search             | Other                       |                  24 |                    4 | White - Irish                                                                        |                21 |                  8 |\n",
            "| 30 | Person search             | Other                       |                  24 |                    4 | Mixed/Multiple ethnic groups - Any other Mixed/Multiple ethnic background            |                18 |                  9 |\n",
            "| 31 | Person search             | Other                       |                  24 |                    4 | Black/African/Caribbean/Black British - Caribbean                                    |                17 |                 10 |\n",
            "| 32 | Person search             | White                       |                2477 |                    1 | White - English/Welsh/Scottish/Northern Irish/British                                |              2212 |                  1 |\n",
            "| 33 | Person search             | White                       |                2477 |                    1 | Other ethnic group - Not stated                                                      |               321 |                  3 |\n",
            "| 34 | Person search             | White                       |                2477 |                    1 | White - Any other White background                                                   |                60 |                  4 |\n",
            "| 35 | Person search             | White                       |                2477 |                    1 | Black/African/Caribbean/Black British - Any other Black/African/Caribbean background |                41 |                  6 |\n",
            "| 36 | Person search             | White                       |                2477 |                    1 | Black/African/Caribbean/Black British - African                                      |                29 |                  7 |\n",
            "| 37 | Person search             | White                       |                2477 |                    1 | White - Irish                                                                        |                21 |                  8 |\n",
            "| 38 | Person search             | White                       |                2477 |                    1 | Mixed/Multiple ethnic groups - Any other Mixed/Multiple ethnic background            |                18 |                  9 |\n",
            "| 39 | Person search             | White                       |                2477 |                    1 | Black/African/Caribbean/Black British - Caribbean                                    |                17 |                 10 |\n"
          ]
        }
      ]
    },
    {
      "cell_type": "markdown",
      "source": [
        "### **1.5 Top 10 Type by Gender = Male.**\n",
        "### **Expected Output:**\n",
        "### **type, num_events_men, rank_men**\n"
      ],
      "metadata": {
        "id": "vxVj1hsOaZkq"
      }
    },
    {
      "cell_type": "code",
      "source": [
        "df_male = df[df['Gender'] == 'Male']\n",
        "df_male = df_male.groupby(['Type']).size().to_frame('num_events_men').reset_index()\n",
        "df_male['rank_men'] = df_male['num_events_men'].rank(ascending=False)\n",
        "df_male = df_male.sort_values(by='rank_men').reset_index(drop=True)\n",
        "print(tabulate(df_male, headers='keys', tablefmt='github'))"
      ],
      "metadata": {
        "colab": {
          "base_uri": "https://localhost:8080/"
        },
        "id": "M7eaDW72XR0_",
        "outputId": "34e8eea0-f51e-4b39-9490-8b5809bc3e92"
      },
      "execution_count": null,
      "outputs": [
        {
          "output_type": "stream",
          "name": "stdout",
          "text": [
            "|    | Type                      |   num_events_men |   rank_men |\n",
            "|----|---------------------------|------------------|------------|\n",
            "|  0 | Person search             |             2498 |          1 |\n",
            "|  1 | Person and Vehicle search |              433 |          2 |\n"
          ]
        }
      ]
    },
    {
      "cell_type": "markdown",
      "source": [
        "### **1.6 type, num_events_men, rank_men**\n",
        "### **Top 10 Type by Gender = Female.**\n",
        "### **Expected Output:**\n",
        "### **type, num_events_men, rank_women**\n"
      ],
      "metadata": {
        "id": "iJDuOC1qjgox"
      }
    },
    {
      "cell_type": "code",
      "source": [
        "df_female = df[df['Gender'] == 'Female']\n",
        "df_female = df_female.groupby(['Type']).size().to_frame('num_events_women').reset_index()\n",
        "df_female['rank_women'] = df_female['num_events_women'].rank(ascending=False)\n",
        "df_female = df_female.sort_values(by='rank_women').reset_index(drop=True)\n",
        "print(tabulate(df_female, headers='keys', tablefmt='github'))"
      ],
      "metadata": {
        "colab": {
          "base_uri": "https://localhost:8080/"
        },
        "id": "fEUolCfZjUvV",
        "outputId": "235a3952-04ac-4874-b072-bd114acc1cb0"
      },
      "execution_count": null,
      "outputs": [
        {
          "output_type": "stream",
          "name": "stdout",
          "text": [
            "|    | Type                      |   num_events_women |   rank_women |\n",
            "|----|---------------------------|--------------------|--------------|\n",
            "|  0 | Person search             |                182 |            1 |\n",
            "|  1 | Person and Vehicle search |                 29 |            2 |\n"
          ]
        }
      ]
    },
    {
      "cell_type": "markdown",
      "source": [
        "### **1.7 Group bar chart plot (vertical) with output from 5 and 6.**\n",
        "### **Bar 1 -> Male**\n",
        "### **Bar 2 -> Female**\n"
      ],
      "metadata": {
        "id": "mzCQrL-BkE_D"
      }
    },
    {
      "cell_type": "code",
      "source": [
        "import seaborn as sns\n",
        "import matplotlib.pyplot as plt\n",
        "\n",
        "combined = df.groupby(['Type', 'Gender']).size().to_frame('num_events').reset_index()\n",
        "combined['rank'] = combined['num_events'].rank(ascending=False)\n",
        "combined = combined.sort_values(by='rank').reset_index(drop=True)\n",
        "print(tabulate(combined, headers='keys', tablefmt='github'))\n",
        "plt.figure(figsize=(5, 5))\n",
        "sns.barplot(data=combined, x='Type', y='num_events', hue='Gender')\n",
        "plt.title('Grouped Barchart')\n",
        "plt.xlabel('sales')\n",
        "plt.ylabel('Avg_time_spent_company')\n",
        "\n",
        "plt.show()"
      ],
      "metadata": {
        "colab": {
          "base_uri": "https://localhost:8080/",
          "height": 591
        },
        "id": "G1e-m_uEj3qN",
        "outputId": "b7c3cbd3-43e9-436f-dfc5-fa65b28cc0bf"
      },
      "execution_count": null,
      "outputs": [
        {
          "output_type": "stream",
          "name": "stdout",
          "text": [
            "|    | Type                      | Gender   |   num_events |   rank |\n",
            "|----|---------------------------|----------|--------------|--------|\n",
            "|  0 | Person search             | Male     |         2498 |      1 |\n",
            "|  1 | Person and Vehicle search | Male     |          433 |      2 |\n",
            "|  2 | Person search             | Female   |          182 |      3 |\n",
            "|  3 | Person and Vehicle search | Female   |           29 |      4 |\n"
          ]
        },
        {
          "output_type": "display_data",
          "data": {
            "text/plain": [
              "<Figure size 500x500 with 1 Axes>"
            ],
            "image/png": "[encoded data removed]"
          },
          "metadata": {}
        }
      ]
    },
    {
      "cell_type": "markdown",
      "source": [
        "### **1.8 For Gender = Male, number events by “Age range”**\n",
        "### **Expected Output:**\n",
        "### **type, age_range_male, num_events_male, rank_male**\n"
      ],
      "metadata": {
        "id": "YcTgAaXrE36y"
      }
    },
    {
      "cell_type": "code",
      "source": [
        "df_male_age = df[df['Gender'] == 'Male']\n",
        "df_male_age = df_male_age.groupby(['Type', 'Age range']).size().to_frame('num_events_male').reset_index()\n",
        "df_male_age['rank_male'] = df_male_age['num_events_male'].rank(ascending=False)\n",
        "df_male_age = df_male_age.sort_values(by='rank_male').head(10).reset_index(drop=True)\n",
        "df_male_age.columns = ['Type', 'age_range_male', 'num_events_male', 'rank_male']\n",
        "\n",
        "print(tabulate(df_male_age, headers='keys', tablefmt='github'))"
      ],
      "metadata": {
        "id": "EKTsr-4jl0bf",
        "colab": {
          "base_uri": "https://localhost:8080/"
        },
        "outputId": "09d2b922-a324-4316-bd2c-ec69d9172e00"
      },
      "execution_count": null,
      "outputs": [
        {
          "output_type": "stream",
          "name": "stdout",
          "text": [
            "|    | Type                      | age_range_male   |   num_events_male |   rank_male |\n",
            "|----|---------------------------|------------------|-------------------|-------------|\n",
            "|  0 | Person search             | 18-24            |               783 |           1 |\n",
            "|  1 | Person search             | 10-17            |               593 |           2 |\n",
            "|  2 | Person search             | over 34          |               565 |           3 |\n",
            "|  3 | Person search             | 25-34            |               552 |           4 |\n",
            "|  4 | Person and Vehicle search | 25-34            |               170 |           5 |\n",
            "|  5 | Person and Vehicle search | 18-24            |               163 |           6 |\n",
            "|  6 | Person and Vehicle search | over 34          |                84 |           7 |\n",
            "|  7 | Person and Vehicle search | 10-17            |                15 |           8 |\n"
          ]
        }
      ]
    },
    {
      "cell_type": "markdown",
      "source": [
        "### **1.9 For Gender = Female, number events by “Age range”**\n",
        "### **Expected Output:**\n",
        "### **type, age_range_female, num_events_female, rank_female**\n"
      ],
      "metadata": {
        "id": "8wKnXL0cHUqY"
      }
    },
    {
      "cell_type": "code",
      "source": [
        "df_female_age = df[df['Gender'] == 'Female']\n",
        "df_female_age = df_female_age.groupby(['Type', 'Age range']).size().to_frame('num_events_female').reset_index()\n",
        "df_female_age['rank_female'] = df_female_age['num_events_female'].rank(ascending=False)\n",
        "df_female_age = df_female_age.sort_values(by='rank_female').head(10).reset_index(drop=True)\n",
        "df_female_age.columns = ['Type', 'age_range_female', 'num_events_female', 'rank_female']\n",
        "print(tabulate(df_female_age, headers='keys', tablefmt='github'))"
      ],
      "metadata": {
        "colab": {
          "base_uri": "https://localhost:8080/"
        },
        "id": "9V-Ic_bHG5Oy",
        "outputId": "b6f74fd3-52f8-49e7-a200-1245f7ce82c7"
      },
      "execution_count": null,
      "outputs": [
        {
          "output_type": "stream",
          "name": "stdout",
          "text": [
            "|    | Type                      | age_range_female   |   num_events_female |   rank_female |\n",
            "|----|---------------------------|--------------------|---------------------|---------------|\n",
            "|  0 | Person search             | over 34            |                  57 |             1 |\n",
            "|  1 | Person search             | 25-34              |                  51 |             2 |\n",
            "|  2 | Person search             | 18-24              |                  48 |             3 |\n",
            "|  3 | Person search             | 10-17              |                  25 |             4 |\n",
            "|  4 | Person and Vehicle search | 18-24              |                  11 |             5 |\n",
            "|  5 | Person and Vehicle search | 25-34              |                  10 |             6 |\n",
            "|  6 | Person and Vehicle search | over 34            |                   8 |             7 |\n"
          ]
        }
      ]
    },
    {
      "cell_type": "markdown",
      "source": [
        "### **1.10 Merge 8 and 9 on column “type”**\n",
        "### **Expected Output:**\n",
        "### **type, age_range_male, num_events_male, rank_male, age_range_female, num_events_female, rank_female**\n"
      ],
      "metadata": {
        "id": "UYsQEeLXHp1b"
      }
    },
    {
      "cell_type": "code",
      "source": [
        "df_combined = df_male_age.merge(df_female_age, on=['Type'])\n",
        "print(tabulate(df_combined, headers='keys', tablefmt='github'))"
      ],
      "metadata": {
        "colab": {
          "base_uri": "https://localhost:8080/"
        },
        "id": "YAo8lEgfHkvU",
        "outputId": "d42c35cd-3750-4e08-ba2c-cd8c09633879"
      },
      "execution_count": null,
      "outputs": [
        {
          "output_type": "stream",
          "name": "stdout",
          "text": [
            "|    | Type                      | age_range_male   |   num_events_male |   rank_male | age_range_female   |   num_events_female |   rank_female |\n",
            "|----|---------------------------|------------------|-------------------|-------------|--------------------|---------------------|---------------|\n",
            "|  0 | Person search             | 18-24            |               783 |           1 | over 34            |                  57 |             1 |\n",
            "|  1 | Person search             | 18-24            |               783 |           1 | 25-34              |                  51 |             2 |\n",
            "|  2 | Person search             | 18-24            |               783 |           1 | 18-24              |                  48 |             3 |\n",
            "|  3 | Person search             | 18-24            |               783 |           1 | 10-17              |                  25 |             4 |\n",
            "|  4 | Person search             | 10-17            |               593 |           2 | over 34            |                  57 |             1 |\n",
            "|  5 | Person search             | 10-17            |               593 |           2 | 25-34              |                  51 |             2 |\n",
            "|  6 | Person search             | 10-17            |               593 |           2 | 18-24              |                  48 |             3 |\n",
            "|  7 | Person search             | 10-17            |               593 |           2 | 10-17              |                  25 |             4 |\n",
            "|  8 | Person search             | over 34          |               565 |           3 | over 34            |                  57 |             1 |\n",
            "|  9 | Person search             | over 34          |               565 |           3 | 25-34              |                  51 |             2 |\n",
            "| 10 | Person search             | over 34          |               565 |           3 | 18-24              |                  48 |             3 |\n",
            "| 11 | Person search             | over 34          |               565 |           3 | 10-17              |                  25 |             4 |\n",
            "| 12 | Person search             | 25-34            |               552 |           4 | over 34            |                  57 |             1 |\n",
            "| 13 | Person search             | 25-34            |               552 |           4 | 25-34              |                  51 |             2 |\n",
            "| 14 | Person search             | 25-34            |               552 |           4 | 18-24              |                  48 |             3 |\n",
            "| 15 | Person search             | 25-34            |               552 |           4 | 10-17              |                  25 |             4 |\n",
            "| 16 | Person and Vehicle search | 25-34            |               170 |           5 | 18-24              |                  11 |             5 |\n",
            "| 17 | Person and Vehicle search | 25-34            |               170 |           5 | 25-34              |                  10 |             6 |\n",
            "| 18 | Person and Vehicle search | 25-34            |               170 |           5 | over 34            |                   8 |             7 |\n",
            "| 19 | Person and Vehicle search | 18-24            |               163 |           6 | 18-24              |                  11 |             5 |\n",
            "| 20 | Person and Vehicle search | 18-24            |               163 |           6 | 25-34              |                  10 |             6 |\n",
            "| 21 | Person and Vehicle search | 18-24            |               163 |           6 | over 34            |                   8 |             7 |\n",
            "| 22 | Person and Vehicle search | over 34          |                84 |           7 | 18-24              |                  11 |             5 |\n",
            "| 23 | Person and Vehicle search | over 34          |                84 |           7 | 25-34              |                  10 |             6 |\n",
            "| 24 | Person and Vehicle search | over 34          |                84 |           7 | over 34            |                   8 |             7 |\n",
            "| 25 | Person and Vehicle search | 10-17            |                15 |           8 | 18-24              |                  11 |             5 |\n",
            "| 26 | Person and Vehicle search | 10-17            |                15 |           8 | 25-34              |                  10 |             6 |\n",
            "| 27 | Person and Vehicle search | 10-17            |                15 |           8 | over 34            |                   8 |             7 |\n"
          ]
        }
      ]
    },
    {
      "cell_type": "markdown",
      "source": [
        "## **PART II**"
      ],
      "metadata": {
        "id": "3FwQxB9mJNZf"
      }
    },
    {
      "cell_type": "code",
      "source": [
        "import os\n",
        "import pandas as pd\n",
        "from tabulate import tabulate\n",
        "df1 = pd.read_csv('/content/drive/MyDrive/data_analytics/MINIPROJECT_7/employee_start_time_end_time.csv')\n",
        "df2 = pd.read_csv('/content/drive/MyDrive/data_analytics/MINIPROJECT_7/hour_range_slot_for_pay.csv')\n",
        "df1.columns = df1.columns.str.strip()\n",
        "df2.columns = df2.columns.str.strip()\n",
        "\n",
        "print(tabulate(df1.head(10), headers='keys', tablefmt='github'))\n",
        "print(tabulate(df2.head(10), headers='keys', tablefmt='github'))"
      ],
      "metadata": {
        "colab": {
          "base_uri": "https://localhost:8080/"
        },
        "id": "Fs2C-CywIBrh",
        "outputId": "ca5d5b11-3f66-4472-8084-b604fad1d176"
      },
      "execution_count": null,
      "outputs": [
        {
          "output_type": "stream",
          "name": "stdout",
          "text": [
            "|    |   employee_id | start_time       | end_time         |\n",
            "|----|---------------|------------------|------------------|\n",
            "|  0 |             1 | 1-Mar-2022 09:10 | 1-Mar-2022 05:10 |\n",
            "|  1 |             2 | 1-Mar-2022 08:10 | 1-Mar-2022 05:10 |\n",
            "|  2 |             3 | 1-Mar-2022 06:00 | 1-Mar-2022 05:10 |\n",
            "|  3 |             4 | 1-Mar-2022 06:10 | 1-Mar-2022 05:10 |\n",
            "|  4 |             5 | 1-Mar-2022 05:10 | 1-Mar-2022 05:10 |\n",
            "|  5 |             6 | 1-Mar-2022 08:10 | 1-Mar-2022 05:10 |\n",
            "|  6 |             7 | 1-Mar-2022 07:10 | 1-Mar-2022 05:10 |\n",
            "|  7 |             1 | 2-Mar-2022 06:10 | 2-Mar-2022 05:10 |\n",
            "|  8 |             2 | 2-Mar-2022 05:10 | 2-Mar-2022 05:10 |\n",
            "|  9 |             3 | 2-Mar-2022 08:10 | 2-Mar-2022 05:10 |\n",
            "|    |   daily_hour_min_range |   daily_hour_max_range |   pay_per_hour_usd |\n",
            "|----|------------------------|------------------------|--------------------|\n",
            "|  0 |                      1 |                      5 |                 10 |\n",
            "|  1 |                      6 |                     10 |                 12 |\n",
            "|  2 |                     11 |                    100 |                 20 |\n"
          ]
        }
      ]
    },
    {
      "cell_type": "markdown",
      "source": [
        "### **2.1 The file \"Employee_start_time_end_time.csv\" contains the start and end times for employees' daily work shifts. The file \"hour_range_slot_for_pay.csv\" specifies the pay rate applicable based on the number of hours worked for a particular day. For example, if an employee works for 4 hours on a given day, the applicable pay rate is $10 per hour, as 4 hours falls within the range of 1 to 5 hours (see row 1 in the \"hour_range_slot_for_pay.csv\" file). If an employee works for 7 hours on a given day, the pay rate is 12 dollars per hour, as it falls within the range of 6 to 10 hours (see row 2 in the \"hour_range_slot_for_pay.csv\" file). Using these criteria, you need to calculate the total pay in USD for each employee based on the provided information from the two CSV files.**\n",
        "### **Expected output:**\n",
        "### **empoyee_id,total_pay_usd**\n"
      ],
      "metadata": {
        "id": "2G57EhS8SyJ8"
      }
    },
    {
      "cell_type": "code",
      "source": [
        "df1['start_time'] = pd.to_datetime(df1['start_time'])\n",
        "df1['end_time'] = pd.to_datetime(df1['end_time'])\n",
        "df1['Hours'] = (df1['start_time'] - df1['end_time']).dt.total_seconds() / 3600\n",
        "print(tabulate(df1.head(10), headers='keys', tablefmt='github'))\n"
      ],
      "metadata": {
        "id": "qNea2RuVKXWS",
        "colab": {
          "base_uri": "https://localhost:8080/"
        },
        "outputId": "3f77e3d0-ad8d-474c-9160-8255fd853748"
      },
      "execution_count": null,
      "outputs": [
        {
          "output_type": "stream",
          "name": "stdout",
          "text": [
            "|    |   employee_id | start_time          | end_time            |    Hours |\n",
            "|----|---------------|---------------------|---------------------|----------|\n",
            "|  0 |             1 | 2022-03-01 09:10:00 | 2022-03-01 05:10:00 | 4        |\n",
            "|  1 |             2 | 2022-03-01 08:10:00 | 2022-03-01 05:10:00 | 3        |\n",
            "|  2 |             3 | 2022-03-01 06:00:00 | 2022-03-01 05:10:00 | 0.833333 |\n",
            "|  3 |             4 | 2022-03-01 06:10:00 | 2022-03-01 05:10:00 | 1        |\n",
            "|  4 |             5 | 2022-03-01 05:10:00 | 2022-03-01 05:10:00 | 0        |\n",
            "|  5 |             6 | 2022-03-01 08:10:00 | 2022-03-01 05:10:00 | 3        |\n",
            "|  6 |             7 | 2022-03-01 07:10:00 | 2022-03-01 05:10:00 | 2        |\n",
            "|  7 |             1 | 2022-03-02 06:10:00 | 2022-03-02 05:10:00 | 1        |\n",
            "|  8 |             2 | 2022-03-02 05:10:00 | 2022-03-02 05:10:00 | 0        |\n",
            "|  9 |             3 | 2022-03-02 08:10:00 | 2022-03-02 05:10:00 | 3        |\n"
          ]
        }
      ]
    },
    {
      "cell_type": "code",
      "source": [
        "def pay_rate(Hours):\n",
        "  for _, row in df2.iterrows():\n",
        "    if row['daily_hour_min_range'] <= Hours <= row['daily_hour_max_range']:\n",
        "      return row['pay_per_hour_usd']\n",
        "  return 0\n"
      ],
      "metadata": {
        "id": "CRS2mr9_SrRz"
      },
      "execution_count": null,
      "outputs": []
    },
    {
      "cell_type": "code",
      "source": [
        "df1['pay_rate'] = df1['Hours'].apply(pay_rate)\n",
        "df1['emp_pay'] = df1['pay_rate'] * df1['Hours']\n",
        "df1 = df1.groupby('employee_id')['emp_pay'].sum().reset_index()\n",
        "df1.columns = ['employee_id', 'emp_pay']\n",
        "print(tabulate(df1, headers='keys', tablefmt='github'))\n"
      ],
      "metadata": {
        "colab": {
          "base_uri": "https://localhost:8080/"
        },
        "id": "L3xactOIX2WG",
        "outputId": "3d932f27-11c3-4b45-aefd-058f755e3908"
      },
      "execution_count": null,
      "outputs": [
        {
          "output_type": "stream",
          "name": "stdout",
          "text": [
            "|    |   employee_id |   emp_pay |\n",
            "|----|---------------|-----------|\n",
            "|  0 |             1 |       154 |\n",
            "|  1 |             2 |       110 |\n",
            "|  2 |             3 |        60 |\n",
            "|  3 |             4 |        50 |\n",
            "|  4 |             5 |        70 |\n",
            "|  5 |             6 |       130 |\n",
            "|  6 |             7 |        50 |\n"
          ]
        }
      ]
    },
    {
      "cell_type": "markdown",
      "source": [
        "### **2.2 Credit Card Fraud Detection: Credit Card Fraud classification using Random Forest Classifier. Column value to be classified is in column \"Is_fraud\" and all other columns are the features. Use two-fold cross validation and evaluation metrics: Precision, Recall, F1-score, Accuracy. Also print confusion matrix. Refer basic notebook template for some code and also internet.**\n"
      ],
      "metadata": {
        "id": "v9aH64QTamJQ"
      }
    },
    {
      "cell_type": "code",
      "source": [
        "df_credit = pd.read_csv('/content/drive/MyDrive/data_analytics/MINIPROJECT_7/fraud test.csv')\n",
        "print(tabulate(df_credit.head(10), headers='keys', tablefmt='github'))"
      ],
      "metadata": {
        "colab": {
          "base_uri": "https://localhost:8080/"
        },
        "id": "OXTyToLtZQrf",
        "outputId": "efd263be-0a6a-45bf-a1f3-a8f82e5dd862"
      },
      "execution_count": null,
      "outputs": [
        {
          "output_type": "stream",
          "name": "stdout",
          "text": [
            "|    |   Unnamed: 0 | trans_date_trans_time   |      cc_num | merchant                             | category       |    amt | first    | last     | gender   | street                      | city         | state   |   zip |     lat |      long |   city_pop | job                                   | dob        | trans_num                        |   unix_time |   merch_lat |   merch_long |   is_fraud |\n",
            "|----|--------------|-------------------------|-------------|--------------------------------------|----------------|--------|----------|----------|----------|-----------------------------|--------------|---------|-------|---------|-----------|------------|---------------------------------------|------------|----------------------------------|-------------|-------------|--------------|------------|\n",
            "|  0 |            0 | 21/06/2020 12:14        | 2.29116e+15 | fraud_Kirlin and Sons                | personal_care  |   2.86 | Jeff     | Elliott  | M        | 351 Darlene Green           | Columbia     | SC      | 29209 | 33.9659 |  -80.9355 |     333497 | Mechanical engineer                   | 19/03/1968 | 2da90c7d74bd46a0caf3777415b3ebd3 |  1371816865 |     33.9864 |     -81.2007 |          0 |\n",
            "|  1 |            1 | 21/06/2020 12:14        | 3.57303e+15 | fraud_Sporer-Keebler                 | personal_care  |  29.84 | Joanne   | Williams | F        | 3638 Marsh Union            | Altonah      | UT      | 84002 | 40.3207 | -110.436  |        302 | Sales professional, IT                | 17/01/1990 | 324cc204407e99f51b0d6ca0055005e7 |  1371816873 |     39.4505 |    -109.96   |          0 |\n",
            "|  2 |            2 | 21/06/2020 12:14        | 3.59822e+15 | fraud_Swaniawski, Nitzsche and Welch | health_fitness |  41.28 | Ashley   | Lopez    | F        | 9333 Valentine Point        | Bellmore     | NY      | 11710 | 40.6729 |  -73.5365 |      34496 | Librarian, public                     | 21/10/1970 | c81755dbbbea9d5c77f094348a7579be |  1371816893 |     40.4958 |     -74.1961 |          0 |\n",
            "|  3 |            3 | 21/06/2020 12:15        | 3.59192e+15 | fraud_Haley Group                    | misc_pos       |  60.05 | Brian    | Williams | M        | 32941 Krystal Mill Apt. 552 | Titusville   | FL      | 32780 | 28.5697 |  -80.8191 |      54767 | Set designer                          | 25/07/1987 | 2159175b9efe66dc301f149d3d5abf8c |  1371816915 |     28.8124 |     -80.8831 |          0 |\n",
            "|  4 |            4 | 21/06/2020 12:15        | 3.52683e+15 | fraud_Johnston-Casper                | travel         |   3.19 | Nathan   | Massey   | M        | 5783 Evan Roads Apt. 465    | Falmouth     | MI      | 49632 | 44.2529 |  -85.017  |       1126 | Furniture designer                    | 06/07/1955 | 57ff021bd3f328f8738bb535c302a31b |  1371816917 |     44.9591 |     -85.8847 |          0 |\n",
            "|  5 |            5 | 21/06/2020 12:15        | 3.04077e+13 | fraud_Daugherty LLC                  | kids_pets      |  19.55 | Danielle | Evans    | F        | 76752 David Lodge Apt. 064  | Breesport    | NY      | 14816 | 42.1939 |  -76.7361 |        520 | Psychotherapist                       | 13/10/1991 | 798db04aaceb4febd084f1a7c404da93 |  1371816937 |     41.7472 |     -77.5842 |          0 |\n",
            "|  6 |            6 | 21/06/2020 12:15        | 2.13181e+14 | fraud_Romaguera Ltd                  | health_fitness | 133.93 | Kayla    | Sutton   | F        | 010 Weaver Land             | Carlotta     | CA      | 95528 | 40.507  | -123.974  |       1139 | Therapist, occupational               | 15/01/1951 | 17003d7ce534440eadb10c4750e020e5 |  1371816944 |     41.4995 |    -124.889  |          0 |\n",
            "|  7 |            7 | 21/06/2020 12:15        | 3.58929e+15 | fraud_Reichel LLC                    | personal_care  |  10.37 | Paula    | Estrada  | F        | 350 Stacy Glens             | Spencer      | SD      | 57374 | 43.7557 |  -97.5936 |        343 | Development worker, international aid | 05/03/1972 | 8be473af4f05fc6146ea55ace73e7ca2 |  1371816950 |     44.4955 |     -97.7285 |          0 |\n",
            "|  8 |            8 | 21/06/2020 12:16        | 3.59636e+15 | fraud_Goyette, Howell and Collier    | shopping_pos   |   4.37 | David    | Everett  | M        | 4138 David Fall             | Morrisdale   | PA      | 16858 | 41.0001 |  -78.2357 |       3688 | Advice worker                         | 27/05/1973 | 71a1da150d1ce510193d7622e08e784e |  1371816970 |     41.5461 |     -78.1202 |          0 |\n",
            "|  9 |            9 | 21/06/2020 12:16        | 3.5469e+15  | fraud_Kilback Group                  | food_dining    |  66.54 | Kayla    | Obrien   | F        | 7921 Robert Port Suite 343  | Prairie Hill | TX      | 76678 | 31.6591 |  -96.8094 |        263 | Barrister                             | 30/05/1956 | a7915132c7c4240996ba03a47f81e3bd |  1371816971 |     31.7829 |     -96.3662 |          0 |\n"
          ]
        }
      ]
    },
    {
      "cell_type": "code",
      "source": [],
      "metadata": {
        "id": "w0hZB9YdcGv-"
      },
      "execution_count": null,
      "outputs": []
    }
  ]
}