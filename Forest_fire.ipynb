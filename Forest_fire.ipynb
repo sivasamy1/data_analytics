{
  "nbformat": 4,
  "nbformat_minor": 0,
  "metadata": {
    "colab": {
      "provenance": [],
      "mount_file_id": "1nn4vNCgl8RxCzVd3Oq-ljKYabAQuuG2j",
      "authorship_tag": "ABX9TyO+CAjSh6eoPUqGlhbhKw6g",
      "include_colab_link": true
    },
    "kernelspec": {
      "name": "python3",
      "display_name": "Python 3"
    },
    "language_info": {
      "name": "python"
    }
  },
  "cells": [
    {
      "cell_type": "markdown",
      "metadata": {
        "id": "view-in-github",
        "colab_type": "text"
      },
      "source": [
        "<a href=\"https://colab.research.google.com/github/sivasamy1/data_analytics/blob/main/Forest_fire.ipynb\" target=\"_parent\"><img src=\"https://colab.research.google.com/assets/colab-badge.svg\" alt=\"Open In Colab\"/></a>"
      ]
    },
    {
      "cell_type": "markdown",
      "source": [
        "### **PART I**"
      ],
      "metadata": {
        "id": "14H1NLIvl1Y1"
      }
    },
    {
      "cell_type": "markdown",
      "source": [
        "1. X - x-axis spatial coordinate within the Montesinho park map: 1 to 9\n",
        "2. Y - y-axis spatial coordinate within the Montesinho park map: 2 to 9\n",
        "3. month - month of the year: 'jan' to 'dec'\n",
        "4. day - day of the week: 'mon' to 'sun'\n",
        "5. FFMC - FFMC index from the FWI system: 18.7 to 96.20\n",
        "6. DMC - DMC index from the FWI system: 1.1 to 291.3\n",
        "7. DC - DC index from the FWI system: 7.9 to 860.6\n",
        "8. ISI - ISI index from the FWI system: 0.0 to 56.10\n",
        "9. temp - temperature in Celsius degrees: 2.2 to 33.30\n",
        "10. RH - relative humidity in %: 15.0 to 100\n",
        "11. wind - wind speed in km/h: 0.40 to 9.40\n",
        "12. rain - outside rain in mm/m2 : 0.0 to 6.4\n",
        "13. area - the burned area of the forest (in ha): 0.00 to 1090.84\n",
        "(this output variable is very skewed towards 0.0, thus it may make\n",
        "sense to model with the logarithm transform).\n",
        "\n"
      ],
      "metadata": {
        "id": "WssET-_QnCgM"
      }
    },
    {
      "cell_type": "code",
      "source": [
        "import pandas as pd\n",
        "from tabulate import tabulate\n",
        "from sklearn.preprocessing import OrdinalEncoder"
      ],
      "metadata": {
        "id": "s1FyW7e_l1GN"
      },
      "execution_count": null,
      "outputs": []
    },
    {
      "cell_type": "code",
      "execution_count": null,
      "metadata": {
        "id": "1sVmvpaug5Cy"
      },
      "outputs": [],
      "source": [
        "df_forest_fire = pd.read_csv('/content/drive/MyDrive/data_analytics/MINIPROJECT_5/forestfires.csv')\n",
        "#print(tabulate(df_forest_fire, headers='keys', tablefmt='psql'))"
      ]
    },
    {
      "cell_type": "markdown",
      "source": [
        "###**1.1 Top 10 maximum burnt area happened on which month.**\n",
        "###**Expected Output:**\n",
        "###**month,area**"
      ],
      "metadata": {
        "id": "3ItXT16Pleua"
      }
    },
    {
      "cell_type": "code",
      "source": [
        "df_burnt = df_forest_fire.sort_values(by='area', ascending=False).head(10)[['month', 'area']].reset_index(drop=True)\n",
        "\n",
        "print(tabulate(df_burnt, headers='keys', tablefmt='psql'))"
      ],
      "metadata": {
        "colab": {
          "base_uri": "https://localhost:8080/"
        },
        "id": "xtwoWVGbmnp0",
        "outputId": "2b84fc0c-5de6-4c6e-eae3-c5d9dbb02712"
      },
      "execution_count": null,
      "outputs": [
        {
          "output_type": "stream",
          "name": "stdout",
          "text": [
            "+----+---------+---------+\n",
            "|    | month   |    area |\n",
            "|----+---------+---------|\n",
            "|  0 | sep     | 1090.84 |\n",
            "|  1 | aug     |  746.28 |\n",
            "|  2 | jul     |  278.53 |\n",
            "|  3 | sep     |  212.88 |\n",
            "|  4 | sep     |  200.94 |\n",
            "|  5 | aug     |  196.48 |\n",
            "|  6 | aug     |  185.76 |\n",
            "|  7 | aug     |  174.63 |\n",
            "|  8 | sep     |  154.88 |\n",
            "|  9 | sep     |  105.66 |\n",
            "+----+---------+---------+\n"
          ]
        }
      ]
    },
    {
      "cell_type": "code",
      "source": [
        "highest_burnt_area_each_month = df_forest_fire.groupby('month', as_index=False,)['area'].max()\n",
        "highest_burnt_area_each_month1 = highest_burnt_area_each_month.sort_values(by='area', ascending=False)\n",
        "highest_burnt_area_each_month = highest_burnt_area_each_month1.head(10)\n",
        "print(highest_burnt_area_each_month)"
      ],
      "metadata": {
        "colab": {
          "base_uri": "https://localhost:8080/"
        },
        "id": "JooVG0fAzq-6",
        "outputId": "8dfd440b-aec0-40ed-9693-c3222ef83a92"
      },
      "execution_count": null,
      "outputs": [
        {
          "output_type": "stream",
          "name": "stdout",
          "text": [
            "   month     area\n",
            "11   sep  1090.84\n",
            "1    aug   746.28\n",
            "5    jul   278.53\n",
            "6    jun    70.32\n",
            "0    apr    61.13\n",
            "3    feb    51.78\n",
            "10   oct    49.37\n",
            "8    may    38.48\n",
            "7    mar    36.85\n",
            "2    dec    24.77\n"
          ]
        }
      ]
    },
    {
      "cell_type": "markdown",
      "source": [
        "### **1.2 Highest temperature and lowest temperature for each month.**\n",
        "### **Expected Output**:\n",
        "### **month,highest_temp, lowest_temp**\n"
      ],
      "metadata": {
        "id": "_u2Z4aIiiDVS"
      }
    },
    {
      "cell_type": "code",
      "source": [
        "month_order = ['jan', 'feb', 'mar', 'apr', 'may', 'jun', 'jul', 'aug', 'sep', 'oct', 'nov', 'dec']\n",
        "\n",
        "df_temp_max = df_forest_fire.groupby('month', as_index=False)['temp'].max()\n",
        "df_temp_min = df_forest_fire.groupby('month', as_index=False)['temp'].min()\n",
        "df_temp = pd.merge(df_temp_max, df_temp_min, on='month', suffixes=('_max', '_min'))\n",
        "df_temp['month'] = pd.Categorical(df_temp['month'], categories=month_order, ordered=True)\n",
        "df_temp['month_index'] = df_temp['month'].cat.codes + 1\n",
        "df_temp = df_temp.sort_values(by='month').reset_index(drop=True)\n",
        "df_temp.columns = ['month', 'highest_temp', 'lowest_temp', 'month_index']\n",
        "print(tabulate(df_temp, headers='keys', tablefmt='psql'))"
      ],
      "metadata": {
        "id": "RwOYW2lq24Xj",
        "colab": {
          "base_uri": "https://localhost:8080/"
        },
        "outputId": "9a2c1751-0193-4e03-8e1e-2076542781ea"
      },
      "execution_count": null,
      "outputs": [
        {
          "output_type": "stream",
          "name": "stdout",
          "text": [
            "+----+---------+----------------+---------------+---------------+\n",
            "|    | month   |   highest_temp |   lowest_temp |   month_index |\n",
            "|----+---------+----------------+---------------+---------------|\n",
            "|  0 | jan     |            5.3 |           5.2 |             1 |\n",
            "|  1 | feb     |           15.7 |           4.2 |             2 |\n",
            "|  2 | mar     |           18.8 |           5.3 |             3 |\n",
            "|  3 | apr     |           17.6 |           5.8 |             4 |\n",
            "|  4 | may     |           18   |          11.3 |             5 |\n",
            "|  5 | jun     |           28   |          10.6 |             6 |\n",
            "|  6 | jul     |           30.2 |          12.6 |             7 |\n",
            "|  7 | aug     |           33.3 |           5.1 |             8 |\n",
            "|  8 | sep     |           30.2 |           9.8 |             9 |\n",
            "|  9 | oct     |           21.7 |          11.3 |            10 |\n",
            "| 10 | nov     |           11.8 |          11.8 |            11 |\n",
            "| 11 | dec     |            5.1 |           2.2 |            12 |\n",
            "+----+---------+----------------+---------------+---------------+\n"
          ]
        }
      ]
    },
    {
      "cell_type": "markdown",
      "source": [
        "### **1.3 Monthly when highest wind and lowest wind happened.**\n",
        "### **Expected Output:**\n",
        "### **month,highest_wind, lowest_wind**\n"
      ],
      "metadata": {
        "id": "1jQoLIGGsf6Q"
      }
    },
    {
      "cell_type": "code",
      "source": [
        "df_wind_max = df_forest_fire.groupby('month', as_index=False)['wind'].max()\n",
        "df_wind_min = df_forest_fire.groupby('month', as_index=False)['wind'].min()\n",
        "df_wind = pd.merge(df_wind_max, df_wind_min, on='month', suffixes=('_max', '_min'))\n",
        "df_wind['month'] = pd.Categorical(df_wind['month'], categories=month_order, ordered=True)\n",
        "df_wind['month_index'] = df_wind['month'].cat.codes + 1\n",
        "df_wind = df_wind.sort_values(by='month').reset_index(drop=True)\n",
        "df_wind.columns = ['month', 'highest_wind', 'lowest_wind', 'month_index']\n",
        "print(tabulate(df_wind, headers='keys', tablefmt='psql'))\n"
      ],
      "metadata": {
        "colab": {
          "base_uri": "https://localhost:8080/"
        },
        "id": "aV4LMjYym8oX",
        "outputId": "eae0d1f0-5b22-4f86-bd23-2ac53c833878"
      },
      "execution_count": null,
      "outputs": [
        {
          "output_type": "stream",
          "name": "stdout",
          "text": [
            "+----+---------+----------------+---------------+---------------+\n",
            "|    | month   |   highest_wind |   lowest_wind |   month_index |\n",
            "|----+---------+----------------+---------------+---------------|\n",
            "|  0 | jan     |            3.1 |           0.9 |             1 |\n",
            "|  1 | feb     |            9.4 |           0.9 |             2 |\n",
            "|  2 | mar     |            9.4 |           0.9 |             3 |\n",
            "|  3 | apr     |            9.4 |           1.8 |             4 |\n",
            "|  4 | may     |            4.9 |           4   |             5 |\n",
            "|  5 | jun     |            9.4 |           1.3 |             6 |\n",
            "|  6 | jul     |            8   |           0.9 |             7 |\n",
            "|  7 | aug     |            8.9 |           0.4 |             8 |\n",
            "|  8 | sep     |            7.6 |           0.9 |             9 |\n",
            "|  9 | oct     |            5.4 |           0.9 |            10 |\n",
            "| 10 | nov     |            4.5 |           4.5 |            11 |\n",
            "| 11 | dec     |            8.5 |           4.9 |            12 |\n",
            "+----+---------+----------------+---------------+---------------+\n"
          ]
        }
      ]
    },
    {
      "cell_type": "markdown",
      "source": [
        "### **1.4 Highest and lowest relative humidity for each month.**\n",
        "### **Expected Output:**\n",
        "### **month,highest_rh, lowest_rh**\n"
      ],
      "metadata": {
        "id": "MqQCGWA72nsX"
      }
    },
    {
      "cell_type": "code",
      "source": [
        "df_hum_max = df_forest_fire.groupby('month', as_index=False)['RH'].max()\n",
        "df_hum_min = df_forest_fire.groupby('month', as_index=False)['RH'].min()\n",
        "df_hum = pd.merge(df_hum_max, df_hum_min, on='month', suffixes=('_max', '_min'))\n",
        "df_hum['month'] = pd.Categorical(df_hum['month'], categories=month_order, ordered=True)\n",
        "df_hum['month_index'] = df_hum['month'].cat.codes + 1\n",
        "df_hum = df_hum.sort_values(by='month').reset_index(drop=True)\n",
        "df_hum.columns = ['month', 'highest_rh', 'lowest_rh', 'month_index']\n",
        "print(tabulate(df_hum, headers='keys', tablefmt='psql'))"
      ],
      "metadata": {
        "colab": {
          "base_uri": "https://localhost:8080/"
        },
        "id": "0FQgB0Mh2eTN",
        "outputId": "96fdfae9-516a-474b-db9b-7ffc88d96c23"
      },
      "execution_count": null,
      "outputs": [
        {
          "output_type": "stream",
          "name": "stdout",
          "text": [
            "+----+---------+--------------+-------------+---------------+\n",
            "|    | month   |   highest_rh |   lowest_rh |   month_index |\n",
            "|----+---------+--------------+-------------+---------------|\n",
            "|  0 | jan     |          100 |          78 |             1 |\n",
            "|  1 | feb     |           82 |          35 |             2 |\n",
            "|  2 | mar     |           99 |          18 |             3 |\n",
            "|  3 | apr     |           75 |          20 |             4 |\n",
            "|  4 | may     |           94 |          40 |             5 |\n",
            "|  5 | jun     |           90 |          25 |             6 |\n",
            "|  6 | jul     |           90 |          22 |             7 |\n",
            "|  7 | aug     |           96 |          19 |             8 |\n",
            "|  8 | sep     |           86 |          15 |             9 |\n",
            "|  9 | oct     |           60 |          24 |            10 |\n",
            "| 10 | nov     |           31 |          31 |            11 |\n",
            "| 11 | dec     |           61 |          21 |            12 |\n",
            "+----+---------+--------------+-------------+---------------+\n"
          ]
        }
      ]
    },
    {
      "cell_type": "markdown",
      "source": [
        "### **1.5 Join the output from questions 1-4 above.**\n",
        "### **Expected Output:**\n",
        "### **month,area,highest_temp, lowest_temp,highest_wind, lowest_wind,highest_rh, lowest_rh**\n"
      ],
      "metadata": {
        "id": "Ict8YHwR3n3K"
      }
    },
    {
      "cell_type": "code",
      "source": [
        "from tabulate import tabulate\n",
        "df_combined1 = pd.merge(highest_burnt_area_each_month1, df_temp, on='month')\n",
        "df_combined2 = pd.merge(df_wind, df_hum, on='month')\n",
        "df_combined = pd.merge(df_combined1, df_combined2, on='month')\n",
        "df_combined = df_combined.loc[:, ~df_combined.columns.str.contains('month_index')]\n",
        "df_combined['month'] = pd.Categorical(df_combined['month'], categories=month_order, ordered=True)\n",
        "df_combined['month_index'] = df_combined['month'].cat.codes + 1\n",
        "df_combined = df_combined.sort_values(by='month_index').reset_index(drop=True)\n",
        "\n",
        "print(tabulate(df_combined, headers='keys', tablefmt='github'))\n",
        "\n"
      ],
      "metadata": {
        "colab": {
          "base_uri": "https://localhost:8080/"
        },
        "id": "anznBXf-3WXj",
        "outputId": "91258f6f-3503-4e3b-e12b-562ac0e18296"
      },
      "execution_count": null,
      "outputs": [
        {
          "output_type": "stream",
          "name": "stdout",
          "text": [
            "|    | month   |    area |   highest_temp |   lowest_temp |   highest_wind |   lowest_wind |   highest_rh |   lowest_rh |   month_index |\n",
            "|----|---------|---------|----------------|---------------|----------------|---------------|--------------|-------------|---------------|\n",
            "|  0 | jan     |    0    |            5.3 |           5.2 |            3.1 |           0.9 |          100 |          78 |             1 |\n",
            "|  1 | feb     |   51.78 |           15.7 |           4.2 |            9.4 |           0.9 |           82 |          35 |             2 |\n",
            "|  2 | mar     |   36.85 |           18.8 |           5.3 |            9.4 |           0.9 |           99 |          18 |             3 |\n",
            "|  3 | apr     |   61.13 |           17.6 |           5.8 |            9.4 |           1.8 |           75 |          20 |             4 |\n",
            "|  4 | may     |   38.48 |           18   |          11.3 |            4.9 |           4   |           94 |          40 |             5 |\n",
            "|  5 | jun     |   70.32 |           28   |          10.6 |            9.4 |           1.3 |           90 |          25 |             6 |\n",
            "|  6 | jul     |  278.53 |           30.2 |          12.6 |            8   |           0.9 |           90 |          22 |             7 |\n",
            "|  7 | aug     |  746.28 |           33.3 |           5.1 |            8.9 |           0.4 |           96 |          19 |             8 |\n",
            "|  8 | sep     | 1090.84 |           30.2 |           9.8 |            7.6 |           0.9 |           86 |          15 |             9 |\n",
            "|  9 | oct     |   49.37 |           21.7 |          11.3 |            5.4 |           0.9 |           60 |          24 |            10 |\n",
            "| 10 | nov     |    0    |           11.8 |          11.8 |            4.5 |           4.5 |           31 |          31 |            11 |\n",
            "| 11 | dec     |   24.77 |            5.1 |           2.2 |            8.5 |           4.9 |           61 |          21 |            12 |\n"
          ]
        }
      ]
    },
    {
      "cell_type": "markdown",
      "source": [
        "### **1.6 Plot a group bar chart for the output in question 5.**\n",
        "### **X-axis -> Month;**\n",
        "### **Bar 1 -> highest_temp;**\n",
        "### **Bar 2 -> highest_wind;**\n",
        "### **Bar 3 -> highest_rh**\n"
      ],
      "metadata": {
        "id": "QsKbKn4HRAtt"
      }
    },
    {
      "cell_type": "code",
      "source": [
        "import matplotlib.pyplot as plt\n",
        "df_plot = df_combined[['highest_temp', 'highest_wind', 'highest_rh']]\n",
        "df_plot.plot(kind='bar', figsize=(10,7))\n",
        "plt.xticks(ticks=range(len(df_combined)), labels=df_combined['month'])\n",
        "plt.ylabel('# Forestfire')\n",
        "plt.title('Max values of temp, wind and rh')\n",
        "plt.show"
      ],
      "metadata": {
        "colab": {
          "base_uri": "https://localhost:8080/",
          "height": 808
        },
        "id": "ZVbNWEN_4pQ3",
        "outputId": "9b9ad71f-3688-4c02-96ef-4eb22ed63f21"
      },
      "execution_count": null,
      "outputs": [
        {
          "output_type": "execute_result",
          "data": {
            "text/plain": [
              "<function matplotlib.pyplot.show(close=None, block=None)>"
            ],
            "text/html": [
              "<div style=\"max-width:800px; border: 1px solid var(--colab-border-color);\"><style>\n",
              "      pre.function-repr-contents {\n",
              "        overflow-x: auto;\n",
              "        padding: 8px 12px;\n",
              "        max-height: 500px;\n",
              "      }\n",
              "\n",
              "      pre.function-repr-contents.function-repr-contents-collapsed {\n",
              "        cursor: pointer;\n",
              "        max-height: 100px;\n",
              "      }\n",
              "    </style>\n",
              "    <pre style=\"white-space: initial; background:\n",
              "         var(--colab-secondary-surface-color); padding: 8px 12px;\n",
              "         border-bottom: 1px solid var(--colab-border-color);\"><b>matplotlib.pyplot.show</b><br/>def show(*args, **kwargs)</pre><pre class=\"function-repr-contents function-repr-contents-collapsed\" style=\"\"><a class=\"filepath\" style=\"display:none\" href=\"#\">/usr/local/lib/python3.10/dist-packages/matplotlib/pyplot.py</a>Display all open figures.\n",
              "\n",
              "Parameters\n",
              "----------\n",
              "block : bool, optional\n",
              "    Whether to wait for all figures to be closed before returning.\n",
              "\n",
              "    If `True` block and run the GUI main loop until all figure windows\n",
              "    are closed.\n",
              "\n",
              "    If `False` ensure that all figure windows are displayed and return\n",
              "    immediately.  In this case, you are responsible for ensuring\n",
              "    that the event loop is running to have responsive figures.\n",
              "\n",
              "    Defaults to True in non-interactive mode and to False in interactive\n",
              "    mode (see `.pyplot.isinteractive`).\n",
              "\n",
              "See Also\n",
              "--------\n",
              "ion : Enable interactive mode, which shows / updates the figure after\n",
              "      every plotting command, so that calling ``show()`` is not necessary.\n",
              "ioff : Disable interactive mode.\n",
              "savefig : Save the figure to an image file instead of showing it on screen.\n",
              "\n",
              "Notes\n",
              "-----\n",
              "**Saving figures to file and showing a window at the same time**\n",
              "\n",
              "If you want an image file as well as a user interface window, use\n",
              "`.pyplot.savefig` before `.pyplot.show`. At the end of (a blocking)\n",
              "``show()`` the figure is closed and thus unregistered from pyplot. Calling\n",
              "`.pyplot.savefig` afterwards would save a new and thus empty figure. This\n",
              "limitation of command order does not apply if the show is non-blocking or\n",
              "if you keep a reference to the figure and use `.Figure.savefig`.\n",
              "\n",
              "**Auto-show in jupyter notebooks**\n",
              "\n",
              "The jupyter backends (activated via ``%matplotlib inline``,\n",
              "``%matplotlib notebook``, or ``%matplotlib widget``), call ``show()`` at\n",
              "the end of every cell by default. Thus, you usually don&#x27;t have to call it\n",
              "explicitly there.</pre>\n",
              "      <script>\n",
              "      if (google.colab.kernel.accessAllowed && google.colab.files && google.colab.files.view) {\n",
              "        for (const element of document.querySelectorAll('.filepath')) {\n",
              "          element.style.display = 'block'\n",
              "          element.onclick = (event) => {\n",
              "            event.preventDefault();\n",
              "            event.stopPropagation();\n",
              "            google.colab.files.view(element.textContent, 482);\n",
              "          };\n",
              "        }\n",
              "      }\n",
              "      for (const element of document.querySelectorAll('.function-repr-contents')) {\n",
              "        element.onclick = (event) => {\n",
              "          event.preventDefault();\n",
              "          event.stopPropagation();\n",
              "          element.classList.toggle('function-repr-contents-collapsed');\n",
              "        };\n",
              "      }\n",
              "      </script>\n",
              "      </div>"
            ]
          },
          "metadata": {},
          "execution_count": 68
        },
        {
          "output_type": "display_data",
          "data": {
            "text/plain": [
              "<Figure size 1000x700 with 1 Axes>"
            ],
            "image/png": "[encoded data removed]"
          },
          "metadata": {}
        }
      ]
    },
    {
      "cell_type": "markdown",
      "source": [
        "## **PART II**"
      ],
      "metadata": {
        "id": "q3GG5kxTObHy"
      }
    },
    {
      "cell_type": "code",
      "source": [
        "import pandas as pd\n",
        "import glob\n",
        "import os\n",
        "from tabulate import tabulate\n",
        "\n",
        "df_salary = pd.read_csv('/content/drive/MyDrive/data_analytics/MINIPROJECT_5/employee.csv')\n",
        "df_department = pd.read_csv('/content/drive/MyDrive/data_analytics/MINIPROJECT_5/department.csv')\n",
        "df_not_active = pd.read_csv('/content/drive/MyDrive/data_analytics/MINIPROJECT_5/not_active.csv')"
      ],
      "metadata": {
        "id": "EzZl9TEFO7lZ"
      },
      "execution_count": null,
      "outputs": []
    },
    {
      "cell_type": "code",
      "source": [
        "print(df_salary)\n",
        "print(df_department)\n",
        "print(df_not_active)"
      ],
      "metadata": {
        "colab": {
          "base_uri": "https://localhost:8080/"
        },
        "id": "7Kk0PwdHWbKU",
        "outputId": "84feb857-6d84-4be3-a35b-12721570fda2"
      },
      "execution_count": null,
      "outputs": [
        {
          "output_type": "stream",
          "name": "stdout",
          "text": [
            "   emp_id  salary\n",
            "0       1     100\n",
            "1       2     120\n",
            "2       3     145\n",
            "3       4     140\n",
            "4       5     100\n",
            "5       6     150\n",
            "6       7     250\n",
            "   emp_id department\n",
            "0       1      sales\n",
            "1       2      sales\n",
            "2       3      sales\n",
            "3       4      sales\n",
            "4       5  marketing\n",
            "5       6  marketing\n",
            "6       7  marketing\n",
            "   emp_id\n",
            "0       3\n",
            "1       7\n"
          ]
        }
      ]
    },
    {
      "cell_type": "markdown",
      "source": [
        "### **2.1 Find Maximum salary for each department only active employees and output requires `emp_id`**"
      ],
      "metadata": {
        "id": "hzzORuuqOm3Q"
      }
    },
    {
      "cell_type": "code",
      "source": [
        "df = pd.merge(df_salary, df_department, on='emp_id')\n",
        "df = pd.merge(df, df_not_active, on='emp_id', how='left', indicator='active')\n",
        "df['active'] = df['active'].apply(lambda x: 'No' if x == 'both' else 'Yes')\n",
        "print(tabulate(df, headers='keys', tablefmt='github'))"
      ],
      "metadata": {
        "id": "Poagt_cJdbxx",
        "colab": {
          "base_uri": "https://localhost:8080/"
        },
        "outputId": "ff7c0fa5-8afe-4487-d1b8-8a787f8cf293"
      },
      "execution_count": null,
      "outputs": [
        {
          "output_type": "stream",
          "name": "stdout",
          "text": [
            "|    |   emp_id |   salary | department   | active   |\n",
            "|----|----------|----------|--------------|----------|\n",
            "|  0 |        1 |      100 | sales        | Yes      |\n",
            "|  1 |        2 |      120 | sales        | Yes      |\n",
            "|  2 |        3 |      145 | sales        | No       |\n",
            "|  3 |        4 |      140 | sales        | Yes      |\n",
            "|  4 |        5 |      100 | marketing    | Yes      |\n",
            "|  5 |        6 |      150 | marketing    | Yes      |\n",
            "|  6 |        7 |      250 | marketing    | No       |\n"
          ]
        }
      ]
    },
    {
      "cell_type": "code",
      "source": [
        "df_active = df[df['active'] == 'Yes']\n",
        "max_salary = df_active.loc[df_active.groupby('department')['salary'].idxmax()]\n",
        "max_salary = max_salary.sort_values(by='salary', ascending=True)\n",
        "max_salary = max_salary[['emp_id', 'department', 'salary']]\n",
        "max_salary.columns = ['emp_id', 'department', 'max_salary']\n",
        "print(tabulate(max_salary, headers='keys', tablefmt='github', showindex=False))"
      ],
      "metadata": {
        "id": "2ihxXkfrXuHK",
        "colab": {
          "base_uri": "https://localhost:8080/"
        },
        "outputId": "cb031822-b145-404d-c6c7-46ba94b4631e"
      },
      "execution_count": null,
      "outputs": [
        {
          "output_type": "stream",
          "name": "stdout",
          "text": [
            "|   emp_id | department   |   max_salary |\n",
            "|----------|--------------|--------------|\n",
            "|        4 | sales        |          140 |\n",
            "|        6 | marketing    |          150 |\n"
          ]
        }
      ]
    },
    {
      "cell_type": "markdown",
      "source": [
        "### **2.2 All active/inactive employees (=emp_id) and their correspond department maximum salary**"
      ],
      "metadata": {
        "id": "oqaXKyzU7MSc"
      }
    },
    {
      "cell_type": "code",
      "source": [
        "max_salary = df_active.groupby('department')['salary'].max().reset_index()\n",
        "max_salary.rename(columns={'salary': 'max_salary'}, inplace=True)\n",
        "max_salary = pd.merge(df, max_salary, on='department', how='left').reset_index(drop=True)\n",
        "max_salary = max_salary[['emp_id', 'department', 'max_salary']]\n",
        "print(tabulate(max_salary, headers='keys', tablefmt='github', showindex=False))"
      ],
      "metadata": {
        "colab": {
          "base_uri": "https://localhost:8080/"
        },
        "id": "egMwrp1p2L7i",
        "outputId": "a84e034c-f178-4862-8897-f675e5218af2"
      },
      "execution_count": null,
      "outputs": [
        {
          "output_type": "stream",
          "name": "stdout",
          "text": [
            "|   emp_id | department   |   max_salary |\n",
            "|----------|--------------|--------------|\n",
            "|        1 | sales        |          140 |\n",
            "|        2 | sales        |          140 |\n",
            "|        3 | sales        |          140 |\n",
            "|        4 | sales        |          140 |\n",
            "|        5 | marketing    |          150 |\n",
            "|        6 | marketing    |          150 |\n",
            "|        7 | marketing    |          150 |\n"
          ]
        }
      ]
    }
  ]
}