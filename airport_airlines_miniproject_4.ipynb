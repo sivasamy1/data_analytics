{
  "nbformat": 4,
  "nbformat_minor": 0,
  "metadata": {
    "colab": {
      "provenance": [],
      "mount_file_id": "1sEYXyL1sPb_Wk0N2-mcRm1hd78uqm3qk",
      "authorship_tag": "ABX9TyOlmjabF/KSwjiFhMSPtyKs",
      "include_colab_link": true
    },
    "kernelspec": {
      "name": "python3",
      "display_name": "Python 3"
    },
    "language_info": {
      "name": "python"
    }
  },
  "cells": [
    {
      "cell_type": "markdown",
      "metadata": {
        "id": "view-in-github",
        "colab_type": "text"
      },
      "source": [
        "<a href=\"https://colab.research.google.com/github/sivasamy1/data_analytics/blob/main/airport_airlines_miniproject_4.ipynb\" target=\"_parent\"><img src=\"https://colab.research.google.com/assets/colab-badge.svg\" alt=\"Open In Colab\"/></a>"
      ]
    },
    {
      "cell_type": "code",
      "execution_count": null,
      "metadata": {
        "id": "r-DA1MilgaQV"
      },
      "outputs": [],
      "source": []
    },
    {
      "cell_type": "code",
      "source": [
        "from google.colab import drive\n",
        "drive.mount('/content/drive')"
      ],
      "metadata": {
        "colab": {
          "base_uri": "https://localhost:8080/"
        },
        "id": "We-0_rX5goV-",
        "outputId": "2576b59d-f61d-4864-c6a3-79875834349c"
      },
      "execution_count": 1,
      "outputs": [
        {
          "output_type": "stream",
          "name": "stdout",
          "text": [
            "Drive already mounted at /content/drive; to attempt to forcibly remount, call drive.mount(\"/content/drive\", force_remount=True).\n"
          ]
        }
      ]
    },
    {
      "cell_type": "code",
      "source": [
        "import pandas as pd\n",
        "from tabulate import tabulate"
      ],
      "metadata": {
        "id": "1KyeyKymgpJD"
      },
      "execution_count": 2,
      "outputs": []
    },
    {
      "cell_type": "code",
      "source": [
        "df_airports = pd.read_csv(\"/content/drive/MyDrive/data_analytics/airport/airports.dat.txt\")\n",
        "df_airports.columns = [\"Airport_ID\",\"Name\",\"City\",\"Country\",\"IATA\",\"ICAO\",\"Latitude\",\"Longitude\",\"Altitude\",\"Timezone\",\"DST\",\"Tz database timezone\",\"Type\",\"Source\"]\n",
        "\n",
        "print(tabulate(df_airports.head(10), headers='keys', tablefmt='psql'))"
      ],
      "metadata": {
        "colab": {
          "base_uri": "https://localhost:8080/"
        },
        "id": "O1TNXUWshDYb",
        "outputId": "988f217e-fd02-4ab4-9847-abf900f3b99b"
      },
      "execution_count": 3,
      "outputs": [
        {
          "output_type": "stream",
          "name": "stdout",
          "text": [
            "+----+--------------+---------------------------------------------+--------------+------------------+--------+--------+------------+-------------+------------+------------+-------+------------------------+---------+-------------+\n",
            "|    |   Airport_ID | Name                                        | City         | Country          | IATA   | ICAO   |   Latitude |   Longitude |   Altitude |   Timezone | DST   | Tz database timezone   | Type    | Source      |\n",
            "|----+--------------+---------------------------------------------+--------------+------------------+--------+--------+------------+-------------+------------+------------+-------+------------------------+---------+-------------|\n",
            "|  0 |            2 | Madang Airport                              | Madang       | Papua New Guinea | MAG    | AYMD   |   -5.20708 |    145.789  |         20 |         10 | U     | Pacific/Port_Moresby   | airport | OurAirports |\n",
            "|  1 |            3 | Mount Hagen Kagamuga Airport                | Mount Hagen  | Papua New Guinea | HGU    | AYMH   |   -5.82679 |    144.296  |       5388 |         10 | U     | Pacific/Port_Moresby   | airport | OurAirports |\n",
            "|  2 |            4 | Nadzab Airport                              | Nadzab       | Papua New Guinea | LAE    | AYNZ   |   -6.5698  |    146.726  |        239 |         10 | U     | Pacific/Port_Moresby   | airport | OurAirports |\n",
            "|  3 |            5 | Port Moresby Jacksons International Airport | Port Moresby | Papua New Guinea | POM    | AYPY   |   -9.44338 |    147.22   |        146 |         10 | U     | Pacific/Port_Moresby   | airport | OurAirports |\n",
            "|  4 |            6 | Wewak International Airport                 | Wewak        | Papua New Guinea | WWK    | AYWK   |   -3.58383 |    143.669  |         19 |         10 | U     | Pacific/Port_Moresby   | airport | OurAirports |\n",
            "|  5 |            7 | Narsarsuaq Airport                          | Narssarssuaq | Greenland        | UAK    | BGBW   |   61.1605  |    -45.426  |        112 |         -3 | E     | America/Godthab        | airport | OurAirports |\n",
            "|  6 |            8 | Godthaab / Nuuk Airport                     | Godthaab     | Greenland        | GOH    | BGGH   |   64.1909  |    -51.6781 |        283 |         -3 | E     | America/Godthab        | airport | OurAirports |\n",
            "|  7 |            9 | Kangerlussuaq Airport                       | Sondrestrom  | Greenland        | SFJ    | BGSF   |   67.0122  |    -50.7116 |        165 |         -3 | E     | America/Godthab        | airport | OurAirports |\n",
            "|  8 |           10 | Thule Air Base                              | Thule        | Greenland        | THU    | BGTL   |   76.5312  |    -68.7032 |        251 |         -4 | E     | America/Thule          | airport | OurAirports |\n",
            "|  9 |           11 | Akureyri Airport                            | Akureyri     | Iceland          | AEY    | BIAR   |   65.66    |    -18.0727 |          6 |          0 | N     | Atlantic/Reykjavik     | airport | OurAirports |\n",
            "+----+--------------+---------------------------------------------+--------------+------------------+--------+--------+------------+-------------+------------+------------+-------+------------------------+---------+-------------+\n"
          ]
        }
      ]
    },
    {
      "cell_type": "markdown",
      "source": [
        "### **1. Top 20 highest altitude airports in the world. Choose only “type” with “airport”**\n"
      ],
      "metadata": {
        "id": "afCE5iLukx2D"
      }
    },
    {
      "cell_type": "code",
      "source": [
        "df_airport = df_airports[df_airports[\"Type\"] == \"airport\"]\n",
        "df_top20 = df_airport.sort_values(by='Altitude', ascending=False).head(20)\n",
        "df_top20['Rank'] = df_top20['Altitude'].rank(ascending=False)\n",
        "\n",
        "df_top20_final = df_top20[['Airport_ID', 'Name', 'City', 'Country', 'Altitude', 'Rank']]\n",
        "\n",
        "print(tabulate(df_top20_final, headers='keys', tablefmt='psql'))"
      ],
      "metadata": {
        "colab": {
          "base_uri": "https://localhost:8080/"
        },
        "id": "jybcVo8UhN9q",
        "outputId": "d891f99c-8c0b-4caa-dec6-bb5e8e98825b"
      },
      "execution_count": 13,
      "outputs": [
        {
          "output_type": "stream",
          "name": "stdout",
          "text": [
            "+------+--------------+----------------------------------------+-------------+-----------+------------+--------+\n",
            "|      |   Airport_ID | Name                                   | City        | Country   |   Altitude |   Rank |\n",
            "|------+--------------+----------------------------------------+-------------+-----------+------------+--------|\n",
            "| 6541 |         9310 | Daocheng Yading Airport                | Daocheng    | China     |      14472 |      1 |\n",
            "| 5027 |         6396 | Qamdo Bangda Airport                   | Bangda      | China     |      14219 |      2 |\n",
            "| 6392 |         8921 | Kangding Airport                       | Kangding    | China     |      14042 |      3 |\n",
            "| 5871 |         7932 | Ngari Gunsa Airport                    | Shiquanhe   | China     |      14022 |      4 |\n",
            "| 2624 |         2762 | El Alto International Airport          | La Paz      | Bolivia   |      13355 |      5 |\n",
            "| 2626 |         2764 | Capitan Nicolas Rojas Airport          | Potosi      | Bolivia   |      12913 |      6 |\n",
            "| 5850 |         7894 | Yushu Batang Airport                   | Yushu       | China     |      12816 |      7 |\n",
            "| 6419 |         8969 | Copacabana Airport                     | Copacabana  | Bolivia   |      12591 |      8 |\n",
            "| 2653 |         2792 | Inca Manco Capac International Airport | Juliaca     | Peru      |      12552 |      9 |\n",
            "| 7537 |        13483 | Golog Maqin Airport                    | Golog       | China     |      12426 |     10 |\n",
            "| 5777 |         7766 | Syangboche Airport                     | Syangboche  | Nepal     |      12400 |     11 |\n",
            "| 2625 |         2763 | Juan Mendoza Airport                   | Oruro       | Bolivia   |      12152 |     12 |\n",
            "| 3873 |         4097 | Lhasa Gonggar Airport                  | Lhasa       | China     |      11713 |     13 |\n",
            "| 6802 |        10943 | Hongyuan Airport                       | Ngawa       | China     |      11600 |     14 |\n",
            "| 2341 |         2464 | La Quiaca Airport                      | Laboulaye   | Argentina |      11414 |     15 |\n",
            "| 4039 |         4301 | Jiuzhai Huanglong Airport              | Jiuzhaigou  | China     |      11327 |     16 |\n",
            "| 2648 |         2787 | Andahuaylas Airport                    | Andahuaylas | Peru      |      11300 |     17 |\n",
            "| 5498 |         7313 | Uyuni Airport                          | Uyuni       | Bolivia   |      11136 |     18 |\n",
            "| 2652 |         2791 | Francisco Carle Airport                | Jauja       | Peru      |      11034 |     19 |\n",
            "| 3941 |         4174 | Manang Airport                         | Manang      | Nepal     |      11001 |     20 |\n",
            "+------+--------------+----------------------------------------+-------------+-----------+------------+--------+\n"
          ]
        }
      ]
    },
    {
      "cell_type": "markdown",
      "source": [
        "## **2. Top 20 countries that have the highest total number of airports.** ##"
      ],
      "metadata": {
        "id": "Cl-oaVJOs0Bl"
      }
    },
    {
      "cell_type": "code",
      "source": [
        "\n",
        "df_top_20_countries = df_airports.groupby(['Country']).size().to_frame('total_airports').reset_index()\n",
        "df_top_20_countries = df_top_20_countries.sort_values(by=['total_airports'],ascending=False)\n",
        "df_top_20_countries ['rank'] = df_top_20_countries['total_airports'].rank(ascending=False)\n",
        "df_top_20_countries = df_top_20_countries.head(20).reset_index()\n",
        "#pretty_print(df_top_20_countries, 20)\n",
        "print(tabulate(df_top_20_countries, headers='keys', tablefmt='psql'))"
      ],
      "metadata": {
        "id": "Ocy8M-RejyjM",
        "colab": {
          "base_uri": "https://localhost:8080/"
        },
        "outputId": "aa78def7-697a-41d4-9547-17428c328090"
      },
      "execution_count": 24,
      "outputs": [
        {
          "output_type": "stream",
          "name": "stdout",
          "text": [
            "+----+---------+----------------+------------------+--------+\n",
            "|    |   index | Country        |   total_airports |   rank |\n",
            "|----+---------+----------------+------------------+--------|\n",
            "|  0 |     223 | United States  |             1512 |    1   |\n",
            "|  1 |      37 | Canada         |              430 |    2   |\n",
            "|  2 |      11 | Australia      |              334 |    3   |\n",
            "|  3 |     176 | Russia         |              264 |    4.5 |\n",
            "|  4 |      27 | Brazil         |              264 |    4.5 |\n",
            "|  5 |      79 | Germany        |              249 |    6   |\n",
            "|  6 |      43 | China          |              241 |    7   |\n",
            "|  7 |      73 | France         |              217 |    8   |\n",
            "|  8 |     222 | United Kingdom |              167 |    9   |\n",
            "|  9 |      97 | India          |              148 |   10   |\n",
            "| 10 |      98 | Indonesia      |              145 |   11   |\n",
            "| 11 |     106 | Japan          |              123 |   12   |\n",
            "| 12 |     195 | South Africa   |               99 |   13   |\n",
            "| 13 |       8 | Argentina      |               96 |   14   |\n",
            "| 14 |     136 | Mexico         |               84 |   15   |\n",
            "| 15 |     104 | Italy          |               83 |   16   |\n",
            "| 16 |      99 | Iran           |               82 |   17   |\n",
            "| 17 |     204 | Sweden         |               77 |   18   |\n",
            "| 18 |     215 | Turkey         |               76 |   19   |\n",
            "| 19 |      46 | Colombia       |               75 |   20   |\n",
            "+----+---------+----------------+------------------+--------+\n"
          ]
        }
      ]
    },
    {
      "cell_type": "markdown",
      "source": [
        "### **3. Top 20 cities that have the highest total number of airports. (Two cities from different countries can have the same name, and you have to make sure the numbers are not messed up due to that!)** ###\n"
      ],
      "metadata": {
        "id": "GHetoyBxQDSC"
      }
    },
    {
      "cell_type": "code",
      "source": [],
      "metadata": {
        "id": "X-r4k5LdtgVu"
      },
      "execution_count": null,
      "outputs": []
    }
  ]
}