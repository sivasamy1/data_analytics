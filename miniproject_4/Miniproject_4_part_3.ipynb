{
  "nbformat": 4,
  "nbformat_minor": 0,
  "metadata": {
    "colab": {
      "provenance": [],
      "include_colab_link": true
    },
    "kernelspec": {
      "name": "python3",
      "display_name": "Python 3"
    },
    "language_info": {
      "name": "python"
    }
  },
  "cells": [
    {
      "cell_type": "markdown",
      "metadata": {
        "id": "view-in-github",
        "colab_type": "text"
      },
      "source": [
        "<a href=\"https://colab.research.google.com/github/sivasamy1/data_analytics/blob/main/Miniproject_4_part_3_(1).ipynb\" target=\"_parent\"><img src=\"https://colab.research.google.com/assets/colab-badge.svg\" alt=\"Open In Colab\"/></a>"
      ]
    },
    {
      "cell_type": "markdown",
      "source": [
        "## **PART III**"
      ],
      "metadata": {
        "id": "9wLBTVBpRn-A"
      }
    },
    {
      "cell_type": "code",
      "source": [
        "from google.colab import drive\n",
        "drive.mount('/content/drive')"
      ],
      "metadata": {
        "colab": {
          "base_uri": "https://localhost:8080/"
        },
        "id": "_XYrVUNBfO32",
        "outputId": "b3337b1e-b256-437f-b015-2d40c7ac6222"
      },
      "execution_count": 1,
      "outputs": [
        {
          "output_type": "stream",
          "name": "stdout",
          "text": [
            "Mounted at /content/drive\n"
          ]
        }
      ]
    },
    {
      "cell_type": "code",
      "execution_count": 2,
      "metadata": {
        "id": "0fmc_rPEaCRi"
      },
      "outputs": [],
      "source": [
        "import pandas as pd\n",
        "from tabulate import tabulate"
      ]
    },
    {
      "cell_type": "code",
      "source": [
        "df_food = pd.read_csv('/content/drive/MyDrive/data_analytics/airport/world_food_production.csv')\n",
        "print(tabulate(df_food.head(20), headers='keys', tablefmt='psql'))"
      ],
      "metadata": {
        "colab": {
          "base_uri": "https://localhost:8080/"
        },
        "id": "6STfCh1naFf-",
        "outputId": "bf97cd02-b81f-485b-af7f-b032b65df2eb"
      },
      "execution_count": 3,
      "outputs": [
        {
          "output_type": "stream",
          "name": "stdout",
          "text": [
            "+----+-------------+--------+-----------------------------+------------------------------+-----------------------------+-----------------------------+--------------------------------+------------------------------+---------------------------------------+---------------------------------------+----------------------------------+---------------------------------+----------------------------+---------------------------------+--------------------------------+----------------------------------+---------------------------------+-------------------------------+--------------------------------------+-----------------------------------+--------------------------------------+---------------------------------+--------------------------------+------------------------------+\n",
            "|    | Entity      |   Year |   Maize Production (tonnes) |   Rice  Production ( tonnes) |   Yams  Production (tonnes) |   Wheat Production (tonnes) |   Tomatoes Production (tonnes) |   Tea  Production ( tonnes ) |   Sweet potatoes  Production (tonnes) |   Sunflower seed  Production (tonnes) |   Sugar cane Production (tonnes) |   Soybeans  Production (tonnes) |   Rye  Production (tonnes) |   Potatoes  Production (tonnes) |   Oranges  Production (tonnes) |   Peas, dry Production ( tonnes) |   Palm oil  Production (tonnes) |   Grapes  Production (tonnes) |   Coffee, green Production ( tonnes) |   Cocoa beans Production (tonnes) |   Meat, chicken  Production (tonnes) |   Bananas  Production ( tonnes) |   Avocados Production (tonnes) |   Apples Production (tonnes) |\n",
            "|----+-------------+--------+-----------------------------+------------------------------+-----------------------------+-----------------------------+--------------------------------+------------------------------+---------------------------------------+---------------------------------------+----------------------------------+---------------------------------+----------------------------+---------------------------------+--------------------------------+----------------------------------+---------------------------------+-------------------------------+--------------------------------------+-----------------------------------+--------------------------------------+---------------------------------+--------------------------------+------------------------------|\n",
            "|  0 | Afghanistan |   1961 |                      700000 |                       319000 |                 7.4677e+06  |                   2.279e+06 |                    1.87381e+06 |                        56315 |                           3.27087e+06 |                                 12000 |                            45000 |                           71813 |                      10290 |                          130000 |                          10100 |                           232910 |                     1.13188e+06 |                        225000 |                     870970           |                  835368           |                                 5600 |                     3.13908e+06 |                          63439 |                        15100 |\n",
            "|  1 | Afghanistan |   1962 |                      700000 |                       319000 |                 7.42052e+06 |                   2.279e+06 |                    2.0448e+06  |                        61519 |                           3.56252e+06 |                                 12800 |                            45000 |                           84594 |                       9100 |                          115000 |                          10100 |                           259412 |                     1.11101e+06 |                        225000 |                     883512           |                  867170           |                                 6000 |                     3.18158e+06 |                          65118 |                        15100 |\n",
            "|  2 | Afghanistan |   1963 |                      713000 |                       319000 |                 8.47907e+06 |                   1.947e+06 |                    2.09608e+06 |                        63596 |                           3.40992e+06 |                                 12800 |                            45000 |                           87260 |                      13800 |                          122000 |                          10100 |                           251529 |                     1.145e+06   |                        225000 |                     996674           |                  922621           |                                 6160 |                     3.30426e+06 |                          61760 |                        15100 |\n",
            "|  3 | Afghanistan |   1964 |                      720000 |                       380000 |                 9.11378e+06 |                   2.23e+06  |                    2.38826e+06 |                        66604 |                           3.22934e+06 |                                 12800 |                            45000 |                           76781 |                      16100 |                          129000 |                          12400 |                           247556 |                     1.16083e+06 |                        265000 |                          1.16205e+06 |                       1.19006e+06 |                                 6400 |                     3.39253e+06 |                          62759 |                        18400 |\n",
            "|  4 | Afghanistan |   1965 |                      720000 |                       380000 |                 1.00679e+07 |                   2.282e+06 |                    2.55961e+06 |                        72418 |                           3.1691e+06  |                                 13200 |                            51000 |                           73067 |                      13900 |                          132000 |                          13700 |                           266947 |                     1.13886e+06 |                        287000 |                          1.07508e+06 |                  874245           |                                 6800 |                     3.45085e+06 |                          66269 |                        20400 |\n",
            "|  5 | Afghanistan |   1966 |                      720000 |                       337000 |                 1.08636e+07 |                   2.033e+06 |                    2.69098e+06 |                        90272 |                           3.21481e+06 |                                 14000 |                            51000 |                           77180 |                       8411 |                          136000 |                          15300 |                           280862 |                     1.15165e+06 |                        315000 |                          1.19953e+06 |                  969648           |                                 7200 |                     3.56346e+06 |                          68331 |                        22800 |\n",
            "|  6 | Afghanistan |   1967 |                      768000 |                       396000 |                 1.21231e+07 |                   2.28e+06  |                    2.58019e+06 |                        86111 |                           3.55657e+06 |                                 14000 |                            57000 |                           80884 |                      14301 |                          147000 |                          18500 |                           275066 |                     1.10001e+06 |                        372000 |                          1.08556e+06 |                  982906           |                                 7600 |                     3.60354e+06 |                          71416 |                        27600 |\n",
            "|  7 | Afghanistan |   1968 |                      773000 |                       402000 |                 1.284e+07   |                   2.354e+06 |                    2.79924e+06 |                       100736 |                           3.60121e+06 |                                 14400 |                            57000 |                           90459 |                       9100 |                          150000 |                          18700 |                           293310 |                     1.15402e+06 |                        375000 |                          1.18387e+06 |                  855617           |                                 8000 |                     3.7329e+06  |                          73906 |                        27900 |\n",
            "|  8 | Afghanistan |   1969 |                      785000 |                       407000 |                 1.44964e+07 |                   2.454e+06 |                    3.00156e+06 |                       114363 |                           3.76091e+06 |                                 14800 |                            60000 |                           89000 |                       8100 |                          154000 |                          18900 |                           274316 |                     1.1951e+06  |                        379000 |                          1.2535e+06  |                       1.00466e+06 |                                 9600 |                     3.91473e+06 |                          76704 |                        28200 |\n",
            "|  9 | Afghanistan |   1970 |                      667000 |                       366000 |                 1.64133e+07 |                   2.081e+06 |                    3.11148e+06 |                       121398 |                           4.55889e+06 |                                 14000 |                            55000 |                           97211 |                      15160 |                          144000 |                          18300 |                           284651 |                     1.07708e+06 |                        364000 |                          1.295e+06   |                       1.12084e+06 |                                 9600 |                     4.07616e+06 |                          78464 |                        27300 |\n",
            "| 10 | Afghanistan |   1971 |                      670000 |                       350000 |                 1.42321e+07 |                   1.915e+06 |                    3.18016e+06 |                       119437 |                           4.34926e+06 |                                 11200 |                            50000 |                           97545 |                       7120 |                          167000 |                          14400 |                           318768 |                     1.07666e+06 |                        293000 |                          1.26629e+06 |                       1.17824e+06 |                                 9600 |                     4.12249e+06 |                          80181 |                        21500 |\n",
            "| 11 | Afghanistan |   1972 |                      720000 |                       400000 |                 1.12748e+07 |                   2.45e+06  |                    3.33595e+06 |                       151578 |                           4.13066e+06 |                                 13600 |                            35000 |                          103891 |                      12000 |                          158000 |                          17800 |                           317368 |                     1.03859e+06 |                        360000 |                          1.29627e+06 |                       1.03663e+06 |                                 9600 |                     4.01372e+06 |                          86052 |                        26600 |\n",
            "| 12 | Afghanistan |   1973 |                      760000 |                       420000 |                 1.16003e+07 |                   2.7e+06   |                    3.35968e+06 |                       157667 |                           4.27472e+06 |                                 15200 |                            58000 |                          106221 |                      15320 |                          165000 |                          18500 |                           234753 |                     1.01111e+06 |                        385000 |                          1.37942e+06 |                  966647           |                                10000 |                     4.31932e+06 |                          87090 |                        27600 |\n",
            "| 13 | Afghanistan |   1974 |                      770000 |                       420000 |                 1.20992e+07 |                   2.75e+06  |                    3.6934e+06  |                       153865 |                           4.98118e+06 |                                 16000 |                            51600 |                          135960 |                       8850 |                          182000 |                          18700 |                           319015 |                     1.12252e+06 |                        407000 |                          1.26673e+06 |                       1.025e+06   |                                10000 |                     4.58421e+06 |                          97017 |                        27800 |\n",
            "| 14 | Afghanistan |   1975 |                      780000 |                       435000 |                 1.34877e+07 |                   2.85e+06  |                    4.44169e+06 |                       154792 |                           5.40627e+06 |                                 16000 |                            60000 |                          151128 |                       7980 |                          194500 |                          18800 |                           278294 |                     1.17666e+06 |                        420000 |                          1.31258e+06 |                       1.00433e+06 |                                10400 |                     4.33459e+06 |                         117384 |                        27900 |\n",
            "| 15 | Afghanistan |   1976 |                      800000 |                       448000 |                 1.14249e+07 |                   2.936e+06 |                    4.32927e+06 |                       160838 |                           5.72558e+06 |                                 16000 |                            68100 |                          177483 |                       9330 |                          354000 |                          17600 |                           299490 |                     1.16886e+06 |                        471000 |                          1.16551e+06 |                  876150           |                                10400 |                     4.37942e+06 |                         112374 |                        26200 |\n",
            "| 16 | Afghanistan |   1977 |                      760000 |                       400000 |                 1.10062e+07 |                   2.652e+06 |                    4.35347e+06 |                       198731 |                           5.33178e+06 |                                 14400 |                            64000 |                          214047 |                       5900 |                          200000 |                          10400 |                           271464 |                     1.14102e+06 |                        430000 |                          1.23535e+06 |                  935141           |                                10800 |                     4.43001e+06 |                         116720 |                        15500 |\n",
            "| 17 | Afghanistan |   1978 |                      780000 |                       428000 |                 1.06711e+07 |                   2.813e+06 |                    4.43305e+06 |                       205356 |                           5.73878e+06 |                                 14000 |                            64000 |                          308253 |                      10870 |                          250000 |                          15200 |                           254479 |                     1.1745e+06  |                        440000 |                          1.06366e+06 |                  909069           |                                11200 |                     4.31431e+06 |                         120298 |                        22700 |\n",
            "| 18 | Afghanistan |   1979 |                      760000 |                       439000 |                 1.036e+07   |                   2.663e+06 |                    4.63912e+06 |                       206032 |                           5.33897e+06 |                                 16800 |                            64000 |                          327037 |                      11800 |                          257000 |                          14500 |                           275337 |                     1.27875e+06 |                        442000 |                          1.11074e+06 |                       1.01454e+06 |                                12000 |                     5.01674e+06 |                         131592 |                        21600 |\n",
            "| 19 | Afghanistan |   1980 |                      752000 |                       415000 |                 1.07739e+07 |                   2.55e+06  |                    4.82135e+06 |                       200307 |                           5.23497e+06 |                                 17200 |                            70000 |                          339734 |                       9900 |                          266000 |                          15000 |                           368450 |                     1.35748e+06 |                        459000 |                          1.16365e+06 |                       1.0258e+06  |                                12000 |                     5.02456e+06 |                         137343 |                        22300 |\n",
            "+----+-------------+--------+-----------------------------+------------------------------+-----------------------------+-----------------------------+--------------------------------+------------------------------+---------------------------------------+---------------------------------------+----------------------------------+---------------------------------+----------------------------+---------------------------------+--------------------------------+----------------------------------+---------------------------------+-------------------------------+--------------------------------------+-----------------------------------+--------------------------------------+---------------------------------+--------------------------------+------------------------------+\n"
          ]
        }
      ]
    },
    {
      "cell_type": "markdown",
      "metadata": {
        "id": "IZfgWv5k104p"
      },
      "source": [
        "### **3.1Read the input csv file from the dataframe and convert columns to rows**\n",
        "### **The \"Value\" column values should come from the crop column names such as Maize Production (tonnes), Rice Production (tonnes) from the input csv file.**(hint: UnPivot melt)."
      ]
    },
    {
      "cell_type": "code",
      "source": [
        "\n",
        "df_melted = pd.melt(df_food, id_vars=['Entity', 'Year'], var_name='Productions', value_name='Value')\n",
        "production_columns = df_food.columns[2:]\n",
        "df_melted['Productions'] = pd.Categorical(df_melted['Productions'], categories=production_columns, ordered=True)\n",
        "df_melted = df_melted.sort_values(by=['Entity', 'Year', 'Productions']).reset_index(drop=True)\n",
        "\n",
        "print(tabulate(df_melted.head(20), headers='keys', tablefmt='psql'))"
      ],
      "metadata": {
        "colab": {
          "base_uri": "https://localhost:8080/"
        },
        "id": "HgbeiKfbaHR5",
        "outputId": "5a17239d-7376-4262-cfa3-00b41e57d30b"
      },
      "execution_count": 9,
      "outputs": [
        {
          "output_type": "stream",
          "name": "stdout",
          "text": [
            "+----+-------------+--------+-------------------------------------+------------------+\n",
            "|    | Entity      |   Year | Productions                         |            Value |\n",
            "|----+-------------+--------+-------------------------------------+------------------|\n",
            "|  0 | Afghanistan |   1961 | Maize Production (tonnes)           | 700000           |\n",
            "|  1 | Afghanistan |   1961 | Rice  Production ( tonnes)          | 319000           |\n",
            "|  2 | Afghanistan |   1961 | Yams  Production (tonnes)           |      7.4677e+06  |\n",
            "|  3 | Afghanistan |   1961 | Wheat Production (tonnes)           |      2.279e+06   |\n",
            "|  4 | Afghanistan |   1961 | Tomatoes Production (tonnes)        |      1.87381e+06 |\n",
            "|  5 | Afghanistan |   1961 | Tea  Production ( tonnes )          |  56315           |\n",
            "|  6 | Afghanistan |   1961 | Sweet potatoes  Production (tonnes) |      3.27087e+06 |\n",
            "|  7 | Afghanistan |   1961 | Sunflower seed  Production (tonnes) |  12000           |\n",
            "|  8 | Afghanistan |   1961 | Sugar cane Production (tonnes)      |  45000           |\n",
            "|  9 | Afghanistan |   1961 | Soybeans  Production (tonnes)       |  71813           |\n",
            "| 10 | Afghanistan |   1961 | Rye  Production (tonnes)            |  10290           |\n",
            "| 11 | Afghanistan |   1961 | Potatoes  Production (tonnes)       | 130000           |\n",
            "| 12 | Afghanistan |   1961 | Oranges  Production (tonnes)        |  10100           |\n",
            "| 13 | Afghanistan |   1961 | Peas, dry Production ( tonnes)      | 232910           |\n",
            "| 14 | Afghanistan |   1961 | Palm oil  Production (tonnes)       |      1.13188e+06 |\n",
            "| 15 | Afghanistan |   1961 | Grapes  Production (tonnes)         | 225000           |\n",
            "| 16 | Afghanistan |   1961 | Coffee, green Production ( tonnes)  | 870970           |\n",
            "| 17 | Afghanistan |   1961 | Cocoa beans Production (tonnes)     | 835368           |\n",
            "| 18 | Afghanistan |   1961 | Meat, chicken  Production (tonnes)  |   5600           |\n",
            "| 19 | Afghanistan |   1961 | Bananas  Production ( tonnes)       |      3.13908e+06 |\n",
            "+----+-------------+--------+-------------------------------------+------------------+\n"
          ]
        }
      ]
    },
    {
      "cell_type": "markdown",
      "source": [
        "### **3.2 For each unique value in column \"Productions\", you have to assign a unique integer/float value. The following is an example output with unique float value. You are not supposed to use custom function. You are not supposed to provide explicit mapping between values in \"Produtions\" and integer/float values (hint: use ordinal encoding).**"
      ],
      "metadata": {
        "id": "TfqoBw48QTU6"
      }
    },
    {
      "cell_type": "code",
      "source": [
        "from sklearn.preprocessing import OrdinalEncoder\n",
        "df = df_melted.Productions.unique()\n",
        "prod_categories = df\n",
        "enc = OrdinalEncoder(categories=[prod_categories], dtype=float)\n",
        "df_melted[['Productions']] = enc.fit_transform(df_melted[['Productions']])\n",
        "df_melted = df_melted.reset_index(drop=True)\n",
        "print(tabulate(df_melted.head(20), headers='keys', tablefmt='psql'))"
      ],
      "metadata": {
        "colab": {
          "base_uri": "https://localhost:8080/"
        },
        "id": "VBLZpndZaOIF",
        "outputId": "4ae33af7-71be-4a5e-8076-05ee4bf2e8c8"
      },
      "execution_count": 8,
      "outputs": [
        {
          "output_type": "stream",
          "name": "stdout",
          "text": [
            "+----+-------------+--------+---------------+------------------+\n",
            "|    | Entity      |   Year |   Productions |            Value |\n",
            "|----+-------------+--------+---------------+------------------|\n",
            "|  0 | Afghanistan |   1961 |             0 | 700000           |\n",
            "|  1 | Afghanistan |   1961 |             1 | 319000           |\n",
            "|  2 | Afghanistan |   1961 |             2 |      7.4677e+06  |\n",
            "|  3 | Afghanistan |   1961 |             3 |      2.279e+06   |\n",
            "|  4 | Afghanistan |   1961 |             4 |      1.87381e+06 |\n",
            "|  5 | Afghanistan |   1961 |             5 |  56315           |\n",
            "|  6 | Afghanistan |   1961 |             6 |      3.27087e+06 |\n",
            "|  7 | Afghanistan |   1961 |             7 |  12000           |\n",
            "|  8 | Afghanistan |   1961 |             8 |  45000           |\n",
            "|  9 | Afghanistan |   1961 |             9 |  71813           |\n",
            "| 10 | Afghanistan |   1961 |            10 |  10290           |\n",
            "| 11 | Afghanistan |   1961 |            11 | 130000           |\n",
            "| 12 | Afghanistan |   1961 |            12 |  10100           |\n",
            "| 13 | Afghanistan |   1961 |            13 | 232910           |\n",
            "| 14 | Afghanistan |   1961 |            14 |      1.13188e+06 |\n",
            "| 15 | Afghanistan |   1961 |            15 | 225000           |\n",
            "| 16 | Afghanistan |   1961 |            16 | 870970           |\n",
            "| 17 | Afghanistan |   1961 |            17 | 835368           |\n",
            "| 18 | Afghanistan |   1961 |            18 |   5600           |\n",
            "| 19 | Afghanistan |   1961 |            19 |      3.13908e+06 |\n",
            "+----+-------------+--------+---------------+------------------+\n"
          ]
        }
      ]
    },
    {
      "cell_type": "markdown",
      "source": [
        "### **3.3 Read \"medical_data_synthetic.csv\" and convert yes/no to 1/0 for non-numeric column (\"obesity\") without using custom function (lambda) for the medical dataset here. Column \"gender\" need to be converted to numeric too without custom function.**\n",
        "### **(hint: use label encoding in sklearn library for \"obesity\" and use ordinal encoding for \"gender\")**"
      ],
      "metadata": {
        "id": "Vx2XlT3KPyDT"
      }
    },
    {
      "cell_type": "code",
      "source": [
        "df_medical = pd.read_csv('/content/drive/MyDrive/data_analytics/medical_data_synthetic.csv')\n",
        "print(tabulate(df_medical, headers='keys', tablefmt='psql'))"
      ],
      "metadata": {
        "colab": {
          "base_uri": "https://localhost:8080/"
        },
        "id": "BcEvlC7hadJ1",
        "outputId": "65a8a429-1efe-42c8-c9f7-46ef18140238"
      },
      "execution_count": 6,
      "outputs": [
        {
          "output_type": "stream",
          "name": "stdout",
          "text": [
            "+----+----------------+------+---------+-----------+----------+\n",
            "|    | patient_name   |   bp |   sugar | obesity   | gender   |\n",
            "|----+----------------+------+---------+-----------+----------|\n",
            "|  0 | ram            |  111 |     110 | yes       | male     |\n",
            "|  1 | radha          |  100 |     120 | no        | female   |\n",
            "|  2 | kumar          |  120 |     120 | yes       | male     |\n",
            "|  3 | john           |  130 |      90 | no        | male     |\n",
            "|  4 | lily           |   92 |      91 | yes       | female   |\n",
            "+----+----------------+------+---------+-----------+----------+\n"
          ]
        }
      ]
    },
    {
      "cell_type": "code",
      "source": [
        "from sklearn.preprocessing import LabelEncoder, OrdinalEncoder\n",
        "le = LabelEncoder()\n",
        "ord = OrdinalEncoder()\n",
        "df_medical['obesity'] = le.fit_transform(df_medical['obesity'])\n",
        "df_medical['gender'] = ord.fit_transform(df_medical[['gender']])\n",
        "print(tabulate(df_medical, headers='keys', tablefmt='psql'))\n"
      ],
      "metadata": {
        "colab": {
          "base_uri": "https://localhost:8080/"
        },
        "id": "b8Sj_M4jpST3",
        "outputId": "38bacb85-49ef-489d-9e69-99b97d496e9e"
      },
      "execution_count": 7,
      "outputs": [
        {
          "output_type": "stream",
          "name": "stdout",
          "text": [
            "+----+----------------+------+---------+-----------+----------+\n",
            "|    | patient_name   |   bp |   sugar |   obesity |   gender |\n",
            "|----+----------------+------+---------+-----------+----------|\n",
            "|  0 | ram            |  111 |     110 |         1 |        1 |\n",
            "|  1 | radha          |  100 |     120 |         0 |        0 |\n",
            "|  2 | kumar          |  120 |     120 |         1 |        1 |\n",
            "|  3 | john           |  130 |      90 |         0 |        1 |\n",
            "|  4 | lily           |   92 |      91 |         1 |        0 |\n",
            "+----+----------------+------+---------+-----------+----------+\n"
          ]
        }
      ]
    }
  ]
}
