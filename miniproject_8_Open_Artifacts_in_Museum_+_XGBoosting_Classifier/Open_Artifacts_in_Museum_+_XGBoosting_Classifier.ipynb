{
  "nbformat": 4,
  "nbformat_minor": 0,
  "metadata": {
    "colab": {
      "provenance": [],
      "mount_file_id": "1JOCns8SKHyPhkdEUI-5PAuvtfDhJPUZ9",
      "authorship_tag": "ABX9TyOCcZ/SGevZafsaRqltb+io",
      "include_colab_link": true
    },
    "kernelspec": {
      "name": "python3",
      "display_name": "Python 3"
    },
    "language_info": {
      "name": "python"
    }
  },
  "cells": [
    {
      "cell_type": "markdown",
      "metadata": {
        "id": "view-in-github",
        "colab_type": "text"
      },
      "source": [
        "<a href=\"https://colab.research.google.com/github/sivasamy1/data_analytics/blob/main/Open_Artifacts_in_Museum_%2B_XGBoosting_Classifier.ipynb\" target=\"_parent\"><img src=\"https://colab.research.google.com/assets/colab-badge.svg\" alt=\"Open In Colab\"/></a>"
      ]
    },
    {
      "cell_type": "markdown",
      "source": [
        "## **PART I**"
      ],
      "metadata": {
        "id": "tK6BYo0QZBRE"
      }
    },
    {
      "cell_type": "code",
      "source": [
        "!cat /content/drive/MyDrive/data_analytics/MINIPROJECT_8/cstmc-CSV-en.csv | head -10"
      ],
      "metadata": {
        "colab": {
          "base_uri": "https://localhost:8080/"
        },
        "id": "0CFtI6JpVWh9",
        "outputId": "5c353686-a052-41f5-9732-4f501d714f65"
      },
      "execution_count": 2,
      "outputs": [
        {
          "output_type": "stream",
          "name": "stdout",
          "text": [
            "artifactNumber|ObjectName|GeneralDescription|model|SerialNumber|Manufacturer|ManuCountry|ManuProvince|ManuCity|BeginDate|EndDate|date_qualifier|patent|NumberOfComponents|ArtifactFinish|ContextCanada|ContextFunction|ContextTechnical|group1|category1|subcategory1|group2|category2|subcategory2|group3|category3|subcategory3|material|Length|Width|Height|Thickness|Weight|Diameter|image|thumbnail\n",
            "1966.0001.001|Cover|PAPER|WESTERN CANADA AIRWAYS LTD.||Unknown|Unknown|||1927||||1||AT THE TIME IT WAS THE WORLD'S MOST NORTHERNLY AIR SERVICE|||Aviation|Commemorative|Stamps & coins|||||||paper|4.5 cm|2.6 cm|||||http://source.techno-science.ca/artifacts-artefacts/images/1966.0001.001.aa.cs.png|http://source.techno-science.ca/artifacts-artefacts/images/1966.0001.001.aa.cs.thumb.png\n",
            "1966.0002.001|Stamp, postage|PAPER|WESTERN CANADA AIRWAYS LTD.||Unknown|Unknown|||1927||||1|PINK & BLACK ON WHITE||||Aviation|Commemorative|Stamps & coins|||||||paper|3.8 cm|2.7 cm|||||http://source.techno-science.ca/artifacts-artefacts/images/1966.0002.001.aa.cs.png|http://source.techno-science.ca/artifacts-artefacts/images/1966.0002.001.aa.cs.thumb.png\n",
            "1966.0003.001|Stamp, postage|PAPER|||Unknown|Unknown|||1932||||1|DARK & PALE BLUE ON WHITE||||Aviation|Commemorative|Stamps & coins|||||||paper|12.8 cm|8.4 cm|||||http://source.techno-science.ca/artifacts-artefacts/images/1966.0003.001.aa.cs.png|http://source.techno-science.ca/artifacts-artefacts/images/1966.0003.001.aa.cs.thumb.png\n",
            "1966.0004.001|Stamp, postage|PAPER|ELLIOT, JACK V. AIR SERVICE||Unknown|Unknown|||1926||||1|RED ON YELLOW WITH SHADED ZIG-ZAG LINE BACKGROUND||||Aviation|Commemorative|Stamps & coins|||||||paper|22.4 cm|9.0 cm|||||http://source.techno-science.ca/artifacts-artefacts/images/1966.0004.001.aa.cs.png|http://source.techno-science.ca/artifacts-artefacts/images/1966.0004.001.aa.cs.thumb.png\n",
            "1966.0005.001|Stamp, postage|PAPER|ELLIOT-FAIRCHILD AIR SERVICE||Unknown|Unknown|||1926||||1|RED ON YELLOW WITH SWASTIKA BACKGROUND||||Aviation|Commemorative|Stamps & coins|||||||paper|22.7 cm|9.5 cm|||||http://source.techno-science.ca/artifacts-artefacts/images/1966.0005.001.aa.cs.png|http://source.techno-science.ca/artifacts-artefacts/images/1966.0005.001.aa.cs.thumb.png\n",
            "1966.0006.001|Clock|WOOD (PINE) CASE & PENDULUM/ BRASS MECHANISM||35|REGULA||||1945||after||1|CASE PAINTED MEDIUM BROWN/ DARK BROWN DIAL/ DARK BROWN WEIGHTS CAST IN ACORN SHAPE/ RED, YELLOW, GREEN, & BROWN PAINTED MOULDINGS & PENDULUM/ WHITE HAND & NUMERALS ON DIAL||||Horology|Clocks|Domestic|||||||wood->pine;metal->brass|||||||http://source.techno-science.ca/artifacts-artefacts/images/1966.0006.001.aa.cs.png|http://source.techno-science.ca/artifacts-artefacts/images/1966.0006.001.aa.cs.thumb.png\n",
            "1966.0007.001|Thermometer|METAL CASING/ PAPER? FACE/ GLASS OR SYNTHETIC FRONT.|||Unknown|Unknown|||1930||circa||1|COPPER COLOURED CASING/ BLACK INDICATOR NEEDLE||AN INSTRUMENT THAT MEASURES ATMOSPHERIC TEMPERATURE THROUGH THE DEFORMATION OF A BIMETALLIC SENSOR, DISPLAYING THE READINGS ON A DIAL INDICATOR.||Meteorology|Atmospheric temperature measurement|Indicators|||||||metal;paper;glass;synthetic||23.2 cm|3.0 cm||||http://source.techno-science.ca/artifacts-artefacts/images/1966.0007.001.aa.cs.png|http://source.techno-science.ca/artifacts-artefacts/images/1966.0007.001.aa.cs.thumb.png\n",
            "1966.0008.001|Relay|GLASS, METAL, SYNTHETIC/ CARDBOARD BOX|501||Edison, Thomas A. Industries|United States of America|New jersey|West orange|1950|1960|circa||1|||USED IN AN ELECTRIC CIRCUIT TO MAKE OR BREAK ONE OR MORE CONNECTIONS IN THE SAME OR ANOTHER CIRCUIT||Energy-electric|Electricity & electronics|Electronics-vacuum|||||||glass;metal;synthetic;paper|9.4 cm|3.2 cm|||||http://source.techno-science.ca/artifacts-artefacts/images/1966.0008.001.aa.cs.png|http://source.techno-science.ca/artifacts-artefacts/images/1966.0008.001.aa.cs.thumb.png\n",
            "1966.0009.001|Propeller|Wooden propeller with metal sheathing attached to leading edges|JUPITER XI|12428B|Unknown|Unknown|||1929||||1|METAL LEADING EDGE/ PAINTED BLACK/ SCRATCHED & DIRTY/ HUB HAS HOLES||Aircraft propulsion||Aviation|Aircraft parts||||||||wood;metal|340.0 cm|30.0 cm|15.0 cm||18.5 kg||http://source.techno-science.ca/artifacts-artefacts/images/1966.0009.001.aa.cs.png|http://source.techno-science.ca/artifacts-artefacts/images/1966.0009.001.aa.cs.thumb.png\n"
          ]
        }
      ]
    },
    {
      "cell_type": "code",
      "execution_count": 3,
      "metadata": {
        "id": "I5Zc98TIGm-m",
        "colab": {
          "base_uri": "https://localhost:8080/"
        },
        "outputId": "fbbf733b-7dd8-47e1-87a6-38c49107d2a0"
      },
      "outputs": [
        {
          "output_type": "stream",
          "name": "stderr",
          "text": [
            "<ipython-input-3-cb91483d5022>:4: DtypeWarning: Columns (9,10) have mixed types. Specify dtype option on import or set low_memory=False.\n",
            "  df_museun = pd.read_csv('/content/drive/MyDrive/data_analytics/MINIPROJECT_8/cstmc-CSV-en.csv', on_bad_lines='skip', delimiter='|')\n"
          ]
        },
        {
          "output_type": "stream",
          "name": "stdout",
          "text": [
            "|    | artifactNumber   | ObjectName     | GeneralDescription   | model                        |   SerialNumber | Manufacturer   | ManuCountry   |   ManuProvince |   ManuCity |   BeginDate |   EndDate |   date_qualifier |   patent |   NumberOfComponents | ArtifactFinish                                    | ContextCanada                                              |   ContextFunction |   ContextTechnical | group1   | category1     | subcategory1   |   group2 |   category2 |   subcategory2 |   group3 |   category3 |   subcategory3 | material   | Length   | Width   |   Height |   Thickness |   Weight |   Diameter | image                                                                              | thumbnail                                                                                |\n",
            "|----|------------------|----------------|----------------------|------------------------------|----------------|----------------|---------------|----------------|------------|-------------|-----------|------------------|----------|----------------------|---------------------------------------------------|------------------------------------------------------------|-------------------|--------------------|----------|---------------|----------------|----------|-------------|----------------|----------|-------------|----------------|------------|----------|---------|----------|-------------|----------|------------|------------------------------------------------------------------------------------|------------------------------------------------------------------------------------------|\n",
            "|  0 | 1966.0001.001    | Cover          | PAPER                | WESTERN CANADA AIRWAYS LTD.  |            nan | Unknown        | Unknown       |            nan |        nan |        1927 |       nan |              nan |      nan |                    1 | nan                                               | AT THE TIME IT WAS THE WORLD'S MOST NORTHERNLY AIR SERVICE |               nan |                nan | Aviation | Commemorative | Stamps & coins |      nan |         nan |            nan |      nan |         nan |            nan | paper      | 4.5 cm   | 2.6 cm  |      nan |         nan |      nan |        nan | http://source.techno-science.ca/artifacts-artefacts/images/1966.0001.001.aa.cs.png | http://source.techno-science.ca/artifacts-artefacts/images/1966.0001.001.aa.cs.thumb.png |\n",
            "|  1 | 1966.0002.001    | Stamp, postage | PAPER                | WESTERN CANADA AIRWAYS LTD.  |            nan | Unknown        | Unknown       |            nan |        nan |        1927 |       nan |              nan |      nan |                    1 | PINK & BLACK ON WHITE                             | nan                                                        |               nan |                nan | Aviation | Commemorative | Stamps & coins |      nan |         nan |            nan |      nan |         nan |            nan | paper      | 3.8 cm   | 2.7 cm  |      nan |         nan |      nan |        nan | http://source.techno-science.ca/artifacts-artefacts/images/1966.0002.001.aa.cs.png | http://source.techno-science.ca/artifacts-artefacts/images/1966.0002.001.aa.cs.thumb.png |\n",
            "|  2 | 1966.0003.001    | Stamp, postage | PAPER                | nan                          |            nan | Unknown        | Unknown       |            nan |        nan |        1932 |       nan |              nan |      nan |                    1 | DARK & PALE BLUE ON WHITE                         | nan                                                        |               nan |                nan | Aviation | Commemorative | Stamps & coins |      nan |         nan |            nan |      nan |         nan |            nan | paper      | 12.8 cm  | 8.4 cm  |      nan |         nan |      nan |        nan | http://source.techno-science.ca/artifacts-artefacts/images/1966.0003.001.aa.cs.png | http://source.techno-science.ca/artifacts-artefacts/images/1966.0003.001.aa.cs.thumb.png |\n",
            "|  3 | 1966.0004.001    | Stamp, postage | PAPER                | ELLIOT, JACK V. AIR SERVICE  |            nan | Unknown        | Unknown       |            nan |        nan |        1926 |       nan |              nan |      nan |                    1 | RED ON YELLOW WITH SHADED ZIG-ZAG LINE BACKGROUND | nan                                                        |               nan |                nan | Aviation | Commemorative | Stamps & coins |      nan |         nan |            nan |      nan |         nan |            nan | paper      | 22.4 cm  | 9.0 cm  |      nan |         nan |      nan |        nan | http://source.techno-science.ca/artifacts-artefacts/images/1966.0004.001.aa.cs.png | http://source.techno-science.ca/artifacts-artefacts/images/1966.0004.001.aa.cs.thumb.png |\n",
            "|  4 | 1966.0005.001    | Stamp, postage | PAPER                | ELLIOT-FAIRCHILD AIR SERVICE |            nan | Unknown        | Unknown       |            nan |        nan |        1926 |       nan |              nan |      nan |                    1 | RED ON YELLOW WITH SWASTIKA BACKGROUND            | nan                                                        |               nan |                nan | Aviation | Commemorative | Stamps & coins |      nan |         nan |            nan |      nan |         nan |            nan | paper      | 22.7 cm  | 9.5 cm  |      nan |         nan |      nan |        nan | http://source.techno-science.ca/artifacts-artefacts/images/1966.0005.001.aa.cs.png | http://source.techno-science.ca/artifacts-artefacts/images/1966.0005.001.aa.cs.thumb.png |\n"
          ]
        }
      ],
      "source": [
        "import pandas as pd\n",
        "from tabulate import tabulate\n",
        "\n",
        "df_museun = pd.read_csv('/content/drive/MyDrive/data_analytics/MINIPROJECT_8/cstmc-CSV-en.csv', on_bad_lines='skip', delimiter='|')\n",
        "\n",
        "print(tabulate(df_museun.head(), headers='keys', tablefmt='github'))"
      ]
    },
    {
      "cell_type": "markdown",
      "source": [
        "### **1.1 Total # distinct artifactNumber.**\n",
        "### **Expected Output: Integer Number**\n"
      ],
      "metadata": {
        "id": "ARvgw8bqX5S1"
      }
    },
    {
      "cell_type": "code",
      "source": [
        "print('Total # distinct artifactNumber\\n', df_museun['artifactNumber'].nunique())"
      ],
      "metadata": {
        "id": "s7mZll1yljj5",
        "colab": {
          "base_uri": "https://localhost:8080/"
        },
        "outputId": "81daa2bc-e0e4-4d3b-d0d1-3c1138230d2a"
      },
      "execution_count": 4,
      "outputs": [
        {
          "output_type": "stream",
          "name": "stdout",
          "text": [
            "Total # distinct artifactNumber\n",
            " 107768\n"
          ]
        }
      ]
    },
    {
      "cell_type": "markdown",
      "source": [
        "### **1.2 Total # distinct ObjectName.**\n",
        "### **Expected Output: Integer Number**"
      ],
      "metadata": {
        "id": "mKB_3x7CgNHt"
      }
    },
    {
      "cell_type": "code",
      "source": [
        "print('Total # distinct ObjectName\\n', df_museun['ObjectName'].nunique(dropna=False))"
      ],
      "metadata": {
        "colab": {
          "base_uri": "https://localhost:8080/"
        },
        "id": "hm-x7-O8dl3a",
        "outputId": "24e05259-3182-446d-c3ba-f1fad0df0d32"
      },
      "execution_count": 5,
      "outputs": [
        {
          "output_type": "stream",
          "name": "stdout",
          "text": [
            "Total # distinct ObjectName\n",
            " 8191\n"
          ]
        }
      ]
    },
    {
      "cell_type": "markdown",
      "source": [
        "### **1.3 Top 10 artifacts by weight.**\n",
        "### **Expected Output:**\n",
        "### **artifactnumber,weight,generaldescripton,rank_weight**\n",
        "\n"
      ],
      "metadata": {
        "id": "f_0fXOtHgtNR"
      }
    },
    {
      "cell_type": "code",
      "source": [
        "df_weigth = df_museun[['artifactNumber', 'Weight', 'GeneralDescription']]\n",
        "df_weigth['rank_weight'] = df_weigth['Weight'].rank(ascending=False)\n",
        "df_weigth = df_weigth.sort_values(by='rank_weight', ascending=True)\n",
        "print(tabulate(df_weigth.head(10), headers='keys', tablefmt='github'))"
      ],
      "metadata": {
        "id": "3VWn9e6VgcOk",
        "colab": {
          "base_uri": "https://localhost:8080/"
        },
        "outputId": "01734116-ef3b-4f48-adec-1a538e2c6515"
      },
      "execution_count": 6,
      "outputs": [
        {
          "output_type": "stream",
          "name": "stdout",
          "text": [
            "|       | artifactNumber   | Weight   | GeneralDescription                                                                                                                                                                                                                                                                                      |   rank_weight |\n",
            "|-------|------------------|----------|---------------------------------------------------------------------------------------------------------------------------------------------------------------------------------------------------------------------------------------------------------------------------------------------------------|---------------|\n",
            "| 96491 | 2005.0060.001    | 990 kg   | metal, synthetic and glass components.                                                                                                                                                                                                                                                                  |           1   |\n",
            "| 30136 | 1981.0613.001    | 952.5 kg | METAL & WOOD                                                                                                                                                                                                                                                                                            |           2   |\n",
            "|  4276 | 1968.0102.001    | 950 kg   | nan                                                                                                                                                                                                                                                                                                     |           4.5 |\n",
            "|  2142 | 1967.0027.001    | 950 kg   | nan                                                                                                                                                                                                                                                                                                     |           4.5 |\n",
            "| 20208 | 1977.0274.001    | 950 kg   | SHEET METAL (TIN)/ WOOD/ PLYWOOD/ BRASS/ RUBBER                                                                                                                                                                                                                                                         |           4.5 |\n",
            "| 16954 | 1975.0210.001    | 950 kg   | METAL/ RUBBER/ SYNTHETIC/ GLASS                                                                                                                                                                                                                                                                         |           4.5 |\n",
            "| 28819 | 1980.0932.001    | 93.31 gm | Round brown glass bottle has black moulded synthetic lid; off-white adhesive- backed paper label bears blue printed text.                                                                                                                                                                               |           7   |\n",
            "| 28808 | 1980.0922.001    | 91.50 gm | Round clear glass jar with off-white synthetic lid [supplied by CSTMC Conservation] contains round clear glass jar with brown cork stopper; [loose] red rubber bulb; clear glass [?] tube sealed within opaque synthetic sleeve; brown rubber [?] band. Original bottle contains amber coloured liquid. |           8   |\n",
            "|  2157 | 1967.0042.001    | 908 kg   | nan                                                                                                                                                                                                                                                                                                     |           9   |\n",
            "| 71817 | 1995.1329.001    | 9072 kg  | STEEL, CAST IRON, NICKEL, BRONZE/ WOOD REAR PLATFORM & PARTS/ GLASS WINDOWS, LAMPS, MIRRORS, GAUGE WINDOWS/ RUBBER TIRES, HOSES/ CANVAS HOSES/ SYNTHETIC STEERING WHEEL, CONTROLS, PARTS                                                                                                                |          10   |\n"
          ]
        },
        {
          "output_type": "stream",
          "name": "stderr",
          "text": [
            "<ipython-input-6-7d75e644538e>:2: SettingWithCopyWarning: \n",
            "A value is trying to be set on a copy of a slice from a DataFrame.\n",
            "Try using .loc[row_indexer,col_indexer] = value instead\n",
            "\n",
            "See the caveats in the documentation: https://pandas.pydata.org/pandas-docs/stable/user_guide/indexing.html#returning-a-view-versus-a-copy\n",
            "  df_weigth['rank_weight'] = df_weigth['Weight'].rank(ascending=False)\n"
          ]
        }
      ]
    },
    {
      "cell_type": "markdown",
      "source": [
        "### **1.4 Top 10 artifacts by height.**\n",
        "### **Expected Output:**\n",
        "### **artifactnumber,height,generaldescripton,rank_height**\n"
      ],
      "metadata": {
        "id": "iZctzfoxrBJl"
      }
    },
    {
      "cell_type": "code",
      "source": [
        "df_heigth = df_museun[['artifactNumber', 'Height', 'GeneralDescription']]\n",
        "df_heigth['rank_height'] = df_heigth['Height'].rank(ascending=False)\n",
        "df_heigth = df_heigth.sort_values(by='rank_height', ascending=True)\n",
        "print(tabulate(df_heigth.head(10), headers='keys', tablefmt='github'))"
      ],
      "metadata": {
        "id": "pfkOqCR5k6G1",
        "colab": {
          "base_uri": "https://localhost:8080/"
        },
        "outputId": "6ff509d7-6466-4289-8ae1-e7cecbc76b50"
      },
      "execution_count": 8,
      "outputs": [
        {
          "output_type": "stream",
          "name": "stdout",
          "text": [
            "|       | artifactNumber   | Height   | GeneralDescription                                                                                                                                                                                                                                                                                      |   rank_height |\n",
            "|-------|------------------|----------|---------------------------------------------------------------------------------------------------------------------------------------------------------------------------------------------------------------------------------------------------------------------------------------------------------|---------------|\n",
            "|   988 | 1966.0601.001    | 99.8 cm  | WOODEN CABINET; FABRIC SPEAKER COVER; SYNTHETIC TUNING DIALS, BUTTONS, TUNINGINDICATOR PANEL & MOUNTING. GLASS, METAL & SYNTHETIC COMPONENT PARTS; SHEET STEEL CHASSIS                                                                                                                                  |           2   |\n",
            "| 34792 | 1983.0412.001    | 99.8 cm  | METAL BODY & STAND; OPTICAL GLASS LENS; BAKELITE KNOBS; CLOTH/LEATHERETTE BELLOWS; ELECTRICAL; COTTON/NYLON CORD                                                                                                                                                                                        |           2   |\n",
            "| 44375 | 1987.0554.001    | 99.8 cm  | METAL CASING AND TUBE/ BRASS SCALE AND VERNIER, PARTS/ WOOD CISTERN/ GLASS TUBE AND CYLINDER/ IVORY POINT/ CORD WRAPPING.                                                                                                                                                                               |           2   |\n",
            "| 64873 | 1994.0105.001    | 99.7 cm  | WOOD FRAME & CABINET (COMMERCIALLY MADE) / IVORY? KEYS ON KEYBOARD (COMMERCIALLY MADE)/ METAL & SYNTHETIC WORKING PARTS/ SYNTHETIC CONTROL PANEL                                                                                                                                                        |           5.5 |\n",
            "| 31917 | 1981.1831.001    | 99.7 cm  | WOOD CABINET/ STEEL BASE INSIDE/ RADIO TUBES/ FABRIC COVERED SPEAKER (DK GOLD COLOUR)                                                                                                                                                                                                                   |           5.5 |\n",
            "| 59550 | 1992.0878.001    | 99.7 cm  | PRESSED METAL HOUSING/ CAST METAL REAR LEGS, OVEN FRONT & COOKTOP/ NICKEL PLATED CAST METAL FRONT LEGS, OVEN DOOR FRAME COOKTOP & BACKSPLASH TRIMS/ ENAMELLED METAL OVEN DOOR & BACKSPLASH PANELS/ METAL WIRE RACKS/ CERAMIC OVEN ELEMENT MOUNTS/ PORCELAIN TEMP. CONTROL KNOBS/ GLASS THERMOMETER LENS |           5.5 |\n",
            "| 16454 | 1974.0707.001    | 99.7 cm  | WOOD CABINET/ METAL CHASSIS                                                                                                                                                                                                                                                                             |           5.5 |\n",
            "| 41209 | 1986.0014.002    | 99.6 cm  | FERROUS METALLOWER CASING & TABLE LEGS/ NON-FERROUS METAL UPPER CASING & PARTS/ SYNTHETIC KEYBOARD CASING, KEYBOARD, KEYS, PARTS/ FORMICA TABLE COVERING                                                                                                                                                |           8.5 |\n",
            "| 41208 | 1986.0014.001    | 99.6 cm  | FERROUS METALLOWER CASING & TABLE LEGS/ NON-FERROUS METAL UPPER CASING & PARTS/ SYNTHETIC KEYBOARD CASING, KEYBOARD, KEYS, PARTS/ FORMICA TABLE COVERING                                                                                                                                                |           8.5 |\n",
            "| 16871 | 1975.0130.001    | 99.5 cm  | TUBULAR METAL FRAME/ IRON ENGINE/ LEATHER SEAT/ GLASS HEADLIGHT/ RUBBER HANDLE GRIPS & FOOT REST COVERS/ PLASTIC REAR LIGHT/ ALLOY CYLINDER HEADS                                                                                                                                                       |          12.5 |\n"
          ]
        },
        {
          "output_type": "stream",
          "name": "stderr",
          "text": [
            "<ipython-input-8-35465d1c0718>:2: SettingWithCopyWarning: \n",
            "A value is trying to be set on a copy of a slice from a DataFrame.\n",
            "Try using .loc[row_indexer,col_indexer] = value instead\n",
            "\n",
            "See the caveats in the documentation: https://pandas.pydata.org/pandas-docs/stable/user_guide/indexing.html#returning-a-view-versus-a-copy\n",
            "  df_heigth['rank_height'] = df_heigth['Height'].rank(ascending=False)\n"
          ]
        }
      ]
    },
    {
      "cell_type": "markdown",
      "source": [
        "### **1.5 Top 10 category1 by total # artifacts.**\n",
        "### **Expected Output:**\n",
        "### **category1,num_artifactNumber, rank_category1**\n"
      ],
      "metadata": {
        "id": "0HayrgR2Pyh0"
      }
    },
    {
      "cell_type": "code",
      "source": [
        "df_catgory1 = df_museun.groupby(['category1']).size().to_frame('num_artifactNumber')\n",
        "df_catgory1['rank_category1'] = df_catgory1['num_artifactNumber'].rank(ascending=False)\n",
        "df_catgory1 = df_catgory1.sort_values(by='rank_category1', ascending=True)\n",
        "print(tabulate(df_catgory1.head(10), headers='keys', tablefmt='github'))"
      ],
      "metadata": {
        "colab": {
          "base_uri": "https://localhost:8080/"
        },
        "id": "bfS0zdnHN_gn",
        "outputId": "4e8710d9-3423-40b5-8b87-39114dd2b3cb"
      },
      "execution_count": 17,
      "outputs": [
        {
          "output_type": "stream",
          "name": "stdout",
          "text": [
            "| category1                |   num_artifactNumber |   rank_category1 |\n",
            "|--------------------------|----------------------|------------------|\n",
            "| Printed specimens        |                 4270 |                1 |\n",
            "| Commemorative            |                 4167 |                2 |\n",
            "| Archives                 |                 3026 |                3 |\n",
            "| Tools & equipment-trades |                 2730 |                4 |\n",
            "| Miscellaneous            |                 2589 |                5 |\n",
            "| Clothing                 |                 2008 |                6 |\n",
            "| Radio                    |                 1791 |                7 |\n",
            "| Cycles & cycling         |                 1440 |                8 |\n",
            "| Instruments              |                 1370 |                9 |\n",
            "| Food processing          |                 1327 |               10 |\n"
          ]
        }
      ]
    },
    {
      "cell_type": "markdown",
      "source": [
        "### **1.6 Top 10 BeingDate by # artifactNumber**\n",
        "### **Expected Output:**\n",
        "### **begindate,num_artifactnumber,rank_begindate**\n"
      ],
      "metadata": {
        "id": "SsweYwrBTPZU"
      }
    },
    {
      "cell_type": "code",
      "source": [
        "df_begin = df_museun.groupby(['BeginDate']).size().to_frame('num_artifactNumber')\n",
        "df_begin['rank_BeginDate'] = df_begin['num_artifactNumber'].rank(ascending=False)\n",
        "df_begin = df_begin.sort_values(by='rank_BeginDate', ascending=True)\n",
        "print(tabulate(df_begin.head(10), headers='keys', tablefmt='github'))"
      ],
      "metadata": {
        "colab": {
          "base_uri": "https://localhost:8080/"
        },
        "id": "WalEwEEeQrxh",
        "outputId": "27342e7d-5456-48f8-cc74-d818e2a5ddf6"
      },
      "execution_count": 18,
      "outputs": [
        {
          "output_type": "stream",
          "name": "stdout",
          "text": [
            "|   BeginDate |   num_artifactNumber |   rank_BeginDate |\n",
            "|-------------|----------------------|------------------|\n",
            "|        1900 |                 2609 |                1 |\n",
            "|        1950 |                 1477 |                2 |\n",
            "|        1920 |                 1214 |                3 |\n",
            "|        1930 |                 1176 |                4 |\n",
            "|        1940 |                 1026 |                5 |\n",
            "|        1960 |                  904 |                6 |\n",
            "|        1970 |                  883 |                7 |\n",
            "|        1910 |                  600 |                8 |\n",
            "|        1980 |                  549 |                9 |\n",
            "|        1944 |                  548 |               10 |\n"
          ]
        }
      ]
    },
    {
      "cell_type": "markdown",
      "source": [
        "### **1.7 Top 10 material by # artifactNumber**\n",
        "### **Expected Output:**\n",
        "### **material,num_artifactnumber_mat,rank_material**\n"
      ],
      "metadata": {
        "id": "5zbIFdQqUZZt"
      }
    },
    {
      "cell_type": "code",
      "source": [
        "df_material = df_museun.groupby(['material']).size().to_frame('num_artifactNumber')\n",
        "df_material['rank_material'] = df_material['num_artifactNumber'].rank(ascending=False)\n",
        "df_material = df_material.sort_values(by='rank_material', ascending=True)\n",
        "print(tabulate(df_material.head(10), headers='keys', tablefmt='github'))"
      ],
      "metadata": {
        "colab": {
          "base_uri": "https://localhost:8080/"
        },
        "id": "hqP99FImURQC",
        "outputId": "cb8934e6-6d40-4321-dae6-1f4589a34a6e"
      },
      "execution_count": 19,
      "outputs": [
        {
          "output_type": "stream",
          "name": "stdout",
          "text": [
            "| material          |   num_artifactNumber |   rank_material |\n",
            "|-------------------|----------------------|-----------------|\n",
            "| paper             |                 9394 |               1 |\n",
            "| metal             |                 7421 |               2 |\n",
            "| glass             |                 2044 |               3 |\n",
            "| metal;synthetic   |                 2027 |               4 |\n",
            "| synthetic         |                 1663 |               5 |\n",
            "| metal->steel      |                 1523 |               6 |\n",
            "| synthetic;metal   |                 1386 |               7 |\n",
            "| paper->card stock |                 1353 |               8 |\n",
            "| metal->brass      |                 1212 |               9 |\n",
            "| wood;metal        |                 1175 |              10 |\n"
          ]
        }
      ]
    },
    {
      "cell_type": "markdown",
      "source": [
        "### **1.8 Merge 3 and 4 on their corresponding rank columns**\n",
        "### **Expected Output:**\n",
        "### **rank, w_artifactnumber,h_artifactnumber, weight, height**\n"
      ],
      "metadata": {
        "id": "TcNkndMJVSwA"
      }
    },
    {
      "cell_type": "code",
      "source": [
        "df_merge = df_weigth.merge(df_heigth, on='artifactNumber')\n",
        "df_merge = df_merge.sort_values(by='rank_weight', ascending=True)\n",
        "print(tabulate(df_merge.head(), headers='keys', tablefmt='github'))"
      ],
      "metadata": {
        "colab": {
          "base_uri": "https://localhost:8080/"
        },
        "id": "GYADXO4WVNAm",
        "outputId": "3e135452-e624-4acb-de61-50d8dd34ca7a"
      },
      "execution_count": 27,
      "outputs": [
        {
          "output_type": "stream",
          "name": "stdout",
          "text": [
            "|    | artifactNumber   | Weight   | GeneralDescription_x                            |   rank_weight | Height   | GeneralDescription_y                            |   rank_height |\n",
            "|----|------------------|----------|-------------------------------------------------|---------------|----------|-------------------------------------------------|---------------|\n",
            "|  0 | 2005.0060.001    | 990 kg   | metal, synthetic and glass components.          |           1   | 136.0 cm | metal, synthetic and glass components.          |       30761   |\n",
            "|  1 | 1981.0613.001    | 952.5 kg | METAL & WOOD                                    |           2   | 197.0 cm | METAL & WOOD                                    |       25941   |\n",
            "|  2 | 1968.0102.001    | 950 kg   | nan                                             |           4.5 | 161.0 cm | nan                                             |       28108.5 |\n",
            "|  3 | 1967.0027.001    | 950 kg   | nan                                             |           4.5 | 161.0 cm | nan                                             |       28108.5 |\n",
            "|  4 | 1977.0274.001    | 950 kg   | SHEET METAL (TIN)/ WOOD/ PLYWOOD/ BRASS/ RUBBER |           4.5 | 183.0 cm | SHEET METAL (TIN)/ WOOD/ PLYWOOD/ BRASS/ RUBBER |       26557.5 |\n"
          ]
        }
      ]
    },
    {
      "cell_type": "code",
      "source": [],
      "metadata": {
        "id": "8fU2nEXnWvBD"
      },
      "execution_count": null,
      "outputs": []
    }
  ]
}
