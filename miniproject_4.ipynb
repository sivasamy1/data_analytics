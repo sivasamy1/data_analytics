{
  "nbformat": 4,
  "nbformat_minor": 0,
  "metadata": {
    "colab": {
      "provenance": [],
      "mount_file_id": "1sEYXyL1sPb_Wk0N2-mcRm1hd78uqm3qk",
      "authorship_tag": "ABX9TyPsPB7odqempxogqNE58GDj",
      "include_colab_link": true
    },
    "kernelspec": {
      "name": "python3",
      "display_name": "Python 3"
    },
    "language_info": {
      "name": "python"
    }
  },
  "cells": [
    {
      "cell_type": "markdown",
      "metadata": {
        "id": "view-in-github",
        "colab_type": "text"
      },
      "source": [
        "<a href=\"https://colab.research.google.com/github/sivasamy1/data_analytics/blob/main/miniproject_4.ipynb\" target=\"_parent\"><img src=\"https://colab.research.google.com/assets/colab-badge.svg\" alt=\"Open In Colab\"/></a>"
      ]
    },
    {
      "cell_type": "code",
      "execution_count": null,
      "metadata": {
        "id": "r-DA1MilgaQV"
      },
      "outputs": [],
      "source": []
    },
    {
      "cell_type": "code",
      "source": [
        "from google.colab import drive\n",
        "drive.mount('/content/drive')"
      ],
      "metadata": {
        "colab": {
          "base_uri": "https://localhost:8080/"
        },
        "id": "We-0_rX5goV-",
        "outputId": "091bb17a-f452-40b3-d1d1-48e640938906"
      },
      "execution_count": null,
      "outputs": [
        {
          "output_type": "stream",
          "name": "stdout",
          "text": [
            "Mounted at /content/drive\n"
          ]
        }
      ]
    },
    {
      "cell_type": "code",
      "source": [
        "import pandas as pd\n",
        "from tabulate import tabulate"
      ],
      "metadata": {
        "id": "1KyeyKymgpJD"
      },
      "execution_count": null,
      "outputs": []
    },
    {
      "cell_type": "code",
      "source": [
        "df_airports = pd.read_csv(\"/content/drive/MyDrive/data_analytics/airport/airports.dat.txt\")\n",
        "df_airports.columns = [\"Airport_ID\",\"Name\",\"City\",\"Country\",\"IATA\",\"ICAO\",\"Latitude\",\"Longitude\",\"Altitude\",\"Timezone\",\"DST\",\"Tz database timezone\",\"Type\",\"Source\"]\n",
        "\n",
        "print(tabulate(df_airports.head(10), headers='keys', tablefmt='psql'))"
      ],
      "metadata": {
        "colab": {
          "base_uri": "https://localhost:8080/"
        },
        "id": "O1TNXUWshDYb",
        "outputId": "618d3be3-1ae0-46b1-98e1-0217f9fb94f1"
      },
      "execution_count": null,
      "outputs": [
        {
          "output_type": "stream",
          "name": "stdout",
          "text": [
            "+----+--------------+---------------------------------------------+--------------+------------------+--------+--------+------------+-------------+------------+------------+-------+------------------------+---------+-------------+\n",
            "|    |   Airport_ID | Name                                        | City         | Country          | IATA   | ICAO   |   Latitude |   Longitude |   Altitude |   Timezone | DST   | Tz database timezone   | Type    | Source      |\n",
            "|----+--------------+---------------------------------------------+--------------+------------------+--------+--------+------------+-------------+------------+------------+-------+------------------------+---------+-------------|\n",
            "|  0 |            2 | Madang Airport                              | Madang       | Papua New Guinea | MAG    | AYMD   |   -5.20708 |    145.789  |         20 |         10 | U     | Pacific/Port_Moresby   | airport | OurAirports |\n",
            "|  1 |            3 | Mount Hagen Kagamuga Airport                | Mount Hagen  | Papua New Guinea | HGU    | AYMH   |   -5.82679 |    144.296  |       5388 |         10 | U     | Pacific/Port_Moresby   | airport | OurAirports |\n",
            "|  2 |            4 | Nadzab Airport                              | Nadzab       | Papua New Guinea | LAE    | AYNZ   |   -6.5698  |    146.726  |        239 |         10 | U     | Pacific/Port_Moresby   | airport | OurAirports |\n",
            "|  3 |            5 | Port Moresby Jacksons International Airport | Port Moresby | Papua New Guinea | POM    | AYPY   |   -9.44338 |    147.22   |        146 |         10 | U     | Pacific/Port_Moresby   | airport | OurAirports |\n",
            "|  4 |            6 | Wewak International Airport                 | Wewak        | Papua New Guinea | WWK    | AYWK   |   -3.58383 |    143.669  |         19 |         10 | U     | Pacific/Port_Moresby   | airport | OurAirports |\n",
            "|  5 |            7 | Narsarsuaq Airport                          | Narssarssuaq | Greenland        | UAK    | BGBW   |   61.1605  |    -45.426  |        112 |         -3 | E     | America/Godthab        | airport | OurAirports |\n",
            "|  6 |            8 | Godthaab / Nuuk Airport                     | Godthaab     | Greenland        | GOH    | BGGH   |   64.1909  |    -51.6781 |        283 |         -3 | E     | America/Godthab        | airport | OurAirports |\n",
            "|  7 |            9 | Kangerlussuaq Airport                       | Sondrestrom  | Greenland        | SFJ    | BGSF   |   67.0122  |    -50.7116 |        165 |         -3 | E     | America/Godthab        | airport | OurAirports |\n",
            "|  8 |           10 | Thule Air Base                              | Thule        | Greenland        | THU    | BGTL   |   76.5312  |    -68.7032 |        251 |         -4 | E     | America/Thule          | airport | OurAirports |\n",
            "|  9 |           11 | Akureyri Airport                            | Akureyri     | Iceland          | AEY    | BIAR   |   65.66    |    -18.0727 |          6 |          0 | N     | Atlantic/Reykjavik     | airport | OurAirports |\n",
            "+----+--------------+---------------------------------------------+--------------+------------------+--------+--------+------------+-------------+------------+------------+-------+------------------------+---------+-------------+\n"
          ]
        }
      ]
    },
    {
      "cell_type": "markdown",
      "source": [
        "### **1. Top 20 highest altitude airports in the world. Choose only “type” with “airport”**\n"
      ],
      "metadata": {
        "id": "afCE5iLukx2D"
      }
    },
    {
      "cell_type": "code",
      "source": [
        "df_airport = df_airports[df_airports[\"Type\"] == \"airport\"]\n",
        "df_top20 = df_airport.sort_values(by='Altitude', ascending=False).head(20)\n",
        "df_top20['Rank'] = df_top20['Altitude'].rank(ascending=False)\n",
        "\n",
        "df_top20_final = df_top20[['Airport_ID', 'Name', 'City', 'Country', 'Altitude', 'Rank']]\n",
        "\n",
        "print(tabulate(df_top20_final, headers='keys', tablefmt='psql'))"
      ],
      "metadata": {
        "colab": {
          "base_uri": "https://localhost:8080/"
        },
        "id": "jybcVo8UhN9q",
        "outputId": "a416e135-6a1b-4eee-ef80-4f01a0c5cbac"
      },
      "execution_count": null,
      "outputs": [
        {
          "output_type": "stream",
          "name": "stdout",
          "text": [
            "+------+--------------+----------------------------------------+-------------+-----------+------------+--------+\n",
            "|      |   Airport_ID | Name                                   | City        | Country   |   Altitude |   Rank |\n",
            "|------+--------------+----------------------------------------+-------------+-----------+------------+--------|\n",
            "| 6541 |         9310 | Daocheng Yading Airport                | Daocheng    | China     |      14472 |      1 |\n",
            "| 5027 |         6396 | Qamdo Bangda Airport                   | Bangda      | China     |      14219 |      2 |\n",
            "| 6392 |         8921 | Kangding Airport                       | Kangding    | China     |      14042 |      3 |\n",
            "| 5871 |         7932 | Ngari Gunsa Airport                    | Shiquanhe   | China     |      14022 |      4 |\n",
            "| 2624 |         2762 | El Alto International Airport          | La Paz      | Bolivia   |      13355 |      5 |\n",
            "| 2626 |         2764 | Capitan Nicolas Rojas Airport          | Potosi      | Bolivia   |      12913 |      6 |\n",
            "| 5850 |         7894 | Yushu Batang Airport                   | Yushu       | China     |      12816 |      7 |\n",
            "| 6419 |         8969 | Copacabana Airport                     | Copacabana  | Bolivia   |      12591 |      8 |\n",
            "| 2653 |         2792 | Inca Manco Capac International Airport | Juliaca     | Peru      |      12552 |      9 |\n",
            "| 7537 |        13483 | Golog Maqin Airport                    | Golog       | China     |      12426 |     10 |\n",
            "| 5777 |         7766 | Syangboche Airport                     | Syangboche  | Nepal     |      12400 |     11 |\n",
            "| 2625 |         2763 | Juan Mendoza Airport                   | Oruro       | Bolivia   |      12152 |     12 |\n",
            "| 3873 |         4097 | Lhasa Gonggar Airport                  | Lhasa       | China     |      11713 |     13 |\n",
            "| 6802 |        10943 | Hongyuan Airport                       | Ngawa       | China     |      11600 |     14 |\n",
            "| 2341 |         2464 | La Quiaca Airport                      | Laboulaye   | Argentina |      11414 |     15 |\n",
            "| 4039 |         4301 | Jiuzhai Huanglong Airport              | Jiuzhaigou  | China     |      11327 |     16 |\n",
            "| 2648 |         2787 | Andahuaylas Airport                    | Andahuaylas | Peru      |      11300 |     17 |\n",
            "| 5498 |         7313 | Uyuni Airport                          | Uyuni       | Bolivia   |      11136 |     18 |\n",
            "| 2652 |         2791 | Francisco Carle Airport                | Jauja       | Peru      |      11034 |     19 |\n",
            "| 3941 |         4174 | Manang Airport                         | Manang      | Nepal     |      11001 |     20 |\n",
            "+------+--------------+----------------------------------------+-------------+-----------+------------+--------+\n"
          ]
        }
      ]
    },
    {
      "cell_type": "markdown",
      "source": [
        "## **2. Top 20 countries that have the highest total number of airports.** ##"
      ],
      "metadata": {
        "id": "Cl-oaVJOs0Bl"
      }
    },
    {
      "cell_type": "code",
      "source": [
        "df_top20_country = df_airports.groupby('Country').count().head(20)\n",
        "print(tabulate(df_top20_country, headers='keys', tablefmt='psql'))"
      ],
      "metadata": {
        "id": "Ocy8M-RejyjM",
        "colab": {
          "base_uri": "https://localhost:8080/"
        },
        "outputId": "994f4624-3a88-4c78-eaf9-c2fdd1d96246"
      },
      "execution_count": null,
      "outputs": [
        {
          "output_type": "stream",
          "name": "stdout",
          "text": [
            "+---------------------+--------------+--------+--------+--------+--------+------------+-------------+------------+------------+-------+------------------------+--------+----------+\n",
            "| Country             |   Airport_ID |   Name |   City |   IATA |   ICAO |   Latitude |   Longitude |   Altitude |   Timezone |   DST |   Tz database timezone |   Type |   Source |\n",
            "|---------------------+--------------+--------+--------+--------+--------+------------+-------------+------------+------------+-------+------------------------+--------+----------|\n",
            "| Afghanistan         |           22 |     22 |     22 |     22 |     22 |         22 |          22 |         22 |         22 |    22 |                     22 |     22 |       22 |\n",
            "| Albania             |            5 |      5 |      5 |      5 |      5 |          5 |           5 |          5 |          5 |     5 |                      5 |      5 |        5 |\n",
            "| Algeria             |           44 |     44 |     44 |     44 |     44 |         44 |          44 |         44 |         44 |    44 |                     44 |     44 |       44 |\n",
            "| American Samoa      |            2 |      2 |      2 |      2 |      2 |          2 |           2 |          2 |          2 |     2 |                      2 |      2 |        2 |\n",
            "| Angola              |           25 |     25 |     25 |     25 |     25 |         25 |          25 |         25 |         25 |    25 |                     25 |     25 |       25 |\n",
            "| Anguilla            |            1 |      1 |      1 |      1 |      1 |          1 |           1 |          1 |          1 |     1 |                      1 |      1 |        1 |\n",
            "| Antarctica          |            7 |      7 |      7 |      7 |      7 |          7 |           7 |          7 |          7 |     7 |                      7 |      7 |        7 |\n",
            "| Antigua and Barbuda |            2 |      2 |      2 |      2 |      2 |          2 |           2 |          2 |          2 |     2 |                      2 |      2 |        2 |\n",
            "| Argentina           |           96 |     96 |     96 |     96 |     96 |         96 |          96 |         96 |         96 |    96 |                     96 |     96 |       96 |\n",
            "| Armenia             |            5 |      5 |      5 |      5 |      5 |          5 |           5 |          5 |          5 |     5 |                      5 |      5 |        5 |\n",
            "| Aruba               |            1 |      1 |      1 |      1 |      1 |          1 |           1 |          1 |          1 |     1 |                      1 |      1 |        1 |\n",
            "| Australia           |          334 |    334 |    304 |    334 |    334 |        334 |         334 |        334 |        334 |   334 |                    334 |    334 |      334 |\n",
            "| Austria             |           20 |     20 |     20 |     20 |     20 |         20 |          20 |         20 |         20 |    20 |                     20 |     20 |       20 |\n",
            "| Azerbaijan          |            8 |      8 |      8 |      8 |      8 |          8 |           8 |          8 |          8 |     8 |                      8 |      8 |        8 |\n",
            "| Bahamas             |           34 |     34 |     33 |     34 |     34 |         34 |          34 |         34 |         34 |    34 |                     34 |     34 |       34 |\n",
            "| Bahrain             |            2 |      2 |      2 |      2 |      2 |          2 |           2 |          2 |          2 |     2 |                      2 |      2 |        2 |\n",
            "| Bangladesh          |           10 |     10 |     10 |     10 |     10 |         10 |          10 |         10 |         10 |    10 |                     10 |     10 |       10 |\n",
            "| Barbados            |            1 |      1 |      1 |      1 |      1 |          1 |           1 |          1 |          1 |     1 |                      1 |      1 |        1 |\n",
            "| Belarus             |           12 |     12 |     12 |     12 |     12 |         12 |          12 |         12 |         12 |    12 |                     12 |     12 |       12 |\n",
            "| Belgium             |           24 |     24 |     24 |     24 |     24 |         24 |          24 |         24 |         24 |    24 |                     24 |     24 |       24 |\n",
            "+---------------------+--------------+--------+--------+--------+--------+------------+-------------+------------+------------+-------+------------------------+--------+----------+\n"
          ]
        }
      ]
    },
    {
      "cell_type": "code",
      "source": [],
      "metadata": {
        "id": "X-r4k5LdtgVu"
      },
      "execution_count": null,
      "outputs": []
    }
  ]
}