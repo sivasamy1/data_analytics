{
  "nbformat": 4,
  "nbformat_minor": 0,
  "metadata": {
    "colab": {
      "provenance": [],
      "mount_file_id": "1oGj1ULDNypZL0IJ-clHO938OffAddQ8q",
      "authorship_tag": "ABX9TyO8TNF2gYV3jmrFhZu5jKOs",
      "include_colab_link": true
    },
    "kernelspec": {
      "name": "python3",
      "display_name": "Python 3"
    },
    "language_info": {
      "name": "python"
    }
  },
  "cells": [
    {
      "cell_type": "markdown",
      "metadata": {
        "id": "view-in-github",
        "colab_type": "text"
      },
      "source": [
        "<a href=\"https://colab.research.google.com/github/sivasamy1/data_analytics/blob/main/ebola_song.ipynb\" target=\"_parent\"><img src=\"https://colab.research.google.com/assets/colab-badge.svg\" alt=\"Open In Colab\"/></a>"
      ]
    },
    {
      "cell_type": "code",
      "source": [
        "from google.colab import drive\n",
        "drive.mount('/content/drive')"
      ],
      "metadata": {
        "colab": {
          "base_uri": "https://localhost:8080/"
        },
        "id": "DL6PCQxzHgGH",
        "outputId": "0b925a46-d16f-4c3e-f939-eaac526afcd9"
      },
      "execution_count": 1,
      "outputs": [
        {
          "output_type": "stream",
          "name": "stdout",
          "text": [
            "Drive already mounted at /content/drive; to attempt to forcibly remount, call drive.mount(\"/content/drive\", force_remount=True).\n"
          ]
        }
      ]
    },
    {
      "cell_type": "code",
      "execution_count": 2,
      "metadata": {
        "id": "vJ6UCelSuNNX"
      },
      "outputs": [],
      "source": [
        "import pandas as pd\n",
        "from tabulate import tabulate"
      ]
    },
    {
      "cell_type": "markdown",
      "source": [
        "## **PART I**"
      ],
      "metadata": {
        "id": "lmBZWqxpzIwG"
      }
    },
    {
      "cell_type": "code",
      "source": [
        "df_ebola = pd.read_csv('/content/drive/MyDrive/data_analytics/MINIPROJECT_6/ebola_data_db_format.csv')\n",
        "df = df_ebola.copy()\n",
        "list(df)\n"
      ],
      "metadata": {
        "colab": {
          "base_uri": "https://localhost:8080/"
        },
        "id": "AeF6Pb5gwBBY",
        "outputId": "f0a16b51-2fca-4a92-c69c-d6dc2d94785d"
      },
      "execution_count": 3,
      "outputs": [
        {
          "output_type": "execute_result",
          "data": {
            "text/plain": [
              "['Indicator', 'Country', 'Date', 'value']"
            ]
          },
          "metadata": {},
          "execution_count": 3
        }
      ]
    },
    {
      "cell_type": "markdown",
      "source": [
        "### **1.1 Distinct number of Indicators in the universe (complete dataset).**\n",
        "### **Expected Output:**\n",
        "### **Integer value**\n"
      ],
      "metadata": {
        "id": "HUh_LvzEwR3a"
      }
    },
    {
      "cell_type": "code",
      "source": [
        "print(df['Country'].unique())\n",
        "indicators = df['Indicator'].nunique()\n",
        "print(\"Distinct # if indicators:\\n\", indicators)"
      ],
      "metadata": {
        "colab": {
          "base_uri": "https://localhost:8080/"
        },
        "id": "GWCqVPNIwkMN",
        "outputId": "13469a73-8c92-4d7f-99d8-4a105b6baac4"
      },
      "execution_count": 4,
      "outputs": [
        {
          "output_type": "stream",
          "name": "stdout",
          "text": [
            "['Guinea' 'Liberia' 'Sierra Leone' 'United Kingdom' 'Mali' 'Nigeria'\n",
            " 'Senegal' 'Spain' 'United States of America' 'Italy' 'Liberia 2'\n",
            " 'Guinea 2']\n",
            "Distinct # if indicators:\n",
            " 36\n"
          ]
        }
      ]
    },
    {
      "cell_type": "markdown",
      "source": [
        "### **1.2 In the second half of the year 2015, how many countries have one or more “Cumulative number of confirmed Ebola cases”**\n",
        "### **Expected Output:**\n",
        "### **Integer value**\n"
      ],
      "metadata": {
        "id": "NyfCRRBey54G"
      }
    },
    {
      "cell_type": "code",
      "source": [
        "import datetime"
      ],
      "metadata": {
        "id": "Yg5XRVBOYK9O"
      },
      "execution_count": 5,
      "outputs": []
    },
    {
      "cell_type": "code",
      "source": [
        "def get_year(row):\n",
        "    return datetime.datetime.strptime(row['Date'], '%Y-%m-%d').year\n"
      ],
      "metadata": {
        "id": "38MrxVoJV11F"
      },
      "execution_count": 6,
      "outputs": []
    },
    {
      "cell_type": "code",
      "source": [
        "df[\"year\"] = df.apply(get_year, axis=1)\n",
        "df_ebola_2015 = df[(df['Date'] >= \"2015-07-01\") & (df['Date'] <= \"2015-12-31\")]\n",
        "df_ebola_2015 = df.where(df[\"Indicator\"] == \"Cumulative number of confirmed Ebola cases\").groupby(['Country']).size().to_frame(\"count\").reset_index()\n",
        "print(len(pd.unique(df_ebola_2015['Country'])))"
      ],
      "metadata": {
        "colab": {
          "base_uri": "https://localhost:8080/"
        },
        "id": "kC5q3S_HWtH8",
        "outputId": "b0467056-6414-47f3-dddb-3dd955021d99"
      },
      "execution_count": 7,
      "outputs": [
        {
          "output_type": "stream",
          "name": "stdout",
          "text": [
            "12\n"
          ]
        }
      ]
    },
    {
      "cell_type": "markdown",
      "source": [
        "### **1.3 Top 10 total Ebola cases confirmed. Note that Indicator = Cumulative number of confirmed Ebola cases. Include rank based on the total value (=cases confirmed).**\n",
        "### **Expected Output:**\n",
        "### **country, total_value, rank**\n"
      ],
      "metadata": {
        "id": "XNYkjhdU3vCh"
      }
    },
    {
      "cell_type": "code",
      "source": [
        "confirmed2 = df.where(df['Indicator'] == \"Cumulative number of confirmed Ebola cases\")\\\n",
        "            .groupby([\"Country\"]).size().nlargest(10).to_frame('total_value').reset_index()\n",
        "\n",
        "confirmed2['rank'] = confirmed2['total_value'].rank(ascending=False)\n",
        "print(tabulate(confirmed2, headers='keys', tablefmt='github'))"
      ],
      "metadata": {
        "colab": {
          "base_uri": "https://localhost:8080/"
        },
        "id": "NsPE1mBP2Z0z",
        "outputId": "a276ef7e-f0af-48af-f7fe-0f337e39896f"
      },
      "execution_count": 8,
      "outputs": [
        {
          "output_type": "stream",
          "name": "stdout",
          "text": [
            "|    | Country                  |   total_value |   rank |\n",
            "|----|--------------------------|---------------|--------|\n",
            "|  0 | Guinea                   |           259 |    1.5 |\n",
            "|  1 | Sierra Leone             |           259 |    1.5 |\n",
            "|  2 | Liberia                  |           258 |    3   |\n",
            "|  3 | Nigeria                  |           255 |    4   |\n",
            "|  4 | Senegal                  |           254 |    5   |\n",
            "|  5 | United States of America |           245 |    6   |\n",
            "|  6 | Mali                     |           243 |    7.5 |\n",
            "|  7 | Spain                    |           243 |    7.5 |\n",
            "|  8 | United Kingdom           |           221 |    9   |\n",
            "|  9 | Italy                    |           141 |   10   |\n"
          ]
        }
      ]
    },
    {
      "cell_type": "markdown",
      "source": [
        "### **1.4 Top 10 countries that have total cases with Indicator = “Cumulative number of confirmed, probable and suspected Ebola deaths” in 2015 Q2 (i.e., April-June 2015).**\n",
        "### **Expected Output:**\n",
        "### **country, total_cases, rank**\n"
      ],
      "metadata": {
        "id": "_R4PnVqgyzLQ"
      }
    },
    {
      "cell_type": "code",
      "source": [
        "\n",
        "confirmed = df[(df['Date'] >= '2015-04-01') & (df['Date'] <= '2015-06-30')]\n",
        "confirmed = df.where(df['Indicator'] == \"Cumulative number of confirmed, probable and suspected Ebola deaths\")\\\n",
        "      .groupby(['Country']).size().to_frame('total_cases').reset_index()\n",
        "confirmed['rank'] = confirmed['total_cases'].rank(ascending=False)\n",
        "confirmed = confirmed.sort_values(by=['rank'], ascending=True)\n",
        "\n",
        "print(tabulate(confirmed.head(10), headers='keys', tablefmt='github'))"
      ],
      "metadata": {
        "colab": {
          "base_uri": "https://localhost:8080/"
        },
        "id": "mnrddnK8B54X",
        "outputId": "407ced58-a5a1-4cf8-baf0-4ad9bbcc0fa1"
      },
      "execution_count": 9,
      "outputs": [
        {
          "output_type": "stream",
          "name": "stdout",
          "text": [
            "|    | Country                  |   total_cases |   rank |\n",
            "|----|--------------------------|---------------|--------|\n",
            "|  0 | Guinea                   |           259 |    2   |\n",
            "|  3 | Liberia                  |           259 |    2   |\n",
            "|  8 | Sierra Leone             |           259 |    2   |\n",
            "|  6 | Nigeria                  |           255 |    4   |\n",
            "|  7 | Senegal                  |           254 |    5   |\n",
            "| 11 | United States of America |           245 |    6   |\n",
            "|  5 | Mali                     |           243 |    7.5 |\n",
            "|  9 | Spain                    |           243 |    7.5 |\n",
            "| 10 | United Kingdom           |           221 |    9   |\n",
            "|  2 | Italy                    |           141 |   10   |\n"
          ]
        }
      ]
    },
    {
      "cell_type": "markdown",
      "source": [
        "### **1.5 Top 10 countries that have total cases with Indicator = “Cumulative number of confirmed probable and suspected Ebola deaths” with only even months of the year 2015 (i.e., months 2, 4, 6, 8, 10, 12).**\n",
        "### **Expected Output:**\n",
        "### **country, total_cases, rank**\n"
      ],
      "metadata": {
        "id": "Ts-yWe9XFtk6"
      }
    },
    {
      "cell_type": "code",
      "source": [
        "def get_month(row):\n",
        "    return datetime.datetime.strptime(row['Date'], '%Y-%m-%d').month    # Separating month to a new column helps in sorting\n",
        "def is_even_odd(row):\n",
        "  return int(row['month']%2)"
      ],
      "metadata": {
        "id": "PLueL-Jd0ynV"
      },
      "execution_count": 10,
      "outputs": []
    },
    {
      "cell_type": "code",
      "source": [
        "df = df_ebola.copy()\n",
        "\n",
        "df['month'] = df.apply(get_month, axis=1)\n",
        "confirmed = df[df['month'] % 2 == 0]\n",
        "df_ebola_2015 = confirmed[(confirmed['Date'] >= \"2015-01-01\") & (confirmed['Date'] <= \"2015-12-31\")]\n",
        "\n",
        "confirmed = df_ebola_2015[df_ebola_2015['Indicator'] == \"Cumulative number of confirmed, probable and suspected Ebola deaths\"]\\\n",
        "       .groupby(['Country']).size().to_frame('total_cases').reset_index()\n",
        "confirmed['rank'] = confirmed['total_cases'].rank(ascending=False)\n",
        "confirmed = confirmed.sort_values('rank')\n",
        "\n",
        "\n",
        "print('Even months 2015')\n",
        "print(tabulate(confirmed.head(10), headers='keys', tablefmt='github'))\n",
        "\n",
        "confirmed1 = df[df['month'] % 2 == 1]\n",
        "df_ebola_2015 = confirmed1[(confirmed1['Date'] >= \"2015-01-01\") & (confirmed1['Date'] <= \"2015-12-31\")]\n",
        "\n",
        "confirmed = df_ebola_2015[df_ebola_2015['Indicator'] == \"Cumulative number of confirmed, probable and suspected Ebola deaths\"]\\\n",
        "       .groupby(['Country']).size().to_frame('total_cases').reset_index()\n",
        "confirmed['rank'] = confirmed['total_cases'].rank(ascending=False)\n",
        "confirmed1 = confirmed.sort_values('rank')\n",
        "\n",
        "print('Odd months 2015')\n",
        "print(tabulate(confirmed1.head(10), headers='keys', tablefmt='github'))"
      ],
      "metadata": {
        "colab": {
          "base_uri": "https://localhost:8080/"
        },
        "id": "_2MFgpCw0fCg",
        "outputId": "af72f5be-756a-4250-a574-57402a5ad834"
      },
      "execution_count": 11,
      "outputs": [
        {
          "output_type": "stream",
          "name": "stdout",
          "text": [
            "Even months 2015\n",
            "|    | Country                  |   total_cases |   rank |\n",
            "|----|--------------------------|---------------|--------|\n",
            "|  0 | Guinea                   |           105 |      5 |\n",
            "|  2 | Liberia                  |           105 |      5 |\n",
            "|  4 | Mali                     |           105 |      5 |\n",
            "|  5 | Nigeria                  |           105 |      5 |\n",
            "|  6 | Senegal                  |           105 |      5 |\n",
            "|  7 | Sierra Leone             |           105 |      5 |\n",
            "|  8 | Spain                    |           105 |      5 |\n",
            "|  9 | United Kingdom           |           105 |      5 |\n",
            "| 10 | United States of America |           105 |      5 |\n",
            "|  1 | Italy                    |            72 |     10 |\n",
            "Odd months 2015\n",
            "|    | Country                  |   total_cases |   rank |\n",
            "|----|--------------------------|---------------|--------|\n",
            "|  0 | Guinea                   |           115 |    3   |\n",
            "|  2 | Liberia                  |           115 |    3   |\n",
            "|  4 | Mali                     |           115 |    3   |\n",
            "|  7 | Sierra Leone             |           115 |    3   |\n",
            "|  9 | United Kingdom           |           115 |    3   |\n",
            "|  5 | Nigeria                  |           111 |    7.5 |\n",
            "|  6 | Senegal                  |           111 |    7.5 |\n",
            "|  8 | Spain                    |           111 |    7.5 |\n",
            "| 10 | United States of America |           111 |    7.5 |\n",
            "|  1 | Italy                    |            68 |   10   |\n"
          ]
        }
      ]
    },
    {
      "cell_type": "markdown",
      "source": [
        "### **1.6 Find Country and Indicator wise total value. Also, rank on the total_value which is the sum at the Country-Indicator level.**\n",
        "### **Expected Output:**\n",
        "### **country, indicator, total_value, country_indicator_rank**\n"
      ],
      "metadata": {
        "id": "wxOPuPkLKN8B"
      }
    },
    {
      "cell_type": "code",
      "source": [
        "country_columns = df['Country'].unique()\n",
        "confirmed = df.groupby(['Country', 'Indicator'])['value'].size().reset_index(name='total_value')\n",
        "confirmed['country_indicator_rank'] = confirmed['total_value'].rank(ascending=False)\n",
        "\n",
        "confirmed['Country'] = pd.Categorical(confirmed['Country'], categories=country_columns, ordered=True)\n",
        "\n",
        "print(tabulate(confirmed.head(), headers='keys', tablefmt='github'))\n"
      ],
      "metadata": {
        "id": "7ATA19eEGhgd",
        "colab": {
          "base_uri": "https://localhost:8080/"
        },
        "outputId": "f82830ec-b0ec-405b-95f0-8e720b7604a9"
      },
      "execution_count": 12,
      "outputs": [
        {
          "output_type": "stream",
          "name": "stdout",
          "text": [
            "|    | Country   | Indicator                                                                 |   total_value |   country_indicator_rank |\n",
            "|----|-----------|---------------------------------------------------------------------------|---------------|--------------------------|\n",
            "|  0 | Guinea    | Case fatality rate (CFR) of confirmed Ebola cases                         |             4 |                    127   |\n",
            "|  1 | Guinea    | Case fatality rate (CFR) of confirmed, probable and suspected Ebola cases |             4 |                    127   |\n",
            "|  2 | Guinea    | Case fatality rate (CFR) of probable Ebola cases                          |             4 |                    127   |\n",
            "|  3 | Guinea    | Case fatality rate (CFR) of suspected Ebola cases                         |             4 |                    127   |\n",
            "|  4 | Guinea    | Cumulative number of confirmed Ebola cases                                |           259 |                      6.5 |\n"
          ]
        }
      ]
    },
    {
      "cell_type": "markdown",
      "source": [
        "### **1.7 For those Top 10 countries by Indicator = Cumulative number of confirmed Ebola cases, plot group bar chart.**\n",
        "\n",
        "X-axis -> Country\n",
        "\n",
        "Y-axis -> Bar 1 -> total_value with Indicator = Cumulative number of suspected Ebola cases\n",
        "\n",
        "Y-axis -> Bar 2 ->  total_value with Indicator = Cumulative number of confirmed Ebola cases\n"
      ],
      "metadata": {
        "id": "zNTGxP3zsilc"
      }
    },
    {
      "cell_type": "code",
      "source": [
        "import seaborn as sns\n",
        "import matplotlib.pyplot as plt\n",
        "df = df_ebola.copy()\n",
        "\n",
        "confirmed2 = df.where(df['Indicator'] == \"Cumulative number of confirmed Ebola cases\")\\\n",
        "            .groupby([\"Country\"]).size().to_frame('Cumulative number of confirmed Ebola cases').reset_index()\n",
        "confirmed2['rank'] = confirmed2['Cumulative number of confirmed Ebola cases'].rank(ascending=False)\n",
        "confirmed2 = confirmed2.sort_values('rank').head(10)\n",
        "confirmed2.rename(columns={'value': 'Cumulative number of confirmed Ebola cases'}, inplace=True)\n",
        "confirmed3 = df.where(df['Indicator'] == \"Cumulative number of suspected Ebola cases\")\\\n",
        "            .groupby([\"Country\"]).size().to_frame('Cumulative number of suspected Ebola cases').reset_index()\n",
        "confirmed3['rank'] = confirmed3['Cumulative number of suspected Ebola cases'].rank(ascending=False)\n",
        "confirmed3 = confirmed3.sort_values('rank').head(10)\n",
        "confirmed3.rename(columns={'value': 'Cumulative number of suspected Ebola cases'}, inplace=True)\n",
        "\n",
        "confirmed2 = pd.merge(confirmed2, confirmed3, on='Country')\n",
        "melted = confirmed2.melt(id_vars='Country', value_vars=['Cumulative number of confirmed Ebola cases', 'Cumulative number of suspected Ebola cases'],\n",
        "                     var_name='Indicator', value_name='Total')\n",
        "plt.figure(figsize=(12, 6))\n",
        "sns.barplot(data=melted, x='Country', y='Total', hue='Indicator')\n",
        "plt.title('Grouped Barchart: Confirmed vs Suspected Ebola Cases (2015)')\n",
        "plt.xlabel('Country')\n",
        "plt.ylabel('Total Cases')\n",
        "plt.xticks(rotation=45)\n",
        "plt.tight_layout()\n",
        "plt.show()"
      ],
      "metadata": {
        "id": "kzCgroyEM10K",
        "colab": {
          "base_uri": "https://localhost:8080/",
          "height": 467
        },
        "outputId": "1caf78e4-8bd6-4ad1-e0f6-bb15f4c560d4"
      },
      "execution_count": 13,
      "outputs": [
        {
          "output_type": "display_data",
          "data": {
            "text/plain": [
              "<Figure size 1200x600 with 1 Axes>"
            ],
            "image/png": "[encoded data removed]"
          },
          "metadata": {}
        }
      ]
    },
    {
      "cell_type": "markdown",
      "source": [
        "## **PART II**"
      ],
      "metadata": {
        "id": "AfgkeAhvGneU"
      }
    },
    {
      "cell_type": "code",
      "source": [
        "import pandas as pd\n",
        "from tabulate import tabulate\n",
        "\n",
        "df1 = pd.read_csv('/content/drive/MyDrive/data_analytics/MINIPROJECT_6/song.csv')\n",
        "print(tabulate(df1.head(), headers='keys', tablefmt='github'))"
      ],
      "metadata": {
        "id": "q_Upmco58XIH",
        "colab": {
          "base_uri": "https://localhost:8080/"
        },
        "outputId": "88e89958-6c4d-4894-ae60-da9f75c4ef23"
      },
      "execution_count": 14,
      "outputs": [
        {
          "output_type": "stream",
          "name": "stdout",
          "text": [
            "|    | song_title   |   rank |   year |\n",
            "|----|--------------|--------|--------|\n",
            "|  0 | Mysong1      |      1 |   2012 |\n",
            "|  1 | Mysong1      |      1 |   2013 |\n",
            "|  2 | Mysong1      |      2 |   2014 |\n",
            "|  3 | Mysong1      |      3 |   2015 |\n",
            "|  4 | Mysong2      |      2 |   2012 |\n"
          ]
        }
      ]
    },
    {
      "cell_type": "code",
      "source": [
        "print(df1.columns)\n",
        "print(df1.head())"
      ],
      "metadata": {
        "colab": {
          "base_uri": "https://localhost:8080/"
        },
        "id": "bkEsAO6THi1Z",
        "outputId": "39dbb36e-ee58-4bec-9731-ee24736cba56"
      },
      "execution_count": 15,
      "outputs": [
        {
          "output_type": "stream",
          "name": "stdout",
          "text": [
            "Index(['song_title', 'rank', 'year'], dtype='object')\n",
            "  song_title  rank  year\n",
            "0    Mysong1     1  2012\n",
            "1    Mysong1     1  2013\n",
            "2    Mysong1     2  2014\n",
            "3    Mysong1     3  2015\n",
            "4    Mysong2     2  2012\n"
          ]
        }
      ]
    },
    {
      "cell_type": "markdown",
      "source": [
        "## **2.1 Read \"song.csv\" into a dataframe and then produce the following output.**\n",
        "### **Write Output For Ranked Songs By its Highest Frequency. Whichever song won a particular rank (say 2) with maximum frequency takes that place. For example, Mysong1 won rank 1 for two different years (achieved maximum frequency for that particular rank) and so in output (see row 1 in Output expected below), it should appear as Mysong1 with rank 1 and count 2..**\n",
        "### **(Note. in the same year, now two songs have same rank.)**\n"
      ],
      "metadata": {
        "id": "qNi3p-thHL2i"
      }
    },
    {
      "cell_type": "code",
      "source": [
        "df_freq = df1.groupby(['song_title', 'rank']).size().reset_index(name='count')\n",
        "df_freq = df_freq.loc[df_freq.groupby('rank')['count'].idxmax()].reset_index(drop=True)\n",
        "df_freq = df_freq.sort_values(by='rank').reset_index(drop=True)\n",
        "print(df_freq)"
      ],
      "metadata": {
        "colab": {
          "base_uri": "https://localhost:8080/"
        },
        "id": "NDH61-Fuxim9",
        "outputId": "2115b05c-bfb2-4c37-ae15-4409d2ada34c"
      },
      "execution_count": 16,
      "outputs": [
        {
          "output_type": "stream",
          "name": "stdout",
          "text": [
            "  song_title  rank  count\n",
            "0    Mysong1     1      2\n",
            "1    Mysong2     2      3\n",
            "2    Mysong3     3      2\n"
          ]
        }
      ]
    },
    {
      "cell_type": "markdown",
      "source": [
        "## **2.2 House Price Prediction task.**"
      ],
      "metadata": {
        "id": "wQu29JsgMD3v"
      }
    },
    {
      "cell_type": "code",
      "source": [
        "import pandas as pd\n",
        "from tabulate import tabulate\n",
        "\n",
        "df2 = pd.read_csv('/content/drive/MyDrive/data_analytics/MINIPROJECT_6/Housing.csv')\n",
        "print(tabulate(df2.head(10), headers='keys', tablefmt='github'))\n"
      ],
      "metadata": {
        "id": "aCs745HiM9PJ",
        "colab": {
          "base_uri": "https://localhost:8080/"
        },
        "outputId": "64825b05-9e64-4b94-b692-eac95cc3cf0f"
      },
      "execution_count": 17,
      "outputs": [
        {
          "output_type": "stream",
          "name": "stdout",
          "text": [
            "|    |    price |   area |   bedrooms |   bathrooms |   stories | mainroad   | guestroom   | basement   | hotwaterheating   | airconditioning   |   parking | prefarea   | furnishingstatus   |\n",
            "|----|----------|--------|------------|-------------|-----------|------------|-------------|------------|-------------------|-------------------|-----------|------------|--------------------|\n",
            "|  0 | 13300000 |   7420 |          4 |           2 |         3 | yes        | no          | no         | no                | yes               |         2 | yes        | furnished          |\n",
            "|  1 | 12250000 |   8960 |          4 |           4 |         4 | yes        | no          | no         | no                | yes               |         3 | no         | furnished          |\n",
            "|  2 | 12250000 |   9960 |          3 |           2 |         2 | yes        | no          | yes        | no                | no                |         2 | yes        | semi-furnished     |\n",
            "|  3 | 12215000 |   7500 |          4 |           2 |         2 | yes        | no          | yes        | no                | yes               |         3 | yes        | furnished          |\n",
            "|  4 | 11410000 |   7420 |          4 |           1 |         2 | yes        | yes         | yes        | no                | yes               |         2 | no         | furnished          |\n",
            "|  5 | 10850000 |   7500 |          3 |           3 |         1 | yes        | no          | yes        | no                | yes               |         2 | yes        | semi-furnished     |\n",
            "|  6 | 10150000 |   8580 |          4 |           3 |         4 | yes        | no          | no         | no                | yes               |         2 | yes        | semi-furnished     |\n",
            "|  7 | 10150000 |  16200 |          5 |           3 |         2 | yes        | no          | no         | no                | no                |         0 | no         | unfurnished        |\n",
            "|  8 |  9870000 |   8100 |          4 |           1 |         2 | yes        | yes         | yes        | no                | yes               |         2 | yes        | furnished          |\n",
            "|  9 |  9800000 |   5750 |          3 |           2 |         4 | yes        | yes         | no         | no                | yes               |         1 | yes        | unfurnished        |\n"
          ]
        }
      ]
    },
    {
      "cell_type": "markdown",
      "source": [
        "### **2.2.1 Pre-processing: Convert non-numeric columns (mainroad, guestroom, basement, hotwaterheating, airconditioning) to numeric using one-hot encoding if the column values are not interrelated. If column values are related, need to use ordinal encoding.**"
      ],
      "metadata": {
        "id": "QDqGS_h63IWF"
      }
    },
    {
      "cell_type": "code",
      "source": [
        "from sklearn import datasets\n",
        "from sklearn.decomposition import PCA\n",
        "from sklearn.preprocessing import LabelEncoder, OneHotEncoder\n",
        "import numpy as np\n",
        "df0 = df2.loc[:, ['mainroad','guestroom','basement','hotwaterheating','airconditioning','prefarea', 'furnishingstatus']]\n",
        "one_hot_enc = OneHotEncoder(handle_unknown='error', sparse_output=False)\n",
        "arr = one_hot_enc.fit_transform(df0)\n",
        "df_pre = pd.DataFrame(arr, columns=one_hot_enc.get_feature_names_out(df0.columns))\n",
        "df_pre = pd.concat([df2.loc[:, ['price','area','bedrooms','bathrooms', 'stories', 'parking']].reset_index(drop=True), df_pre.reset_index(drop=True)], axis=1)\n",
        "print(tabulate(df_pre.head(), headers='keys', tablefmt='github'))"
      ],
      "metadata": {
        "colab": {
          "base_uri": "https://localhost:8080/"
        },
        "id": "gSjUxXze3WOz",
        "outputId": "eca53047-8da5-4416-b4e2-97d1645ab756"
      },
      "execution_count": 21,
      "outputs": [
        {
          "output_type": "stream",
          "name": "stdout",
          "text": [
            "|    |      price |   area |   bedrooms |   bathrooms |   stories |   parking |   mainroad_no |   mainroad_yes |   guestroom_no |   guestroom_yes |   basement_no |   basement_yes |   hotwaterheating_no |   hotwaterheating_yes |   airconditioning_no |   airconditioning_yes |   prefarea_no |   prefarea_yes |   furnishingstatus_furnished |   furnishingstatus_semi-furnished |   furnishingstatus_unfurnished |\n",
            "|----|------------|--------|------------|-------------|-----------|-----------|---------------|----------------|----------------|-----------------|---------------|----------------|----------------------|-----------------------|----------------------|-----------------------|---------------|----------------|------------------------------|-----------------------------------|--------------------------------|\n",
            "|  0 | 1.33e+07   |   7420 |          4 |           2 |         3 |         2 |             0 |              1 |              1 |               0 |             1 |              0 |                    1 |                     0 |                    0 |                     1 |             0 |              1 |                            1 |                                 0 |                              0 |\n",
            "|  1 | 1.225e+07  |   8960 |          4 |           4 |         4 |         3 |             0 |              1 |              1 |               0 |             1 |              0 |                    1 |                     0 |                    0 |                     1 |             1 |              0 |                            1 |                                 0 |                              0 |\n",
            "|  2 | 1.225e+07  |   9960 |          3 |           2 |         2 |         2 |             0 |              1 |              1 |               0 |             0 |              1 |                    1 |                     0 |                    1 |                     0 |             0 |              1 |                            0 |                                 1 |                              0 |\n",
            "|  3 | 1.2215e+07 |   7500 |          4 |           2 |         2 |         3 |             0 |              1 |              1 |               0 |             0 |              1 |                    1 |                     0 |                    0 |                     1 |             0 |              1 |                            1 |                                 0 |                              0 |\n",
            "|  4 | 1.141e+07  |   7420 |          4 |           1 |         2 |         2 |             0 |              1 |              0 |               1 |             0 |              1 |                    1 |                     0 |                    0 |                     1 |             1 |              0 |                            1 |                                 0 |                              0 |\n"
          ]
        }
      ]
    },
    {
      "cell_type": "markdown",
      "source": [
        "### **2.2.2 Pre-processing: Use pd.get_dummies to convert the one-hot encoding from the previous step into single columns.**"
      ],
      "metadata": {
        "id": "ieSPd7qxI-Uo"
      }
    },
    {
      "cell_type": "code",
      "source": [
        "df_dum = pd.get_dummies(df2, dtype='int')\n",
        "print(tabulate(df_dum.head(), headers='keys', tablefmt='github'))"
      ],
      "metadata": {
        "colab": {
          "base_uri": "https://localhost:8080/"
        },
        "id": "-q_D9D_bHaqB",
        "outputId": "cc567bb0-8bd3-49e7-c5e3-b2152b1c46ae"
      },
      "execution_count": 42,
      "outputs": [
        {
          "output_type": "stream",
          "name": "stdout",
          "text": [
            "|    |      price |   area |   bedrooms |   bathrooms |   stories |   parking |   mainroad_no |   mainroad_yes |   guestroom_no |   guestroom_yes |   basement_no |   basement_yes |   hotwaterheating_no |   hotwaterheating_yes |   airconditioning_no |   airconditioning_yes |   prefarea_no |   prefarea_yes |   furnishingstatus_furnished |   furnishingstatus_semi-furnished |   furnishingstatus_unfurnished |\n",
            "|----|------------|--------|------------|-------------|-----------|-----------|---------------|----------------|----------------|-----------------|---------------|----------------|----------------------|-----------------------|----------------------|-----------------------|---------------|----------------|------------------------------|-----------------------------------|--------------------------------|\n",
            "|  0 | 1.33e+07   |   7420 |          4 |           2 |         3 |         2 |             0 |              1 |              1 |               0 |             1 |              0 |                    1 |                     0 |                    0 |                     1 |             0 |              1 |                            1 |                                 0 |                              0 |\n",
            "|  1 | 1.225e+07  |   8960 |          4 |           4 |         4 |         3 |             0 |              1 |              1 |               0 |             1 |              0 |                    1 |                     0 |                    0 |                     1 |             1 |              0 |                            1 |                                 0 |                              0 |\n",
            "|  2 | 1.225e+07  |   9960 |          3 |           2 |         2 |         2 |             0 |              1 |              1 |               0 |             0 |              1 |                    1 |                     0 |                    1 |                     0 |             0 |              1 |                            0 |                                 1 |                              0 |\n",
            "|  3 | 1.2215e+07 |   7500 |          4 |           2 |         2 |         3 |             0 |              1 |              1 |               0 |             0 |              1 |                    1 |                     0 |                    0 |                     1 |             0 |              1 |                            1 |                                 0 |                              0 |\n",
            "|  4 | 1.141e+07  |   7420 |          4 |           1 |         2 |         2 |             0 |              1 |              0 |               1 |             0 |              1 |                    1 |                     0 |                    0 |                     1 |             1 |              0 |                            1 |                                 0 |                              0 |\n"
          ]
        }
      ]
    },
    {
      "cell_type": "markdown",
      "source": [
        "### **2.2.3 Use two-fold cross-validation [sklearn]  and predict (use linear regression) the house price (column \"price\") using features (all columns except \"price\" are the features). You need output evaluation metrics: R1-squared error, Mean Squared Error (MSE), Root Mean Squared Error (RMSE). Mean Average Error (MAE). See doc for some short introduction for these evaluation metrics. In case the evaluation metrics (RMSE, MAE, MSE etc) have higher value (i.e., high error), then use standard scaler on the target column (column \"price\") to scale them. Additionally, you can also use standard scaler to scale the numeric features (i.e., those features other than target \"price\" and columns not converted to numeric using some encoding methods such as ordinal encoding and one-hot encoding). Some sample basic code notebook for Linear Regression (also use the internet for more) that starts with import of LinearRegression from sklearn.linear_model.**"
      ],
      "metadata": {
        "id": "olKb-IPr39s9"
      }
    },
    {
      "cell_type": "code",
      "source": [
        "import numpy as np\n",
        "from sklearn.model_selection import KFold\n",
        "from sklearn.linear_model import LinearRegression\n",
        "from sklearn import metrics\n",
        "from sklearn.preprocessing import StandardScaler\n",
        "\n",
        "X = df_dum.drop(columns=[\"price\"])\n",
        "Y = df_dum[\"price\"]\n",
        "model = LinearRegression()\n",
        "\n",
        "scale_target = True\n",
        "if scale_target:\n",
        "    scaler_Y = StandardScaler()\n",
        "    Y = scaler_Y.fit_transform(Y.values.reshape(-1, 1)).flatten()\n",
        "scaler_x = StandardScaler()\n",
        "X = pd.DataFrame(scaler_x.fit_transform(X), columns=X.columns)\n",
        "\n",
        "kf = KFold(n_splits=2)\n",
        "for train_index, test_index in kf.split(X):\n",
        "    X_train, X_test = X.iloc[train_index], X.iloc[test_index]\n",
        "    Y_train, Y_test = Y[train_index], Y[test_index]\n",
        "    model.fit(X_train, Y_train)\n",
        "    Y_pred = model.predict(X_test)\n",
        "\n",
        "print('Mean Absolute Error:', metrics.mean_absolute_error(Y_test, Y_pred))\n",
        "print('Mean Squared Error:', metrics.mean_squared_error(Y_test, Y_pred))\n",
        "print('Root Mean Squared Error:', np.sqrt(metrics.mean_squared_error(Y_test, Y_pred)))\n",
        "print('Coefficients:', model.coef_)\n",
        "print('Intercept:', model.intercept_)\n"
      ],
      "metadata": {
        "id": "jD6nS26ZJmTR",
        "colab": {
          "base_uri": "https://localhost:8080/"
        },
        "outputId": "1a478eaa-2d04-4202-9acc-de07fcf92656"
      },
      "execution_count": 45,
      "outputs": [
        {
          "output_type": "stream",
          "name": "stdout",
          "text": [
            "Mean Absolute Error: 0.5855800556739019\n",
            "Mean Squared Error: 0.48680587499084815\n",
            "Root Mean Squared Error: 0.6977147518799127\n",
            "Coefficients: [ 0.17588786  0.0673425   0.24859228  0.1729562   0.18149692 -0.04927908\n",
            "  0.04927908 -0.00579912  0.00579912 -0.04596515  0.04596515 -0.05814834\n",
            "  0.05814834 -0.08844048  0.08844048 -0.05661725  0.05661725  0.02695932\n",
            " -0.0177983  -0.00640691]\n",
            "Intercept: 0.2841637855059293\n"
          ]
        }
      ]
    },
    {
      "cell_type": "markdown",
      "source": [
        "### **2.3 Create three equal-size buckets of House Price data. Bin the data into 3 quantiles (new column: quantile) of  'low', 'medium', 'high' based on \"price\" column in the House Price dataset.**\n"
      ],
      "metadata": {
        "id": "kwd83wyLU_ph"
      }
    },
    {
      "cell_type": "code",
      "source": [
        "df_dum['quantile'] = pd.cut(df_dum['price'], 3, labels=['low', 'medium', 'high'])\n",
        "print(tabulate(df_dum.head(), headers='keys', tablefmt='github'))"
      ],
      "metadata": {
        "id": "eGhb6fwOOpAI",
        "colab": {
          "base_uri": "https://localhost:8080/"
        },
        "outputId": "f04bcab5-726f-4242-ba15-eea4150d148b"
      },
      "execution_count": 52,
      "outputs": [
        {
          "output_type": "stream",
          "name": "stdout",
          "text": [
            "|    |    price |   area |   bedrooms |   bathrooms |   stories |   parking |   mainroad_no |   mainroad_yes |   guestroom_no |   guestroom_yes |   basement_no |   basement_yes |   hotwaterheating_no |   hotwaterheating_yes |   airconditioning_no |   airconditioning_yes |   prefarea_no |   prefarea_yes |   furnishingstatus_furnished |   furnishingstatus_semi-furnished |   furnishingstatus_unfurnished | Quantile   | quantile   |\n",
            "|----|----------|--------|------------|-------------|-----------|-----------|---------------|----------------|----------------|-----------------|---------------|----------------|----------------------|-----------------------|----------------------|-----------------------|---------------|----------------|------------------------------|-----------------------------------|--------------------------------|------------|------------|\n",
            "|  0 | 13300000 |   7420 |          4 |           2 |         3 |         2 |             0 |              1 |              1 |               0 |             1 |              0 |                    1 |                     0 |                    0 |                     1 |             0 |              1 |                            1 |                                 0 |                              0 | high       | high       |\n",
            "|  1 | 12250000 |   8960 |          4 |           4 |         4 |         3 |             0 |              1 |              1 |               0 |             1 |              0 |                    1 |                     0 |                    0 |                     1 |             1 |              0 |                            1 |                                 0 |                              0 | high       | high       |\n",
            "|  2 | 12250000 |   9960 |          3 |           2 |         2 |         2 |             0 |              1 |              1 |               0 |             0 |              1 |                    1 |                     0 |                    1 |                     0 |             0 |              1 |                            0 |                                 1 |                              0 | high       | high       |\n",
            "|  3 | 12215000 |   7500 |          4 |           2 |         2 |         3 |             0 |              1 |              1 |               0 |             0 |              1 |                    1 |                     0 |                    0 |                     1 |             0 |              1 |                            1 |                                 0 |                              0 | high       | high       |\n",
            "|  4 | 11410000 |   7420 |          4 |           1 |         2 |         2 |             0 |              1 |              0 |               1 |             0 |              1 |                    1 |                     0 |                    0 |                     1 |             1 |              0 |                            1 |                                 0 |                              0 | high       | high       |\n"
          ]
        }
      ]
    },
    {
      "cell_type": "code",
      "source": [],
      "metadata": {
        "id": "gWjQW9RaXpQv"
      },
      "execution_count": null,
      "outputs": []
    }
  ]
}
