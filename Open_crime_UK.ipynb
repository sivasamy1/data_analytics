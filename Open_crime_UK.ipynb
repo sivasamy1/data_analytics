{
  "nbformat": 4,
  "nbformat_minor": 0,
  "metadata": {
    "colab": {
      "provenance": [],
      "mount_file_id": "15VmQwpNy32Z8mRMtM83m3FSj0CVGJj9c",
      "authorship_tag": "ABX9TyMpbZORVRPm3wrwqDCYQjB7",
      "include_colab_link": true
    },
    "kernelspec": {
      "name": "python3",
      "display_name": "Python 3"
    },
    "language_info": {
      "name": "python"
    }
  },
  "cells": [
    {
      "cell_type": "markdown",
      "metadata": {
        "id": "view-in-github",
        "colab_type": "text"
      },
      "source": [
        "<a href=\"https://colab.research.google.com/github/sivasamy1/data_analytics/blob/main/Open_crime_UK.ipynb\" target=\"_parent\"><img src=\"https://colab.research.google.com/assets/colab-badge.svg\" alt=\"Open In Colab\"/></a>"
      ]
    },
    {
      "cell_type": "code",
      "source": [
        "\n",
        "from google.colab import drive\n",
        "drive.mount('/content/drive')"
      ],
      "metadata": {
        "colab": {
          "base_uri": "https://localhost:8080/"
        },
        "id": "vuAwlE0tIULe",
        "outputId": "51fa024c-60cc-493b-c6ac-c86ea98c0721"
      },
      "execution_count": null,
      "outputs": [
        {
          "output_type": "stream",
          "name": "stdout",
          "text": [
            "Drive already mounted at /content/drive; to attempt to forcibly remount, call drive.mount(\"/content/drive\", force_remount=True).\n"
          ]
        }
      ]
    },
    {
      "cell_type": "code",
      "execution_count": null,
      "metadata": {
        "id": "cGg8CUzvxvf3",
        "colab": {
          "base_uri": "https://localhost:8080/"
        },
        "outputId": "243cd098-ee39-4d20-8442-1eaad4351b0f"
      },
      "outputs": [
        {
          "output_type": "stream",
          "name": "stdout",
          "text": [
            "ls: /content/drive/MyDrive/DataSheets: No such file or directory\n",
            "ls: '/content/drive/MyDrive/Build Club docs': No such file or directory\n"
          ]
        }
      ],
      "source": [
        "!ls -ltr /content/drive/MyDrive | grep *.csv"
      ]
    },
    {
      "cell_type": "code",
      "source": [
        "!ls -ltr /content/drive/MyDrive/data_analytics/MINIPROJECT_7/2019-07/"
      ],
      "metadata": {
        "colab": {
          "base_uri": "https://localhost:8080/"
        },
        "id": "JsQHRO8xIVgN",
        "outputId": "4e55fac4-8fad-434a-e2f0-954acc190082"
      },
      "execution_count": null,
      "outputs": [
        {
          "output_type": "stream",
          "name": "stdout",
          "text": [
            "total 15800\n",
            "-r-------- 1 root root  202233 Feb 23  2022 2019-07-city-of-london-street.csv\n",
            "-r-------- 1 root root  907269 Feb 23  2022 2019-07-cumbria-street.csv\n",
            "-r-------- 1 root root  820660 Feb 23  2022 2019-07-dyfed-powys-street.csv\n",
            "-r-------- 1 root root  834559 Feb 23  2022 2019-07-btp-street.csv\n",
            "-r-------- 1 root root 1041027 Feb 23  2022 2019-07-warwickshire-street.csv\n",
            "-r-------- 1 root root  724019 Feb 24  2022 2019-07-cumbria-outcomes.csv\n",
            "-r-------- 1 root root  140007 Feb 24  2022 2019-07-city-of-london-outcomes.csv\n",
            "-r-------- 1 root root  455315 Feb 24  2022 2019-07-lincolnshire-outcomes.csv\n",
            "-r-------- 1 root root  598219 Feb 24  2022 2019-07-gwent-outcomes.csv\n",
            "-r-------- 1 root root  697404 Feb 24  2022 2019-07-gloucestershire-outcomes.csv\n",
            "-r-------- 1 root root  565893 Feb 24  2022 2019-07-dyfed-powys-outcomes.csv\n",
            "-r-------- 1 root root  410810 Feb 24  2022 2019-07-north-yorkshire-outcomes.csv\n",
            "-r-------- 1 root root  780830 Feb 24  2022 2019-07-north-wales-outcomes.csv\n",
            "-r-------- 1 root root  861492 Feb 24  2022 2019-07-norfolk-outcomes.csv\n",
            "-r-------- 1 root root  743288 Feb 24  2022 2019-07-warwickshire-outcomes.csv\n",
            "-r-------- 1 root root  775686 Feb 24  2022 2019-07-suffolk-outcomes.csv\n",
            "-r-------- 1 root root  756047 Feb 24  2022 2019-07-wiltshire-outcomes.csv\n",
            "-r-------- 1 root root  129241 Feb 24  2022 2019-07-avon-and-somerset-stop-and-search.csv\n",
            "-r-------- 1 root root   47727 Feb 24  2022 2019-07-bedfordshire-stop-and-search.csv\n",
            "-r-------- 1 root root  153822 Feb 24  2022 2019-07-btp-stop-and-search.csv\n",
            "-r-------- 1 root root   39335 Feb 24  2022 2019-07-cambridgeshire-stop-and-search.csv\n",
            "-r-------- 1 root root   76009 Feb 24  2022 2019-07-cheshire-stop-and-search.csv\n",
            "-r-------- 1 root root   40107 Feb 24  2022 2019-07-city-of-london-stop-and-search.csv\n",
            "-r-------- 1 root root   12454 Feb 24  2022 2019-07-cleveland-stop-and-search.csv\n",
            "-r-------- 1 root root   40634 Feb 24  2022 2019-07-cumbria-stop-and-search.csv\n",
            "-r-------- 1 root root   33813 Feb 24  2022 2019-07-derbyshire-stop-and-search.csv\n",
            "-r-------- 1 root root   98434 Feb 24  2022 2019-07-devon-and-cornwall-stop-and-search.csv\n",
            "-r-------- 1 root root   19883 Feb 24  2022 2019-07-dorset-stop-and-search.csv\n",
            "-r-------- 1 root root   50991 Feb 24  2022 2019-07-durham-stop-and-search.csv\n",
            "-r-------- 1 root root   70830 Feb 24  2022 2019-07-dyfed-powys-stop-and-search.csv\n",
            "-r-------- 1 root root  316547 Feb 24  2022 2019-07-essex-stop-and-search.csv\n",
            "-r-------- 1 root root   22569 Feb 24  2022 2019-07-gloucestershire-stop-and-search.csv\n",
            "-r-------- 1 root root   32204 Feb 24  2022 2019-07-gwent-stop-and-search.csv\n",
            "-r-------- 1 root root  147051 Feb 24  2022 2019-07-hampshire-stop-and-search.csv\n",
            "-r-------- 1 root root  127971 Feb 24  2022 2019-07-hertfordshire-stop-and-search.csv\n",
            "-r-------- 1 root root   41937 Feb 24  2022 2019-07-humberside-stop-and-search.csv\n",
            "-r-------- 1 root root  176195 Feb 24  2022 2019-07-kent-stop-and-search.csv\n",
            "-r-------- 1 root root  148865 Feb 24  2022 2019-07-lancashire-stop-and-search.csv\n",
            "-r-------- 1 root root   52411 Feb 24  2022 2019-07-leicestershire-stop-and-search.csv\n",
            "-r-------- 1 root root   56827 Feb 24  2022 2019-07-lincolnshire-stop-and-search.csv\n",
            "-r-------- 1 root root  721440 Feb 24  2022 2019-07-merseyside-stop-and-search.csv\n",
            "-r-------- 1 root root   65236 Feb 24  2022 2019-07-norfolk-stop-and-search.csv\n",
            "-r-------- 1 root root   39030 Feb 24  2022 2019-07-northamptonshire-stop-and-search.csv\n",
            "-r-------- 1 root root   81708 Feb 24  2022 2019-07-northumbria-stop-and-search.csv\n",
            "-r-------- 1 root root  102239 Feb 24  2022 2019-07-north-wales-stop-and-search.csv\n",
            "-r-------- 1 root root   31687 Feb 24  2022 2019-07-north-yorkshire-stop-and-search.csv\n",
            "-r-------- 1 root root   88155 Feb 24  2022 2019-07-nottinghamshire-stop-and-search.csv\n",
            "-r-------- 1 root root  237721 Feb 24  2022 2019-07-south-wales-stop-and-search.csv\n",
            "-r-------- 1 root root  187950 Feb 24  2022 2019-07-south-yorkshire-stop-and-search.csv\n",
            "-r-------- 1 root root  118263 Feb 24  2022 2019-07-staffordshire-stop-and-search.csv\n",
            "-r-------- 1 root root   51975 Feb 24  2022 2019-07-suffolk-stop-and-search.csv\n",
            "-r-------- 1 root root   65241 Feb 24  2022 2019-07-surrey-stop-and-search.csv\n",
            "-r-------- 1 root root  149407 Feb 24  2022 2019-07-sussex-stop-and-search.csv\n",
            "-r-------- 1 root root  172468 Feb 24  2022 2019-07-thames-valley-stop-and-search.csv\n",
            "-r-------- 1 root root   28012 Feb 24  2022 2019-07-warwickshire-stop-and-search.csv\n",
            "-r-------- 1 root root   80463 Feb 24  2022 2019-07-west-mercia-stop-and-search.csv\n",
            "-r-------- 1 root root  415798 Feb 24  2022 2019-07-west-midlands-stop-and-search.csv\n",
            "-r-------- 1 root root  269063 Feb 24  2022 2019-07-west-yorkshire-stop-and-search.csv\n",
            "-r-------- 1 root root    5715 Feb 24  2022 2019-07-wiltshire-stop-and-search.csv\n"
          ]
        }
      ]
    },
    {
      "cell_type": "code",
      "source": [
        "import os\n",
        "import pandas as pd\n",
        "from tabulate import tabulate\n",
        "df = pd.read_csv('/content/drive/MyDrive/data_analytics/MINIPROJECT_7/2019-07/2019-07-merseyside-stop-and-search.csv')\n",
        "\n",
        "print(tabulate(df.head(10), headers='keys', tablefmt='github'))"
      ],
      "metadata": {
        "id": "gTevh-JDIy76",
        "colab": {
          "base_uri": "https://localhost:8080/"
        },
        "outputId": "75bf2b7e-285a-44d2-c945-c5fef56b6622"
      },
      "execution_count": 1,
      "outputs": [
        {
          "output_type": "stream",
          "name": "stdout",
          "text": [
            "|    | Type                      | Date                      |   Part of a policing operation |   Policing operation |   Latitude |   Longitude | Gender   | Age range   | Self-defined ethnicity                                | Officer-defined ethnicity   | Legislation                                       | Object of search         | Outcome                      |   Outcome linked to object of search | Removal of more than just outer clothing   |\n",
            "|----|---------------------------|---------------------------|--------------------------------|----------------------|------------|-------------|----------|-------------|-------------------------------------------------------|-----------------------------|---------------------------------------------------|--------------------------|------------------------------|--------------------------------------|--------------------------------------------|\n",
            "|  0 | Person search             | 2019-06-30T23:51:09+00:00 |                            nan |                  nan |    53.4535 |    -2.70483 | Male     | 10-17       | White - English/Welsh/Scottish/Northern Irish/British | White                       | Police and Criminal Evidence Act 1984 (section 1) | Article for use in theft | A no further action disposal |                                  nan | False                                      |\n",
            "|  1 | Person search             | 2019-06-30T23:53:49+00:00 |                            nan |                  nan |    53.4929 |    -2.99958 | Male     | 10-17       | White - English/Welsh/Scottish/Northern Irish/British | White                       | Misuse of Drugs Act 1971 (section 23)             | Controlled drugs         | A no further action disposal |                                  nan | False                                      |\n",
            "|  2 | Person search             | 2019-06-30T23:59:02+00:00 |                            nan |                  nan |    53.4929 |    -2.99958 | Male     | 10-17       | White - English/Welsh/Scottish/Northern Irish/British | White                       | Misuse of Drugs Act 1971 (section 23)             | Controlled drugs         | A no further action disposal |                                  nan | False                                      |\n",
            "|  3 | Person search             | 2019-07-01T00:06:48+00:00 |                            nan |                  nan |    53.4961 |    -3.0031  | Male     | 18-24       | White - English/Welsh/Scottish/Northern Irish/British | White                       | Misuse of Drugs Act 1971 (section 23)             | Controlled drugs         | A no further action disposal |                                  nan | False                                      |\n",
            "|  4 | Person search             | 2019-07-01T00:09:45+00:00 |                            nan |                  nan |    53.4401 |    -2.96236 | Male     | 25-34       | White - English/Welsh/Scottish/Northern Irish/British | White                       | Misuse of Drugs Act 1971 (section 23)             | Controlled drugs         | Summons / charged by post    |                                    1 | False                                      |\n",
            "|  5 | Person search             | 2019-07-01T00:10:12+00:00 |                            nan |                  nan |    53.4376 |    -2.96463 | Male     | over 34     | White - English/Welsh/Scottish/Northern Irish/British | White                       | Misuse of Drugs Act 1971 (section 23)             | Controlled drugs         | A no further action disposal |                                  nan | False                                      |\n",
            "|  6 | Person search             | 2019-07-01T02:15:48+00:00 |                            nan |                  nan |    53.3989 |    -2.96785 | Male     | 25-34       | White - English/Welsh/Scottish/Northern Irish/British | White                       | Misuse of Drugs Act 1971 (section 23)             | Controlled drugs         | A no further action disposal |                                  nan | False                                      |\n",
            "|  7 | Person search             | 2019-07-01T02:52:46+00:00 |                            nan |                  nan |   nan      |   nan       | Male     | 25-34       | White - English/Welsh/Scottish/Northern Irish/British | White                       | Police and Criminal Evidence Act 1984 (section 1) | nan                      | A no further action disposal |                                  nan | False                                      |\n",
            "|  8 | Person and Vehicle search | 2019-07-01T03:30:00+00:00 |                            nan |                  nan |    53.6652 |    -2.96064 | Male     | 18-24       | White - English/Welsh/Scottish/Northern Irish/British | White                       | Misuse of Drugs Act 1971 (section 23)             | Controlled drugs         | Arrest                       |                                    1 | False                                      |\n",
            "|  9 | Person search             | 2019-07-01T07:04:42+00:00 |                            nan |                  nan |    53.4203 |    -2.98513 | Male     | 25-34       | White - English/Welsh/Scottish/Northern Irish/British | White                       | Misuse of Drugs Act 1971 (section 23)             | Controlled drugs         | A no further action disposal |                                  nan | False                                      |\n"
          ]
        }
      ]
    },
    {
      "cell_type": "markdown",
      "source": [
        "## **PART I**"
      ],
      "metadata": {
        "id": "fUtOnN24bjHS"
      }
    },
    {
      "cell_type": "markdown",
      "source": [
        "### **1.1 Top 10 Type by number events. Type column is the event (see sample data in the end of this document ).**\n",
        "### **Output:**\n",
        "### **type, num_events, rank**\n"
      ],
      "metadata": {
        "id": "2OAXV_CYbVlY"
      }
    },
    {
      "cell_type": "code",
      "source": [
        "df_num = df.groupby('Type').size().to_frame('num_events').reset_index()\n",
        "df_num['rank'] = df_num['num_events'].rank(ascending=False)\n",
        "df_num = df_num.sort_values(by='rank', ascending=True)\n",
        "print(tabulate(df_num, headers='keys', tablefmt='github'))"
      ],
      "metadata": {
        "colab": {
          "base_uri": "https://localhost:8080/"
        },
        "id": "EPMhNhkDe96H",
        "outputId": "d11b65e9-3773-4f9a-b646-fd55129cb5b2"
      },
      "execution_count": 10,
      "outputs": [
        {
          "output_type": "stream",
          "name": "stdout",
          "text": [
            "|    | Type                      |   num_events |   rank |\n",
            "|----|---------------------------|--------------|--------|\n",
            "|  1 | Person search             |         2763 |      1 |\n",
            "|  0 | Person and Vehicle search |          474 |      2 |\n",
            "|  2 | Vehicle search            |           49 |      3 |\n"
          ]
        }
      ]
    },
    {
      "cell_type": "markdown",
      "source": [
        "### **1.2 Top 10 Ethnics by number events. Use column “Officer-defined ethnicity”**\n",
        "### **Output:**\n",
        "### **type, ethnicity, office_num_events, office_ethnic_rank**\n"
      ],
      "metadata": {
        "id": "5QtU40UhdTAW"
      }
    },
    {
      "cell_type": "code",
      "source": [
        "df_eth1 = df.groupby(['Type', 'Officer-defined ethnicity']).size().to_frame('office_num_events').reset_index()\n",
        "df_eth1['office_ethnic_rank'] = df_eth1['office_num_events'].rank(ascending=False)\n",
        "print(tabulate(df_eth1, headers='keys', tablefmt='github'))"
      ],
      "metadata": {
        "id": "oCrjpl0vnLio",
        "colab": {
          "base_uri": "https://localhost:8080/"
        },
        "outputId": "6fda8a77-c689-4a78-945a-75ec74d191ad"
      },
      "execution_count": 23,
      "outputs": [
        {
          "output_type": "stream",
          "name": "stdout",
          "text": [
            "|    | Type                      | Officer-defined ethnicity   |   office_num_events |   office_ethnic_rank |\n",
            "|----|---------------------------|-----------------------------|---------------------|----------------------|\n",
            "|  0 | Person and Vehicle search | Asian                       |                   7 |                    7 |\n",
            "|  1 | Person and Vehicle search | Black                       |                  23 |                    5 |\n",
            "|  2 | Person and Vehicle search | Other                       |                   5 |                    8 |\n",
            "|  3 | Person and Vehicle search | White                       |                 427 |                    2 |\n",
            "|  4 | Person search             | Asian                       |                  22 |                    6 |\n",
            "|  5 | Person search             | Black                       |                 113 |                    3 |\n",
            "|  6 | Person search             | Other                       |                  24 |                    4 |\n",
            "|  7 | Person search             | White                       |                2477 |                    1 |\n"
          ]
        }
      ]
    },
    {
      "cell_type": "markdown",
      "source": [
        "### **1.3 Top 10 Ethnics by number events. Use column “Self-defined ethnicity”**\n",
        "### **Output:**\n",
        "### **type, self_num_events, self_ethnic_rank**\n"
      ],
      "metadata": {
        "id": "Gfq2Qw_FRiQe"
      }
    },
    {
      "cell_type": "code",
      "source": [
        "df_eth2 = df.groupby(['Type', 'Self-defined ethnicity']).size().to_frame('self_num_events').reset_index()\n",
        "df_eth2['self_ethnic_rank'] = df_eth2['self_num_events'].rank(ascending=False)\n",
        "df_eth2 = df_eth2.sort_values(by='self_ethnic_rank').head(10).reset_index(drop=True)\n",
        "print(tabulate(df_eth2, headers='keys', tablefmt='github'))"
      ],
      "metadata": {
        "colab": {
          "base_uri": "https://localhost:8080/"
        },
        "id": "NMh7C0IYRh-k",
        "outputId": "8aefce19-48b0-4759-f007-3f44cb372afa"
      },
      "execution_count": 22,
      "outputs": [
        {
          "output_type": "stream",
          "name": "stdout",
          "text": [
            "|    | Type                      | Self-defined ethnicity                                                               |   self_num_events |   self_ethnic_rank |\n",
            "|----|---------------------------|--------------------------------------------------------------------------------------|-------------------|--------------------|\n",
            "|  0 | Person search             | White - English/Welsh/Scottish/Northern Irish/British                                |              2212 |                  1 |\n",
            "|  1 | Person and Vehicle search | White - English/Welsh/Scottish/Northern Irish/British                                |               387 |                  2 |\n",
            "|  2 | Person search             | Other ethnic group - Not stated                                                      |               321 |                  3 |\n",
            "|  3 | Person search             | White - Any other White background                                                   |                60 |                  4 |\n",
            "|  4 | Person and Vehicle search | Other ethnic group - Not stated                                                      |                42 |                  5 |\n",
            "|  5 | Person search             | Black/African/Caribbean/Black British - Any other Black/African/Caribbean background |                41 |                  6 |\n",
            "|  6 | Person search             | Black/African/Caribbean/Black British - African                                      |                29 |                  7 |\n",
            "|  7 | Person search             | White - Irish                                                                        |                21 |                  8 |\n",
            "|  8 | Person search             | Mixed/Multiple ethnic groups - Any other Mixed/Multiple ethnic background            |                18 |                  9 |\n",
            "|  9 | Person search             | Black/African/Caribbean/Black British - Caribbean                                    |                17 |                 10 |\n"
          ]
        }
      ]
    },
    {
      "cell_type": "markdown",
      "source": [
        "### **1.4 Merge 2 and 3 above on type.**\n",
        "### **Output:**\n",
        "### **type, office_num_events, office_ethnic_rank, self_num_events, self_ethnic_rank**\n"
      ],
      "metadata": {
        "id": "-a9CzzCcVbvi"
      }
    },
    {
      "cell_type": "code",
      "source": [
        "df_merge = df_eth1.merge(df_eth2, on=['Type'])\n",
        "#df_merge = df_merge[['Type', 'office_num_events', 'office_ethnic_rank', 'self_num_events', 'self_ethnic_rank']]\n",
        "print(tabulate(df_merge, headers='keys', tablefmt='github'))"
      ],
      "metadata": {
        "colab": {
          "base_uri": "https://localhost:8080/"
        },
        "id": "TPnnZ50-KUv3",
        "outputId": "cb233455-c70c-4742-ca81-d7aede400620"
      },
      "execution_count": 31,
      "outputs": [
        {
          "output_type": "stream",
          "name": "stdout",
          "text": [
            "|    | Type                      | Officer-defined ethnicity   |   office_num_events |   office_ethnic_rank | Self-defined ethnicity                                                               |   self_num_events |   self_ethnic_rank |\n",
            "|----|---------------------------|-----------------------------|---------------------|----------------------|--------------------------------------------------------------------------------------|-------------------|--------------------|\n",
            "|  0 | Person and Vehicle search | Asian                       |                   7 |                    7 | White - English/Welsh/Scottish/Northern Irish/British                                |               387 |                  2 |\n",
            "|  1 | Person and Vehicle search | Asian                       |                   7 |                    7 | Other ethnic group - Not stated                                                      |                42 |                  5 |\n",
            "|  2 | Person and Vehicle search | Black                       |                  23 |                    5 | White - English/Welsh/Scottish/Northern Irish/British                                |               387 |                  2 |\n",
            "|  3 | Person and Vehicle search | Black                       |                  23 |                    5 | Other ethnic group - Not stated                                                      |                42 |                  5 |\n",
            "|  4 | Person and Vehicle search | Other                       |                   5 |                    8 | White - English/Welsh/Scottish/Northern Irish/British                                |               387 |                  2 |\n",
            "|  5 | Person and Vehicle search | Other                       |                   5 |                    8 | Other ethnic group - Not stated                                                      |                42 |                  5 |\n",
            "|  6 | Person and Vehicle search | White                       |                 427 |                    2 | White - English/Welsh/Scottish/Northern Irish/British                                |               387 |                  2 |\n",
            "|  7 | Person and Vehicle search | White                       |                 427 |                    2 | Other ethnic group - Not stated                                                      |                42 |                  5 |\n",
            "|  8 | Person search             | Asian                       |                  22 |                    6 | White - English/Welsh/Scottish/Northern Irish/British                                |              2212 |                  1 |\n",
            "|  9 | Person search             | Asian                       |                  22 |                    6 | Other ethnic group - Not stated                                                      |               321 |                  3 |\n",
            "| 10 | Person search             | Asian                       |                  22 |                    6 | White - Any other White background                                                   |                60 |                  4 |\n",
            "| 11 | Person search             | Asian                       |                  22 |                    6 | Black/African/Caribbean/Black British - Any other Black/African/Caribbean background |                41 |                  6 |\n",
            "| 12 | Person search             | Asian                       |                  22 |                    6 | Black/African/Caribbean/Black British - African                                      |                29 |                  7 |\n",
            "| 13 | Person search             | Asian                       |                  22 |                    6 | White - Irish                                                                        |                21 |                  8 |\n",
            "| 14 | Person search             | Asian                       |                  22 |                    6 | Mixed/Multiple ethnic groups - Any other Mixed/Multiple ethnic background            |                18 |                  9 |\n",
            "| 15 | Person search             | Asian                       |                  22 |                    6 | Black/African/Caribbean/Black British - Caribbean                                    |                17 |                 10 |\n",
            "| 16 | Person search             | Black                       |                 113 |                    3 | White - English/Welsh/Scottish/Northern Irish/British                                |              2212 |                  1 |\n",
            "| 17 | Person search             | Black                       |                 113 |                    3 | Other ethnic group - Not stated                                                      |               321 |                  3 |\n",
            "| 18 | Person search             | Black                       |                 113 |                    3 | White - Any other White background                                                   |                60 |                  4 |\n",
            "| 19 | Person search             | Black                       |                 113 |                    3 | Black/African/Caribbean/Black British - Any other Black/African/Caribbean background |                41 |                  6 |\n",
            "| 20 | Person search             | Black                       |                 113 |                    3 | Black/African/Caribbean/Black British - African                                      |                29 |                  7 |\n",
            "| 21 | Person search             | Black                       |                 113 |                    3 | White - Irish                                                                        |                21 |                  8 |\n",
            "| 22 | Person search             | Black                       |                 113 |                    3 | Mixed/Multiple ethnic groups - Any other Mixed/Multiple ethnic background            |                18 |                  9 |\n",
            "| 23 | Person search             | Black                       |                 113 |                    3 | Black/African/Caribbean/Black British - Caribbean                                    |                17 |                 10 |\n",
            "| 24 | Person search             | Other                       |                  24 |                    4 | White - English/Welsh/Scottish/Northern Irish/British                                |              2212 |                  1 |\n",
            "| 25 | Person search             | Other                       |                  24 |                    4 | Other ethnic group - Not stated                                                      |               321 |                  3 |\n",
            "| 26 | Person search             | Other                       |                  24 |                    4 | White - Any other White background                                                   |                60 |                  4 |\n",
            "| 27 | Person search             | Other                       |                  24 |                    4 | Black/African/Caribbean/Black British - Any other Black/African/Caribbean background |                41 |                  6 |\n",
            "| 28 | Person search             | Other                       |                  24 |                    4 | Black/African/Caribbean/Black British - African                                      |                29 |                  7 |\n",
            "| 29 | Person search             | Other                       |                  24 |                    4 | White - Irish                                                                        |                21 |                  8 |\n",
            "| 30 | Person search             | Other                       |                  24 |                    4 | Mixed/Multiple ethnic groups - Any other Mixed/Multiple ethnic background            |                18 |                  9 |\n",
            "| 31 | Person search             | Other                       |                  24 |                    4 | Black/African/Caribbean/Black British - Caribbean                                    |                17 |                 10 |\n",
            "| 32 | Person search             | White                       |                2477 |                    1 | White - English/Welsh/Scottish/Northern Irish/British                                |              2212 |                  1 |\n",
            "| 33 | Person search             | White                       |                2477 |                    1 | Other ethnic group - Not stated                                                      |               321 |                  3 |\n",
            "| 34 | Person search             | White                       |                2477 |                    1 | White - Any other White background                                                   |                60 |                  4 |\n",
            "| 35 | Person search             | White                       |                2477 |                    1 | Black/African/Caribbean/Black British - Any other Black/African/Caribbean background |                41 |                  6 |\n",
            "| 36 | Person search             | White                       |                2477 |                    1 | Black/African/Caribbean/Black British - African                                      |                29 |                  7 |\n",
            "| 37 | Person search             | White                       |                2477 |                    1 | White - Irish                                                                        |                21 |                  8 |\n",
            "| 38 | Person search             | White                       |                2477 |                    1 | Mixed/Multiple ethnic groups - Any other Mixed/Multiple ethnic background            |                18 |                  9 |\n",
            "| 39 | Person search             | White                       |                2477 |                    1 | Black/African/Caribbean/Black British - Caribbean                                    |                17 |                 10 |\n"
          ]
        }
      ]
    },
    {
      "cell_type": "markdown",
      "source": [
        "### **1.5 Top 10 Type by Gender = Male.**\n",
        "### **Output:**\n",
        "### **type, num_events_men, rank_men**\n"
      ],
      "metadata": {
        "id": "vxVj1hsOaZkq"
      }
    },
    {
      "cell_type": "code",
      "source": [
        "df_male = df[df['Gender'] == 'Male']\n",
        "df_male = df_male.groupby(['Type']).size().to_frame('num_events_men').reset_index()\n",
        "df_male['rank_men'] = df_male['num_events_men'].rank(ascending=False)\n",
        "df_male = df_male.sort_values(by='rank_men').reset_index(drop=True)\n",
        "print(tabulate(df_male, headers='keys', tablefmt='github'))"
      ],
      "metadata": {
        "colab": {
          "base_uri": "https://localhost:8080/"
        },
        "id": "M7eaDW72XR0_",
        "outputId": "c1c07170-d78a-45c0-a025-5d33f3783d68"
      },
      "execution_count": 32,
      "outputs": [
        {
          "output_type": "stream",
          "name": "stdout",
          "text": [
            "|    | Type                      |   num_events_men |   rank_men |\n",
            "|----|---------------------------|------------------|------------|\n",
            "|  0 | Person search             |             2498 |          1 |\n",
            "|  1 | Person and Vehicle search |              433 |          2 |\n"
          ]
        }
      ]
    },
    {
      "cell_type": "markdown",
      "source": [
        "### **1.6 type, num_events_men, rank_men**\n",
        "### **Top 10 Type by Gender = Female.**\n",
        "### **Output:**\n",
        "### **type, num_events_men, rank_women**\n"
      ],
      "metadata": {
        "id": "iJDuOC1qjgox"
      }
    },
    {
      "cell_type": "code",
      "source": [
        "df_female = df[df['Gender'] == 'Female']\n",
        "df_female = df_female.groupby(['Type']).size().to_frame('num_events_women').reset_index()\n",
        "df_female['rank_women'] = df_female['num_events_women'].rank(ascending=False)\n",
        "df_female = df_female.sort_values(by='rank_women').reset_index(drop=True)\n",
        "print(tabulate(df_female, headers='keys', tablefmt='github'))"
      ],
      "metadata": {
        "colab": {
          "base_uri": "https://localhost:8080/"
        },
        "id": "fEUolCfZjUvV",
        "outputId": "3c071d4a-9d53-46c0-c2a2-10de055d8b50"
      },
      "execution_count": 34,
      "outputs": [
        {
          "output_type": "stream",
          "name": "stdout",
          "text": [
            "|    | Type                      |   num_events_women |   rank_women |\n",
            "|----|---------------------------|--------------------|--------------|\n",
            "|  0 | Person search             |                182 |            1 |\n",
            "|  1 | Person and Vehicle search |                 29 |            2 |\n"
          ]
        }
      ]
    },
    {
      "cell_type": "markdown",
      "source": [
        "### **1.7 Group bar chart plot (vertical) with output from 5 and 6.**\n",
        "### **Bar 1 -> Male**\n",
        "### **Bar 2 -> Female**\n"
      ],
      "metadata": {
        "id": "mzCQrL-BkE_D"
      }
    },
    {
      "cell_type": "code",
      "source": [
        "import seaborn as sns\n",
        "import matplotlib.pyplot as plt\n",
        "\n",
        "combined = df.groupby(['Type', 'Gender']).size().to_frame('num_events').reset_index()\n",
        "combined['rank'] = combined['num_events'].rank(ascending=False)\n",
        "combined = combined.sort_values(by='rank').reset_index(drop=True)\n",
        "print(tabulate(combined, headers='keys', tablefmt='github'))\n",
        "plt.figure(figsize=(5, 5))\n",
        "sns.barplot(data=combined, x='Type', y='num_events', hue='Gender')\n",
        "plt.title('Grouped Barchart')\n",
        "plt.xlabel('sales')\n",
        "plt.ylabel('Avg_time_spent_company')\n",
        "\n",
        "plt.show()"
      ],
      "metadata": {
        "colab": {
          "base_uri": "https://localhost:8080/",
          "height": 591
        },
        "id": "G1e-m_uEj3qN",
        "outputId": "7d5367d2-181a-47d9-abc7-79bab8640750"
      },
      "execution_count": 53,
      "outputs": [
        {
          "output_type": "stream",
          "name": "stdout",
          "text": [
            "|    | Type                      | Gender   |   num_events |   rank |\n",
            "|----|---------------------------|----------|--------------|--------|\n",
            "|  0 | Person search             | Male     |         2498 |      1 |\n",
            "|  1 | Person and Vehicle search | Male     |          433 |      2 |\n",
            "|  2 | Person search             | Female   |          182 |      3 |\n",
            "|  3 | Person and Vehicle search | Female   |           29 |      4 |\n"
          ]
        },
        {
          "output_type": "display_data",
          "data": {
            "text/plain": [
              "<Figure size 500x500 with 1 Axes>"
            ],
            "image/png": "[encoded data removed]"
          },
          "metadata": {}
        }
      ]
    },
    {
      "cell_type": "code",
      "source": [],
      "metadata": {
        "id": "EKTsr-4jl0bf"
      },
      "execution_count": null,
      "outputs": []
    }
  ]
}