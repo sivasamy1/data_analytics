{
  "nbformat": 4,
  "nbformat_minor": 0,
  "metadata": {
    "colab": {
      "provenance": [],
      "mount_file_id": "1oGj1ULDNypZL0IJ-clHO938OffAddQ8q",
      "authorship_tag": "ABX9TyOvGPesPMtMhYERlQlUnJFp",
      "include_colab_link": true
    },
    "kernelspec": {
      "name": "python3",
      "display_name": "Python 3"
    },
    "language_info": {
      "name": "python"
    }
  },
  "cells": [
    {
      "cell_type": "markdown",
      "metadata": {
        "id": "view-in-github",
        "colab_type": "text"
      },
      "source": [
        "<a href=\"https://colab.research.google.com/github/sivasamy1/data_analytics/blob/main/ebola_song.ipynb\" target=\"_parent\"><img src=\"https://colab.research.google.com/assets/colab-badge.svg\" alt=\"Open In Colab\"/></a>"
      ]
    },
    {
      "cell_type": "code",
      "execution_count": 1,
      "metadata": {
        "id": "vJ6UCelSuNNX"
      },
      "outputs": [],
      "source": [
        "import pandas as pd\n",
        "from tabulate import tabulate"
      ]
    },
    {
      "cell_type": "markdown",
      "source": [
        "## **PART I**"
      ],
      "metadata": {
        "id": "lmBZWqxpzIwG"
      }
    },
    {
      "cell_type": "code",
      "source": [
        "df = pd.read_csv('/content/drive/MyDrive/data_analytics/MINIPROJECT_6/ebola_data_db_format.csv')\n",
        "#df['Date'] = pd.to_datetime(df['Date'])\n",
        "list(df)\n",
        "print(tabulate(df.head(5), headers='keys'))"
      ],
      "metadata": {
        "colab": {
          "base_uri": "https://localhost:8080/"
        },
        "id": "AeF6Pb5gwBBY",
        "outputId": "5188685a-eea3-4fa7-e8fe-e209c02cd4b8"
      },
      "execution_count": 2,
      "outputs": [
        {
          "output_type": "stream",
          "name": "stdout",
          "text": [
            "    Indicator                                                            Country    Date          value\n",
            "--  -------------------------------------------------------------------  ---------  ----------  -------\n",
            " 0  Cumulative number of confirmed, probable and suspected Ebola cases   Guinea     2015-03-10     3285\n",
            " 1  Cumulative number of confirmed Ebola cases                           Guinea     2015-03-10     2871\n",
            " 2  Cumulative number of probable Ebola cases                            Guinea     2015-03-10      392\n",
            " 3  Cumulative number of suspected Ebola cases                           Guinea     2015-03-10       22\n",
            " 4  Cumulative number of confirmed, probable and suspected Ebola deaths  Guinea     2015-03-10     2170\n"
          ]
        }
      ]
    },
    {
      "cell_type": "markdown",
      "source": [
        "### **1.1 Distinct number of Indicators in the universe (complete dataset).**\n",
        "### **Expected Output:**\n",
        "### **Integer value**\n"
      ],
      "metadata": {
        "id": "HUh_LvzEwR3a"
      }
    },
    {
      "cell_type": "code",
      "source": [
        "print(df['Country'].unique())\n",
        "indicators = df['Indicator'].nunique()\n",
        "print(\"Distinct # if indicators:\\n\", indicators)"
      ],
      "metadata": {
        "colab": {
          "base_uri": "https://localhost:8080/"
        },
        "id": "GWCqVPNIwkMN",
        "outputId": "69718524-1bac-47b4-e0af-a64a8f4d7b4c"
      },
      "execution_count": 34,
      "outputs": [
        {
          "output_type": "stream",
          "name": "stdout",
          "text": [
            "['Guinea' 'Liberia' 'Sierra Leone' 'United Kingdom' 'Mali' 'Nigeria'\n",
            " 'Senegal' 'Spain' 'United States of America' 'Italy' 'Liberia 2'\n",
            " 'Guinea 2']\n",
            "Distinct # if indicators:\n",
            " 36\n"
          ]
        }
      ]
    },
    {
      "cell_type": "markdown",
      "source": [
        "### **1.2 In the second half of the year 2015, how many countries have one or more “Cumulative number of confirmed Ebola cases”**\n",
        "### **Expected Output:**\n",
        "### **Integer value**\n"
      ],
      "metadata": {
        "id": "NyfCRRBey54G"
      }
    },
    {
      "cell_type": "code",
      "source": [
        "import datetime"
      ],
      "metadata": {
        "id": "Yg5XRVBOYK9O"
      },
      "execution_count": 4,
      "outputs": []
    },
    {
      "cell_type": "code",
      "source": [
        "def get_year(row):\n",
        "    return datetime.datetime.strptime(row['Date'], '%Y-%m-%d').year\n"
      ],
      "metadata": {
        "id": "38MrxVoJV11F"
      },
      "execution_count": 5,
      "outputs": []
    },
    {
      "cell_type": "code",
      "source": [
        "df[\"year\"] = df.apply(get_year, axis=1)\n",
        "df_ebola_2015 = df[(df['Date'] >= \"2015-07-01\") & (df['Date'] <= \"2015-12-31\")]\n",
        "df_ebola_2015 = df.where(df[\"Indicator\"] == \"Cumulative number of confirmed Ebola cases\").groupby(['Country']).size().to_frame(\"count\").reset_index()\n",
        "print(len(pd.unique(df_ebola_2015['Country'])))"
      ],
      "metadata": {
        "colab": {
          "base_uri": "https://localhost:8080/"
        },
        "id": "kC5q3S_HWtH8",
        "outputId": "3cd76cba-4ace-4d0e-e4a7-aea61ea907fe"
      },
      "execution_count": 6,
      "outputs": [
        {
          "output_type": "stream",
          "name": "stdout",
          "text": [
            "12\n"
          ]
        }
      ]
    },
    {
      "cell_type": "markdown",
      "source": [
        "### **1.3 Top 10 total Ebola cases confirmed. Note that Indicator = Cumulative number of confirmed Ebola cases. Include rank based on the total value (=cases confirmed).**\n",
        "### **Expected Output:**\n",
        "### **country, total_value, rank**\n"
      ],
      "metadata": {
        "id": "XNYkjhdU3vCh"
      }
    },
    {
      "cell_type": "code",
      "source": [
        "confirmed = df.where(df['Indicator'] == \"Cumulative number of confirmed Ebola cases\")\\\n",
        "            .groupby([\"Country\"]).size().nlargest(10).to_frame('total_value').reset_index()\n",
        "\n",
        "confirmed['rank'] = confirmed['total_value'].rank(ascending=False)\n",
        "print(tabulate(confirmed, headers='keys', tablefmt='github'))"
      ],
      "metadata": {
        "colab": {
          "base_uri": "https://localhost:8080/"
        },
        "id": "NsPE1mBP2Z0z",
        "outputId": "426e2f6d-f89e-4b25-ec97-03f557286cf8"
      },
      "execution_count": 7,
      "outputs": [
        {
          "output_type": "stream",
          "name": "stdout",
          "text": [
            "|    | Country                  |   total_value |   rank |\n",
            "|----|--------------------------|---------------|--------|\n",
            "|  0 | Guinea                   |           259 |    1.5 |\n",
            "|  1 | Sierra Leone             |           259 |    1.5 |\n",
            "|  2 | Liberia                  |           258 |    3   |\n",
            "|  3 | Nigeria                  |           255 |    4   |\n",
            "|  4 | Senegal                  |           254 |    5   |\n",
            "|  5 | United States of America |           245 |    6   |\n",
            "|  6 | Mali                     |           243 |    7.5 |\n",
            "|  7 | Spain                    |           243 |    7.5 |\n",
            "|  8 | United Kingdom           |           221 |    9   |\n",
            "|  9 | Italy                    |           141 |   10   |\n"
          ]
        }
      ]
    },
    {
      "cell_type": "markdown",
      "source": [
        "### **1.4 Top 10 countries that have total cases with Indicator = “Cumulative number of confirmed, probable and suspected Ebola deaths” in 2015 Q2 (i.e., April-June 2015).**\n",
        "### **Expected Output:**\n",
        "### **country, total_cases, rank**\n"
      ],
      "metadata": {
        "id": "_R4PnVqgyzLQ"
      }
    },
    {
      "cell_type": "code",
      "source": [
        "#confirmed = df[(df['Date'] >= '2015-04-01') & (df['Date'] <= '2015-06-30')]\n",
        "confirmed = df.where(df['Indicator'] == \"Cumulative number of confirmed, probable and suspected Ebola deaths\")\\\n",
        "      .groupby(['Country']).size().to_frame('total_cases').reset_index()\n",
        "confirmed['rank'] = confirmed['total_cases'].rank(ascending=False)\n",
        "confirmed = confirmed.sort_values('rank')\n",
        "\n",
        "print(tabulate(confirmed.head(10), headers='keys', tablefmt='github'))"
      ],
      "metadata": {
        "colab": {
          "base_uri": "https://localhost:8080/"
        },
        "id": "mnrddnK8B54X",
        "outputId": "69c34961-e7e7-45a6-c878-be9de74c4582"
      },
      "execution_count": 43,
      "outputs": [
        {
          "output_type": "stream",
          "name": "stdout",
          "text": [
            "|    | Country                  |   total_cases |   rank |\n",
            "|----|--------------------------|---------------|--------|\n",
            "|  0 | Guinea                   |           259 |    2   |\n",
            "|  3 | Liberia                  |           259 |    2   |\n",
            "|  8 | Sierra Leone             |           259 |    2   |\n",
            "|  6 | Nigeria                  |           255 |    4   |\n",
            "|  7 | Senegal                  |           254 |    5   |\n",
            "| 11 | United States of America |           245 |    6   |\n",
            "|  5 | Mali                     |           243 |    7.5 |\n",
            "|  9 | Spain                    |           243 |    7.5 |\n",
            "| 10 | United Kingdom           |           221 |    9   |\n",
            "|  2 | Italy                    |           141 |   10   |\n"
          ]
        }
      ]
    },
    {
      "cell_type": "markdown",
      "source": [
        "### **1.5 Top 10 countries that have total cases with Indicator = “Cumulative number of confirmed probable and suspected Ebola deaths” with only even months of the year 2015 (i.e., months 2, 4, 6, 8, 10, 12).**\n",
        "### **Expected Output:**\n",
        "### **country, total_cases, rank**\n"
      ],
      "metadata": {
        "id": "Ts-yWe9XFtk6"
      }
    },
    {
      "cell_type": "code",
      "source": [
        "def get_month(row):\n",
        "    return datetime.datetime.strptime(row['Date'], '%Y-%m-%d').month\n"
      ],
      "metadata": {
        "id": "PLueL-Jd0ynV"
      },
      "execution_count": 9,
      "outputs": []
    },
    {
      "cell_type": "code",
      "source": [
        "df_ebola_2015['month'] = df.apply(get_month, axis=1)\n",
        "confirmed = df_ebola_2015[df_ebola_2015['month'] % 2 == 0]\n",
        "\n",
        "confirmed = confirmed[confirmed['Indicator'] == \"Cumulative number of confirmed, probable and suspected Ebola deaths\"]\\\n",
        "       .groupby(['Country']).size().to_frame('total_cases').reset_index()\n",
        "confirmed['rank'] = confirmed['total_cases'].rank(ascending=False)\n",
        "confirmed = confirmed.sort_values('rank')\n",
        "\n",
        "print(tabulate(confirmed.head(10), headers='keys', tablefmt='psql'))"
      ],
      "metadata": {
        "colab": {
          "base_uri": "https://localhost:8080/"
        },
        "id": "_2MFgpCw0fCg",
        "outputId": "45719056-c412-4ad4-a11f-70a847050c94"
      },
      "execution_count": 38,
      "outputs": [
        {
          "output_type": "stream",
          "name": "stdout",
          "text": [
            "+----+--------------------------+---------------+--------+\n",
            "|    | Country                  |   total_cases |   rank |\n",
            "|----+--------------------------+---------------+--------|\n",
            "|  0 | Guinea                   |           105 |      5 |\n",
            "|  2 | Liberia                  |           105 |      5 |\n",
            "|  4 | Mali                     |           105 |      5 |\n",
            "|  5 | Nigeria                  |           105 |      5 |\n",
            "|  6 | Senegal                  |           105 |      5 |\n",
            "|  7 | Sierra Leone             |           105 |      5 |\n",
            "|  8 | Spain                    |           105 |      5 |\n",
            "|  9 | United Kingdom           |           105 |      5 |\n",
            "| 10 | United States of America |           105 |      5 |\n",
            "|  1 | Italy                    |            72 |     10 |\n",
            "+----+--------------------------+---------------+--------+\n"
          ]
        }
      ]
    },
    {
      "cell_type": "code",
      "source": [],
      "metadata": {
        "id": "7ATA19eEGhgd"
      },
      "execution_count": null,
      "outputs": []
    }
  ]
}
