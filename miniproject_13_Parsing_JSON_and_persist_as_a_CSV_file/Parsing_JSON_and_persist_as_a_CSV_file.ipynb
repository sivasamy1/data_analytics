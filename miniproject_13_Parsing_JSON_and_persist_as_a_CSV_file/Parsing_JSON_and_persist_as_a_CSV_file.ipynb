{
  "nbformat": 4,
  "nbformat_minor": 0,
  "metadata": {
    "colab": {
      "provenance": [],
      "authorship_tag": "ABX9TyMTiRocHCIbcDFimLYo25er",
      "include_colab_link": true
    },
    "kernelspec": {
      "name": "python3",
      "display_name": "Python 3"
    },
    "language_info": {
      "name": "python"
    }
  },
  "cells": [
    {
      "cell_type": "markdown",
      "metadata": {
        "id": "view-in-github",
        "colab_type": "text"
      },
      "source": [
        "<a href=\"https://colab.research.google.com/github/sivasamy1/data_analytics/blob/main/Parsing_JSON_and_persist_as_a_CSV_file.ipynb\" target=\"_parent\"><img src=\"https://colab.research.google.com/assets/colab-badge.svg\" alt=\"Open In Colab\"/></a>"
      ]
    },
    {
      "cell_type": "code",
      "execution_count": null,
      "metadata": {
        "id": "kQQYCUkjdyx0"
      },
      "outputs": [],
      "source": [
        "import requests\n",
        "import json\n",
        "import pandas as pd\n",
        "from tabulate import tabulate\n",
        "import ast"
      ]
    },
    {
      "cell_type": "code",
      "source": [
        "def pty_print(df):\n",
        "  print(tabulate(df, headers='keys', tablefmt='github'))"
      ],
      "metadata": {
        "id": "_cDrh4V9AMgH"
      },
      "execution_count": null,
      "outputs": []
    },
    {
      "cell_type": "code",
      "source": [
        "url = 'https://raw.githubusercontent.com/leninworld/parser_exercises/refs/heads/main/json/students/student_marks.json'\n",
        "response = requests.get(url)\n",
        "if response.status_code == 200:\n",
        "    data = response.json()\n",
        "else:\n",
        "    print(f\"Failed to fetch data: {response.status_code}\")\n",
        "    exit()\n",
        "df = pd.json_normalize(data)\n",
        "pty_print(df)"
      ],
      "metadata": {
        "colab": {
          "base_uri": "https://localhost:8080/"
        },
        "id": "MTBDLRHKz-QF",
        "outputId": "5ce28d12-770b-4382-a5d7-de22e6002301"
      },
      "execution_count": 32,
      "outputs": [
        {
          "output_type": "stream",
          "name": "stdout",
          "text": [
            "|    | name   |   age | marks                                                            | address                                                                                           | city      | gender   |   salary |\n",
            "|----|--------|-------|------------------------------------------------------------------|---------------------------------------------------------------------------------------------------|-----------|----------|----------|\n",
            "|  0 | Raj    |    21 | [{'english': 91}, {'tamil': 99}, {'math': 87}, {'science': 89}]  | [{'20220101': '331 main road, chennai 600021'}, {'20210101': '33 gandhi road, bangalore 600021'}] | chennai   | male     |   200000 |\n",
            "|  1 | Vim    |    28 | [{'english': 93}, {'tamil': 98}, {'math': 99}, {'science': 100}] | [{'20190101': '11 MG road, chennai 600021'}, {'20200101': '921 gandhi road, bangalore 600021'}]   | bangalore | female   |   300000 |\n"
          ]
        }
      ]
    },
    {
      "cell_type": "code",
      "source": [
        "df[\"marks\"] = df[\"marks\"].apply(lambda x: ast.literal_eval(x) if isinstance(x, str) else x)\n",
        "df[\"address\"] = df[\"address\"].apply(lambda x: ast.literal_eval(x) if isinstance(x, str) else x)\n",
        "marks_df = df[\"marks\"].apply(lambda x: {k: v for d in x for k, v in d.items()})\n",
        "marks_df = pd.DataFrame(marks_df.tolist())\n",
        "df = df.drop(columns=[\"marks\"]).join(marks_df)\n",
        "address_list = []\n",
        "for row in df[\"address\"]:\n",
        "    for entry in row:\n",
        "        for date, addr in entry.items():\n",
        "            address_list.append({\"date\": date, \"address\": addr})\n",
        "\n",
        "address_df = pd.DataFrame(address_list)\n",
        "df = df.drop(columns=[\"address\"]).merge(address_df, how=\"left\", left_index=True, right_index=True)\n",
        "pty_print(df)"
      ],
      "metadata": {
        "colab": {
          "base_uri": "https://localhost:8080/"
        },
        "id": "zj8jgzD1AbJG",
        "outputId": "0b0d8d04-5a7a-4632-c051-625bca842756"
      },
      "execution_count": 33,
      "outputs": [
        {
          "output_type": "stream",
          "name": "stdout",
          "text": [
            "|    | name   |   age | city      | gender   |   salary |   english |   tamil |   math |   science |     date | address                          |\n",
            "|----|--------|-------|-----------|----------|----------|-----------|---------|--------|-----------|----------|----------------------------------|\n",
            "|  0 | Raj    |    21 | chennai   | male     |   200000 |        91 |      99 |     87 |        89 | 20220101 | 331 main road, chennai 600021    |\n",
            "|  1 | Vim    |    28 | bangalore | female   |   300000 |        93 |      98 |     99 |       100 | 20210101 | 33 gandhi road, bangalore 600021 |\n"
          ]
        }
      ]
    },
    {
      "cell_type": "code",
      "source": [
        "url = 'https://raw.githubusercontent.com/leninworld/parser_exercises/refs/heads/main/json/twitter/twitter.json'\n",
        "response = requests.get(url)\n",
        "if response.status_code == 200:\n",
        "    data = response.json()\n",
        "else:\n",
        "    print(f\"Failed to fetch data: {response.status_code}\")\n",
        "    exit()\n",
        "df = pd.json_normalize(data)\n",
        "pty_print(df)"
      ],
      "metadata": {
        "id": "tPABHyzoJd-3",
        "colab": {
          "base_uri": "https://localhost:8080/"
        },
        "outputId": "cacfc7b3-3d93-4cd9-aabc-2dda5bfbc68d"
      },
      "execution_count": 34,
      "outputs": [
        {
          "output_type": "stream",
          "name": "stdout",
          "text": [
            "|    | created_at                     |                 id |             id_str | text                                                                                                            | truncated   | source                                                   | entities.hashtags                            | entities.symbols   | entities.user_mentions   | entities.urls                                                                                                                          |   user.id |   user.id_str | user.name            | user.screen_name   | user.location        | user.description                                                           | user.url               | user.entities.url.urls                                                                                                                                     | user.entities.description.urls   | user.protected   |   user.followers_count |   user.friends_count |   user.listed_count | user.created_at                |   user.favourites_count |   user.utc_offset | user.time_zone   |\n",
            "|----|--------------------------------|--------------------|--------------------|-----------------------------------------------------------------------------------------------------------------|-------------|----------------------------------------------------------|----------------------------------------------|--------------------|--------------------------|----------------------------------------------------------------------------------------------------------------------------------------|-----------|---------------|----------------------|--------------------|----------------------|----------------------------------------------------------------------------|------------------------|------------------------------------------------------------------------------------------------------------------------------------------------------------|----------------------------------|------------------|------------------------|----------------------|---------------------|--------------------------------|-------------------------|-------------------|------------------|\n",
            "|  0 | Thu Jun 22 21:00:00 +0000 2017 | 877994604561387500 | 877994604561387520 | Creating a Grocery List Manager Using Angular, Part 1: Add &amp; Display Items https://t.co/xFox78juL1 #Angular | False       | <a href=\"http://bufferapp.com\" rel=\"nofollow\">Buffer</a> | [{'text': 'Angular', 'indices': [103, 111]}] | []                 | []                       | [{'url': 'https://t.co/xFox78juL1', 'expanded_url': 'http://buff.ly/2sr60pf', 'display_url': 'buff.ly/2sr60pf', 'indices': [79, 102]}] | 772682964 |     772682964 | SitePoint JavaScript | SitePointJS        | Melbourne, Australia | Keep up with JavaScript tutorials, tips, tricks and articles at SitePoint. | http://t.co/cCH13gqeUK | [{'url': 'http://t.co/cCH13gqeUK', 'expanded_url': 'https://www.sitepoint.com/javascript', 'display_url': 'sitepoint.com/javascript', 'indices': [0, 22]}] | []                               | False            |                   2145 |                   18 |                 328 | Wed Aug 22 02:06:33 +0000 2012 |                      57 |             43200 | Wellington       |\n"
          ]
        }
      ]
    },
    {
      "cell_type": "code",
      "source": [],
      "metadata": {
        "id": "_d9duCLuU2kX"
      },
      "execution_count": null,
      "outputs": []
    }
  ]
}
