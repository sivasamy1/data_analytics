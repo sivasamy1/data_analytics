{
  "nbformat": 4,
  "nbformat_minor": 0,
  "metadata": {
    "colab": {
      "provenance": [],
      "mount_file_id": "1oGj1ULDNypZL0IJ-clHO938OffAddQ8q",
      "authorship_tag": "ABX9TyOzjk+lDvXnwl4Ba5XRC8td",
      "include_colab_link": true
    },
    "kernelspec": {
      "name": "python3",
      "display_name": "Python 3"
    },
    "language_info": {
      "name": "python"
    }
  },
  "cells": [
    {
      "cell_type": "markdown",
      "metadata": {
        "id": "view-in-github",
        "colab_type": "text"
      },
      "source": [
        "<a href=\"https://colab.research.google.com/github/sivasamy1/data_analytics/blob/main/ebola_song.ipynb\" target=\"_parent\"><img src=\"https://colab.research.google.com/assets/colab-badge.svg\" alt=\"Open In Colab\"/></a>"
      ]
    },
    {
      "cell_type": "code",
      "source": [
        "from google.colab import drive\n",
        "drive.mount('/content/drive')"
      ],
      "metadata": {
        "colab": {
          "base_uri": "https://localhost:8080/"
        },
        "id": "DL6PCQxzHgGH",
        "outputId": "7e752741-c9e2-4f8f-b6b8-549fb70e352a"
      },
      "execution_count": null,
      "outputs": [
        {
          "output_type": "stream",
          "name": "stdout",
          "text": [
            "Drive already mounted at /content/drive; to attempt to forcibly remount, call drive.mount(\"/content/drive\", force_remount=True).\n"
          ]
        }
      ]
    },
    {
      "cell_type": "code",
      "execution_count": null,
      "metadata": {
        "id": "vJ6UCelSuNNX"
      },
      "outputs": [],
      "source": [
        "import pandas as pd\n",
        "from tabulate import tabulate"
      ]
    },
    {
      "cell_type": "markdown",
      "source": [
        "## **PART I**"
      ],
      "metadata": {
        "id": "lmBZWqxpzIwG"
      }
    },
    {
      "cell_type": "code",
      "source": [
        "df_ebola = pd.read_csv('/content/drive/MyDrive/data_analytics/MINIPROJECT_6/ebola_data_db_format.csv')\n",
        "df = df_ebola.copy()\n",
        "list(df)\n"
      ],
      "metadata": {
        "colab": {
          "base_uri": "https://localhost:8080/"
        },
        "id": "AeF6Pb5gwBBY",
        "outputId": "cfa9e86c-8fb5-48db-a18c-055743bdfc9f"
      },
      "execution_count": 76,
      "outputs": [
        {
          "output_type": "execute_result",
          "data": {
            "text/plain": [
              "['Indicator', 'Country', 'Date', 'value']"
            ]
          },
          "metadata": {},
          "execution_count": 76
        }
      ]
    },
    {
      "cell_type": "markdown",
      "source": [
        "### **1.1 Distinct number of Indicators in the universe (complete dataset).**\n",
        "### **Expected Output:**\n",
        "### **Integer value**\n"
      ],
      "metadata": {
        "id": "HUh_LvzEwR3a"
      }
    },
    {
      "cell_type": "code",
      "source": [
        "print(df['Country'].unique())\n",
        "indicators = df['Indicator'].nunique()\n",
        "print(\"Distinct # if indicators:\\n\", indicators)"
      ],
      "metadata": {
        "colab": {
          "base_uri": "https://localhost:8080/"
        },
        "id": "GWCqVPNIwkMN",
        "outputId": "98f5c224-c7c4-44d8-b4a0-8a2e7e288a34"
      },
      "execution_count": null,
      "outputs": [
        {
          "output_type": "stream",
          "name": "stdout",
          "text": [
            "['Guinea' 'Liberia' 'Sierra Leone' 'United Kingdom' 'Mali' 'Nigeria'\n",
            " 'Senegal' 'Spain' 'United States of America' 'Italy' 'Liberia 2'\n",
            " 'Guinea 2']\n",
            "Distinct # if indicators:\n",
            " 36\n"
          ]
        }
      ]
    },
    {
      "cell_type": "markdown",
      "source": [
        "### **1.2 In the second half of the year 2015, how many countries have one or more “Cumulative number of confirmed Ebola cases”**\n",
        "### **Expected Output:**\n",
        "### **Integer value**\n"
      ],
      "metadata": {
        "id": "NyfCRRBey54G"
      }
    },
    {
      "cell_type": "code",
      "source": [
        "import datetime"
      ],
      "metadata": {
        "id": "Yg5XRVBOYK9O"
      },
      "execution_count": null,
      "outputs": []
    },
    {
      "cell_type": "code",
      "source": [
        "def get_year(row):\n",
        "    return datetime.datetime.strptime(row['Date'], '%Y-%m-%d').year\n"
      ],
      "metadata": {
        "id": "38MrxVoJV11F"
      },
      "execution_count": null,
      "outputs": []
    },
    {
      "cell_type": "code",
      "source": [
        "df[\"year\"] = df.apply(get_year, axis=1)\n",
        "df_ebola_2015 = df[(df['Date'] >= \"2015-07-01\") & (df['Date'] <= \"2015-12-31\")]\n",
        "df_ebola_2015 = df.where(df[\"Indicator\"] == \"Cumulative number of confirmed Ebola cases\").groupby(['Country']).size().to_frame(\"count\").reset_index()\n",
        "print(len(pd.unique(df_ebola_2015['Country'])))"
      ],
      "metadata": {
        "colab": {
          "base_uri": "https://localhost:8080/"
        },
        "id": "kC5q3S_HWtH8",
        "outputId": "a18e1325-54a8-4727-e324-3394a1ddeea1"
      },
      "execution_count": null,
      "outputs": [
        {
          "output_type": "stream",
          "name": "stdout",
          "text": [
            "12\n"
          ]
        }
      ]
    },
    {
      "cell_type": "markdown",
      "source": [
        "### **1.3 Top 10 total Ebola cases confirmed. Note that Indicator = Cumulative number of confirmed Ebola cases. Include rank based on the total value (=cases confirmed).**\n",
        "### **Expected Output:**\n",
        "### **country, total_value, rank**\n"
      ],
      "metadata": {
        "id": "XNYkjhdU3vCh"
      }
    },
    {
      "cell_type": "code",
      "source": [
        "confirmed2 = df.where(df['Indicator'] == \"Cumulative number of confirmed Ebola cases\")\\\n",
        "            .groupby([\"Country\"]).size().nlargest(10).to_frame('total_value').reset_index()\n",
        "\n",
        "confirmed2['rank'] = confirmed2['total_value'].rank(ascending=False)\n",
        "print(tabulate(confirmed2, headers='keys', tablefmt='github'))"
      ],
      "metadata": {
        "colab": {
          "base_uri": "https://localhost:8080/"
        },
        "id": "NsPE1mBP2Z0z",
        "outputId": "8c7f7dbe-59cc-4559-9b17-d61e69e8449e"
      },
      "execution_count": null,
      "outputs": [
        {
          "output_type": "stream",
          "name": "stdout",
          "text": [
            "|    | Country                  |   total_value |   rank |\n",
            "|----|--------------------------|---------------|--------|\n",
            "|  0 | Guinea                   |           259 |    1.5 |\n",
            "|  1 | Sierra Leone             |           259 |    1.5 |\n",
            "|  2 | Liberia                  |           258 |    3   |\n",
            "|  3 | Nigeria                  |           255 |    4   |\n",
            "|  4 | Senegal                  |           254 |    5   |\n",
            "|  5 | United States of America |           245 |    6   |\n",
            "|  6 | Mali                     |           243 |    7.5 |\n",
            "|  7 | Spain                    |           243 |    7.5 |\n",
            "|  8 | United Kingdom           |           221 |    9   |\n",
            "|  9 | Italy                    |           141 |   10   |\n"
          ]
        }
      ]
    },
    {
      "cell_type": "markdown",
      "source": [
        "### **1.4 Top 10 countries that have total cases with Indicator = “Cumulative number of confirmed, probable and suspected Ebola deaths” in 2015 Q2 (i.e., April-June 2015).**\n",
        "### **Expected Output:**\n",
        "### **country, total_cases, rank**\n"
      ],
      "metadata": {
        "id": "_R4PnVqgyzLQ"
      }
    },
    {
      "cell_type": "code",
      "source": [
        "confirmed = df[(df['Date'] >= '2015-04-01') & (df['Date'] <= '2015-06-30')]\n",
        "confirmed = df.where(df['Indicator'] == \"Cumulative number of confirmed, probable and suspected Ebola deaths\")\\\n",
        "      .groupby(['Country']).size().to_frame('total_cases').reset_index()\n",
        "confirmed['rank'] = confirmed['total_cases'].rank(ascending=False)\n",
        "confirmed = confirmed.sort_values(by=['rank'], ascending=True)\n",
        "\n",
        "print(tabulate(confirmed.head(10), headers='keys', tablefmt='github'))"
      ],
      "metadata": {
        "colab": {
          "base_uri": "https://localhost:8080/"
        },
        "id": "mnrddnK8B54X",
        "outputId": "224a0136-0f5f-4cdc-c44f-7768b1b791c0"
      },
      "execution_count": null,
      "outputs": [
        {
          "output_type": "stream",
          "name": "stdout",
          "text": [
            "|    | Country                  |   total_cases |   rank |\n",
            "|----|--------------------------|---------------|--------|\n",
            "|  0 | Guinea                   |           259 |    2   |\n",
            "|  3 | Liberia                  |           259 |    2   |\n",
            "|  8 | Sierra Leone             |           259 |    2   |\n",
            "|  6 | Nigeria                  |           255 |    4   |\n",
            "|  7 | Senegal                  |           254 |    5   |\n",
            "| 11 | United States of America |           245 |    6   |\n",
            "|  5 | Mali                     |           243 |    7.5 |\n",
            "|  9 | Spain                    |           243 |    7.5 |\n",
            "| 10 | United Kingdom           |           221 |    9   |\n",
            "|  2 | Italy                    |           141 |   10   |\n"
          ]
        }
      ]
    },
    {
      "cell_type": "markdown",
      "source": [
        "### **1.5 Top 10 countries that have total cases with Indicator = “Cumulative number of confirmed probable and suspected Ebola deaths” with only even months of the year 2015 (i.e., months 2, 4, 6, 8, 10, 12).**\n",
        "### **Expected Output:**\n",
        "### **country, total_cases, rank**\n"
      ],
      "metadata": {
        "id": "Ts-yWe9XFtk6"
      }
    },
    {
      "cell_type": "code",
      "source": [
        "def get_month(row):\n",
        "    return datetime.datetime.strptime(row['Date'], '%Y-%m-%d').month    # Separating month to a new column helps in sorting\n",
        "def is_even_odd(row):\n",
        "  return int(row['month']%2)"
      ],
      "metadata": {
        "id": "PLueL-Jd0ynV"
      },
      "execution_count": null,
      "outputs": []
    },
    {
      "cell_type": "code",
      "source": [
        "df = df_ebola.copy()\n",
        "\n",
        "df['month'] = df.apply(get_month, axis=1)\n",
        "confirmed = df[df['month'] % 2 == 0]\n",
        "df_ebola_2015 = confirmed[(confirmed['Date'] >= \"2015-01-01\") & (confirmed['Date'] <= \"2015-12-31\")]\n",
        "\n",
        "confirmed = df_ebola_2015[df_ebola_2015['Indicator'] == \"Cumulative number of confirmed, probable and suspected Ebola deaths\"]\\\n",
        "       .groupby(['Country']).size().to_frame('total_cases').reset_index()\n",
        "confirmed['rank'] = confirmed['total_cases'].rank(ascending=False)\n",
        "confirmed = confirmed.sort_values('rank')\n",
        "\n",
        "\n",
        "print('Even months 2015')\n",
        "print(tabulate(confirmed.head(10), headers='keys', tablefmt='github'))\n",
        "\n",
        "confirmed1 = df[df['month'] % 2 == 1]\n",
        "df_ebola_2015 = confirmed1[(confirmed1['Date'] >= \"2015-01-01\") & (confirmed1['Date'] <= \"2015-12-31\")]\n",
        "\n",
        "confirmed = df_ebola_2015[df_ebola_2015['Indicator'] == \"Cumulative number of confirmed, probable and suspected Ebola deaths\"]\\\n",
        "       .groupby(['Country']).size().to_frame('total_cases').reset_index()\n",
        "confirmed['rank'] = confirmed['total_cases'].rank(ascending=False)\n",
        "confirmed1 = confirmed.sort_values('rank')\n",
        "\n",
        "print('Odd months 2015')\n",
        "print(tabulate(confirmed1.head(10), headers='keys', tablefmt='github'))"
      ],
      "metadata": {
        "colab": {
          "base_uri": "https://localhost:8080/"
        },
        "id": "_2MFgpCw0fCg",
        "outputId": "99c0920d-3f55-4831-bd3d-0d8adde57165"
      },
      "execution_count": null,
      "outputs": [
        {
          "output_type": "stream",
          "name": "stdout",
          "text": [
            "Even months 2015\n",
            "|    | Country                  |   total_cases |   rank |\n",
            "|----|--------------------------|---------------|--------|\n",
            "|  0 | Guinea                   |           105 |      5 |\n",
            "|  2 | Liberia                  |           105 |      5 |\n",
            "|  4 | Mali                     |           105 |      5 |\n",
            "|  5 | Nigeria                  |           105 |      5 |\n",
            "|  6 | Senegal                  |           105 |      5 |\n",
            "|  7 | Sierra Leone             |           105 |      5 |\n",
            "|  8 | Spain                    |           105 |      5 |\n",
            "|  9 | United Kingdom           |           105 |      5 |\n",
            "| 10 | United States of America |           105 |      5 |\n",
            "|  1 | Italy                    |            72 |     10 |\n",
            "Odd months 2015\n",
            "|    | Country                  |   total_cases |   rank |\n",
            "|----|--------------------------|---------------|--------|\n",
            "|  0 | Guinea                   |           115 |    3   |\n",
            "|  2 | Liberia                  |           115 |    3   |\n",
            "|  4 | Mali                     |           115 |    3   |\n",
            "|  7 | Sierra Leone             |           115 |    3   |\n",
            "|  9 | United Kingdom           |           115 |    3   |\n",
            "|  5 | Nigeria                  |           111 |    7.5 |\n",
            "|  6 | Senegal                  |           111 |    7.5 |\n",
            "|  8 | Spain                    |           111 |    7.5 |\n",
            "| 10 | United States of America |           111 |    7.5 |\n",
            "|  1 | Italy                    |            68 |   10   |\n"
          ]
        }
      ]
    },
    {
      "cell_type": "markdown",
      "source": [
        "### **1.6 Find Country and Indicator wise total value. Also, rank on the total_value which is the sum at the Country-Indicator level.**\n",
        "### **Expected Output:**\n",
        "### **country, indicator, total_value, country_indicator_rank**\n"
      ],
      "metadata": {
        "id": "wxOPuPkLKN8B"
      }
    },
    {
      "cell_type": "code",
      "source": [
        "country_columns = df['Country'].unique()\n",
        "confirmed = df.groupby(['Country', 'Indicator'])['value'].size().reset_index(name='total_value')\n",
        "confirmed['country_indicator_rank'] = confirmed['total_value'].rank(ascending=False)\n",
        "\n",
        "confirmed['Country'] = pd.Categorical(confirmed['Country'], categories=country_columns, ordered=True)\n",
        "\n",
        "print(tabulate(confirmed, headers='keys', tablefmt='github'))\n"
      ],
      "metadata": {
        "id": "7ATA19eEGhgd",
        "colab": {
          "base_uri": "https://localhost:8080/"
        },
        "outputId": "922bfb8e-b573-4e73-d9d8-1427d6a1afdc"
      },
      "execution_count": 78,
      "outputs": [
        {
          "output_type": "stream",
          "name": "stdout",
          "text": [
            "|     | Country                  | Indicator                                                                                   |   total_value |   country_indicator_rank |\n",
            "|-----|--------------------------|---------------------------------------------------------------------------------------------|---------------|--------------------------|\n",
            "|   0 | Guinea                   | Case fatality rate (CFR) of confirmed Ebola cases                                           |             4 |                    127   |\n",
            "|   1 | Guinea                   | Case fatality rate (CFR) of confirmed, probable and suspected Ebola cases                   |             4 |                    127   |\n",
            "|   2 | Guinea                   | Case fatality rate (CFR) of probable Ebola cases                                            |             4 |                    127   |\n",
            "|   3 | Guinea                   | Case fatality rate (CFR) of suspected Ebola cases                                           |             4 |                    127   |\n",
            "|   4 | Guinea                   | Cumulative number of confirmed Ebola cases                                                  |           259 |                      6.5 |\n",
            "|   5 | Guinea                   | Cumulative number of confirmed Ebola deaths                                                 |           257 |                     18   |\n",
            "|   6 | Guinea                   | Cumulative number of confirmed, probable and suspected Ebola cases                          |           259 |                      6.5 |\n",
            "|   7 | Guinea                   | Cumulative number of confirmed, probable and suspected Ebola deaths                         |           259 |                      6.5 |\n",
            "|   8 | Guinea                   | Cumulative number of probable Ebola cases                                                   |           259 |                      6.5 |\n",
            "|   9 | Guinea                   | Cumulative number of probable Ebola deaths                                                  |           257 |                     18   |\n",
            "|  10 | Guinea                   | Cumulative number of suspected Ebola cases                                                  |           259 |                      6.5 |\n",
            "|  11 | Guinea                   | Cumulative number of suspected Ebola deaths                                                 |            40 |                     78   |\n",
            "|  12 | Guinea                   | Number of confirmed Ebola cases in the last 21 days                                         |            59 |                     74.5 |\n",
            "|  13 | Guinea                   | Number of confirmed Ebola cases in the last 7 days                                          |             2 |                    186.5 |\n",
            "|  14 | Guinea                   | Number of confirmed Ebola deaths in the last 21 days                                        |             3 |                    154   |\n",
            "|  15 | Guinea                   | Number of confirmed, probable and suspected Ebola cases in the last 21 days                 |            59 |                     74.5 |\n",
            "|  16 | Guinea                   | Number of confirmed, probable and suspected Ebola cases in the last 7 days                  |             2 |                    186.5 |\n",
            "|  17 | Guinea                   | Number of confirmed, probable and suspected Ebola deaths in the last 21 days                |             3 |                    154   |\n",
            "|  18 | Guinea                   | Number of probable Ebola cases in the last 21 days                                          |            13 |                     86   |\n",
            "|  19 | Guinea                   | Number of probable Ebola cases in the last 7 days                                           |             2 |                    186.5 |\n",
            "|  20 | Guinea                   | Number of probable Ebola deaths in the last 21 days                                         |             3 |                    154   |\n",
            "|  21 | Guinea                   | Number of suspected Ebola cases in the last 21 days                                         |            10 |                     95   |\n",
            "|  22 | Guinea                   | Number of suspected Ebola cases in the last 7 days                                          |             2 |                    186.5 |\n",
            "|  23 | Guinea                   | Number of suspected Ebola deaths in the last 21 days                                        |             3 |                    154   |\n",
            "|  24 | Guinea                   | Proportion of confirmed Ebola cases that are from the last 21 days                          |            10 |                     95   |\n",
            "|  25 | Guinea                   | Proportion of confirmed Ebola cases that are from the last 7 days                           |             2 |                    186.5 |\n",
            "|  26 | Guinea                   | Proportion of confirmed Ebola deaths that are from the last 21 days                         |             3 |                    154   |\n",
            "|  27 | Guinea                   | Proportion of confirmed, probable and suspected Ebola cases that are from the last 21 days  |            10 |                     95   |\n",
            "|  28 | Guinea                   | Proportion of confirmed, probable and suspected Ebola cases that are from the last 7 days   |             2 |                    186.5 |\n",
            "|  29 | Guinea                   | Proportion of confirmed, probable and suspected Ebola deaths that are from the last 21 days |             3 |                    154   |\n",
            "|  30 | Guinea                   | Proportion of probable Ebola cases that are from the last 21 days                           |            10 |                     95   |\n",
            "|  31 | Guinea                   | Proportion of probable Ebola cases that are from the last 7 days                            |             2 |                    186.5 |\n",
            "|  32 | Guinea                   | Proportion of probable Ebola deaths that are from the last 21 days                          |             3 |                    154   |\n",
            "|  33 | Guinea                   | Proportion of suspected Ebola cases that are from the last 21 days                          |            10 |                     95   |\n",
            "|  34 | Guinea                   | Proportion of suspected Ebola cases that are from the last 7 days                           |             2 |                    186.5 |\n",
            "|  35 | Guinea                   | Proportion of suspected Ebola deaths that are from the last 21 days                         |             3 |                    154   |\n",
            "|  36 | Guinea 2                 | Cumulative number of confirmed Ebola cases                                                  |             1 |                    213   |\n",
            "|  37 | Guinea 2                 | Cumulative number of confirmed Ebola deaths                                                 |             1 |                    213   |\n",
            "|  38 | Guinea 2                 | Cumulative number of confirmed, probable and suspected Ebola cases                          |             1 |                    213   |\n",
            "|  39 | Guinea 2                 | Cumulative number of confirmed, probable and suspected Ebola deaths                         |             1 |                    213   |\n",
            "|  40 | Guinea 2                 | Cumulative number of probable Ebola cases                                                   |             1 |                    213   |\n",
            "|  41 | Guinea 2                 | Cumulative number of probable Ebola deaths                                                  |             1 |                    213   |\n",
            "|  42 | Guinea 2                 | Cumulative number of suspected Ebola cases                                                  |             1 |                    213   |\n",
            "|  43 | Guinea 2                 | Number of confirmed Ebola cases in the last 21 days                                         |             1 |                    213   |\n",
            "|  44 | Guinea 2                 | Number of confirmed, probable and suspected Ebola cases in the last 21 days                 |             1 |                    213   |\n",
            "|  45 | Guinea 2                 | Number of probable Ebola cases in the last 21 days                                          |             1 |                    213   |\n",
            "|  46 | Italy                    | Cumulative number of confirmed Ebola cases                                                  |           141 |                     65   |\n",
            "|  47 | Italy                    | Cumulative number of confirmed Ebola deaths                                                 |             1 |                    213   |\n",
            "|  48 | Italy                    | Cumulative number of confirmed, probable and suspected Ebola cases                          |           141 |                     65   |\n",
            "|  49 | Italy                    | Cumulative number of confirmed, probable and suspected Ebola deaths                         |           141 |                     65   |\n",
            "|  50 | Italy                    | Cumulative number of probable Ebola cases                                                   |           141 |                     65   |\n",
            "|  51 | Italy                    | Cumulative number of probable Ebola deaths                                                  |             1 |                    213   |\n",
            "|  52 | Italy                    | Cumulative number of suspected Ebola cases                                                  |           141 |                     65   |\n",
            "|  53 | Italy                    | Cumulative number of suspected Ebola deaths                                                 |             1 |                    213   |\n",
            "|  54 | Liberia                  | Case fatality rate (CFR) of confirmed Ebola cases                                           |             4 |                    127   |\n",
            "|  55 | Liberia                  | Case fatality rate (CFR) of confirmed, probable and suspected Ebola cases                   |             4 |                    127   |\n",
            "|  56 | Liberia                  | Case fatality rate (CFR) of probable Ebola cases                                            |             4 |                    127   |\n",
            "|  57 | Liberia                  | Case fatality rate (CFR) of suspected Ebola cases                                           |             4 |                    127   |\n",
            "|  58 | Liberia                  | Cumulative number of confirmed Ebola cases                                                  |           258 |                     14   |\n",
            "|  59 | Liberia                  | Cumulative number of confirmed Ebola deaths                                                 |            19 |                     82   |\n",
            "|  60 | Liberia                  | Cumulative number of confirmed, probable and suspected Ebola cases                          |           259 |                      6.5 |\n",
            "|  61 | Liberia                  | Cumulative number of confirmed, probable and suspected Ebola deaths                         |           259 |                      6.5 |\n",
            "|  62 | Liberia                  | Cumulative number of probable Ebola cases                                                   |           258 |                     14   |\n",
            "|  63 | Liberia                  | Cumulative number of probable Ebola deaths                                                  |            15 |                     83.5 |\n",
            "|  64 | Liberia                  | Cumulative number of suspected Ebola cases                                                  |           258 |                     14   |\n",
            "|  65 | Liberia                  | Cumulative number of suspected Ebola deaths                                                 |            15 |                     83.5 |\n",
            "|  66 | Liberia                  | Number of confirmed Ebola cases in the last 21 days                                         |            40 |                     78   |\n",
            "|  67 | Liberia                  | Number of confirmed Ebola cases in the last 7 days                                          |             2 |                    186.5 |\n",
            "|  68 | Liberia                  | Number of confirmed Ebola deaths in the last 21 days                                        |             3 |                    154   |\n",
            "|  69 | Liberia                  | Number of confirmed, probable and suspected Ebola cases in the last 21 days                 |            40 |                     78   |\n",
            "|  70 | Liberia                  | Number of confirmed, probable and suspected Ebola cases in the last 7 days                  |             2 |                    186.5 |\n",
            "|  71 | Liberia                  | Number of confirmed, probable and suspected Ebola deaths in the last 21 days                |             3 |                    154   |\n",
            "|  72 | Liberia                  | Number of probable Ebola cases in the last 21 days                                          |            13 |                     86   |\n",
            "|  73 | Liberia                  | Number of probable Ebola cases in the last 7 days                                           |             2 |                    186.5 |\n",
            "|  74 | Liberia                  | Number of probable Ebola deaths in the last 21 days                                         |             3 |                    154   |\n",
            "|  75 | Liberia                  | Number of suspected Ebola cases in the last 21 days                                         |            10 |                     95   |\n",
            "|  76 | Liberia                  | Number of suspected Ebola cases in the last 7 days                                          |             2 |                    186.5 |\n",
            "|  77 | Liberia                  | Number of suspected Ebola deaths in the last 21 days                                        |             3 |                    154   |\n",
            "|  78 | Liberia                  | Proportion of confirmed Ebola cases that are from the last 21 days                          |            10 |                     95   |\n",
            "|  79 | Liberia                  | Proportion of confirmed Ebola cases that are from the last 7 days                           |             2 |                    186.5 |\n",
            "|  80 | Liberia                  | Proportion of confirmed Ebola deaths that are from the last 21 days                         |             3 |                    154   |\n",
            "|  81 | Liberia                  | Proportion of confirmed, probable and suspected Ebola cases that are from the last 21 days  |            10 |                     95   |\n",
            "|  82 | Liberia                  | Proportion of confirmed, probable and suspected Ebola cases that are from the last 7 days   |             2 |                    186.5 |\n",
            "|  83 | Liberia                  | Proportion of confirmed, probable and suspected Ebola deaths that are from the last 21 days |             3 |                    154   |\n",
            "|  84 | Liberia                  | Proportion of probable Ebola cases that are from the last 21 days                           |            10 |                     95   |\n",
            "|  85 | Liberia                  | Proportion of probable Ebola cases that are from the last 7 days                            |             2 |                    186.5 |\n",
            "|  86 | Liberia                  | Proportion of probable Ebola deaths that are from the last 21 days                          |             3 |                    154   |\n",
            "|  87 | Liberia                  | Proportion of suspected Ebola cases that are from the last 21 days                          |            10 |                     95   |\n",
            "|  88 | Liberia                  | Proportion of suspected Ebola cases that are from the last 7 days                           |             2 |                    186.5 |\n",
            "|  89 | Liberia                  | Proportion of suspected Ebola deaths that are from the last 21 days                         |             3 |                    154   |\n",
            "|  90 | Liberia 2                | Cumulative number of confirmed Ebola cases                                                  |           105 |                     69.5 |\n",
            "|  91 | Liberia 2                | Cumulative number of confirmed Ebola deaths                                                 |           105 |                     69.5 |\n",
            "|  92 | Liberia 2                | Cumulative number of confirmed, probable and suspected Ebola cases                          |           105 |                     69.5 |\n",
            "|  93 | Liberia 2                | Cumulative number of confirmed, probable and suspected Ebola deaths                         |           105 |                     69.5 |\n",
            "|  94 | Liberia 2                | Cumulative number of probable Ebola cases                                                   |            71 |                     72   |\n",
            "|  95 | Liberia 2                | Cumulative number of probable Ebola deaths                                                  |             1 |                    213   |\n",
            "|  96 | Liberia 2                | Cumulative number of suspected Ebola cases                                                  |             1 |                    213   |\n",
            "|  97 | Liberia 2                | Cumulative number of suspected Ebola deaths                                                 |             1 |                    213   |\n",
            "|  98 | Liberia 2                | Number of confirmed Ebola cases in the last 21 days                                         |            20 |                     80.5 |\n",
            "|  99 | Liberia 2                | Number of confirmed, probable and suspected Ebola cases in the last 21 days                 |            20 |                     80.5 |\n",
            "| 100 | Liberia 2                | Number of probable Ebola cases in the last 21 days                                          |             2 |                    186.5 |\n",
            "| 101 | Mali                     | Cumulative number of confirmed Ebola cases                                                  |           243 |                     43.5 |\n",
            "| 102 | Mali                     | Cumulative number of confirmed Ebola deaths                                                 |             9 |                    103   |\n",
            "| 103 | Mali                     | Cumulative number of confirmed, probable and suspected Ebola cases                          |           239 |                     49   |\n",
            "| 104 | Mali                     | Cumulative number of confirmed, probable and suspected Ebola deaths                         |           243 |                     43.5 |\n",
            "| 105 | Mali                     | Cumulative number of probable Ebola cases                                                   |           242 |                     47.5 |\n",
            "| 106 | Mali                     | Cumulative number of probable Ebola deaths                                                  |             8 |                    104.5 |\n",
            "| 107 | Mali                     | Cumulative number of suspected Ebola cases                                                  |           242 |                     47.5 |\n",
            "| 108 | Mali                     | Cumulative number of suspected Ebola deaths                                                 |             8 |                    104.5 |\n",
            "| 109 | Nigeria                  | Case fatality rate (CFR) of confirmed Ebola cases                                           |             4 |                    127   |\n",
            "| 110 | Nigeria                  | Case fatality rate (CFR) of confirmed, probable and suspected Ebola cases                   |             4 |                    127   |\n",
            "| 111 | Nigeria                  | Case fatality rate (CFR) of probable Ebola cases                                            |             4 |                    127   |\n",
            "| 112 | Nigeria                  | Case fatality rate (CFR) of suspected Ebola cases                                           |             4 |                    127   |\n",
            "| 113 | Nigeria                  | Cumulative number of confirmed Ebola cases                                                  |           255 |                     24.5 |\n",
            "| 114 | Nigeria                  | Cumulative number of confirmed Ebola deaths                                                 |           255 |                     24.5 |\n",
            "| 115 | Nigeria                  | Cumulative number of confirmed, probable and suspected Ebola cases                          |           255 |                     24.5 |\n",
            "| 116 | Nigeria                  | Cumulative number of confirmed, probable and suspected Ebola deaths                         |           255 |                     24.5 |\n",
            "| 117 | Nigeria                  | Cumulative number of probable Ebola cases                                                   |           255 |                     24.5 |\n",
            "| 118 | Nigeria                  | Cumulative number of probable Ebola deaths                                                  |           255 |                     24.5 |\n",
            "| 119 | Nigeria                  | Cumulative number of suspected Ebola cases                                                  |           255 |                     24.5 |\n",
            "| 120 | Nigeria                  | Cumulative number of suspected Ebola deaths                                                 |           255 |                     24.5 |\n",
            "| 121 | Nigeria                  | Number of confirmed Ebola cases in the last 21 days                                         |             6 |                    108.5 |\n",
            "| 122 | Nigeria                  | Number of confirmed Ebola deaths in the last 21 days                                        |             3 |                    154   |\n",
            "| 123 | Nigeria                  | Number of confirmed, probable and suspected Ebola cases in the last 21 days                 |             6 |                    108.5 |\n",
            "| 124 | Nigeria                  | Number of confirmed, probable and suspected Ebola deaths in the last 21 days                |             3 |                    154   |\n",
            "| 125 | Nigeria                  | Number of probable Ebola cases in the last 21 days                                          |             6 |                    108.5 |\n",
            "| 126 | Nigeria                  | Number of probable Ebola deaths in the last 21 days                                         |             3 |                    154   |\n",
            "| 127 | Nigeria                  | Number of suspected Ebola cases in the last 21 days                                         |             5 |                    114   |\n",
            "| 128 | Nigeria                  | Number of suspected Ebola deaths in the last 21 days                                        |             3 |                    154   |\n",
            "| 129 | Nigeria                  | Proportion of confirmed Ebola cases that are from the last 21 days                          |             6 |                    108.5 |\n",
            "| 130 | Nigeria                  | Proportion of confirmed Ebola deaths that are from the last 21 days                         |             3 |                    154   |\n",
            "| 131 | Nigeria                  | Proportion of confirmed, probable and suspected Ebola cases that are from the last 21 days  |             6 |                    108.5 |\n",
            "| 132 | Nigeria                  | Proportion of confirmed, probable and suspected Ebola deaths that are from the last 21 days |             3 |                    154   |\n",
            "| 133 | Nigeria                  | Proportion of probable Ebola cases that are from the last 21 days                           |             6 |                    108.5 |\n",
            "| 134 | Nigeria                  | Proportion of probable Ebola deaths that are from the last 21 days                          |             3 |                    154   |\n",
            "| 135 | Nigeria                  | Proportion of suspected Ebola cases that are from the last 21 days                          |             5 |                    114   |\n",
            "| 136 | Nigeria                  | Proportion of suspected Ebola deaths that are from the last 21 days                         |             1 |                    213   |\n",
            "| 137 | Senegal                  | Case fatality rate (CFR) of confirmed Ebola cases                                           |             3 |                    154   |\n",
            "| 138 | Senegal                  | Case fatality rate (CFR) of confirmed, probable and suspected Ebola cases                   |             3 |                    154   |\n",
            "| 139 | Senegal                  | Case fatality rate (CFR) of probable Ebola cases                                            |             2 |                    186.5 |\n",
            "| 140 | Senegal                  | Case fatality rate (CFR) of suspected Ebola cases                                           |             2 |                    186.5 |\n",
            "| 141 | Senegal                  | Cumulative number of confirmed Ebola cases                                                  |           254 |                     30.5 |\n",
            "| 142 | Senegal                  | Cumulative number of confirmed Ebola deaths                                                 |           254 |                     30.5 |\n",
            "| 143 | Senegal                  | Cumulative number of confirmed, probable and suspected Ebola cases                          |           254 |                     30.5 |\n",
            "| 144 | Senegal                  | Cumulative number of confirmed, probable and suspected Ebola deaths                         |           254 |                     30.5 |\n",
            "| 145 | Senegal                  | Cumulative number of probable Ebola cases                                                   |           253 |                     34.5 |\n",
            "| 146 | Senegal                  | Cumulative number of probable Ebola deaths                                                  |           253 |                     34.5 |\n",
            "| 147 | Senegal                  | Cumulative number of suspected Ebola cases                                                  |           253 |                     34.5 |\n",
            "| 148 | Senegal                  | Cumulative number of suspected Ebola deaths                                                 |           253 |                     34.5 |\n",
            "| 149 | Senegal                  | Number of confirmed Ebola cases in the last 21 days                                         |             5 |                    114   |\n",
            "| 150 | Senegal                  | Number of confirmed Ebola deaths in the last 21 days                                        |             2 |                    186.5 |\n",
            "| 151 | Senegal                  | Number of confirmed, probable and suspected Ebola cases in the last 21 days                 |             5 |                    114   |\n",
            "| 152 | Senegal                  | Number of confirmed, probable and suspected Ebola deaths in the last 21 days                |             2 |                    186.5 |\n",
            "| 153 | Senegal                  | Number of probable Ebola cases in the last 21 days                                          |             4 |                    127   |\n",
            "| 154 | Senegal                  | Number of probable Ebola deaths in the last 21 days                                         |             1 |                    213   |\n",
            "| 155 | Senegal                  | Number of suspected Ebola cases in the last 21 days                                         |             4 |                    127   |\n",
            "| 156 | Senegal                  | Number of suspected Ebola deaths in the last 21 days                                        |             1 |                    213   |\n",
            "| 157 | Senegal                  | Proportion of confirmed Ebola cases that are from the last 21 days                          |             4 |                    127   |\n",
            "| 158 | Senegal                  | Proportion of confirmed Ebola deaths that are from the last 21 days                         |             1 |                    213   |\n",
            "| 159 | Senegal                  | Proportion of confirmed, probable and suspected Ebola cases that are from the last 21 days  |             5 |                    114   |\n",
            "| 160 | Senegal                  | Proportion of confirmed, probable and suspected Ebola deaths that are from the last 21 days |             1 |                    213   |\n",
            "| 161 | Senegal                  | Proportion of probable Ebola cases that are from the last 21 days                           |             4 |                    127   |\n",
            "| 162 | Senegal                  | Proportion of suspected Ebola cases that are from the last 21 days                          |             4 |                    127   |\n",
            "| 163 | Sierra Leone             | Case fatality rate (CFR) of confirmed Ebola cases                                           |             4 |                    127   |\n",
            "| 164 | Sierra Leone             | Case fatality rate (CFR) of confirmed, probable and suspected Ebola cases                   |             4 |                    127   |\n",
            "| 165 | Sierra Leone             | Case fatality rate (CFR) of probable Ebola cases                                            |             4 |                    127   |\n",
            "| 166 | Sierra Leone             | Case fatality rate (CFR) of suspected Ebola cases                                           |             4 |                    127   |\n",
            "| 167 | Sierra Leone             | Cumulative number of confirmed Ebola cases                                                  |           259 |                      6.5 |\n",
            "| 168 | Sierra Leone             | Cumulative number of confirmed Ebola deaths                                                 |           257 |                     18   |\n",
            "| 169 | Sierra Leone             | Cumulative number of confirmed, probable and suspected Ebola cases                          |           259 |                      6.5 |\n",
            "| 170 | Sierra Leone             | Cumulative number of confirmed, probable and suspected Ebola deaths                         |           259 |                      6.5 |\n",
            "| 171 | Sierra Leone             | Cumulative number of probable Ebola cases                                                   |           259 |                      6.5 |\n",
            "| 172 | Sierra Leone             | Cumulative number of probable Ebola deaths                                                  |           257 |                     18   |\n",
            "| 173 | Sierra Leone             | Cumulative number of suspected Ebola cases                                                  |           259 |                      6.5 |\n",
            "| 174 | Sierra Leone             | Cumulative number of suspected Ebola deaths                                                 |           257 |                     18   |\n",
            "| 175 | Sierra Leone             | Number of confirmed Ebola cases in the last 21 days                                         |            59 |                     74.5 |\n",
            "| 176 | Sierra Leone             | Number of confirmed Ebola cases in the last 7 days                                          |             2 |                    186.5 |\n",
            "| 177 | Sierra Leone             | Number of confirmed Ebola deaths in the last 21 days                                        |             3 |                    154   |\n",
            "| 178 | Sierra Leone             | Number of confirmed, probable and suspected Ebola cases in the last 21 days                 |            59 |                     74.5 |\n",
            "| 179 | Sierra Leone             | Number of confirmed, probable and suspected Ebola cases in the last 7 days                  |             2 |                    186.5 |\n",
            "| 180 | Sierra Leone             | Number of confirmed, probable and suspected Ebola deaths in the last 21 days                |             3 |                    154   |\n",
            "| 181 | Sierra Leone             | Number of probable Ebola cases in the last 21 days                                          |            13 |                     86   |\n",
            "| 182 | Sierra Leone             | Number of probable Ebola cases in the last 7 days                                           |             2 |                    186.5 |\n",
            "| 183 | Sierra Leone             | Number of probable Ebola deaths in the last 21 days                                         |             3 |                    154   |\n",
            "| 184 | Sierra Leone             | Number of suspected Ebola cases in the last 21 days                                         |            10 |                     95   |\n",
            "| 185 | Sierra Leone             | Number of suspected Ebola cases in the last 7 days                                          |             2 |                    186.5 |\n",
            "| 186 | Sierra Leone             | Number of suspected Ebola deaths in the last 21 days                                        |             3 |                    154   |\n",
            "| 187 | Sierra Leone             | Proportion of confirmed Ebola cases that are from the last 21 days                          |            10 |                     95   |\n",
            "| 188 | Sierra Leone             | Proportion of confirmed Ebola cases that are from the last 7 days                           |             2 |                    186.5 |\n",
            "| 189 | Sierra Leone             | Proportion of confirmed Ebola deaths that are from the last 21 days                         |             3 |                    154   |\n",
            "| 190 | Sierra Leone             | Proportion of confirmed, probable and suspected Ebola cases that are from the last 21 days  |            10 |                     95   |\n",
            "| 191 | Sierra Leone             | Proportion of confirmed, probable and suspected Ebola cases that are from the last 7 days   |             2 |                    186.5 |\n",
            "| 192 | Sierra Leone             | Proportion of confirmed, probable and suspected Ebola deaths that are from the last 21 days |             3 |                    154   |\n",
            "| 193 | Sierra Leone             | Proportion of probable Ebola cases that are from the last 21 days                           |            10 |                     95   |\n",
            "| 194 | Sierra Leone             | Proportion of probable Ebola cases that are from the last 7 days                            |             2 |                    186.5 |\n",
            "| 195 | Sierra Leone             | Proportion of probable Ebola deaths that are from the last 21 days                          |             3 |                    154   |\n",
            "| 196 | Sierra Leone             | Proportion of suspected Ebola cases that are from the last 21 days                          |            10 |                     95   |\n",
            "| 197 | Sierra Leone             | Proportion of suspected Ebola cases that are from the last 7 days                           |             2 |                    186.5 |\n",
            "| 198 | Sierra Leone             | Proportion of suspected Ebola deaths that are from the last 21 days                         |             3 |                    154   |\n",
            "| 199 | Spain                    | Cumulative number of confirmed Ebola cases                                                  |           243 |                     43.5 |\n",
            "| 200 | Spain                    | Cumulative number of confirmed Ebola deaths                                                 |           243 |                     43.5 |\n",
            "| 201 | Spain                    | Cumulative number of confirmed, probable and suspected Ebola cases                          |           243 |                     43.5 |\n",
            "| 202 | Spain                    | Cumulative number of confirmed, probable and suspected Ebola deaths                         |           243 |                     43.5 |\n",
            "| 203 | Spain                    | Cumulative number of probable Ebola cases                                                   |           238 |                     53.5 |\n",
            "| 204 | Spain                    | Cumulative number of probable Ebola deaths                                                  |           238 |                     53.5 |\n",
            "| 205 | Spain                    | Cumulative number of suspected Ebola cases                                                  |           238 |                     53.5 |\n",
            "| 206 | Spain                    | Cumulative number of suspected Ebola deaths                                                 |           238 |                     53.5 |\n",
            "| 207 | United Kingdom           | Cumulative number of confirmed Ebola cases                                                  |           221 |                     59.5 |\n",
            "| 208 | United Kingdom           | Cumulative number of confirmed Ebola deaths                                                 |             2 |                    186.5 |\n",
            "| 209 | United Kingdom           | Cumulative number of confirmed, probable and suspected Ebola cases                          |           217 |                     62   |\n",
            "| 210 | United Kingdom           | Cumulative number of confirmed, probable and suspected Ebola deaths                         |           221 |                     59.5 |\n",
            "| 211 | United Kingdom           | Cumulative number of probable Ebola cases                                                   |           221 |                     59.5 |\n",
            "| 212 | United Kingdom           | Cumulative number of probable Ebola deaths                                                  |             2 |                    186.5 |\n",
            "| 213 | United Kingdom           | Cumulative number of suspected Ebola cases                                                  |           221 |                     59.5 |\n",
            "| 214 | United Kingdom           | Cumulative number of suspected Ebola deaths                                                 |             2 |                    186.5 |\n",
            "| 215 | United States of America | Cumulative number of confirmed Ebola cases                                                  |           245 |                     38.5 |\n",
            "| 216 | United States of America | Cumulative number of confirmed Ebola deaths                                                 |           245 |                     38.5 |\n",
            "| 217 | United States of America | Cumulative number of confirmed, probable and suspected Ebola cases                          |           245 |                     38.5 |\n",
            "| 218 | United States of America | Cumulative number of confirmed, probable and suspected Ebola deaths                         |           245 |                     38.5 |\n",
            "| 219 | United States of America | Cumulative number of probable Ebola cases                                                   |           238 |                     53.5 |\n",
            "| 220 | United States of America | Cumulative number of probable Ebola deaths                                                  |           238 |                     53.5 |\n",
            "| 221 | United States of America | Cumulative number of suspected Ebola cases                                                  |           238 |                     53.5 |\n",
            "| 222 | United States of America | Cumulative number of suspected Ebola deaths                                                 |           238 |                     53.5 |\n"
          ]
        }
      ]
    },
    {
      "cell_type": "markdown",
      "source": [
        "### **1.7 For those Top 10 countries by Indicator = Cumulative number of confirmed Ebola cases, plot group bar chart.**\n",
        "\n",
        "X-axis -> Country\n",
        "\n",
        "Y-axis -> Bar 1 -> total_value with Indicator = Cumulative number of suspected Ebola cases\n",
        "\n",
        "Y-axis -> Bar 2 ->  total_value with Indicator = Cumulative number of confirmed Ebola cases\n"
      ],
      "metadata": {
        "id": "zNTGxP3zsilc"
      }
    },
    {
      "cell_type": "code",
      "source": [
        "import seaborn as sns\n",
        "import matplotlib.pyplot as plt\n",
        "df = df_ebola.copy()\n",
        "\n",
        "confirmed2 = df.where(df['Indicator'] == \"Cumulative number of confirmed Ebola cases\")\\\n",
        "            .groupby([\"Country\"]).size().to_frame('Cumulative number of confirmed Ebola cases').reset_index()\n",
        "confirmed2['rank'] = confirmed2['Cumulative number of confirmed Ebola cases'].rank(ascending=False)\n",
        "confirmed2 = confirmed2.sort_values('rank').head(10)\n",
        "confirmed2.rename(columns={'value': 'Cumulative number of confirmed Ebola cases'}, inplace=True)\n",
        "confirmed3 = df.where(df['Indicator'] == \"Cumulative number of suspected Ebola cases\")\\\n",
        "            .groupby([\"Country\"]).size().to_frame('Cumulative number of suspected Ebola cases').reset_index()\n",
        "confirmed3['rank'] = confirmed3['Cumulative number of suspected Ebola cases'].rank(ascending=False)\n",
        "confirmed3 = confirmed3.sort_values('rank').head(10)\n",
        "confirmed3.rename(columns={'value': 'Cumulative number of suspected Ebola cases'}, inplace=True)\n",
        "\n",
        "confirmed2 = pd.merge(confirmed2, confirmed3, on='Country')\n",
        "melted = confirmed2.melt(id_vars='Country', value_vars=['Cumulative number of confirmed Ebola cases', 'Cumulative number of suspected Ebola cases'],\n",
        "                     var_name='Indicator', value_name='Total')\n",
        "plt.figure(figsize=(12, 6))\n",
        "sns.barplot(data=melted, x='Country', y='Total', hue='Indicator')\n",
        "plt.title('Grouped Barchart: Confirmed vs Suspected Ebola Cases (2015)')\n",
        "plt.xlabel('Country')\n",
        "plt.ylabel('Total Cases')\n",
        "plt.xticks(rotation=45)\n",
        "plt.tight_layout()\n",
        "plt.show()"
      ],
      "metadata": {
        "id": "kzCgroyEM10K",
        "colab": {
          "base_uri": "https://localhost:8080/",
          "height": 607
        },
        "outputId": "47975f96-cdc9-47c8-f0ae-d8a0f1e8a215"
      },
      "execution_count": 75,
      "outputs": [
        {
          "output_type": "display_data",
          "data": {
            "text/plain": [
              "<Figure size 1200x600 with 1 Axes>"
            ],
            "image/png": "[encoded data removed]"
          },
          "metadata": {}
        }
      ]
    },
    {
      "cell_type": "code",
      "source": [],
      "metadata": {
        "id": "q_Upmco58XIH"
      },
      "execution_count": null,
      "outputs": []
    }
  ]
}