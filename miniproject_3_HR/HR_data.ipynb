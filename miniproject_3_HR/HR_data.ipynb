{
  "nbformat": 4,
  "nbformat_minor": 0,
  "metadata": {
    "colab": {
      "provenance": [],
      "mount_file_id": "1bvk_chNVLJ68f9558tWuDHRBpYKHqFYo",
      "authorship_tag": "ABX9TyNAs+jOVsNQ3IHK/qe6Y5rU",
      "include_colab_link": true
    },
    "kernelspec": {
      "name": "python3",
      "display_name": "Python 3"
    },
    "language_info": {
      "name": "python"
    }
  },
  "cells": [
    {
      "cell_type": "markdown",
      "metadata": {
        "id": "view-in-github",
        "colab_type": "text"
      },
      "source": [
        "<a href=\"https://colab.research.google.com/github/sivasamy1/data_analytics/blob/main/HR_MINIPROJECT3.ipynb\" target=\"_parent\"><img src=\"https://colab.research.google.com/assets/colab-badge.svg\" alt=\"Open In Colab\"/></a>"
      ]
    },
    {
      "cell_type": "code",
      "source": [
        "from google.colab import drive\n",
        "drive.mount('/content/drive')"
      ],
      "metadata": {
        "colab": {
          "base_uri": "https://localhost:8080/"
        },
        "id": "jbPH4kZNvvbZ",
        "outputId": "e941fd8f-efb3-4ede-e334-2b2252fd0bda"
      },
      "execution_count": null,
      "outputs": [
        {
          "output_type": "stream",
          "name": "stdout",
          "text": [
            "Drive already mounted at /content/drive; to attempt to forcibly remount, call drive.mount(\"/content/drive\", force_remount=True).\n"
          ]
        }
      ]
    },
    {
      "cell_type": "code",
      "source": [
        "import pandas as pd\n",
        "from tabulate import tabulate\n",
        "df = pd.read_csv('/content/drive/MyDrive/data_analytics/HR data/HR_comma_sep (1).csv')\n"
      ],
      "metadata": {
        "id": "qs_FoQNcvw-h"
      },
      "execution_count": 1,
      "outputs": []
    },
    {
      "cell_type": "code",
      "source": [
        "\n",
        "num_employees = df['sales'].value_counts().reset_index()\n",
        "num_employees.columns = ['Sales', 'num_employees']\n",
        "num_employees = num_employees.sort_values(by='num_employees', ascending=True)\n",
        "\n",
        "print(tabulate(num_employees, headers='keys', tablefmt='psql'))"
      ],
      "metadata": {
        "colab": {
          "base_uri": "https://localhost:8080/"
        },
        "id": "J7ml4fgU0-JV",
        "outputId": "9b04ea86-3bbf-4a3e-86ee-e0c1bd28711c"
      },
      "execution_count": null,
      "outputs": [
        {
          "output_type": "stream",
          "name": "stdout",
          "text": [
            "+----+-------------+-----------------+\n",
            "|    | Sales       |   num_employees |\n",
            "|----+-------------+-----------------|\n",
            "|  9 | management  |             630 |\n",
            "|  8 | hr          |             739 |\n",
            "|  7 | accounting  |             767 |\n",
            "|  6 | RandD       |             787 |\n",
            "|  5 | marketing   |             858 |\n",
            "|  4 | product_mng |             902 |\n",
            "|  3 | IT          |            1227 |\n",
            "|  2 | support     |            2229 |\n",
            "|  1 | technical   |            2720 |\n",
            "|  0 | sales       |            4140 |\n",
            "+----+-------------+-----------------+\n"
          ]
        }
      ]
    },
    {
      "cell_type": "code",
      "source": [
        "left_employees = df[df['left'] == 1]['sales'].value_counts().reset_index()\n",
        "left_employees.columns = ['sales', 'num_employees']\n",
        "left_employees['rank'] = left_employees['num_employees'].rank(ascending=False)\n",
        "\n",
        "print(tabulate(left_employees, headers='keys', tablefmt='psql'))"
      ],
      "metadata": {
        "colab": {
          "base_uri": "https://localhost:8080/"
        },
        "id": "9UT2ANEC65wu",
        "outputId": "93618a74-59fb-4d75-cfb4-87ff99a870e0"
      },
      "execution_count": null,
      "outputs": [
        {
          "output_type": "stream",
          "name": "stdout",
          "text": [
            "+----+-------------+-----------------+--------+\n",
            "|    | sales       |   num_employees |   rank |\n",
            "|----+-------------+-----------------+--------|\n",
            "|  0 | sales       |            1014 |      1 |\n",
            "|  1 | technical   |             697 |      2 |\n",
            "|  2 | support     |             555 |      3 |\n",
            "|  3 | IT          |             273 |      4 |\n",
            "|  4 | hr          |             215 |      5 |\n",
            "|  5 | accounting  |             204 |      6 |\n",
            "|  6 | marketing   |             203 |      7 |\n",
            "|  7 | product_mng |             198 |      8 |\n",
            "|  8 | RandD       |             121 |      9 |\n",
            "|  9 | management  |              91 |     10 |\n",
            "+----+-------------+-----------------+--------+\n"
          ]
        }
      ]
    },
    {
      "cell_type": "code",
      "source": [
        "avg_hours_time = df.groupby(['left', 'sales']).agg(avg_average_monthly_hours=('average_montly_hours', 'mean'),avg_time_spend_company=('time_spend_company', 'mean')).sort_values(by='left').reset_index()\n",
        "\n",
        "print(tabulate(avg_hours_time, headers='keys', tablefmt='psql'))\n"
      ],
      "metadata": {
        "colab": {
          "base_uri": "https://localhost:8080/"
        },
        "id": "XnTlAfz1Aiiq",
        "outputId": "fca7a08e-0a0c-4c4f-daaf-125db9899ea9"
      },
      "execution_count": null,
      "outputs": [
        {
          "output_type": "stream",
          "name": "stdout",
          "text": [
            "+----+--------+-------------+-----------------------------+--------------------------+\n",
            "|    |   left | sales       |   avg_average_monthly_hours |   avg_time_spend_company |\n",
            "|----+--------+-------------+-----------------------------+--------------------------|\n",
            "|  0 |      0 | IT          |                     198.887 |                  3.35639 |\n",
            "|  1 |      0 | support     |                     199.141 |                  3.21386 |\n",
            "|  2 |      0 | sales       |                     199.572 |                  3.4437  |\n",
            "|  3 |      0 | product_mng |                     197.766 |                  3.33097 |\n",
            "|  4 |      0 | marketing   |                     198.889 |                  3.48092 |\n",
            "|  5 |      0 | technical   |                     198.471 |                  3.22244 |\n",
            "|  6 |      0 | hr          |                     199.25  |                  3.19275 |\n",
            "|  7 |      0 | accounting  |                     199.037 |                  3.42451 |\n",
            "|  8 |      0 | RandD       |                     198.952 |                  3.25225 |\n",
            "|  9 |      0 | management  |                     200.234 |                  4.39518 |\n",
            "| 10 |      1 | support     |                     205.636 |                  3.93333 |\n",
            "| 11 |      1 | IT          |                     213.85  |                  3.86081 |\n",
            "| 12 |      1 | RandD       |                     210.975 |                  4       |\n",
            "| 13 |      1 | accounting  |                     207.029 |                  3.79412 |\n",
            "| 14 |      1 | hr          |                     197.307 |                  3.75349 |\n",
            "| 15 |      1 | management  |                     207.264 |                  3.75824 |\n",
            "| 16 |      1 | marketing   |                     200.99  |                  3.85714 |\n",
            "| 17 |      1 | product_mng |                     207.788 |                  3.9899  |\n",
            "| 18 |      1 | sales       |                     205.041 |                  3.81262 |\n",
            "| 19 |      1 | technical   |                     214.184 |                  3.95983 |\n",
            "+----+--------+-------------+-----------------------------+--------------------------+\n"
          ]
        }
      ]
    },
    {
      "cell_type": "code",
      "source": [
        "min_max_hours_time = df.groupby(['left', 'sales']).agg(min_time_spend_company=('time_spend_company', 'min'),max_time_spend_company=('time_spend_company', 'max'),min_average_monthly_hours=('average_montly_hours', 'min'),max_average_monthly_hours=('average_montly_hours', 'max')).reset_index().sort_values(by='left')\n",
        "\n",
        "print(tabulate(min_max_hours_time, headers='keys', tablefmt='psql'))"
      ],
      "metadata": {
        "colab": {
          "base_uri": "https://localhost:8080/"
        },
        "id": "dY7nQXLHXr7B",
        "outputId": "91bad085-0048-4a48-8bbd-7930066be8b5"
      },
      "execution_count": null,
      "outputs": [
        {
          "output_type": "stream",
          "name": "stdout",
          "text": [
            "+----+--------+-------------+--------------------------+--------------------------+-----------------------------+-----------------------------+\n",
            "|    |   left | sales       |   min_time_spend_company |   max_time_spend_company |   min_average_monthly_hours |   max_average_monthly_hours |\n",
            "|----+--------+-------------+--------------------------+--------------------------+-----------------------------+-----------------------------|\n",
            "|  0 |      0 | IT          |                        2 |                       10 |                          96 |                         287 |\n",
            "|  8 |      0 | support     |                        2 |                       10 |                          96 |                         287 |\n",
            "|  7 |      0 | sales       |                        2 |                       10 |                          96 |                         287 |\n",
            "|  6 |      0 | product_mng |                        2 |                       10 |                          98 |                         286 |\n",
            "|  5 |      0 | marketing   |                        2 |                       10 |                          96 |                         286 |\n",
            "|  9 |      0 | technical   |                        2 |                       10 |                          97 |                         287 |\n",
            "|  3 |      0 | hr          |                        2 |                        8 |                          98 |                         285 |\n",
            "|  2 |      0 | accounting  |                        2 |                       10 |                          97 |                         285 |\n",
            "|  1 |      0 | RandD       |                        2 |                        8 |                          98 |                         287 |\n",
            "|  4 |      0 | management  |                        2 |                       10 |                          97 |                         286 |\n",
            "| 18 |      1 | support     |                        2 |                        6 |                         126 |                         310 |\n",
            "| 10 |      1 | IT          |                        2 |                        6 |                         127 |                         308 |\n",
            "| 11 |      1 | RandD       |                        2 |                        6 |                         127 |                         308 |\n",
            "| 12 |      1 | accounting  |                        2 |                        6 |                         127 |                         310 |\n",
            "| 13 |      1 | hr          |                        3 |                        6 |                         126 |                         310 |\n",
            "| 14 |      1 | management  |                        2 |                        6 |                         127 |                         307 |\n",
            "| 15 |      1 | marketing   |                        3 |                        6 |                         127 |                         310 |\n",
            "| 16 |      1 | product_mng |                        3 |                        6 |                         129 |                         310 |\n",
            "| 17 |      1 | sales       |                        2 |                        6 |                         126 |                         310 |\n",
            "| 19 |      1 | technical   |                        2 |                        6 |                         126 |                         310 |\n",
            "+----+--------+-------------+--------------------------+--------------------------+-----------------------------+-----------------------------+\n"
          ]
        }
      ]
    },
    {
      "cell_type": "code",
      "source": [
        "\n",
        "df1 = df[df['left']==1]\n",
        "min_max_hours_time1 = df1.groupby(['left', 'sales']).agg(min_time_spend_company=('time_spend_company', 'min'),max_time_spend_company=('time_spend_company', 'max'),min_average_monthly_hours=('average_montly_hours', 'min'),max_average_monthly_hours=('average_montly_hours', 'max')).reset_index().sort_values(by='left')\n",
        "\n",
        "print(tabulate(min_max_hours_time, headers='keys', tablefmt='psql'))"
      ],
      "metadata": {
        "colab": {
          "base_uri": "https://localhost:8080/"
        },
        "id": "lGYa4CP7Ek2I",
        "outputId": "124bc9b8-56a6-4cc5-9c47-078b8634eef6"
      },
      "execution_count": null,
      "outputs": [
        {
          "output_type": "stream",
          "name": "stdout",
          "text": [
            "+----+--------+-------------+--------------------------+--------------------------+-----------------------------+-----------------------------+\n",
            "|    |   left | sales       |   min_time_spend_company |   max_time_spend_company |   min_average_monthly_hours |   max_average_monthly_hours |\n",
            "|----+--------+-------------+--------------------------+--------------------------+-----------------------------+-----------------------------|\n",
            "|  0 |      0 | IT          |                        2 |                       10 |                          96 |                         287 |\n",
            "|  8 |      0 | support     |                        2 |                       10 |                          96 |                         287 |\n",
            "|  7 |      0 | sales       |                        2 |                       10 |                          96 |                         287 |\n",
            "|  6 |      0 | product_mng |                        2 |                       10 |                          98 |                         286 |\n",
            "|  5 |      0 | marketing   |                        2 |                       10 |                          96 |                         286 |\n",
            "|  9 |      0 | technical   |                        2 |                       10 |                          97 |                         287 |\n",
            "|  3 |      0 | hr          |                        2 |                        8 |                          98 |                         285 |\n",
            "|  2 |      0 | accounting  |                        2 |                       10 |                          97 |                         285 |\n",
            "|  1 |      0 | RandD       |                        2 |                        8 |                          98 |                         287 |\n",
            "|  4 |      0 | management  |                        2 |                       10 |                          97 |                         286 |\n",
            "| 18 |      1 | support     |                        2 |                        6 |                         126 |                         310 |\n",
            "| 10 |      1 | IT          |                        2 |                        6 |                         127 |                         308 |\n",
            "| 11 |      1 | RandD       |                        2 |                        6 |                         127 |                         308 |\n",
            "| 12 |      1 | accounting  |                        2 |                        6 |                         127 |                         310 |\n",
            "| 13 |      1 | hr          |                        3 |                        6 |                         126 |                         310 |\n",
            "| 14 |      1 | management  |                        2 |                        6 |                         127 |                         307 |\n",
            "| 15 |      1 | marketing   |                        3 |                        6 |                         127 |                         310 |\n",
            "| 16 |      1 | product_mng |                        3 |                        6 |                         129 |                         310 |\n",
            "| 17 |      1 | sales       |                        2 |                        6 |                         126 |                         310 |\n",
            "| 19 |      1 | technical   |                        2 |                        6 |                         126 |                         310 |\n",
            "+----+--------+-------------+--------------------------+--------------------------+-----------------------------+-----------------------------+\n"
          ]
        }
      ]
    },
    {
      "cell_type": "code",
      "source": [
        "df2 = df[df['left']==0]\n",
        "min_max_hours_time2 = df2.groupby(['left', 'sales']).agg(min_time_spend_company=('time_spend_company', 'min'),max_time_spend_company=('time_spend_company', 'max'),min_average_monthly_hours=('average_montly_hours', 'min'),max_average_monthly_hours=('average_montly_hours', 'max')).reset_index().sort_values(by='left')\n",
        "\n",
        "print(tabulate(min_max_hours_time, headers='keys', tablefmt='psql'))"
      ],
      "metadata": {
        "colab": {
          "base_uri": "https://localhost:8080/"
        },
        "id": "YVSo4PhfHP3p",
        "outputId": "82e4ba0a-efe3-4b44-ae1b-4bb09d57be51"
      },
      "execution_count": null,
      "outputs": [
        {
          "output_type": "stream",
          "name": "stdout",
          "text": [
            "+----+--------+-------------+--------------------------+--------------------------+-----------------------------+-----------------------------+\n",
            "|    |   left | sales       |   min_time_spend_company |   max_time_spend_company |   min_average_monthly_hours |   max_average_monthly_hours |\n",
            "|----+--------+-------------+--------------------------+--------------------------+-----------------------------+-----------------------------|\n",
            "|  0 |      0 | IT          |                        2 |                       10 |                          96 |                         287 |\n",
            "|  8 |      0 | support     |                        2 |                       10 |                          96 |                         287 |\n",
            "|  7 |      0 | sales       |                        2 |                       10 |                          96 |                         287 |\n",
            "|  6 |      0 | product_mng |                        2 |                       10 |                          98 |                         286 |\n",
            "|  5 |      0 | marketing   |                        2 |                       10 |                          96 |                         286 |\n",
            "|  9 |      0 | technical   |                        2 |                       10 |                          97 |                         287 |\n",
            "|  3 |      0 | hr          |                        2 |                        8 |                          98 |                         285 |\n",
            "|  2 |      0 | accounting  |                        2 |                       10 |                          97 |                         285 |\n",
            "|  1 |      0 | RandD       |                        2 |                        8 |                          98 |                         287 |\n",
            "|  4 |      0 | management  |                        2 |                       10 |                          97 |                         286 |\n",
            "| 18 |      1 | support     |                        2 |                        6 |                         126 |                         310 |\n",
            "| 10 |      1 | IT          |                        2 |                        6 |                         127 |                         308 |\n",
            "| 11 |      1 | RandD       |                        2 |                        6 |                         127 |                         308 |\n",
            "| 12 |      1 | accounting  |                        2 |                        6 |                         127 |                         310 |\n",
            "| 13 |      1 | hr          |                        3 |                        6 |                         126 |                         310 |\n",
            "| 14 |      1 | management  |                        2 |                        6 |                         127 |                         307 |\n",
            "| 15 |      1 | marketing   |                        3 |                        6 |                         127 |                         310 |\n",
            "| 16 |      1 | product_mng |                        3 |                        6 |                         129 |                         310 |\n",
            "| 17 |      1 | sales       |                        2 |                        6 |                         126 |                         310 |\n",
            "| 19 |      1 | technical   |                        2 |                        6 |                         126 |                         310 |\n",
            "+----+--------+-------------+--------------------------+--------------------------+-----------------------------+-----------------------------+\n"
          ]
        }
      ]
    },
    {
      "cell_type": "code",
      "source": [
        "min_max_eval_satisfaction = df.groupby(['left', 'sales']).agg(\n",
        "    min_last_evaluation=('last_evaluation', 'min'),\n",
        "    max_last_evaluation=('last_evaluation', 'max'),\n",
        "    avg_last_evaluation=('last_evaluation', 'mean'),\n",
        "    min_satisfaction_level=('satisfaction_level', 'min'),\n",
        "    max_satisfaction_level=('satisfaction_level', 'max'),\n",
        "    avg_satisfaction_level=('satisfaction_level', 'mean')\n",
        ").reset_index().sort_values(by='left')\n",
        "\n",
        "print(tabulate(min_max_eval_satisfaction, headers='keys', tablefmt='psql'))"
      ],
      "metadata": {
        "colab": {
          "base_uri": "https://localhost:8080/"
        },
        "id": "chXZ_4hbTvcR",
        "outputId": "509e3b8c-2802-4201-bcb3-3c7bc6fb4e6f"
      },
      "execution_count": null,
      "outputs": [
        {
          "output_type": "stream",
          "name": "stdout",
          "text": [
            "+----+--------+-------------+-----------------------+-----------------------+-----------------------+--------------------------+--------------------------+--------------------------+\n",
            "|    |   left | sales       |   min_last_evaluation |   max_last_evaluation |   avg_last_evaluation |   min_satisfaction_level |   max_satisfaction_level |   avg_satisfaction_level |\n",
            "|----+--------+-------------+-----------------------+-----------------------+-----------------------+--------------------------+--------------------------+--------------------------|\n",
            "|  0 |      0 | IT          |                  0.37 |                     1 |              0.71305  |                     0.12 |                     1    |                 0.67717  |\n",
            "|  8 |      0 | support     |                  0.36 |                     1 |              0.721714 |                     0.12 |                     1    |                 0.673799 |\n",
            "|  7 |      0 | sales       |                  0.36 |                     1 |              0.709223 |                     0.12 |                     1    |                 0.668548 |\n",
            "|  6 |      0 | product_mng |                  0.36 |                     1 |              0.711435 |                     0.13 |                     1    |                 0.658466 |\n",
            "|  5 |      0 | marketing   |                  0.36 |                     1 |              0.723282 |                     0.12 |                     1    |                 0.669878 |\n",
            "|  9 |      0 | technical   |                  0.36 |                     1 |              0.716609 |                     0.12 |                     1    |                 0.668319 |\n",
            "|  3 |      0 | hr          |                  0.37 |                     1 |              0.720802 |                     0.13 |                     1    |                 0.666679 |\n",
            "|  2 |      0 | accounting  |                  0.36 |                     1 |              0.726128 |                     0.12 |                     1    |                 0.647211 |\n",
            "|  1 |      0 | RandD       |                  0.36 |                     1 |              0.706081 |                     0.12 |                     1    |                 0.653799 |\n",
            "|  4 |      0 | management  |                  0.37 |                     1 |              0.723451 |                     0.12 |                     1    |                 0.654861 |\n",
            "| 18 |      1 | support     |                  0.45 |                     1 |              0.727315 |                     0.09 |                     0.91 |                 0.450901 |\n",
            "| 10 |      1 | IT          |                  0.45 |                     1 |              0.730037 |                     0.09 |                     0.92 |                 0.411868 |\n",
            "| 11 |      1 | RandD       |                  0.46 |                     1 |              0.745372 |                     0.09 |                     0.92 |                 0.43281  |\n",
            "| 12 |      1 | accounting  |                  0.45 |                     1 |              0.69451  |                     0.09 |                     0.91 |                 0.402598 |\n",
            "| 13 |      1 | hr          |                  0.45 |                     1 |              0.679721 |                     0.09 |                     0.91 |                 0.433395 |\n",
            "| 14 |      1 | management  |                  0.46 |                     1 |              0.727253 |                     0.09 |                     0.9  |                 0.422857 |\n",
            "| 15 |      1 | marketing   |                  0.45 |                     1 |              0.69202  |                     0.09 |                     0.9  |                 0.453153 |\n",
            "| 16 |      1 | product_mng |                  0.45 |                     1 |              0.726566 |                     0.09 |                     0.91 |                 0.481566 |\n",
            "| 17 |      1 | sales       |                  0.45 |                     1 |              0.711243 |                     0.09 |                     0.92 |                 0.447663 |\n",
            "| 19 |      1 | technical   |                  0.45 |                     1 |              0.734132 |                     0.09 |                     0.92 |                 0.432525 |\n",
            "+----+--------+-------------+-----------------------+-----------------------+-----------------------+--------------------------+--------------------------+--------------------------+\n"
          ]
        }
      ]
    },
    {
      "cell_type": "code",
      "source": [
        "work_accident_promotion = df.groupby(['left', 'sales']).agg(\n",
        "    count_work_accident=('Work_accident', 'sum'),\n",
        "    count_promotion_last_5years=('promotion_last_5years', 'sum')\n",
        ").reset_index().sort_values(by='left')\n",
        "\n",
        "print(tabulate(work_accident_promotion, headers='keys', tablefmt='psql'))"
      ],
      "metadata": {
        "colab": {
          "base_uri": "https://localhost:8080/"
        },
        "id": "FnKGbSZyU14I",
        "outputId": "690953ce-7190-42e8-dd96-1f1f58000239"
      },
      "execution_count": null,
      "outputs": [
        {
          "output_type": "stream",
          "name": "stdout",
          "text": [
            "+----+--------+-------------+-----------------------+-------------------------------+\n",
            "|    |   left | sales       |   count_work_accident |   count_promotion_last_5years |\n",
            "|----+--------+-------------+-----------------------+-------------------------------|\n",
            "|  0 |      0 | IT          |                   155 |                             0 |\n",
            "|  8 |      0 | support     |                   314 |                            17 |\n",
            "|  7 |      0 | sales       |                   541 |                            93 |\n",
            "|  6 |      0 | product_mng |                   123 |                             0 |\n",
            "|  5 |      0 | marketing   |                   128 |                            43 |\n",
            "|  9 |      0 | technical   |                   348 |                            25 |\n",
            "|  3 |      0 | hr          |                    82 |                            15 |\n",
            "|  2 |      0 | accounting  |                    87 |                            14 |\n",
            "|  1 |      0 | RandD       |                   124 |                            27 |\n",
            "|  4 |      0 | management  |                    98 |                            66 |\n",
            "| 18 |      1 | support     |                    31 |                             3 |\n",
            "| 10 |      1 | IT          |                     9 |                             3 |\n",
            "| 11 |      1 | RandD       |                    10 |                             0 |\n",
            "| 12 |      1 | accounting  |                     9 |                             0 |\n",
            "| 13 |      1 | hr          |                     7 |                             0 |\n",
            "| 14 |      1 | management  |                     5 |                             3 |\n",
            "| 15 |      1 | marketing   |                    10 |                             0 |\n",
            "| 16 |      1 | product_mng |                     9 |                             0 |\n",
            "| 17 |      1 | sales       |                    46 |                             7 |\n",
            "| 19 |      1 | technical   |                    33 |                             3 |\n",
            "+----+--------+-------------+-----------------------+-------------------------------+\n"
          ]
        }
      ]
    },
    {
      "cell_type": "code",
      "source": [
        "combined_output = avg_hours_time.merge(min_max_hours_time, on=['left', 'sales'])\n",
        "combined_output = combined_output.merge(min_max_eval_satisfaction, on=['left', 'sales'])\n",
        "combined_output = combined_output.merge(work_accident_promotion, on=['left', 'sales'])\n",
        "\n",
        "print(tabulate(combined_output, headers='keys', tablefmt='psql'))"
      ],
      "metadata": {
        "colab": {
          "base_uri": "https://localhost:8080/"
        },
        "id": "S0C1jjp0ViRJ",
        "outputId": "97ba6604-cd74-4cb0-9767-004e8e8c3761"
      },
      "execution_count": null,
      "outputs": [
        {
          "output_type": "stream",
          "name": "stdout",
          "text": [
            "+----+--------+-------------+-----------------------------+--------------------------+--------------------------+--------------------------+-----------------------------+-----------------------------+-----------------------+-----------------------+-----------------------+--------------------------+--------------------------+--------------------------+-----------------------+-------------------------------+\n",
            "|    |   left | sales       |   avg_average_monthly_hours |   avg_time_spend_company |   min_time_spend_company |   max_time_spend_company |   min_average_monthly_hours |   max_average_monthly_hours |   min_last_evaluation |   max_last_evaluation |   avg_last_evaluation |   min_satisfaction_level |   max_satisfaction_level |   avg_satisfaction_level |   count_work_accident |   count_promotion_last_5years |\n",
            "|----+--------+-------------+-----------------------------+--------------------------+--------------------------+--------------------------+-----------------------------+-----------------------------+-----------------------+-----------------------+-----------------------+--------------------------+--------------------------+--------------------------+-----------------------+-------------------------------|\n",
            "|  0 |      0 | IT          |                     198.887 |                  3.35639 |                        2 |                       10 |                          96 |                         287 |                  0.37 |                     1 |              0.71305  |                     0.12 |                     1    |                 0.67717  |                   155 |                             0 |\n",
            "|  1 |      0 | support     |                     199.141 |                  3.21386 |                        2 |                       10 |                          96 |                         287 |                  0.36 |                     1 |              0.721714 |                     0.12 |                     1    |                 0.673799 |                   314 |                            17 |\n",
            "|  2 |      0 | sales       |                     199.572 |                  3.4437  |                        2 |                       10 |                          96 |                         287 |                  0.36 |                     1 |              0.709223 |                     0.12 |                     1    |                 0.668548 |                   541 |                            93 |\n",
            "|  3 |      0 | product_mng |                     197.766 |                  3.33097 |                        2 |                       10 |                          98 |                         286 |                  0.36 |                     1 |              0.711435 |                     0.13 |                     1    |                 0.658466 |                   123 |                             0 |\n",
            "|  4 |      0 | marketing   |                     198.889 |                  3.48092 |                        2 |                       10 |                          96 |                         286 |                  0.36 |                     1 |              0.723282 |                     0.12 |                     1    |                 0.669878 |                   128 |                            43 |\n",
            "|  5 |      0 | technical   |                     198.471 |                  3.22244 |                        2 |                       10 |                          97 |                         287 |                  0.36 |                     1 |              0.716609 |                     0.12 |                     1    |                 0.668319 |                   348 |                            25 |\n",
            "|  6 |      0 | hr          |                     199.25  |                  3.19275 |                        2 |                        8 |                          98 |                         285 |                  0.37 |                     1 |              0.720802 |                     0.13 |                     1    |                 0.666679 |                    82 |                            15 |\n",
            "|  7 |      0 | accounting  |                     199.037 |                  3.42451 |                        2 |                       10 |                          97 |                         285 |                  0.36 |                     1 |              0.726128 |                     0.12 |                     1    |                 0.647211 |                    87 |                            14 |\n",
            "|  8 |      0 | RandD       |                     198.952 |                  3.25225 |                        2 |                        8 |                          98 |                         287 |                  0.36 |                     1 |              0.706081 |                     0.12 |                     1    |                 0.653799 |                   124 |                            27 |\n",
            "|  9 |      0 | management  |                     200.234 |                  4.39518 |                        2 |                       10 |                          97 |                         286 |                  0.37 |                     1 |              0.723451 |                     0.12 |                     1    |                 0.654861 |                    98 |                            66 |\n",
            "| 10 |      1 | support     |                     205.636 |                  3.93333 |                        2 |                        6 |                         126 |                         310 |                  0.45 |                     1 |              0.727315 |                     0.09 |                     0.91 |                 0.450901 |                    31 |                             3 |\n",
            "| 11 |      1 | IT          |                     213.85  |                  3.86081 |                        2 |                        6 |                         127 |                         308 |                  0.45 |                     1 |              0.730037 |                     0.09 |                     0.92 |                 0.411868 |                     9 |                             3 |\n",
            "| 12 |      1 | RandD       |                     210.975 |                  4       |                        2 |                        6 |                         127 |                         308 |                  0.46 |                     1 |              0.745372 |                     0.09 |                     0.92 |                 0.43281  |                    10 |                             0 |\n",
            "| 13 |      1 | accounting  |                     207.029 |                  3.79412 |                        2 |                        6 |                         127 |                         310 |                  0.45 |                     1 |              0.69451  |                     0.09 |                     0.91 |                 0.402598 |                     9 |                             0 |\n",
            "| 14 |      1 | hr          |                     197.307 |                  3.75349 |                        3 |                        6 |                         126 |                         310 |                  0.45 |                     1 |              0.679721 |                     0.09 |                     0.91 |                 0.433395 |                     7 |                             0 |\n",
            "| 15 |      1 | management  |                     207.264 |                  3.75824 |                        2 |                        6 |                         127 |                         307 |                  0.46 |                     1 |              0.727253 |                     0.09 |                     0.9  |                 0.422857 |                     5 |                             3 |\n",
            "| 16 |      1 | marketing   |                     200.99  |                  3.85714 |                        3 |                        6 |                         127 |                         310 |                  0.45 |                     1 |              0.69202  |                     0.09 |                     0.9  |                 0.453153 |                    10 |                             0 |\n",
            "| 17 |      1 | product_mng |                     207.788 |                  3.9899  |                        3 |                        6 |                         129 |                         310 |                  0.45 |                     1 |              0.726566 |                     0.09 |                     0.91 |                 0.481566 |                     9 |                             0 |\n",
            "| 18 |      1 | sales       |                     205.041 |                  3.81262 |                        2 |                        6 |                         126 |                         310 |                  0.45 |                     1 |              0.711243 |                     0.09 |                     0.92 |                 0.447663 |                    46 |                             7 |\n",
            "| 19 |      1 | technical   |                     214.184 |                  3.95983 |                        2 |                        6 |                         126 |                         310 |                  0.45 |                     1 |              0.734132 |                     0.09 |                     0.92 |                 0.432525 |                    33 |                             3 |\n",
            "+----+--------+-------------+-----------------------------+--------------------------+--------------------------+--------------------------+-----------------------------+-----------------------------+-----------------------+-----------------------+-----------------------+--------------------------+--------------------------+--------------------------+-----------------------+-------------------------------+\n"
          ]
        }
      ]
    },
    {
      "cell_type": "code",
      "source": [
        "import seaborn as sns\n",
        "import matplotlib.pyplot as plt\n",
        "\n",
        "plt.figure(figsize=(10, 6))\n",
        "sns.barplot(data=combined_output, x='sales', y='avg_time_spend_company', hue='left')\n",
        "plt.title('Grouped Barchart')\n",
        "plt.xlabel('sales')\n",
        "plt.ylabel('Avg_time_spent_company')\n",
        "\n",
        "plt.show()"
      ],
      "metadata": {
        "colab": {
          "base_uri": "https://localhost:8080/",
          "height": 653
        },
        "id": "DjBuHw7_Ws_B",
        "outputId": "3fc4c94f-bf78-4e9f-f6a2-d60525ccd579"
      },
      "execution_count": null,
      "outputs": [
        {
          "output_type": "stream",
          "name": "stderr",
          "text": [
            "/usr/local/lib/python3.10/dist-packages/seaborn/_base.py:949: FutureWarning: When grouping with a length-1 list-like, you will need to pass a length-1 tuple to get_group in a future version of pandas. Pass `(name,)` instead of `name` to silence this warning.\n",
            "  data_subset = grouped_data.get_group(pd_key)\n",
            "/usr/local/lib/python3.10/dist-packages/seaborn/_base.py:949: FutureWarning: When grouping with a length-1 list-like, you will need to pass a length-1 tuple to get_group in a future version of pandas. Pass `(name,)` instead of `name` to silence this warning.\n",
            "  data_subset = grouped_data.get_group(pd_key)\n"
          ]
        },
        {
          "output_type": "display_data",
          "data": {
            "text/plain": [
              "<Figure size 1000x600 with 1 Axes>"
            ],
            "image/png": "[encoded data removed]"
          },
          "metadata": {}
        }
      ]
    },
    {
      "cell_type": "code",
      "source": [
        "df_avg_time_spent = df.groupby(['left', 'sales'])[['time_spend_company', 'average_montly_hours']]\\\n",
        "                    .mean()\\\n",
        "                    .reset_index()\n",
        "print(tabulate(df_avg_time_spent, headers='keys', tablefmt='psql'))\n",
        "columns = [\n",
        "    'left', 'time_spend_company',\n",
        "    'average_montly_hours']\n",
        "\n",
        "corr_matrix = df_avg_time_spent[columns].corr()\n",
        "corr_matrix = corr_matrix\n",
        "plt.figure(figsize=(10, 8))\n",
        "sns.heatmap(corr_matrix, annot=True, cmap='Blues', linewidths=0.5)\n",
        "plt.show()"
      ],
      "metadata": {
        "id": "2maV_HdmZvnB",
        "colab": {
          "base_uri": "https://localhost:8080/",
          "height": 1000
        },
        "outputId": "0a26155a-51cc-43e7-bcdc-540ca1ef2a32"
      },
      "execution_count": null,
      "outputs": [
        {
          "output_type": "stream",
          "name": "stdout",
          "text": [
            "+----+--------+-------------+----------------------+------------------------+\n",
            "|    |   left | sales       |   time_spend_company |   average_montly_hours |\n",
            "|----+--------+-------------+----------------------+------------------------|\n",
            "|  0 |      0 | IT          |              3.35639 |                198.887 |\n",
            "|  1 |      0 | RandD       |              3.25225 |                198.952 |\n",
            "|  2 |      0 | accounting  |              3.42451 |                199.037 |\n",
            "|  3 |      0 | hr          |              3.19275 |                199.25  |\n",
            "|  4 |      0 | management  |              4.39518 |                200.234 |\n",
            "|  5 |      0 | marketing   |              3.48092 |                198.889 |\n",
            "|  6 |      0 | product_mng |              3.33097 |                197.766 |\n",
            "|  7 |      0 | sales       |              3.4437  |                199.572 |\n",
            "|  8 |      0 | support     |              3.21386 |                199.141 |\n",
            "|  9 |      0 | technical   |              3.22244 |                198.471 |\n",
            "| 10 |      1 | IT          |              3.86081 |                213.85  |\n",
            "| 11 |      1 | RandD       |              4       |                210.975 |\n",
            "| 12 |      1 | accounting  |              3.79412 |                207.029 |\n",
            "| 13 |      1 | hr          |              3.75349 |                197.307 |\n",
            "| 14 |      1 | management  |              3.75824 |                207.264 |\n",
            "| 15 |      1 | marketing   |              3.85714 |                200.99  |\n",
            "| 16 |      1 | product_mng |              3.9899  |                207.788 |\n",
            "| 17 |      1 | sales       |              3.81262 |                205.041 |\n",
            "| 18 |      1 | support     |              3.93333 |                205.636 |\n",
            "| 19 |      1 | technical   |              3.95983 |                214.184 |\n",
            "+----+--------+-------------+----------------------+------------------------+\n"
          ]
        },
        {
          "output_type": "display_data",
          "data": {
            "text/plain": [
              "<Figure size 1000x800 with 2 Axes>"
            ],
            "image/png": "[encoded data removed]"
          },
          "metadata": {}
        }
      ]
    },
    {
      "cell_type": "code",
      "source": [],
      "metadata": {
        "id": "0Z0hu4RUcC1_"
      },
      "execution_count": null,
      "outputs": []
    }
  ]
}
